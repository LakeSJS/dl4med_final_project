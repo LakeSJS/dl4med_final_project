{
 "cells": [
  {
   "cell_type": "code",
   "execution_count": 1,
   "id": "00a04d18-b152-4706-94bd-a50570879a44",
   "metadata": {},
   "outputs": [],
   "source": [
    "# This notebook has everything you need to create datasets/dataloaders, create models, hyperparameter tune with optuna \n",
    "# train a model and evaluate it"
   ]
  },
  {
   "cell_type": "code",
   "execution_count": 1,
   "id": "55014b1c-fcc4-46a6-a92d-4b82a6631c7d",
   "metadata": {},
   "outputs": [],
   "source": [
    "#downsamples directly and uses and LSTM\n",
    "modelType = \"Baseline\""
   ]
  },
  {
   "cell_type": "code",
   "execution_count": 2,
   "id": "716b831f-50da-40a8-8df8-a89eaf1681d2",
   "metadata": {},
   "outputs": [],
   "source": [
    "modelTypedict = {\"Baseline\": [\"Downsample\", \"LSTM\"], \"ManualGRU\": [\"Manual\", \"GRU\"], \"ManualLSTM\": [\"Manual\", \"LSTM\"], \"ActiNetGRU\": [\"ActiNet\", \"GRU\"], \"ActiNetGRU\": [\"ActiNet\", \"LSTM\"]}\n",
    "acc_preprocess = modelTypedict[modelType][0]\n",
    "RNN_type = modelTypedict[modelType][1]"
   ]
  },
  {
   "cell_type": "code",
   "execution_count": 3,
   "id": "69cd47fd-bed3-4302-8174-1e55af55b3a5",
   "metadata": {},
   "outputs": [
    {
     "name": "stderr",
     "output_type": "stream",
     "text": [
      "/ext3/miniforge3/lib/python3.12/site-packages/tqdm/auto.py:21: TqdmWarning: IProgress not found. Please update jupyter and ipywidgets. See https://ipywidgets.readthedocs.io/en/stable/user_install.html\n",
      "  from .autonotebook import tqdm as notebook_tqdm\n"
     ]
    }
   ],
   "source": [
    "import os\n",
    "import numpy as np\n",
    "import math\n",
    "import pandas as pd\n",
    "import matplotlib.pyplot as plt\n",
    "import torch\n",
    "import torch.nn as nn\n",
    "import torch.nn.functional as F\n",
    "from torch.utils.data import DataLoader, Dataset, random_split\n",
    "from torchmetrics.classification import MulticlassCohenKappa\n",
    "from IPython.display import clear_output\n",
    "import optuna\n",
    "import pytorch_lightning as pl\n",
    "from pytorch_lightning import LightningModule, Trainer\n",
    "from pytorch_lightning.callbacks import ModelCheckpoint, EarlyStopping\n",
    "from sklearn.model_selection import train_test_split\n",
    "from sklearn.utils.class_weight import compute_class_weight\n",
    "from sklearn.metrics import accuracy_score, cohen_kappa_score, roc_auc_score, confusion_matrix\n",
    "import seaborn as sns\n",
    "from collections import Counter\n",
    "from pytorch_lightning.callbacks import EarlyStopping, ModelCheckpoint\n",
    "from pytorch_lightning.loggers.wandb import WandbLogger\n",
    "import wandb\n",
    "from x_transformers import ContinuousTransformerWrapper, Encoder\n",
    "torch.set_float32_matmul_precision('medium')\n",
    "device = torch.device(\"cuda:0\" if torch.cuda.is_available() else \"cpu\")\n",
    "from wearables import Wearables\n",
    "import time"
   ]
  },
  {
   "cell_type": "markdown",
   "id": "79064ef4-4d8b-4077-93d8-295bead67ecd",
   "metadata": {},
   "source": [
    "### Set up Datasets"
   ]
  },
  {
   "cell_type": "code",
   "execution_count": 4,
   "id": "ef552ac7-e5a2-4908-b0e6-5dd48c5686e3",
   "metadata": {},
   "outputs": [],
   "source": [
    "data_dir = '/scratch/npr264/BioDeepL/dreamt/physionet.org/files/dreamt/2.0.0/data_64Hz'"
   ]
  },
  {
   "cell_type": "code",
   "execution_count": 5,
   "id": "67949391-fea0-47fa-80c1-9ba53bb3ffdc",
   "metadata": {},
   "outputs": [
    {
     "name": "stdout",
     "output_type": "stream",
     "text": [
      "number of subjects in train: 80\n",
      "number of subjects in val: 10\n",
      "number of subjects in test: 10\n"
     ]
    }
   ],
   "source": [
    "participant_info_df = pd.read_csv('/scratch/npr264/BioDeepL/dreamt/physionet.org/files/dreamt/2.0.0/participant_info.csv')\n",
    "subjects_all = participant_info_df['SID']\n",
    "\n",
    "subjects_all_shuffled = participant_info_df['SID'].sample(frac=1, random_state=42).reset_index(drop=True)\n",
    "subjects_train = subjects_all_shuffled[:int(len(subjects_all_shuffled)*0.8)]\n",
    "subjects_val = subjects_all_shuffled[int(len(subjects_all_shuffled)*0.8):int(len(subjects_all_shuffled)*0.9)]\n",
    "subjects_test = subjects_all_shuffled[int(len(subjects_all_shuffled)*0.9):]\n",
    "print(f\"number of subjects in train: {len(subjects_train)}\")\n",
    "print(f\"number of subjects in val: {len(subjects_val)}\")\n",
    "print(f\"number of subjects in test: {len(subjects_test)}\")"
   ]
  },
  {
   "cell_type": "code",
   "execution_count": 6,
   "id": "90e6b1f9-500d-48a8-acbc-47a84a8a6747",
   "metadata": {
    "scrolled": true
   },
   "outputs": [
    {
     "name": "stdout",
     "output_type": "stream",
     "text": [
      "Total samples in train dataset: 202\n",
      "Total samples in val dataset: 28\n",
      "Total samples in test dataset: 27\n"
     ]
    }
   ],
   "source": [
    "non_acc_freq = 0.2\n",
    "acc_freq = 32\n",
    "chunk_duration = 6000 # chunk duration in seconds\n",
    "chunk_stride = 3000\n",
    "train_dataset_mixed = Wearables(subjects_list=subjects_train,\n",
    "                                 data_dir=data_dir,\n",
    "                                 chunk_duration=chunk_duration,\n",
    "                                 chunk_stride=chunk_stride,\n",
    "                                 downsample_freq=non_acc_freq,\n",
    "                                 acc_freq=acc_freq,\n",
    "                                 debug=False)\n",
    "print(f\"Total samples in train dataset: {len(train_dataset_mixed)}\")\n",
    "val_dataset_mixed = Wearables(subjects_list=subjects_val,\n",
    "                                 data_dir=data_dir,\n",
    "                                 chunk_duration=chunk_duration,\n",
    "                                 chunk_stride=chunk_stride,\n",
    "                                 downsample_freq=non_acc_freq, \n",
    "                                 acc_freq=acc_freq,\n",
    "                                 debug=False)\n",
    "print(f\"Total samples in val dataset: {len(val_dataset_mixed)}\")\n",
    "test_dataset_mixed = Wearables(subjects_list=subjects_test,\n",
    "                                 data_dir=data_dir,\n",
    "                                 chunk_duration=chunk_duration,\n",
    "                                 chunk_stride=chunk_stride,\n",
    "                                 downsample_freq=non_acc_freq,\n",
    "                                 acc_freq=acc_freq,\n",
    "                                 debug=False)\n",
    "print(f\"Total samples in test dataset: {len(test_dataset_mixed)}\")"
   ]
  },
  {
   "cell_type": "code",
   "execution_count": null,
   "id": "0ccc4281-f5c6-4b43-b62e-7a9fbdbceb1f",
   "metadata": {},
   "outputs": [],
   "source": [
    "#OPTIONAL, save datasets as they take a long time to create\n",
    "torch.save(train_dataset_mixed, f'/home/npr264/DeepLearning/project/cleaned/datasets/trainset_{chunk_duration}s.pt')\n",
    "torch.save(val_dataset_mixed, f'/home/npr264/DeepLearning/project/cleaned/datasets/valset_{chunk_duration}s.pt')\n",
    "torch.save(test_dataset_mixed, f'/home/npr264/DeepLearning/project/cleaned/datasets/testset_{chunk_duration}s.pt')"
   ]
  },
  {
   "cell_type": "markdown",
   "id": "2e09001f-39c0-4645-9cc7-e7f4cb3fe1ac",
   "metadata": {},
   "source": [
    "### Loading in and class weights"
   ]
  },
  {
   "cell_type": "code",
   "execution_count": 6,
   "id": "4be97699-c8ac-497a-8d35-2cee4714cbb4",
   "metadata": {},
   "outputs": [
    {
     "name": "stderr",
     "output_type": "stream",
     "text": [
      "/state/partition1/job-59945766/ipykernel_1009285/1658959780.py:2: FutureWarning: You are using `torch.load` with `weights_only=False` (the current default value), which uses the default pickle module implicitly. It is possible to construct malicious pickle data which will execute arbitrary code during unpickling (See https://github.com/pytorch/pytorch/blob/main/SECURITY.md#untrusted-models for more details). In a future release, the default value for `weights_only` will be flipped to `True`. This limits the functions that could be executed during unpickling. Arbitrary objects will no longer be allowed to be loaded via this mode unless they are explicitly allowlisted by the user via `torch.serialization.add_safe_globals`. We recommend you start setting `weights_only=True` for any use case where you don't have full control of the loaded file. Please open an issue on GitHub for any issues related to this experimental feature.\n",
      "  train_dataset_mixed = torch.load(f'/home/npr264/DeepLearning/project/cleaned/datasets/trainset_{chunk_duration}s.pt')\n",
      "/state/partition1/job-59945766/ipykernel_1009285/1658959780.py:3: FutureWarning: You are using `torch.load` with `weights_only=False` (the current default value), which uses the default pickle module implicitly. It is possible to construct malicious pickle data which will execute arbitrary code during unpickling (See https://github.com/pytorch/pytorch/blob/main/SECURITY.md#untrusted-models for more details). In a future release, the default value for `weights_only` will be flipped to `True`. This limits the functions that could be executed during unpickling. Arbitrary objects will no longer be allowed to be loaded via this mode unless they are explicitly allowlisted by the user via `torch.serialization.add_safe_globals`. We recommend you start setting `weights_only=True` for any use case where you don't have full control of the loaded file. Please open an issue on GitHub for any issues related to this experimental feature.\n",
      "  val_dataset_mixed = torch.load(f'/home/npr264/DeepLearning/project/cleaned/datasets/valset_{chunk_duration}s.pt')\n"
     ]
    }
   ],
   "source": [
    "chunk_duration = 6000\n",
    "train_dataset_mixed = torch.load(f'/home/npr264/DeepLearning/project/cleaned/datasets/trainset_{chunk_duration}s.pt')\n",
    "val_dataset_mixed = torch.load(f'/home/npr264/DeepLearning/project/cleaned/datasets/valset_{chunk_duration}s.pt')"
   ]
  },
  {
   "cell_type": "code",
   "execution_count": 7,
   "id": "f85104a2-14b9-4818-ab06-5c19ae0bc20b",
   "metadata": {},
   "outputs": [
    {
     "name": "stdout",
     "output_type": "stream",
     "text": [
      "Class counts: Counter({np.int64(1): 155342, np.int64(0): 53092, np.int64(3): 24240, np.int64(2): 9372})\n",
      "Class weights: [1.13974798 0.38953728 6.45662612 2.49634901]\n"
     ]
    }
   ],
   "source": [
    "# get class weights for weighted loss\n",
    "all_labels = []\n",
    "for batch in DataLoader(train_dataset_mixed, batch_size=1):\n",
    "    labels = batch[2].numpy()\n",
    "    all_labels.extend(labels.flatten())\n",
    "all_labels = np.array(all_labels)\n",
    "valid_labels = all_labels[all_labels != -1]\n",
    "classes = np.arange(4)\n",
    "class_counts = Counter(valid_labels)\n",
    "class_weights = compute_class_weight(\n",
    "    class_weight=\"balanced\",\n",
    "    classes=classes,\n",
    "    y=valid_labels\n",
    ")\n",
    "print(f\"Class counts: {class_counts}\")\n",
    "print(f\"Class weights: {class_weights}\")"
   ]
  },
  {
   "cell_type": "code",
   "execution_count": 8,
   "id": "80619717-6282-41c7-a8aa-c9440c07f327",
   "metadata": {},
   "outputs": [],
   "source": [
    "weight_tensor = torch.tensor(class_weights, dtype=torch.float32)"
   ]
  },
  {
   "cell_type": "markdown",
   "id": "dded8893-f38e-4feb-95f0-331ca00213f2",
   "metadata": {},
   "source": [
    "### Model Definitions"
   ]
  },
  {
   "cell_type": "markdown",
   "id": "391ba361-a485-4300-8b0d-c549c6237f18",
   "metadata": {},
   "source": [
    "#### Acc Models"
   ]
  },
  {
   "cell_type": "code",
   "execution_count": 9,
   "id": "075539d7-e492-4542-bc77-c860f2ed44b5",
   "metadata": {},
   "outputs": [],
   "source": [
    "#\"Manual\" model\n",
    "def extract_features(acc, window_size=160):\n",
    "    # acc: [batch_size, seq_len, 3]\n",
    "    batch_size, seq_len, dims = acc.shape\n",
    "    assert seq_len % window_size == 0, \"seq_len must be divisible by window_size\"\n",
    "\n",
    "    # Reshape: [batch_size, seq_len // window_size, window_size, 3]\n",
    "    acc = acc.view(batch_size, seq_len // window_size, window_size, dims)\n",
    "\n",
    "    # Compute features along the window dimension (dim=2)\n",
    "    mean = acc.mean(dim=2)\n",
    "    abs_mean = acc.abs().mean(dim=2)\n",
    "    max_val = acc.max(dim=2).values\n",
    "    min_val = acc.min(dim=2).values\n",
    "    range_val = max_val - min_val\n",
    "    var = acc.var(dim=2, unbiased=False)\n",
    "    rms = torch.sqrt((acc ** 2).mean(dim=2))\n",
    "    iqr = torch.quantile(acc, 0.75, dim=2) - torch.quantile(acc, 0.25, dim=2)\n",
    "    q25 = torch.quantile(acc, 0.25, dim=2)\n",
    "    q50 = torch.quantile(acc, 0.50, dim=2)\n",
    "    q75 = torch.quantile(acc, 0.75, dim=2)\n",
    "\n",
    "    # Concatenate all features along the last dimension\n",
    "    features = torch.cat([\n",
    "        mean, abs_mean, max_val, min_val, range_val, var, rms, iqr, q25, q50, q75\n",
    "    ], dim=-1)  # shape: [batch_size, seq_len // 160, 33]\n",
    "\n",
    "    return features"
   ]
  },
  {
   "cell_type": "code",
   "execution_count": 10,
   "id": "546fdc44-720e-46bd-82a4-c90cd1add248",
   "metadata": {},
   "outputs": [],
   "source": [
    "class DeepACTINeT(nn.Module):\n",
    "    def __init__(self, cnn_output_channels, dropout=0.25):\n",
    "        super(DeepACTINeT, self).__init__()\n",
    "        # Define the layers as per the structure provided\n",
    "        self.conv1 = nn.Conv1d(in_channels=3, out_channels=16, kernel_size=512, stride=2)\n",
    "        self.conv2 = nn.Conv1d(in_channels=16, out_channels=16, kernel_size=256, stride=2)\n",
    "        self.conv3 = nn.Conv1d(in_channels=16, out_channels=16, kernel_size=256, stride=2)\n",
    "        self.conv4 = nn.Conv1d(in_channels=16, out_channels=cnn_output_channels, kernel_size=32, stride=2)\n",
    "        \n",
    "        self.dropout = nn.Dropout(dropout)\n",
    "        self.batch_norm1 = nn.BatchNorm1d(16)\n",
    "        self.batch_norm2 = nn.BatchNorm1d(16)\n",
    "        self.batch_norm3 = nn.BatchNorm1d(16)\n",
    "        self.batch_norm4 = nn.BatchNorm1d(cnn_output_channels)\n",
    "    \n",
    "    def forward(self, x):\n",
    "        assert not torch.isnan(x).any(), \"NaN detected in CNN input\"\n",
    "        print(x.shape)\n",
    "        x = x.permute(0,2, 1) #flip channels and num samples [batch, ch, num samples]\n",
    "\n",
    "        initial_samples = x.shape[2]\n",
    "        #you want to end up with one every 5 seconds \n",
    "        final_samples = initial_samples // (32*5)\n",
    "\n",
    "        x = F.relu(self.conv1(x))\n",
    "        #print(f\"Input shape after conv1: {x.shape}\")\n",
    "        x = self.dropout(x)\n",
    "        #print(f\"Input shape after, dropout: {x.shape}\")\n",
    "        x = self.batch_norm1(x)\n",
    "        #print(f\"Input shape after conv1,dropout,batchnorm: {x.shape}\")\n",
    "        x = F.max_pool1d(x, kernel_size=2, stride = 2)\n",
    "        #print(f\"Input shape after maxpool: {x.shape}\")\n",
    "        \n",
    "        x = F.relu(self.conv2(x))\n",
    "        x = self.dropout(x)\n",
    "        x = self.batch_norm2(x)\n",
    "        #print(f\"Input shape after conv2: {x.shape}\")\n",
    "        \n",
    "        x = F.relu(self.conv3(x))\n",
    "        x = self.dropout(x)\n",
    "        x = self.batch_norm3(x)\n",
    "        #print(f\"Input shape after conv3: {x.shape}\")\n",
    "        \n",
    "        x = F.max_pool1d(x, kernel_size=2, stride = 2)\n",
    "        #print(f\"Input shape after maxpool: {x.shape}\")\n",
    "        \n",
    "        x = F.relu(self.conv4(x))\n",
    "        x = self.dropout(x)\n",
    "        x = self.batch_norm4(x)\n",
    "        #print(f\"before avg pooling shape: {x.shape}\")\n",
    "\n",
    "        x = F.adaptive_avg_pool1d(x, final_samples)\n",
    "        #print(f\"Final output shape: {x.shape}\")\n",
    "        \n",
    "        return x"
   ]
  },
  {
   "cell_type": "markdown",
   "id": "f920f586-67dc-4623-9f31-c3ec1c09aeea",
   "metadata": {},
   "source": [
    "#### LSTM model "
   ]
  },
  {
   "cell_type": "code",
   "execution_count": 11,
   "id": "b6d09fdc-cc1e-47fa-9254-ffc9cf766be9",
   "metadata": {},
   "outputs": [],
   "source": [
    "#acc_preprocess = \"ActiNet\" or \"Manual\"\n",
    "class SleepStager(pl.LightningModule):\n",
    "    def __init__(self,\n",
    "                non_acc_dim:         int,\n",
    "                acc_preprocess = acc_preprocess,\n",
    "                RNN_type = RNN_type,\n",
    "                bidirectional = True,\n",
    "                cnn_output_channels: int = 16,\n",
    "                dropout_embed:   float = 0.25,\n",
    "                dropout_rnn: float = 0.25,\n",
    "                dropout_hidden2: float= 0.25,\n",
    "                pre_rnn_embedding_size: int = 16,\n",
    "                rnn_hidden_size:   int = 128,\n",
    "                hidden_size2:       int = 64,\n",
    "                num_sleep_stages:   int = 4,\n",
    "                lr:                  float = 1e-3,\n",
    "                weight_tensor:      torch.Tensor = None,\n",
    "                debug:            bool = False):\n",
    "        super().__init__()\n",
    "        if acc_preprocess == \"ActiNet\":\n",
    "            self.mode = \"ActiNet\"\n",
    "            self.acc_processing = DeepACTINeT(cnn_output_channels)\n",
    "            self.acc_channels = cnn_output_channels\n",
    "        elif acc_preprocess == \"Manual\":\n",
    "            self.mode = \"Manual\"\n",
    "            self.acc_processing = extract_features\n",
    "            self.acc_channels = 33\n",
    "        elif acc_preprocess == \"Downsample\":\n",
    "            self.mode = \"Downsample\"\n",
    "            # self.acc_processing = interpolate\n",
    "            self.acc_channels = 3\n",
    "        else:\n",
    "            raise ValueError(\"ActiNet or Manual or Downsample are the only valid options\")\n",
    "        \n",
    "        self.RNN_type = RNN_type\n",
    "        self.non_acc_dim = non_acc_dim\n",
    "        self.embeddingLayer = nn.Linear(self.non_acc_dim, pre_rnn_embedding_size)\n",
    "        self.cnn_output_channels = cnn_output_channels\n",
    "\n",
    "        #add non linearity to the bvp and temp before lstm \n",
    "        self.pre_rnn_embedding_size = pre_rnn_embedding_size\n",
    "\n",
    "        self.rnn_hidden_size = rnn_hidden_size\n",
    "        self.hidden_size2 = hidden_size2\n",
    "\n",
    "        self.dropout_embed = nn.Dropout(p=dropout_embed)\n",
    "        self.dropout_rnn = dropout_rnn\n",
    "        self.dropout_hidden2 = nn.Dropout(p=dropout_hidden2)\n",
    "\n",
    "        self.rnn_input_size = self.pre_rnn_embedding_size + self.acc_channels\n",
    "        self.rnn_hidden_size = rnn_hidden_size\n",
    "\n",
    "        if self.RNN_type == \"GRU\":\n",
    "            rnn = nn.GRU\n",
    "        elif self.RNN_type == \"LSTM\":\n",
    "            rnn = nn.LSTM\n",
    "        else:\n",
    "            raise Exception(\"[Error] Unknown RnnType. Currently supported: GRU, LSTM\")\n",
    "\n",
    "        self.rnn = rnn(input_size=self.rnn_input_size,\n",
    "                            hidden_size=self.rnn_hidden_size,\n",
    "                            dropout = self.dropout_rnn,\n",
    "                            num_layers = 2,\n",
    "                            bias = True,\n",
    "                            batch_first=False,\n",
    "                            bidirectional = True)\n",
    "       \n",
    "        self.hidden2 = nn.Linear(rnn_hidden_size*2, hidden_size2)\n",
    "        classifier_in = hidden_size2\n",
    "        self.classifier = nn.Linear(classifier_in, num_sleep_stages)\n",
    "    \n",
    "        self.train_criterion = nn.CrossEntropyLoss(weight=weight_tensor, ignore_index=-1)\n",
    "        self.val_criterion = nn.CrossEntropyLoss(weight=weight_tensor, ignore_index=-1)\n",
    "        \n",
    "        self.lr        = lr\n",
    "        self.debug      = debug\n",
    "        self.kappa = MulticlassCohenKappa(num_classes=num_sleep_stages)\n",
    "\n",
    "    def forward(self, acc, non_acc):\n",
    "        \"\"\"\n",
    "        non_acc: (batch, non_acc_length, non_acc_dim)\n",
    "        acc:     (batch, acc_length)  or  (batch, acc_length, 1)\n",
    "        returns:\n",
    "          y_hat (output_length, batch, num_sleep_stages)\n",
    "        \"\"\"\n",
    "        # ensure ACC has a channel dim\n",
    "        if acc.dim() == 2:\n",
    "            acc = acc.unsqueeze(-1)          # now (batch, T, 1)\n",
    "        \n",
    "        # 1) ACC → CNN → (batch, num_cnn_feats, cnn_output_length)\n",
    "        if self.mode == \"Downsample\":\n",
    "            acc_feats = F.interpolate(\n",
    "                acc.permute(0, 2, 1), # (batch_size, hf_input_channels, sequence_length)\n",
    "                size=non_acc.shape[1],\n",
    "            )\n",
    "        else:\n",
    "            acc_feats = self.acc_processing(acc)\n",
    "        \n",
    "        if self.debug:\n",
    "            print(f\"[DEBUG] ACC CNN output shape: {acc_feats.shape}\") # (batch, num_cnn_feats, cnn_output_length)\n",
    "            print(f\"[DEBUG] NON_ACC input shape: {non_acc.shape}\") # (batch, non_acc_length, non_acc_dim)\n",
    "        \n",
    "        #embed the non_acc data \n",
    "        emb_non_acc = self.embeddingLayer(non_acc)\n",
    "        emb_non_acc = self.dropout_embed(emb_non_acc)\n",
    "        #emb_non_acc = non_acc\n",
    "        # 3) build LSTM input: (T', batch, feature_dim)\n",
    "        if self.mode == \"Manual\":\n",
    "            a = acc_feats.permute(1,0,2)\n",
    "        elif self.mode == \"ActiNet\":\n",
    "            a = acc_feats.permute(2, 0, 1)\n",
    "        else:\n",
    "            a = acc_feats.permute(2, 0, 1)\n",
    "        b = emb_non_acc.permute(1, 0, 2)       \n",
    "\n",
    "        if self.debug:\n",
    "            print(f\"[DEBUG] ACC CNN reshaped shape: {a.shape}\") \n",
    "            print(f\"[DEBUG] NON_ACC reshaped shape: {b.shape}\")\n",
    "       \n",
    "        rnn_in = torch.cat([a, b], dim = 2)    # (lstm_seq_len, batch, C_cnn + D_nonacc)\n",
    "        # without batch_first = true, LSTM input shape is (seq_len, batch_size, features)\n",
    "\n",
    "\n",
    "        if self.debug:\n",
    "            print(f\"[DEBUG] RNN input shape: {rnn_in.shape}\")\n",
    "            print(f\"[DEBUG] RNN hidden size: {self.rnn_hidden_size}\")\n",
    "    \n",
    "        output,_ = self.rnn(rnn_in)\n",
    "        output = self.hidden2(output)\n",
    "        output = self.dropout_hidden2(output)\n",
    "        if self.debug:\n",
    "            print(f\"[DEBUG] hidden2 shape: {output.shape}\")\n",
    "        y_hat = self.classifier(output)     # (lstm_seq_len, batch, num_sleep_stages)\n",
    "        if self.debug:\n",
    "            print(f\"[DEBUG] Classifier output shape: {y_hat.shape}\")\n",
    "        return y_hat\n",
    "            \n",
    "    def training_step(self, batch, batch_idx):\n",
    "        non_acc, acc, labels = batch\n",
    "        '''\n",
    "        non_acc: (batch, non_acc_length, non_acc_dim)\n",
    "        acc:     (batch, acc_length)  or  (batch, acc_length, 1)\n",
    "        labels:  (batch, non_acc_length)\n",
    "        '''\n",
    "        y_hat = self(acc, non_acc)            # (lstm_seq_len, batch, num_sleep_stages)\n",
    "        y_hat = y_hat.permute(1, 0, 2)        # (batch, lstm_seq_len, num_sleep_stages)\n",
    "    \n",
    "        # flatten\n",
    "        batch_size, output_length, num_sleep_stages = y_hat.shape\n",
    "        y_hat_flat = y_hat.reshape(batch_size * output_length, num_sleep_stages)\n",
    "        labels_flat  = labels.reshape(batch_size * output_length)\n",
    "        \n",
    "        # calculate loss\n",
    "        loss = self.train_criterion(y_hat_flat, labels_flat)\n",
    "    \n",
    "        self.log('train_loss', loss, prog_bar=True, on_step=True, on_epoch=True)\n",
    "        return loss\n",
    "    \n",
    "    def validation_step(self, batch, batch_idx):\n",
    "        non_acc, acc, labels = batch\n",
    "            \n",
    "        '''\n",
    "        non_acc: (batch, non_acc_length, non_acc_dim)\n",
    "        acc:     (batch, acc_length)  or  (batch, acc_length, 1)\n",
    "        labels:  (batch, non_acc_length)\n",
    "        '''\n",
    "        y_hat = self(acc, non_acc)            # (lstm_seq_len, batch, num_sleep_stages)\n",
    "        y_hat = y_hat.permute(1, 0, 2)        # (batch, lstm_seq_len, num_sleep_stages)\n",
    "    \n",
    "        # flatten\n",
    "        batch_size, output_length, num_sleep_stages = y_hat.shape\n",
    "        y_hat_flat = y_hat.reshape(batch_size * output_length, num_sleep_stages)\n",
    "        labels_flat  = labels.reshape(batch_size * output_length)\n",
    "        \n",
    "        # calculate loss\n",
    "        loss = self.val_criterion(y_hat_flat, labels_flat)\n",
    "    \n",
    "        # calculate accuracy\n",
    "        predictions = torch.argmax(y_hat_flat, dim=1)\n",
    "        mask = labels_flat != -1\n",
    "        masked_preds = predictions[mask]\n",
    "        masked_labels = labels_flat[mask]\n",
    "        if masked_labels.numel() > 0:\n",
    "            acc = (masked_preds == masked_labels).float().mean().item()\n",
    "        else:\n",
    "            acc = 0.0\n",
    "    \n",
    "        # calculate cohen's kappa\n",
    "        mask = labels_flat != -1\n",
    "        y_valid = labels_flat[mask]\n",
    "        preds_valid = predictions[mask]\n",
    "        if y_valid.numel() > 0:\n",
    "            ckappa = self.kappa.update(preds_valid, y_valid)\n",
    "        else:\n",
    "            ckappa = torch.tensor(0.0, device=self.device)\n",
    "\n",
    "        # log metrics\n",
    "        self.log(\"val_loss\", loss, prog_bar=True)\n",
    "        self.log(\"val_acc\",  acc,  prog_bar=True)\n",
    "        \n",
    "        return {\"val_loss\": loss, \"val_acc\": acc}\n",
    "        \n",
    "    def on_validation_epoch_end(self):\n",
    "        k = self.kappa.compute()\n",
    "        self.log(\"val_cohen_kappa\", torch.nan_to_num(k,0.0), prog_bar=True)\n",
    "        self.kappa.reset()\n",
    "    \n",
    "    def configure_optimizers(self):\n",
    "        optimizer = torch.optim.AdamW(self.parameters(), lr=self.lr, weight_decay=1e-4)\n",
    "        scheduler = torch.optim.lr_scheduler.ReduceLROnPlateau(\n",
    "            optimizer, mode='min', factor=0.3, patience=3, verbose=True, min_lr=1e-6\n",
    "        )\n",
    "        return {\n",
    "            'optimizer': optimizer,\n",
    "            'lr_scheduler': {\n",
    "                'scheduler': scheduler,\n",
    "                'monitor': 'val_loss',  # must match your validation metric\n",
    "                'interval': 'epoch',\n",
    "                'frequency': 1\n",
    "            }\n",
    "        }\n"
   ]
  },
  {
   "cell_type": "markdown",
   "id": "fa6b683f-f125-445c-b1de-e74bf7b367dc",
   "metadata": {},
   "source": [
    "### Optuna"
   ]
  },
  {
   "cell_type": "code",
   "execution_count": 13,
   "id": "5229ed1a-ddfc-4387-84c7-49ecfc36cdce",
   "metadata": {},
   "outputs": [
    {
     "data": {
      "text/plain": [
       "'Baseline'"
      ]
     },
     "execution_count": 13,
     "metadata": {},
     "output_type": "execute_result"
    }
   ],
   "source": [
    "modelType"
   ]
  },
  {
   "cell_type": "code",
   "execution_count": null,
   "id": "39da4384-b17c-48d4-9448-142f97388001",
   "metadata": {
    "jp-MarkdownHeadingCollapsed": true,
    "scrolled": true
   },
   "outputs": [
    {
     "name": "stderr",
     "output_type": "stream",
     "text": [
      "[I 2025-04-29 23:27:00,174] A new study created in memory with name: no-name-8a03fae0-8acc-4d6e-b289-8cc992da709a\n",
      "/state/partition1/job-59918280/ipykernel_522356/1335623980.py:23: FutureWarning: suggest_loguniform has been deprecated in v3.0.0. This feature will be removed in v6.0.0. See https://github.com/optuna/optuna/releases/tag/v3.0.0. Use suggest_float(..., log=True) instead.\n",
      "  learning_rate = trial.suggest_loguniform(\"learning_rate\", 1e-5, 1e-2)\n",
      "GPU available: True (cuda), used: True\n",
      "TPU available: False, using: 0 TPU cores\n",
      "HPU available: False, using: 0 HPUs\n"
     ]
    },
    {
     "data": {
      "text/html": [
       "Tracking run with wandb version 0.19.9"
      ],
      "text/plain": [
       "<IPython.core.display.HTML object>"
      ]
     },
     "metadata": {},
     "output_type": "display_data"
    },
    {
     "data": {
      "text/html": [
       "Run data is saved locally in <code>./wandb/run-20250429_232700-ujk8y907</code>"
      ],
      "text/plain": [
       "<IPython.core.display.HTML object>"
      ]
     },
     "metadata": {},
     "output_type": "display_data"
    },
    {
     "data": {
      "text/html": [
       "Syncing run <strong><a href='https://wandb.ai/npr264-new-york-university/Baseline/runs/ujk8y907' target=\"_blank\">prernn32_rnn128_hidden16lr0.00046006517776070466_batchsize2dropoutembed0.4339382662509974_dropoutRNN0.4494431977816371_dropouthidden20.4123955657279871</a></strong> to <a href='https://wandb.ai/npr264-new-york-university/Baseline' target=\"_blank\">Weights & Biases</a> (<a href='https://wandb.me/developer-guide' target=\"_blank\">docs</a>)<br>"
      ],
      "text/plain": [
       "<IPython.core.display.HTML object>"
      ]
     },
     "metadata": {},
     "output_type": "display_data"
    },
    {
     "data": {
      "text/html": [
       " View project at <a href='https://wandb.ai/npr264-new-york-university/Baseline' target=\"_blank\">https://wandb.ai/npr264-new-york-university/Baseline</a>"
      ],
      "text/plain": [
       "<IPython.core.display.HTML object>"
      ]
     },
     "metadata": {},
     "output_type": "display_data"
    },
    {
     "data": {
      "text/html": [
       " View run at <a href='https://wandb.ai/npr264-new-york-university/Baseline/runs/ujk8y907' target=\"_blank\">https://wandb.ai/npr264-new-york-university/Baseline/runs/ujk8y907</a>"
      ],
      "text/plain": [
       "<IPython.core.display.HTML object>"
      ]
     },
     "metadata": {},
     "output_type": "display_data"
    },
    {
     "name": "stderr",
     "output_type": "stream",
     "text": [
      "/ext3/miniforge3/lib/python3.12/site-packages/pytorch_lightning/callbacks/model_checkpoint.py:654: Checkpoint directory /scratch/npr264/BioDeepL/project/moved_from_home/checkpoints/0 exists and is not empty.\n",
      "LOCAL_RANK: 0 - CUDA_VISIBLE_DEVICES: [0]\n",
      "/ext3/miniforge3/lib/python3.12/site-packages/torch/optim/lr_scheduler.py:62: UserWarning: The verbose parameter is deprecated. Please use get_last_lr() to access the learning rate.\n",
      "  warnings.warn(\n",
      "\n",
      "  | Name            | Type                 | Params | Mode \n",
      "-----------------------------------------------------------------\n",
      "0 | embeddingLayer  | Linear               | 192    | train\n",
      "1 | dropout_embed   | Dropout              | 0      | train\n",
      "2 | dropout_hidden2 | Dropout              | 0      | train\n",
      "3 | rnn             | LSTM                 | 564 K  | train\n",
      "4 | hidden2         | Linear               | 4.1 K  | train\n",
      "5 | classifier      | Linear               | 68     | train\n",
      "6 | train_criterion | CrossEntropyLoss     | 0      | train\n",
      "7 | val_criterion   | CrossEntropyLoss     | 0      | train\n",
      "8 | kappa           | MulticlassCohenKappa | 0      | train\n",
      "-----------------------------------------------------------------\n",
      "568 K     Trainable params\n",
      "0         Non-trainable params\n",
      "568 K     Total params\n",
      "2.274     Total estimated model params size (MB)\n",
      "9         Modules in train mode\n",
      "0         Modules in eval mode\n",
      "SLURM auto-requeueing enabled. Setting signal handlers.\n"
     ]
    },
    {
     "name": "stdout",
     "output_type": "stream",
     "text": [
      "Epoch 0: 100%|██████████| 101/101 [00:05<00:00, 19.27it/s, v_num=y907, train_loss_step=1.320]\n",
      "Validation: |          | 0/? [00:00<?, ?it/s]\u001b[A\n",
      "Validation:   0%|          | 0/14 [00:00<?, ?it/s]\u001b[A\n",
      "Validation DataLoader 0:   0%|          | 0/14 [00:00<?, ?it/s]\u001b[A\n",
      "Validation DataLoader 0:   7%|▋         | 1/14 [00:00<00:00, 22.09it/s]\u001b[A\n",
      "Validation DataLoader 0:  14%|█▍        | 2/14 [00:00<00:00, 30.70it/s]\u001b[A\n",
      "Validation DataLoader 0:  21%|██▏       | 3/14 [00:00<00:00, 36.07it/s]\u001b[A\n",
      "Validation DataLoader 0:  29%|██▊       | 4/14 [00:00<00:00, 38.43it/s]\u001b[A\n",
      "Validation DataLoader 0:  36%|███▌      | 5/14 [00:00<00:00, 37.52it/s]\u001b[A\n",
      "Validation DataLoader 0:  43%|████▎     | 6/14 [00:00<00:00, 33.29it/s]\u001b[A\n",
      "Validation DataLoader 0:  50%|█████     | 7/14 [00:00<00:00, 34.84it/s]\u001b[A\n",
      "Validation DataLoader 0:  57%|█████▋    | 8/14 [00:00<00:00, 35.49it/s]\u001b[A\n",
      "Validation DataLoader 0:  64%|██████▍   | 9/14 [00:00<00:00, 32.53it/s]\u001b[A\n",
      "Validation DataLoader 0:  71%|███████▏  | 10/14 [00:00<00:00, 33.88it/s]\u001b[A\n",
      "Validation DataLoader 0:  79%|███████▊  | 11/14 [00:00<00:00, 35.12it/s]\u001b[A\n",
      "Validation DataLoader 0:  86%|████████▌ | 12/14 [00:00<00:00, 36.13it/s]\u001b[A\n",
      "Validation DataLoader 0:  93%|█████████▎| 13/14 [00:00<00:00, 35.15it/s]\u001b[A\n",
      "Validation DataLoader 0: 100%|██████████| 14/14 [00:00<00:00, 35.90it/s]\u001b[A\n",
      "Epoch 0: 100%|██████████| 101/101 [00:06<00:00, 15.51it/s, v_num=y907, train_loss_step=1.320, val_loss=1.300, val_acc=0.382, val_cohen_kappa=0.129, train_loss_epoch=1.350]"
     ]
    },
    {
     "name": "stderr",
     "output_type": "stream",
     "text": [
      "Metric val_loss improved. New best score: 1.305\n"
     ]
    },
    {
     "name": "stdout",
     "output_type": "stream",
     "text": [
      "Epoch 1: 100%|██████████| 101/101 [00:07<00:00, 13.40it/s, v_num=y907, train_loss_step=1.360, val_loss=1.300, val_acc=0.382, val_cohen_kappa=0.129, train_loss_epoch=1.350]\n",
      "Validation: |          | 0/? [00:00<?, ?it/s]\u001b[A\n",
      "Validation:   0%|          | 0/14 [00:00<?, ?it/s]\u001b[A\n",
      "Validation DataLoader 0:   0%|          | 0/14 [00:00<?, ?it/s]\u001b[A\n",
      "Validation DataLoader 0:   7%|▋         | 1/14 [00:00<00:00, 17.81it/s]\u001b[A\n",
      "Validation DataLoader 0:  14%|█▍        | 2/14 [00:00<00:00, 17.51it/s]\u001b[A\n",
      "Validation DataLoader 0:  21%|██▏       | 3/14 [00:00<00:00, 17.21it/s]\u001b[A\n",
      "Validation DataLoader 0:  29%|██▊       | 4/14 [00:00<00:00, 17.04it/s]\u001b[A\n",
      "Validation DataLoader 0:  36%|███▌      | 5/14 [00:00<00:00, 16.94it/s]\u001b[A\n",
      "Validation DataLoader 0:  43%|████▎     | 6/14 [00:00<00:00, 16.87it/s]\u001b[A\n",
      "Validation DataLoader 0:  50%|█████     | 7/14 [00:00<00:00, 16.84it/s]\u001b[A\n",
      "Validation DataLoader 0:  57%|█████▋    | 8/14 [00:00<00:00, 16.82it/s]\u001b[A\n",
      "Validation DataLoader 0:  64%|██████▍   | 9/14 [00:00<00:00, 16.88it/s]\u001b[A\n",
      "Validation DataLoader 0:  71%|███████▏  | 10/14 [00:00<00:00, 16.98it/s]\u001b[A\n",
      "Validation DataLoader 0:  79%|███████▊  | 11/14 [00:00<00:00, 17.06it/s]\u001b[A\n",
      "Validation DataLoader 0:  86%|████████▌ | 12/14 [00:00<00:00, 17.15it/s]\u001b[A\n",
      "Validation DataLoader 0:  93%|█████████▎| 13/14 [00:00<00:00, 17.22it/s]\u001b[A\n",
      "Validation DataLoader 0: 100%|██████████| 14/14 [00:00<00:00, 17.19it/s]\u001b[A\n",
      "Epoch 1: 100%|██████████| 101/101 [00:09<00:00, 11.21it/s, v_num=y907, train_loss_step=1.360, val_loss=1.290, val_acc=0.379, val_cohen_kappa=0.104, train_loss_epoch=1.290]"
     ]
    },
    {
     "name": "stderr",
     "output_type": "stream",
     "text": [
      "Metric val_loss improved by 0.012 >= min_delta = 0.0. New best score: 1.293\n"
     ]
    },
    {
     "name": "stdout",
     "output_type": "stream",
     "text": [
      "Epoch 2: 100%|██████████| 101/101 [00:05<00:00, 18.58it/s, v_num=y907, train_loss_step=1.290, val_loss=1.290, val_acc=0.379, val_cohen_kappa=0.104, train_loss_epoch=1.290]\n",
      "Validation: |          | 0/? [00:00<?, ?it/s]\u001b[A\n",
      "Validation:   0%|          | 0/14 [00:00<?, ?it/s]\u001b[A\n",
      "Validation DataLoader 0:   0%|          | 0/14 [00:00<?, ?it/s]\u001b[A\n",
      "Validation DataLoader 0:   7%|▋         | 1/14 [00:00<00:00, 17.97it/s]\u001b[A\n",
      "Validation DataLoader 0:  14%|█▍        | 2/14 [00:00<00:00, 17.34it/s]\u001b[A\n",
      "Validation DataLoader 0:  21%|██▏       | 3/14 [00:00<00:00, 17.57it/s]\u001b[A\n",
      "Validation DataLoader 0:  29%|██▊       | 4/14 [00:00<00:00, 17.20it/s]\u001b[A\n",
      "Validation DataLoader 0:  36%|███▌      | 5/14 [00:00<00:00, 17.37it/s]\u001b[A\n",
      "Validation DataLoader 0:  43%|████▎     | 6/14 [00:00<00:00, 17.33it/s]\u001b[A\n",
      "Validation DataLoader 0:  50%|█████     | 7/14 [00:00<00:00, 17.30it/s]\u001b[A\n",
      "Validation DataLoader 0:  57%|█████▋    | 8/14 [00:00<00:00, 16.82it/s]\u001b[A\n",
      "Validation DataLoader 0:  64%|██████▍   | 9/14 [00:00<00:00, 16.94it/s]\u001b[A\n",
      "Validation DataLoader 0:  71%|███████▏  | 10/14 [00:00<00:00, 17.04it/s]\u001b[A\n",
      "Validation DataLoader 0:  79%|███████▊  | 11/14 [00:00<00:00, 17.11it/s]\u001b[A\n",
      "Validation DataLoader 0:  86%|████████▌ | 12/14 [00:00<00:00, 17.07it/s]\u001b[A\n",
      "Validation DataLoader 0:  93%|█████████▎| 13/14 [00:00<00:00, 17.12it/s]\u001b[A\n",
      "Validation DataLoader 0: 100%|██████████| 14/14 [00:00<00:00, 17.18it/s]\u001b[A\n",
      "Epoch 2: 100%|██████████| 101/101 [00:07<00:00, 13.96it/s, v_num=y907, train_loss_step=1.290, val_loss=1.290, val_acc=0.269, val_cohen_kappa=0.102, train_loss_epoch=1.280]"
     ]
    },
    {
     "name": "stderr",
     "output_type": "stream",
     "text": [
      "Metric val_loss improved by 0.001 >= min_delta = 0.0. New best score: 1.292\n"
     ]
    },
    {
     "name": "stdout",
     "output_type": "stream",
     "text": [
      "Epoch 3: 100%|██████████| 101/101 [00:07<00:00, 13.80it/s, v_num=y907, train_loss_step=1.240, val_loss=1.290, val_acc=0.269, val_cohen_kappa=0.102, train_loss_epoch=1.280]\n",
      "Validation: |          | 0/? [00:00<?, ?it/s]\u001b[A\n",
      "Validation:   0%|          | 0/14 [00:00<?, ?it/s]\u001b[A\n",
      "Validation DataLoader 0:   0%|          | 0/14 [00:00<?, ?it/s]\u001b[A\n",
      "Validation DataLoader 0:   7%|▋         | 1/14 [00:00<00:00, 17.69it/s]\u001b[A\n",
      "Validation DataLoader 0:  14%|█▍        | 2/14 [00:00<00:00, 16.27it/s]\u001b[A\n",
      "Validation DataLoader 0:  21%|██▏       | 3/14 [00:00<00:00, 16.41it/s]\u001b[A\n",
      "Validation DataLoader 0:  29%|██▊       | 4/14 [00:00<00:00, 16.63it/s]\u001b[A\n",
      "Validation DataLoader 0:  36%|███▌      | 5/14 [00:00<00:00, 16.90it/s]\u001b[A\n",
      "Validation DataLoader 0:  43%|████▎     | 6/14 [00:00<00:00, 16.77it/s]\u001b[A\n",
      "Validation DataLoader 0:  50%|█████     | 7/14 [00:00<00:00, 16.86it/s]\u001b[A\n",
      "Validation DataLoader 0:  57%|█████▋    | 8/14 [00:00<00:00, 16.63it/s]\u001b[A\n",
      "Validation DataLoader 0:  64%|██████▍   | 9/14 [00:00<00:00, 16.64it/s]\u001b[A\n",
      "Validation DataLoader 0:  71%|███████▏  | 10/14 [00:00<00:00, 16.77it/s]\u001b[A\n",
      "Validation DataLoader 0:  79%|███████▊  | 11/14 [00:00<00:00, 16.88it/s]\u001b[A\n",
      "Validation DataLoader 0:  86%|████████▌ | 12/14 [00:00<00:00, 16.97it/s]\u001b[A\n",
      "Validation DataLoader 0:  93%|█████████▎| 13/14 [00:00<00:00, 17.00it/s]\u001b[A\n",
      "Validation DataLoader 0: 100%|██████████| 14/14 [00:00<00:00, 17.39it/s]\u001b[A\n",
      "Epoch 4: 100%|██████████| 101/101 [00:05<00:00, 17.11it/s, v_num=y907, train_loss_step=1.520, val_loss=1.360, val_acc=0.269, val_cohen_kappa=0.0936, train_loss_epoch=1.260]\n",
      "Validation: |          | 0/? [00:00<?, ?it/s]\u001b[A\n",
      "Validation:   0%|          | 0/14 [00:00<?, ?it/s]\u001b[A\n",
      "Validation DataLoader 0:   0%|          | 0/14 [00:00<?, ?it/s]\u001b[A\n",
      "Validation DataLoader 0:   7%|▋         | 1/14 [00:00<00:00, 17.29it/s]\u001b[A\n",
      "Validation DataLoader 0:  14%|█▍        | 2/14 [00:00<00:00, 16.65it/s]\u001b[A\n",
      "Validation DataLoader 0:  21%|██▏       | 3/14 [00:00<00:00, 16.93it/s]\u001b[A\n",
      "Validation DataLoader 0:  29%|██▊       | 4/14 [00:00<00:00, 17.08it/s]\u001b[A\n",
      "Validation DataLoader 0:  36%|███▌      | 5/14 [00:00<00:00, 16.90it/s]\u001b[A\n",
      "Validation DataLoader 0:  43%|████▎     | 6/14 [00:00<00:00, 17.09it/s]\u001b[A\n",
      "Validation DataLoader 0:  50%|█████     | 7/14 [00:00<00:00, 16.95it/s]\u001b[A\n",
      "Validation DataLoader 0:  57%|█████▋    | 8/14 [00:00<00:00, 16.91it/s]\u001b[A\n",
      "Validation DataLoader 0:  64%|██████▍   | 9/14 [00:00<00:00, 17.03it/s]\u001b[A\n",
      "Validation DataLoader 0:  71%|███████▏  | 10/14 [00:00<00:00, 17.11it/s]\u001b[A\n",
      "Validation DataLoader 0:  79%|███████▊  | 11/14 [00:00<00:00, 17.19it/s]\u001b[A\n",
      "Validation DataLoader 0:  86%|████████▌ | 12/14 [00:00<00:00, 17.19it/s]\u001b[A\n",
      "Validation DataLoader 0:  93%|█████████▎| 13/14 [00:00<00:00, 17.24it/s]\u001b[A\n",
      "Validation DataLoader 0: 100%|██████████| 14/14 [00:00<00:00, 17.29it/s]\u001b[A\n",
      "Epoch 5: 100%|██████████| 101/101 [00:07<00:00, 13.88it/s, v_num=y907, train_loss_step=1.130, val_loss=1.300, val_acc=0.284, val_cohen_kappa=0.0874, train_loss_epoch=1.250]\n",
      "Validation: |          | 0/? [00:00<?, ?it/s]\u001b[A\n",
      "Validation:   0%|          | 0/14 [00:00<?, ?it/s]\u001b[A\n",
      "Validation DataLoader 0:   0%|          | 0/14 [00:00<?, ?it/s]\u001b[A\n",
      "Validation DataLoader 0:   7%|▋         | 1/14 [00:00<00:00, 20.20it/s]\u001b[A\n",
      "Validation DataLoader 0:  14%|█▍        | 2/14 [00:00<00:00, 28.98it/s]\u001b[A\n",
      "Validation DataLoader 0:  21%|██▏       | 3/14 [00:00<00:00, 33.83it/s]\u001b[A\n",
      "Validation DataLoader 0:  29%|██▊       | 4/14 [00:00<00:00, 35.73it/s]\u001b[A\n",
      "Validation DataLoader 0:  36%|███▌      | 5/14 [00:00<00:00, 31.09it/s]\u001b[A\n",
      "Validation DataLoader 0:  43%|████▎     | 6/14 [00:00<00:00, 32.79it/s]\u001b[A\n",
      "Validation DataLoader 0:  50%|█████     | 7/14 [00:00<00:00, 34.72it/s]\u001b[A\n",
      "Validation DataLoader 0:  57%|█████▋    | 8/14 [00:00<00:00, 33.10it/s]\u001b[A\n",
      "Validation DataLoader 0:  64%|██████▍   | 9/14 [00:00<00:00, 32.64it/s]\u001b[A\n",
      "Validation DataLoader 0:  71%|███████▏  | 10/14 [00:00<00:00, 33.77it/s]\u001b[A\n",
      "Validation DataLoader 0:  79%|███████▊  | 11/14 [00:00<00:00, 34.82it/s]\u001b[A\n",
      "Validation DataLoader 0:  86%|████████▌ | 12/14 [00:00<00:00, 35.38it/s]\u001b[A\n",
      "Validation DataLoader 0:  93%|█████████▎| 13/14 [00:00<00:00, 34.53it/s]\u001b[A\n",
      "Validation DataLoader 0: 100%|██████████| 14/14 [00:00<00:00, 34.35it/s]\u001b[A\n",
      "Epoch 6: 100%|██████████| 101/101 [00:06<00:00, 14.90it/s, v_num=y907, train_loss_step=1.320, val_loss=1.360, val_acc=0.264, val_cohen_kappa=0.0833, train_loss_epoch=1.230]\n",
      "Validation: |          | 0/? [00:00<?, ?it/s]\u001b[A\n",
      "Validation:   0%|          | 0/14 [00:00<?, ?it/s]\u001b[A\n",
      "Validation DataLoader 0:   0%|          | 0/14 [00:00<?, ?it/s]\u001b[A\n",
      "Validation DataLoader 0:   7%|▋         | 1/14 [00:00<00:00, 17.91it/s]\u001b[A\n",
      "Validation DataLoader 0:  14%|█▍        | 2/14 [00:00<00:00, 18.02it/s]\u001b[A\n",
      "Validation DataLoader 0:  21%|██▏       | 3/14 [00:00<00:00, 18.03it/s]\u001b[A\n",
      "Validation DataLoader 0:  29%|██▊       | 4/14 [00:00<00:00, 18.04it/s]\u001b[A\n",
      "Validation DataLoader 0:  36%|███▌      | 5/14 [00:00<00:00, 17.77it/s]\u001b[A\n",
      "Validation DataLoader 0:  43%|████▎     | 6/14 [00:00<00:00, 17.49it/s]\u001b[A\n",
      "Validation DataLoader 0:  50%|█████     | 7/14 [00:00<00:00, 17.57it/s]\u001b[A\n",
      "Validation DataLoader 0:  57%|█████▋    | 8/14 [00:00<00:00, 17.55it/s]\u001b[A\n",
      "Validation DataLoader 0:  64%|██████▍   | 9/14 [00:00<00:00, 17.61it/s]\u001b[A\n",
      "Validation DataLoader 0:  71%|███████▏  | 10/14 [00:00<00:00, 17.65it/s]\u001b[A\n",
      "Validation DataLoader 0:  79%|███████▊  | 11/14 [00:00<00:00, 17.64it/s]\u001b[A\n",
      "Validation DataLoader 0:  86%|████████▌ | 12/14 [00:00<00:00, 17.68it/s]\u001b[A\n",
      "Validation DataLoader 0:  93%|█████████▎| 13/14 [00:00<00:00, 17.70it/s]\u001b[A\n",
      "Validation DataLoader 0: 100%|██████████| 14/14 [00:00<00:00, 17.68it/s]\u001b[A\n",
      "Epoch 6: 100%|██████████| 101/101 [00:08<00:00, 12.12it/s, v_num=y907, train_loss_step=1.320, val_loss=1.460, val_acc=0.360, val_cohen_kappa=0.101, train_loss_epoch=1.220] "
     ]
    },
    {
     "name": "stderr",
     "output_type": "stream",
     "text": [
      "Monitored metric val_loss did not improve in the last 4 records. Best score: 1.292. Signaling Trainer to stop.\n"
     ]
    },
    {
     "name": "stdout",
     "output_type": "stream",
     "text": [
      "Epoch 6: 100%|██████████| 101/101 [00:08<00:00, 12.11it/s, v_num=y907, train_loss_step=1.320, val_loss=1.460, val_acc=0.360, val_cohen_kappa=0.101, train_loss_epoch=1.220]\n",
      "Best model path: /scratch/npr264/BioDeepL/project/moved_from_home/checkpoints/0/best-checkpoint-v23.ckpt\n"
     ]
    },
    {
     "name": "stderr",
     "output_type": "stream",
     "text": [
      "You are using the plain ModelCheckpoint callback. Consider using LitModelCheckpoint which with seamless uploading to Model registry.\n",
      "GPU available: True (cuda), used: True\n",
      "TPU available: False, using: 0 TPU cores\n",
      "HPU available: False, using: 0 HPUs\n",
      "LOCAL_RANK: 0 - CUDA_VISIBLE_DEVICES: [0]\n",
      "SLURM auto-requeueing enabled. Setting signal handlers.\n"
     ]
    },
    {
     "name": "stdout",
     "output_type": "stream",
     "text": [
      "Validation DataLoader 0: 100%|██████████| 14/14 [00:00<00:00, 17.58it/s]\n"
     ]
    },
    {
     "name": "stderr",
     "output_type": "stream",
     "text": [
      "\u001b[34m\u001b[1mwandb\u001b[0m: \u001b[32m\u001b[41mERROR\u001b[0m The nbformat package was not found. It is required to save notebook history.\n"
     ]
    },
    {
     "data": {
      "text/html": [],
      "text/plain": [
       "<IPython.core.display.HTML object>"
      ]
     },
     "metadata": {},
     "output_type": "display_data"
    },
    {
     "data": {
      "text/html": [
       "<br>    <style><br>        .wandb-row {<br>            display: flex;<br>            flex-direction: row;<br>            flex-wrap: wrap;<br>            justify-content: flex-start;<br>            width: 100%;<br>        }<br>        .wandb-col {<br>            display: flex;<br>            flex-direction: column;<br>            flex-basis: 100%;<br>            flex: 1;<br>            padding: 10px;<br>        }<br>    </style><br><div class=\"wandb-row\"><div class=\"wandb-col\"><h3>Run history:</h3><br/><table class=\"wandb\"><tr><td>best_val_loss</td><td>▁</td></tr><tr><td>epoch</td><td>▁▁▁▁▁▂▂▂▂▃▃▃▃▃▃▃▃▅▅▅▅▅▆▆▆▆▆▆▆▆▇▇▇▇▇▇████</td></tr><tr><td>train_loss_epoch</td><td>█▅▄▃▃▂▁</td></tr><tr><td>train_loss_step</td><td>▆▅▆▆▇▇▇▄▅▅▄▄▆▄▅▅▄▃▂▄▆▅▅▅▂█▅▄▁▄▄▅▇▅▇▅▃▄█▅</td></tr><tr><td>trainer/global_step</td><td>▁▁▁▁▁▂▂▂▂▃▃▃▃▃▃▄▄▄▄▄▅▅▅▅▅▅▆▆▆▆▆▆▇▇▇▇████</td></tr><tr><td>val_acc</td><td>██▁▁▂▁▇</td></tr><tr><td>val_cohen_kappa</td><td>█▄▄▃▂▁▄</td></tr><tr><td>val_loss</td><td>▂▁▁▄▁▄█</td></tr></table><br/></div><div class=\"wandb-col\"><h3>Run summary:</h3><br/><table class=\"wandb\"><tr><td>best_val_loss</td><td>1.2921</td></tr><tr><td>epoch</td><td>6</td></tr><tr><td>train_loss_epoch</td><td>1.22019</td></tr><tr><td>train_loss_step</td><td>1.26093</td></tr><tr><td>trainer/global_step</td><td>706</td></tr><tr><td>val_acc</td><td>0.3603</td></tr><tr><td>val_cohen_kappa</td><td>0.10068</td></tr><tr><td>val_loss</td><td>1.46301</td></tr></table><br/></div></div>"
      ],
      "text/plain": [
       "<IPython.core.display.HTML object>"
      ]
     },
     "metadata": {},
     "output_type": "display_data"
    },
    {
     "data": {
      "text/html": [
       " View run <strong style=\"color:#cdcd00\">prernn32_rnn128_hidden16lr0.00046006517776070466_batchsize2dropoutembed0.4339382662509974_dropoutRNN0.4494431977816371_dropouthidden20.4123955657279871</strong> at: <a href='https://wandb.ai/npr264-new-york-university/Baseline/runs/ujk8y907' target=\"_blank\">https://wandb.ai/npr264-new-york-university/Baseline/runs/ujk8y907</a><br> View project at: <a href='https://wandb.ai/npr264-new-york-university/Baseline' target=\"_blank\">https://wandb.ai/npr264-new-york-university/Baseline</a><br>Synced 5 W&B file(s), 0 media file(s), 0 artifact file(s) and 0 other file(s)"
      ],
      "text/plain": [
       "<IPython.core.display.HTML object>"
      ]
     },
     "metadata": {},
     "output_type": "display_data"
    },
    {
     "data": {
      "text/html": [
       "Find logs at: <code>./wandb/run-20250429_232700-ujk8y907/logs</code>"
      ],
      "text/plain": [
       "<IPython.core.display.HTML object>"
      ]
     },
     "metadata": {},
     "output_type": "display_data"
    },
    {
     "name": "stderr",
     "output_type": "stream",
     "text": [
      "[I 2025-04-29 23:28:01,169] Trial 0 finished with value: 1.2920981645584106 and parameters: {'dropout_embed': 0.4339382662509974, 'dropout_rnn': 0.4494431977816371, 'dropout_hidden2': 0.4123955657279871, 'pre_rnn_embedding_size': 32, 'rnn_hidden_size': 128, 'hidden_size2': 16, 'learning_rate': 0.00046006517776070466, 'batch_size': 2}. Best is trial 0 with value: 1.2920981645584106.\n",
      "/state/partition1/job-59918280/ipykernel_522356/1335623980.py:23: FutureWarning: suggest_loguniform has been deprecated in v3.0.0. This feature will be removed in v6.0.0. See https://github.com/optuna/optuna/releases/tag/v3.0.0. Use suggest_float(..., log=True) instead.\n",
      "  learning_rate = trial.suggest_loguniform(\"learning_rate\", 1e-5, 1e-2)\n",
      "GPU available: True (cuda), used: True\n",
      "TPU available: False, using: 0 TPU cores\n",
      "HPU available: False, using: 0 HPUs\n"
     ]
    },
    {
     "data": {
      "text/html": [
       "Tracking run with wandb version 0.19.9"
      ],
      "text/plain": [
       "<IPython.core.display.HTML object>"
      ]
     },
     "metadata": {},
     "output_type": "display_data"
    },
    {
     "data": {
      "text/html": [
       "Run data is saved locally in <code>./wandb/run-20250429_232801-5iqi6n2q</code>"
      ],
      "text/plain": [
       "<IPython.core.display.HTML object>"
      ]
     },
     "metadata": {},
     "output_type": "display_data"
    },
    {
     "data": {
      "text/html": [
       "Syncing run <strong><a href='https://wandb.ai/npr264-new-york-university/Baseline/runs/5iqi6n2q' target=\"_blank\">prernn8_rnn64_hidden16lr0.0061881005468469785_batchsize2dropoutembed0.1531129606029485_dropoutRNN0.10524505272478693_dropouthidden20.2503727012088883</a></strong> to <a href='https://wandb.ai/npr264-new-york-university/Baseline' target=\"_blank\">Weights & Biases</a> (<a href='https://wandb.me/developer-guide' target=\"_blank\">docs</a>)<br>"
      ],
      "text/plain": [
       "<IPython.core.display.HTML object>"
      ]
     },
     "metadata": {},
     "output_type": "display_data"
    },
    {
     "data": {
      "text/html": [
       " View project at <a href='https://wandb.ai/npr264-new-york-university/Baseline' target=\"_blank\">https://wandb.ai/npr264-new-york-university/Baseline</a>"
      ],
      "text/plain": [
       "<IPython.core.display.HTML object>"
      ]
     },
     "metadata": {},
     "output_type": "display_data"
    },
    {
     "data": {
      "text/html": [
       " View run at <a href='https://wandb.ai/npr264-new-york-university/Baseline/runs/5iqi6n2q' target=\"_blank\">https://wandb.ai/npr264-new-york-university/Baseline/runs/5iqi6n2q</a>"
      ],
      "text/plain": [
       "<IPython.core.display.HTML object>"
      ]
     },
     "metadata": {},
     "output_type": "display_data"
    },
    {
     "name": "stderr",
     "output_type": "stream",
     "text": [
      "/ext3/miniforge3/lib/python3.12/site-packages/pytorch_lightning/callbacks/model_checkpoint.py:654: Checkpoint directory /scratch/npr264/BioDeepL/project/moved_from_home/checkpoints/1 exists and is not empty.\n",
      "LOCAL_RANK: 0 - CUDA_VISIBLE_DEVICES: [0]\n",
      "/ext3/miniforge3/lib/python3.12/site-packages/torch/optim/lr_scheduler.py:62: UserWarning: The verbose parameter is deprecated. Please use get_last_lr() to access the learning rate.\n",
      "  warnings.warn(\n",
      "\n",
      "  | Name            | Type                 | Params | Mode \n",
      "-----------------------------------------------------------------\n",
      "0 | embeddingLayer  | Linear               | 48     | train\n",
      "1 | dropout_embed   | Dropout              | 0      | train\n",
      "2 | dropout_hidden2 | Dropout              | 0      | train\n",
      "3 | rnn             | LSTM                 | 138 K  | train\n",
      "4 | hidden2         | Linear               | 2.1 K  | train\n",
      "5 | classifier      | Linear               | 68     | train\n",
      "6 | train_criterion | CrossEntropyLoss     | 0      | train\n",
      "7 | val_criterion   | CrossEntropyLoss     | 0      | train\n",
      "8 | kappa           | MulticlassCohenKappa | 0      | train\n",
      "-----------------------------------------------------------------\n",
      "140 K     Trainable params\n",
      "0         Non-trainable params\n",
      "140 K     Total params\n",
      "0.564     Total estimated model params size (MB)\n",
      "9         Modules in train mode\n",
      "0         Modules in eval mode\n",
      "SLURM auto-requeueing enabled. Setting signal handlers.\n"
     ]
    },
    {
     "name": "stdout",
     "output_type": "stream",
     "text": [
      "Epoch 0: 100%|██████████| 101/101 [00:01<00:00, 54.49it/s, v_num=6n2q, train_loss_step=1.320]\n",
      "Validation: |          | 0/? [00:00<?, ?it/s]\u001b[A\n",
      "Validation:   0%|          | 0/14 [00:00<?, ?it/s]\u001b[A\n",
      "Validation DataLoader 0:   0%|          | 0/14 [00:00<?, ?it/s]\u001b[A\n",
      "Validation DataLoader 0:   7%|▋         | 1/14 [00:00<00:00, 29.24it/s]\u001b[A\n",
      "Validation DataLoader 0:  14%|█▍        | 2/14 [00:00<00:00, 29.29it/s]\u001b[A\n",
      "Validation DataLoader 0:  21%|██▏       | 3/14 [00:00<00:00, 27.08it/s]\u001b[A\n",
      "Validation DataLoader 0:  29%|██▊       | 4/14 [00:00<00:00, 27.59it/s]\u001b[A\n",
      "Validation DataLoader 0:  36%|███▌      | 5/14 [00:00<00:00, 27.92it/s]\u001b[A\n",
      "Validation DataLoader 0:  43%|████▎     | 6/14 [00:00<00:00, 28.14it/s]\u001b[A\n",
      "Validation DataLoader 0:  50%|█████     | 7/14 [00:00<00:00, 27.81it/s]\u001b[A\n",
      "Validation DataLoader 0:  57%|█████▋    | 8/14 [00:00<00:00, 27.40it/s]\u001b[A\n",
      "Validation DataLoader 0:  64%|██████▍   | 9/14 [00:00<00:00, 27.60it/s]\u001b[A\n",
      "Validation DataLoader 0:  71%|███████▏  | 10/14 [00:00<00:00, 27.74it/s]\u001b[A\n",
      "Validation DataLoader 0:  79%|███████▊  | 11/14 [00:00<00:00, 27.86it/s]\u001b[A\n",
      "Validation DataLoader 0:  86%|████████▌ | 12/14 [00:00<00:00, 28.01it/s]\u001b[A\n",
      "Validation DataLoader 0:  93%|█████████▎| 13/14 [00:00<00:00, 28.14it/s]\u001b[A\n",
      "Validation DataLoader 0: 100%|██████████| 14/14 [00:00<00:00, 28.26it/s]\u001b[A\n",
      "Epoch 0: 100%|██████████| 101/101 [00:03<00:00, 31.58it/s, v_num=6n2q, train_loss_step=1.320, val_loss=1.360, val_acc=0.235, val_cohen_kappa=0.050, train_loss_epoch=1.390]"
     ]
    },
    {
     "name": "stderr",
     "output_type": "stream",
     "text": [
      "Metric val_loss improved. New best score: 1.355\n"
     ]
    },
    {
     "name": "stdout",
     "output_type": "stream",
     "text": [
      "Epoch 1: 100%|██████████| 101/101 [00:02<00:00, 34.16it/s, v_num=6n2q, train_loss_step=1.420, val_loss=1.360, val_acc=0.235, val_cohen_kappa=0.050, train_loss_epoch=1.390]\n",
      "Validation: |          | 0/? [00:00<?, ?it/s]\u001b[A\n",
      "Validation:   0%|          | 0/14 [00:00<?, ?it/s]\u001b[A\n",
      "Validation DataLoader 0:   0%|          | 0/14 [00:00<?, ?it/s]\u001b[A\n",
      "Validation DataLoader 0:   7%|▋         | 1/14 [00:00<00:00, 27.38it/s]\u001b[A\n",
      "Validation DataLoader 0:  14%|█▍        | 2/14 [00:00<00:00, 26.82it/s]\u001b[A\n",
      "Validation DataLoader 0:  21%|██▏       | 3/14 [00:00<00:00, 26.58it/s]\u001b[A\n",
      "Validation DataLoader 0:  29%|██▊       | 4/14 [00:00<00:00, 26.12it/s]\u001b[A\n",
      "Validation DataLoader 0:  36%|███▌      | 5/14 [00:00<00:00, 26.74it/s]\u001b[A\n",
      "Validation DataLoader 0:  43%|████▎     | 6/14 [00:00<00:00, 27.20it/s]\u001b[A\n",
      "Validation DataLoader 0:  50%|█████     | 7/14 [00:00<00:00, 27.10it/s]\u001b[A\n",
      "Validation DataLoader 0:  57%|█████▋    | 8/14 [00:00<00:00, 27.02it/s]\u001b[A\n",
      "Validation DataLoader 0:  64%|██████▍   | 9/14 [00:00<00:00, 27.32it/s]\u001b[A\n",
      "Validation DataLoader 0:  71%|███████▏  | 10/14 [00:00<00:00, 27.56it/s]\u001b[A\n",
      "Validation DataLoader 0:  79%|███████▊  | 11/14 [00:00<00:00, 27.75it/s]\u001b[A\n",
      "Validation DataLoader 0:  86%|████████▌ | 12/14 [00:00<00:00, 27.91it/s]\u001b[A\n",
      "Validation DataLoader 0:  93%|█████████▎| 13/14 [00:00<00:00, 28.02it/s]\u001b[A\n",
      "Validation DataLoader 0: 100%|██████████| 14/14 [00:00<00:00, 28.10it/s]\u001b[A\n",
      "Epoch 2: 100%|██████████| 101/101 [00:02<00:00, 35.91it/s, v_num=6n2q, train_loss_step=1.770, val_loss=1.400, val_acc=0.148, val_cohen_kappa=0.0044, train_loss_epoch=1.350]\n",
      "Validation: |          | 0/? [00:00<?, ?it/s]\u001b[A\n",
      "Validation:   0%|          | 0/14 [00:00<?, ?it/s]\u001b[A\n",
      "Validation DataLoader 0:   0%|          | 0/14 [00:00<?, ?it/s]\u001b[A\n",
      "Validation DataLoader 0:   7%|▋         | 1/14 [00:00<00:00, 75.92it/s]\u001b[A\n",
      "Validation DataLoader 0:  14%|█▍        | 2/14 [00:00<00:00, 86.00it/s]\u001b[A\n",
      "Validation DataLoader 0:  21%|██▏       | 3/14 [00:00<00:00, 78.29it/s]\u001b[A\n",
      "Validation DataLoader 0:  29%|██▊       | 4/14 [00:00<00:00, 80.55it/s]\u001b[A\n",
      "Validation DataLoader 0:  36%|███▌      | 5/14 [00:00<00:00, 80.31it/s]\u001b[A\n",
      "Validation DataLoader 0:  43%|████▎     | 6/14 [00:00<00:00, 81.05it/s]\u001b[A\n",
      "Validation DataLoader 0:  50%|█████     | 7/14 [00:00<00:00, 74.81it/s]\u001b[A\n",
      "Validation DataLoader 0:  57%|█████▋    | 8/14 [00:00<00:00, 75.51it/s]\u001b[A\n",
      "Validation DataLoader 0:  64%|██████▍   | 9/14 [00:00<00:00, 77.48it/s]\u001b[A\n",
      "Validation DataLoader 0:  71%|███████▏  | 10/14 [00:00<00:00, 79.33it/s]\u001b[A\n",
      "Validation DataLoader 0:  79%|███████▊  | 11/14 [00:00<00:00, 80.96it/s]\u001b[A\n",
      "Validation DataLoader 0:  86%|████████▌ | 12/14 [00:00<00:00, 82.35it/s]\u001b[A\n",
      "Validation DataLoader 0:  93%|█████████▎| 13/14 [00:00<00:00, 81.19it/s]\u001b[A\n",
      "Validation DataLoader 0: 100%|██████████| 14/14 [00:00<00:00, 81.76it/s]\u001b[A\n",
      "Epoch 3: 100%|██████████| 101/101 [00:02<00:00, 36.65it/s, v_num=6n2q, train_loss_step=1.220, val_loss=1.370, val_acc=0.394, val_cohen_kappa=0.117, train_loss_epoch=1.340] \n",
      "Validation: |          | 0/? [00:00<?, ?it/s]\u001b[A\n",
      "Validation:   0%|          | 0/14 [00:00<?, ?it/s]\u001b[A\n",
      "Validation DataLoader 0:   0%|          | 0/14 [00:00<?, ?it/s]\u001b[A\n",
      "Validation DataLoader 0:   7%|▋         | 1/14 [00:00<00:00, 29.44it/s]\u001b[A\n",
      "Validation DataLoader 0:  14%|█▍        | 2/14 [00:00<00:00, 26.19it/s]\u001b[A\n",
      "Validation DataLoader 0:  21%|██▏       | 3/14 [00:00<00:00, 27.16it/s]\u001b[A\n",
      "Validation DataLoader 0:  29%|██▊       | 4/14 [00:00<00:00, 27.66it/s]\u001b[A\n",
      "Validation DataLoader 0:  36%|███▌      | 5/14 [00:00<00:00, 27.96it/s]\u001b[A\n",
      "Validation DataLoader 0:  43%|████▎     | 6/14 [00:00<00:00, 27.61it/s]\u001b[A\n",
      "Validation DataLoader 0:  50%|█████     | 7/14 [00:00<00:00, 27.82it/s]\u001b[A\n",
      "Validation DataLoader 0:  57%|█████▋    | 8/14 [00:00<00:00, 27.39it/s]\u001b[A\n",
      "Validation DataLoader 0:  64%|██████▍   | 9/14 [00:00<00:00, 27.59it/s]\u001b[A\n",
      "Validation DataLoader 0:  71%|███████▏  | 10/14 [00:00<00:00, 27.59it/s]\u001b[A\n",
      "Validation DataLoader 0:  79%|███████▊  | 11/14 [00:00<00:00, 27.72it/s]\u001b[A\n",
      "Validation DataLoader 0:  86%|████████▌ | 12/14 [00:00<00:00, 27.84it/s]\u001b[A\n",
      "Validation DataLoader 0:  93%|█████████▎| 13/14 [00:00<00:00, 27.98it/s]\u001b[A\n",
      "Validation DataLoader 0: 100%|██████████| 14/14 [00:00<00:00, 28.11it/s]\u001b[A\n",
      "Epoch 3: 100%|██████████| 101/101 [00:04<00:00, 24.49it/s, v_num=6n2q, train_loss_step=1.220, val_loss=1.300, val_acc=0.323, val_cohen_kappa=0.103, train_loss_epoch=1.310]"
     ]
    },
    {
     "name": "stderr",
     "output_type": "stream",
     "text": [
      "Metric val_loss improved by 0.060 >= min_delta = 0.0. New best score: 1.296\n"
     ]
    },
    {
     "name": "stdout",
     "output_type": "stream",
     "text": [
      "Epoch 4: 100%|██████████| 101/101 [00:02<00:00, 34.71it/s, v_num=6n2q, train_loss_step=1.260, val_loss=1.300, val_acc=0.323, val_cohen_kappa=0.103, train_loss_epoch=1.310]\n",
      "Validation: |          | 0/? [00:00<?, ?it/s]\u001b[A\n",
      "Validation:   0%|          | 0/14 [00:00<?, ?it/s]\u001b[A\n",
      "Validation DataLoader 0:   0%|          | 0/14 [00:00<?, ?it/s]\u001b[A\n",
      "Validation DataLoader 0:   7%|▋         | 1/14 [00:00<00:00, 27.34it/s]\u001b[A\n",
      "Validation DataLoader 0:  14%|█▍        | 2/14 [00:00<00:00, 28.32it/s]\u001b[A\n",
      "Validation DataLoader 0:  21%|██▏       | 3/14 [00:00<00:00, 28.65it/s]\u001b[A\n",
      "Validation DataLoader 0:  29%|██▊       | 4/14 [00:00<00:00, 28.34it/s]\u001b[A\n",
      "Validation DataLoader 0:  36%|███▌      | 5/14 [00:00<00:00, 28.18it/s]\u001b[A\n",
      "Validation DataLoader 0:  43%|████▎     | 6/14 [00:00<00:00, 27.03it/s]\u001b[A\n",
      "Validation DataLoader 0:  50%|█████     | 7/14 [00:00<00:00, 26.90it/s]\u001b[A\n",
      "Validation DataLoader 0:  57%|█████▋    | 8/14 [00:00<00:00, 27.21it/s]\u001b[A\n",
      "Validation DataLoader 0:  64%|██████▍   | 9/14 [00:00<00:00, 27.45it/s]\u001b[A\n",
      "Validation DataLoader 0:  71%|███████▏  | 10/14 [00:00<00:00, 27.64it/s]\u001b[A\n",
      "Validation DataLoader 0:  79%|███████▊  | 11/14 [00:00<00:00, 27.80it/s]\u001b[A\n",
      "Validation DataLoader 0:  86%|████████▌ | 12/14 [00:00<00:00, 27.96it/s]\u001b[A\n",
      "Validation DataLoader 0:  93%|█████████▎| 13/14 [00:00<00:00, 28.09it/s]\u001b[A\n",
      "Validation DataLoader 0: 100%|██████████| 14/14 [00:00<00:00, 28.09it/s]\u001b[A\n",
      "Epoch 4: 100%|██████████| 101/101 [00:04<00:00, 24.28it/s, v_num=6n2q, train_loss_step=1.260, val_loss=1.270, val_acc=0.196, val_cohen_kappa=0.0887, train_loss_epoch=1.300]"
     ]
    },
    {
     "name": "stderr",
     "output_type": "stream",
     "text": [
      "Metric val_loss improved by 0.025 >= min_delta = 0.0. New best score: 1.271\n"
     ]
    },
    {
     "name": "stdout",
     "output_type": "stream",
     "text": [
      "Epoch 5: 100%|██████████| 101/101 [00:02<00:00, 37.06it/s, v_num=6n2q, train_loss_step=1.230, val_loss=1.270, val_acc=0.196, val_cohen_kappa=0.0887, train_loss_epoch=1.300]\n",
      "Validation: |          | 0/? [00:00<?, ?it/s]\u001b[A\n",
      "Validation:   0%|          | 0/14 [00:00<?, ?it/s]\u001b[A\n",
      "Validation DataLoader 0:   0%|          | 0/14 [00:00<?, ?it/s]\u001b[A\n",
      "Validation DataLoader 0:   7%|▋         | 1/14 [00:00<00:00, 29.90it/s]\u001b[A\n",
      "Validation DataLoader 0:  14%|█▍        | 2/14 [00:00<00:00, 29.05it/s]\u001b[A\n",
      "Validation DataLoader 0:  21%|██▏       | 3/14 [00:00<00:00, 29.34it/s]\u001b[A\n",
      "Validation DataLoader 0:  29%|██▊       | 4/14 [00:00<00:00, 29.44it/s]\u001b[A\n",
      "Validation DataLoader 0:  36%|███▌      | 5/14 [00:00<00:00, 29.43it/s]\u001b[A\n",
      "Validation DataLoader 0:  43%|████▎     | 6/14 [00:00<00:00, 29.09it/s]\u001b[A\n",
      "Validation DataLoader 0:  50%|█████     | 7/14 [00:00<00:00, 28.65it/s]\u001b[A\n",
      "Validation DataLoader 0:  57%|█████▋    | 8/14 [00:00<00:00, 28.36it/s]\u001b[A\n",
      "Validation DataLoader 0:  64%|██████▍   | 9/14 [00:00<00:00, 28.51it/s]\u001b[A\n",
      "Validation DataLoader 0:  71%|███████▏  | 10/14 [00:00<00:00, 29.48it/s]\u001b[A\n",
      "Validation DataLoader 0:  79%|███████▊  | 11/14 [00:00<00:00, 31.30it/s]\u001b[A\n",
      "Validation DataLoader 0:  86%|████████▌ | 12/14 [00:00<00:00, 33.15it/s]\u001b[A\n",
      "Validation DataLoader 0:  93%|█████████▎| 13/14 [00:00<00:00, 34.93it/s]\u001b[A\n",
      "Validation DataLoader 0: 100%|██████████| 14/14 [00:00<00:00, 36.62it/s]\u001b[A\n",
      "Epoch 5: 100%|██████████| 101/101 [00:04<00:00, 24.98it/s, v_num=6n2q, train_loss_step=1.230, val_loss=1.270, val_acc=0.482, val_cohen_kappa=0.187, train_loss_epoch=1.280] "
     ]
    },
    {
     "name": "stderr",
     "output_type": "stream",
     "text": [
      "Metric val_loss improved by 0.003 >= min_delta = 0.0. New best score: 1.268\n"
     ]
    },
    {
     "name": "stdout",
     "output_type": "stream",
     "text": [
      "Epoch 6: 100%|██████████| 101/101 [00:02<00:00, 41.90it/s, v_num=6n2q, train_loss_step=1.400, val_loss=1.270, val_acc=0.482, val_cohen_kappa=0.187, train_loss_epoch=1.280]\n",
      "Validation: |          | 0/? [00:00<?, ?it/s]\u001b[A\n",
      "Validation:   0%|          | 0/14 [00:00<?, ?it/s]\u001b[A\n",
      "Validation DataLoader 0:   0%|          | 0/14 [00:00<?, ?it/s]\u001b[A\n",
      "Validation DataLoader 0:   7%|▋         | 1/14 [00:00<00:00, 28.72it/s]\u001b[A\n",
      "Validation DataLoader 0:  14%|█▍        | 2/14 [00:00<00:00, 28.96it/s]\u001b[A\n",
      "Validation DataLoader 0:  21%|██▏       | 3/14 [00:00<00:00, 29.10it/s]\u001b[A\n",
      "Validation DataLoader 0:  29%|██▊       | 4/14 [00:00<00:00, 28.70it/s]\u001b[A\n",
      "Validation DataLoader 0:  36%|███▌      | 5/14 [00:00<00:00, 28.47it/s]\u001b[A\n",
      "Validation DataLoader 0:  43%|████▎     | 6/14 [00:00<00:00, 27.50it/s]\u001b[A\n",
      "Validation DataLoader 0:  50%|█████     | 7/14 [00:00<00:00, 27.74it/s]\u001b[A\n",
      "Validation DataLoader 0:  57%|█████▋    | 8/14 [00:00<00:00, 27.33it/s]\u001b[A\n",
      "Validation DataLoader 0:  64%|██████▍   | 9/14 [00:00<00:00, 27.55it/s]\u001b[A\n",
      "Validation DataLoader 0:  71%|███████▏  | 10/14 [00:00<00:00, 27.72it/s]\u001b[A\n",
      "Validation DataLoader 0:  79%|███████▊  | 11/14 [00:00<00:00, 27.86it/s]\u001b[A\n",
      "Validation DataLoader 0:  86%|████████▌ | 12/14 [00:00<00:00, 27.84it/s]\u001b[A\n",
      "Validation DataLoader 0:  93%|█████████▎| 13/14 [00:00<00:00, 27.96it/s]\u001b[A\n",
      "Validation DataLoader 0: 100%|██████████| 14/14 [00:00<00:00, 28.07it/s]\u001b[A\n",
      "Epoch 7: 100%|██████████| 101/101 [00:03<00:00, 33.56it/s, v_num=6n2q, train_loss_step=1.300, val_loss=1.380, val_acc=0.283, val_cohen_kappa=0.0952, train_loss_epoch=1.250]\n",
      "Validation: |          | 0/? [00:00<?, ?it/s]\u001b[A\n",
      "Validation:   0%|          | 0/14 [00:00<?, ?it/s]\u001b[A\n",
      "Validation DataLoader 0:   0%|          | 0/14 [00:00<?, ?it/s]\u001b[A\n",
      "Validation DataLoader 0:   7%|▋         | 1/14 [00:00<00:00, 29.21it/s]\u001b[A\n",
      "Validation DataLoader 0:  14%|█▍        | 2/14 [00:00<00:00, 29.33it/s]\u001b[A\n",
      "Validation DataLoader 0:  21%|██▏       | 3/14 [00:00<00:00, 29.34it/s]\u001b[A\n",
      "Validation DataLoader 0:  29%|██▊       | 4/14 [00:00<00:00, 28.97it/s]\u001b[A\n",
      "Validation DataLoader 0:  36%|███▌      | 5/14 [00:00<00:00, 28.70it/s]\u001b[A\n",
      "Validation DataLoader 0:  43%|████▎     | 6/14 [00:00<00:00, 27.97it/s]\u001b[A\n",
      "Validation DataLoader 0:  50%|█████     | 7/14 [00:00<00:00, 28.18it/s]\u001b[A\n",
      "Validation DataLoader 0:  57%|█████▋    | 8/14 [00:00<00:00, 27.92it/s]\u001b[A\n",
      "Validation DataLoader 0:  64%|██████▍   | 9/14 [00:00<00:00, 28.12it/s]\u001b[A\n",
      "Validation DataLoader 0:  71%|███████▏  | 10/14 [00:00<00:00, 28.08it/s]\u001b[A\n",
      "Validation DataLoader 0:  79%|███████▊  | 11/14 [00:00<00:00, 28.21it/s]\u001b[A\n",
      "Validation DataLoader 0:  86%|████████▌ | 12/14 [00:00<00:00, 28.02it/s]\u001b[A\n",
      "Validation DataLoader 0:  93%|█████████▎| 13/14 [00:00<00:00, 27.87it/s]\u001b[A\n",
      "Validation DataLoader 0: 100%|██████████| 14/14 [00:00<00:00, 27.96it/s]\u001b[A\n",
      "Epoch 7: 100%|██████████| 101/101 [00:04<00:00, 23.41it/s, v_num=6n2q, train_loss_step=1.300, val_loss=1.260, val_acc=0.358, val_cohen_kappa=0.134, train_loss_epoch=1.240] "
     ]
    },
    {
     "name": "stderr",
     "output_type": "stream",
     "text": [
      "Metric val_loss improved by 0.003 >= min_delta = 0.0. New best score: 1.264\n"
     ]
    },
    {
     "name": "stdout",
     "output_type": "stream",
     "text": [
      "Epoch 8: 100%|██████████| 101/101 [00:02<00:00, 34.81it/s, v_num=6n2q, train_loss_step=1.170, val_loss=1.260, val_acc=0.358, val_cohen_kappa=0.134, train_loss_epoch=1.240]\n",
      "Validation: |          | 0/? [00:00<?, ?it/s]\u001b[A\n",
      "Validation:   0%|          | 0/14 [00:00<?, ?it/s]\u001b[A\n",
      "Validation DataLoader 0:   0%|          | 0/14 [00:00<?, ?it/s]\u001b[A\n",
      "Validation DataLoader 0:   7%|▋         | 1/14 [00:00<00:00, 40.67it/s]\u001b[A\n",
      "Validation DataLoader 0:  14%|█▍        | 2/14 [00:00<00:00, 25.45it/s]\u001b[A\n",
      "Validation DataLoader 0:  21%|██▏       | 3/14 [00:00<00:00, 28.89it/s]\u001b[A\n",
      "Validation DataLoader 0:  29%|██▊       | 4/14 [00:00<00:00, 34.90it/s]\u001b[A\n",
      "Validation DataLoader 0:  36%|███▌      | 5/14 [00:00<00:00, 34.74it/s]\u001b[A\n",
      "Validation DataLoader 0:  43%|████▎     | 6/14 [00:00<00:00, 38.36it/s]\u001b[A\n",
      "Validation DataLoader 0:  50%|█████     | 7/14 [00:00<00:00, 41.95it/s]\u001b[A\n",
      "Validation DataLoader 0:  57%|█████▋    | 8/14 [00:00<00:00, 43.52it/s]\u001b[A\n",
      "Validation DataLoader 0:  64%|██████▍   | 9/14 [00:00<00:00, 46.51it/s]\u001b[A\n",
      "Validation DataLoader 0:  71%|███████▏  | 10/14 [00:00<00:00, 49.17it/s]\u001b[A\n",
      "Validation DataLoader 0:  79%|███████▊  | 11/14 [00:00<00:00, 51.69it/s]\u001b[A\n",
      "Validation DataLoader 0:  86%|████████▌ | 12/14 [00:00<00:00, 53.97it/s]\u001b[A\n",
      "Validation DataLoader 0:  93%|█████████▎| 13/14 [00:00<00:00, 50.49it/s]\u001b[A\n",
      "Validation DataLoader 0: 100%|██████████| 14/14 [00:00<00:00, 48.06it/s]\u001b[A\n",
      "Epoch 9: 100%|██████████| 101/101 [00:02<00:00, 43.55it/s, v_num=6n2q, train_loss_step=1.100, val_loss=1.320, val_acc=0.305, val_cohen_kappa=0.135, train_loss_epoch=1.220]\n",
      "Validation: |          | 0/? [00:00<?, ?it/s]\u001b[A\n",
      "Validation:   0%|          | 0/14 [00:00<?, ?it/s]\u001b[A\n",
      "Validation DataLoader 0:   0%|          | 0/14 [00:00<?, ?it/s]\u001b[A\n",
      "Validation DataLoader 0:   7%|▋         | 1/14 [00:00<00:00, 28.91it/s]\u001b[A\n",
      "Validation DataLoader 0:  14%|█▍        | 2/14 [00:00<00:00, 29.02it/s]\u001b[A\n",
      "Validation DataLoader 0:  21%|██▏       | 3/14 [00:00<00:00, 27.97it/s]\u001b[A\n",
      "Validation DataLoader 0:  29%|██▊       | 4/14 [00:00<00:00, 28.31it/s]\u001b[A\n",
      "Validation DataLoader 0:  36%|███▌      | 5/14 [00:00<00:00, 28.53it/s]\u001b[A\n",
      "Validation DataLoader 0:  43%|████▎     | 6/14 [00:00<00:00, 28.08it/s]\u001b[A\n",
      "Validation DataLoader 0:  50%|█████     | 7/14 [00:00<00:00, 27.77it/s]\u001b[A\n",
      "Validation DataLoader 0:  57%|█████▋    | 8/14 [00:00<00:00, 27.14it/s]\u001b[A\n",
      "Validation DataLoader 0:  64%|██████▍   | 9/14 [00:00<00:00, 27.35it/s]\u001b[A\n",
      "Validation DataLoader 0:  71%|███████▏  | 10/14 [00:00<00:00, 27.54it/s]\u001b[A\n",
      "Validation DataLoader 0:  79%|███████▊  | 11/14 [00:00<00:00, 27.70it/s]\u001b[A\n",
      "Validation DataLoader 0:  86%|████████▌ | 12/14 [00:00<00:00, 27.83it/s]\u001b[A\n",
      "Validation DataLoader 0:  93%|█████████▎| 13/14 [00:00<00:00, 27.94it/s]\u001b[A\n",
      "Validation DataLoader 0: 100%|██████████| 14/14 [00:00<00:00, 28.03it/s]\u001b[A\n",
      "Epoch 9: 100%|██████████| 101/101 [00:03<00:00, 27.58it/s, v_num=6n2q, train_loss_step=1.100, val_loss=1.200, val_acc=0.316, val_cohen_kappa=0.140, train_loss_epoch=1.220]"
     ]
    },
    {
     "name": "stderr",
     "output_type": "stream",
     "text": [
      "Metric val_loss improved by 0.060 >= min_delta = 0.0. New best score: 1.205\n"
     ]
    },
    {
     "name": "stdout",
     "output_type": "stream",
     "text": [
      "Epoch 10: 100%|██████████| 101/101 [00:02<00:00, 34.26it/s, v_num=6n2q, train_loss_step=1.150, val_loss=1.200, val_acc=0.316, val_cohen_kappa=0.140, train_loss_epoch=1.220]\n",
      "Validation: |          | 0/? [00:00<?, ?it/s]\u001b[A\n",
      "Validation:   0%|          | 0/14 [00:00<?, ?it/s]\u001b[A\n",
      "Validation DataLoader 0:   0%|          | 0/14 [00:00<?, ?it/s]\u001b[A\n",
      "Validation DataLoader 0:   7%|▋         | 1/14 [00:00<00:00, 31.82it/s]\u001b[A\n",
      "Validation DataLoader 0:  14%|█▍        | 2/14 [00:00<00:00, 27.97it/s]\u001b[A\n",
      "Validation DataLoader 0:  21%|██▏       | 3/14 [00:00<00:00, 28.43it/s]\u001b[A\n",
      "Validation DataLoader 0:  29%|██▊       | 4/14 [00:00<00:00, 28.69it/s]\u001b[A\n",
      "Validation DataLoader 0:  36%|███▌      | 5/14 [00:00<00:00, 27.53it/s]\u001b[A\n",
      "Validation DataLoader 0:  43%|████▎     | 6/14 [00:00<00:00, 27.57it/s]\u001b[A\n",
      "Validation DataLoader 0:  50%|█████     | 7/14 [00:00<00:00, 28.13it/s]\u001b[A\n",
      "Validation DataLoader 0:  57%|█████▋    | 8/14 [00:00<00:00, 29.51it/s]\u001b[A\n",
      "Validation DataLoader 0:  64%|██████▍   | 9/14 [00:00<00:00, 31.99it/s]\u001b[A\n",
      "Validation DataLoader 0:  71%|███████▏  | 10/14 [00:00<00:00, 34.30it/s]\u001b[A\n",
      "Validation DataLoader 0:  79%|███████▊  | 11/14 [00:00<00:00, 36.43it/s]\u001b[A\n",
      "Validation DataLoader 0:  86%|████████▌ | 12/14 [00:00<00:00, 38.47it/s]\u001b[A\n",
      "Validation DataLoader 0:  93%|█████████▎| 13/14 [00:00<00:00, 37.73it/s]\u001b[A\n",
      "Validation DataLoader 0: 100%|██████████| 14/14 [00:00<00:00, 36.98it/s]\u001b[A\n",
      "Epoch 11: 100%|██████████| 101/101 [00:03<00:00, 33.56it/s, v_num=6n2q, train_loss_step=1.200, val_loss=1.310, val_acc=0.352, val_cohen_kappa=0.0998, train_loss_epoch=1.200]\n",
      "Validation: |          | 0/? [00:00<?, ?it/s]\u001b[A\n",
      "Validation:   0%|          | 0/14 [00:00<?, ?it/s]\u001b[A\n",
      "Validation DataLoader 0:   0%|          | 0/14 [00:00<?, ?it/s]\u001b[A\n",
      "Validation DataLoader 0:   7%|▋         | 1/14 [00:00<00:00, 101.23it/s]\u001b[A\n",
      "Validation DataLoader 0:  14%|█▍        | 2/14 [00:00<00:00, 100.24it/s]\u001b[A\n",
      "Validation DataLoader 0:  21%|██▏       | 3/14 [00:00<00:00, 85.25it/s] \u001b[A\n",
      "Validation DataLoader 0:  29%|██▊       | 4/14 [00:00<00:00, 84.41it/s]\u001b[A\n",
      "Validation DataLoader 0:  36%|███▌      | 5/14 [00:00<00:00, 60.53it/s]\u001b[A\n",
      "Validation DataLoader 0:  43%|████▎     | 6/14 [00:00<00:00, 65.72it/s]\u001b[A\n",
      "Validation DataLoader 0:  50%|█████     | 7/14 [00:00<00:00, 66.37it/s]\u001b[A\n",
      "Validation DataLoader 0:  57%|█████▋    | 8/14 [00:00<00:00, 69.41it/s]\u001b[A\n",
      "Validation DataLoader 0:  64%|██████▍   | 9/14 [00:00<00:00, 72.21it/s]\u001b[A\n",
      "Validation DataLoader 0:  71%|███████▏  | 10/14 [00:00<00:00, 74.17it/s]\u001b[A\n",
      "Validation DataLoader 0:  79%|███████▊  | 11/14 [00:00<00:00, 66.13it/s]\u001b[A\n",
      "Validation DataLoader 0:  86%|████████▌ | 12/14 [00:00<00:00, 62.18it/s]\u001b[A\n",
      "Validation DataLoader 0:  93%|█████████▎| 13/14 [00:00<00:00, 64.46it/s]\u001b[A\n",
      "Validation DataLoader 0: 100%|██████████| 14/14 [00:00<00:00, 66.62it/s]\u001b[A\n",
      "Epoch 12: 100%|██████████| 101/101 [00:02<00:00, 37.33it/s, v_num=6n2q, train_loss_step=1.050, val_loss=1.270, val_acc=0.302, val_cohen_kappa=0.139, train_loss_epoch=1.200] \n",
      "Validation: |          | 0/? [00:00<?, ?it/s]\u001b[A\n",
      "Validation:   0%|          | 0/14 [00:00<?, ?it/s]\u001b[A\n",
      "Validation DataLoader 0:   0%|          | 0/14 [00:00<?, ?it/s]\u001b[A\n",
      "Validation DataLoader 0:   7%|▋         | 1/14 [00:00<00:00, 28.88it/s]\u001b[A\n",
      "Validation DataLoader 0:  14%|█▍        | 2/14 [00:00<00:00, 24.56it/s]\u001b[A\n",
      "Validation DataLoader 0:  21%|██▏       | 3/14 [00:00<00:00, 25.01it/s]\u001b[A\n",
      "Validation DataLoader 0:  29%|██▊       | 4/14 [00:00<00:00, 25.96it/s]\u001b[A\n",
      "Validation DataLoader 0:  36%|███▌      | 5/14 [00:00<00:00, 26.59it/s]\u001b[A\n",
      "Validation DataLoader 0:  43%|████▎     | 6/14 [00:00<00:00, 26.76it/s]\u001b[A\n",
      "Validation DataLoader 0:  50%|█████     | 7/14 [00:00<00:00, 26.93it/s]\u001b[A\n",
      "Validation DataLoader 0:  57%|█████▋    | 8/14 [00:00<00:00, 27.06it/s]\u001b[A\n",
      "Validation DataLoader 0:  64%|██████▍   | 9/14 [00:00<00:00, 27.35it/s]\u001b[A\n",
      "Validation DataLoader 0:  71%|███████▏  | 10/14 [00:00<00:00, 27.58it/s]\u001b[A\n",
      "Validation DataLoader 0:  79%|███████▊  | 11/14 [00:00<00:00, 27.47it/s]\u001b[A\n",
      "Validation DataLoader 0:  86%|████████▌ | 12/14 [00:00<00:00, 27.51it/s]\u001b[A\n",
      "Validation DataLoader 0:  93%|█████████▎| 13/14 [00:00<00:00, 27.68it/s]\u001b[A\n",
      "Validation DataLoader 0: 100%|██████████| 14/14 [00:00<00:00, 27.82it/s]\u001b[A\n",
      "Epoch 13: 100%|██████████| 101/101 [00:03<00:00, 33.49it/s, v_num=6n2q, train_loss_step=1.240, val_loss=1.300, val_acc=0.322, val_cohen_kappa=0.126, train_loss_epoch=1.170]\n",
      "Validation: |          | 0/? [00:00<?, ?it/s]\u001b[A\n",
      "Validation:   0%|          | 0/14 [00:00<?, ?it/s]\u001b[A\n",
      "Validation DataLoader 0:   0%|          | 0/14 [00:00<?, ?it/s]\u001b[A\n",
      "Validation DataLoader 0:   7%|▋         | 1/14 [00:00<00:00, 29.23it/s]\u001b[A\n",
      "Validation DataLoader 0:  14%|█▍        | 2/14 [00:00<00:00, 27.75it/s]\u001b[A\n",
      "Validation DataLoader 0:  21%|██▏       | 3/14 [00:00<00:00, 28.32it/s]\u001b[A\n",
      "Validation DataLoader 0:  29%|██▊       | 4/14 [00:00<00:00, 26.54it/s]\u001b[A\n",
      "Validation DataLoader 0:  36%|███▌      | 5/14 [00:00<00:00, 27.10it/s]\u001b[A\n",
      "Validation DataLoader 0:  43%|████▎     | 6/14 [00:00<00:00, 27.47it/s]\u001b[A\n",
      "Validation DataLoader 0:  50%|█████     | 7/14 [00:00<00:00, 27.49it/s]\u001b[A\n",
      "Validation DataLoader 0:  57%|█████▋    | 8/14 [00:00<00:00, 26.92it/s]\u001b[A\n",
      "Validation DataLoader 0:  64%|██████▍   | 9/14 [00:00<00:00, 27.00it/s]\u001b[A\n",
      "Validation DataLoader 0:  71%|███████▏  | 10/14 [00:00<00:00, 27.21it/s]\u001b[A\n",
      "Validation DataLoader 0:  79%|███████▊  | 11/14 [00:00<00:00, 27.38it/s]\u001b[A\n",
      "Validation DataLoader 0:  86%|████████▌ | 12/14 [00:00<00:00, 27.53it/s]\u001b[A\n",
      "Validation DataLoader 0:  93%|█████████▎| 13/14 [00:00<00:00, 27.42it/s]\u001b[A\n",
      "Validation DataLoader 0: 100%|██████████| 14/14 [00:00<00:00, 27.45it/s]\u001b[A\n",
      "Epoch 13: 100%|██████████| 101/101 [00:04<00:00, 23.20it/s, v_num=6n2q, train_loss_step=1.240, val_loss=1.370, val_acc=0.356, val_cohen_kappa=0.136, train_loss_epoch=1.170]"
     ]
    },
    {
     "name": "stderr",
     "output_type": "stream",
     "text": [
      "Monitored metric val_loss did not improve in the last 4 records. Best score: 1.205. Signaling Trainer to stop.\n"
     ]
    },
    {
     "name": "stdout",
     "output_type": "stream",
     "text": [
      "Epoch 13: 100%|██████████| 101/101 [00:04<00:00, 23.16it/s, v_num=6n2q, train_loss_step=1.240, val_loss=1.370, val_acc=0.356, val_cohen_kappa=0.136, train_loss_epoch=1.170]\n",
      "Best model path: /scratch/npr264/BioDeepL/project/moved_from_home/checkpoints/1/best-checkpoint-v18.ckpt\n"
     ]
    },
    {
     "name": "stderr",
     "output_type": "stream",
     "text": [
      "You are using the plain ModelCheckpoint callback. Consider using LitModelCheckpoint which with seamless uploading to Model registry.\n",
      "GPU available: True (cuda), used: True\n",
      "TPU available: False, using: 0 TPU cores\n",
      "HPU available: False, using: 0 HPUs\n",
      "LOCAL_RANK: 0 - CUDA_VISIBLE_DEVICES: [0]\n",
      "SLURM auto-requeueing enabled. Setting signal handlers.\n"
     ]
    },
    {
     "name": "stdout",
     "output_type": "stream",
     "text": [
      "Validation DataLoader 0: 100%|██████████| 14/14 [00:00<00:00, 28.39it/s]\n"
     ]
    },
    {
     "name": "stderr",
     "output_type": "stream",
     "text": [
      "\u001b[34m\u001b[1mwandb\u001b[0m: \u001b[32m\u001b[41mERROR\u001b[0m The nbformat package was not found. It is required to save notebook history.\n"
     ]
    },
    {
     "data": {
      "text/html": [],
      "text/plain": [
       "<IPython.core.display.HTML object>"
      ]
     },
     "metadata": {},
     "output_type": "display_data"
    },
    {
     "data": {
      "text/html": [
       "<br>    <style><br>        .wandb-row {<br>            display: flex;<br>            flex-direction: row;<br>            flex-wrap: wrap;<br>            justify-content: flex-start;<br>            width: 100%;<br>        }<br>        .wandb-col {<br>            display: flex;<br>            flex-direction: column;<br>            flex-basis: 100%;<br>            flex: 1;<br>            padding: 10px;<br>        }<br>    </style><br><div class=\"wandb-row\"><div class=\"wandb-col\"><h3>Run history:</h3><br/><table class=\"wandb\"><tr><td>best_val_loss</td><td>▁</td></tr><tr><td>epoch</td><td>▁▁▁▁▂▂▂▂▃▃▃▃▃▃▃▄▄▄▄▄▅▅▅▅▅▆▆▆▆▆▆▆▇▇▇█████</td></tr><tr><td>train_loss_epoch</td><td>█▇▆▆▅▅▄▃▃▃▂▂▁▁</td></tr><tr><td>train_loss_step</td><td>▅█▅▅▄▅▄▆▄▄▇▅▄▄▄▄▄▆▄▂▂▅▆▄▆▃▄▇▃▅▃▃▁▄▄▅▁▃▄▃</td></tr><tr><td>trainer/global_step</td><td>▁▁▁▁▁▂▂▂▂▂▂▃▃▃▃▃▄▄▄▄▅▅▅▅▅▆▆▆▆▆▇▇▇▇▇▇▇▇██</td></tr><tr><td>val_acc</td><td>▃▁▆▅▂█▄▅▄▅▅▄▅▅</td></tr><tr><td>val_cohen_kappa</td><td>▃▁▅▅▄█▄▆▆▆▅▆▆▆</td></tr><tr><td>val_loss</td><td>▆█▇▄▃▃▇▃▅▁▅▃▄▇</td></tr></table><br/></div><div class=\"wandb-col\"><h3>Run summary:</h3><br/><table class=\"wandb\"><tr><td>best_val_loss</td><td>1.20474</td></tr><tr><td>epoch</td><td>13</td></tr><tr><td>train_loss_epoch</td><td>1.17135</td></tr><tr><td>train_loss_step</td><td>1.23624</td></tr><tr><td>trainer/global_step</td><td>1413</td></tr><tr><td>val_acc</td><td>0.35607</td></tr><tr><td>val_cohen_kappa</td><td>0.13635</td></tr><tr><td>val_loss</td><td>1.36989</td></tr></table><br/></div></div>"
      ],
      "text/plain": [
       "<IPython.core.display.HTML object>"
      ]
     },
     "metadata": {},
     "output_type": "display_data"
    },
    {
     "data": {
      "text/html": [
       " View run <strong style=\"color:#cdcd00\">prernn8_rnn64_hidden16lr0.0061881005468469785_batchsize2dropoutembed0.1531129606029485_dropoutRNN0.10524505272478693_dropouthidden20.2503727012088883</strong> at: <a href='https://wandb.ai/npr264-new-york-university/Baseline/runs/5iqi6n2q' target=\"_blank\">https://wandb.ai/npr264-new-york-university/Baseline/runs/5iqi6n2q</a><br> View project at: <a href='https://wandb.ai/npr264-new-york-university/Baseline' target=\"_blank\">https://wandb.ai/npr264-new-york-university/Baseline</a><br>Synced 5 W&B file(s), 0 media file(s), 0 artifact file(s) and 0 other file(s)"
      ],
      "text/plain": [
       "<IPython.core.display.HTML object>"
      ]
     },
     "metadata": {},
     "output_type": "display_data"
    },
    {
     "data": {
      "text/html": [
       "Find logs at: <code>./wandb/run-20250429_232801-5iqi6n2q/logs</code>"
      ],
      "text/plain": [
       "<IPython.core.display.HTML object>"
      ]
     },
     "metadata": {},
     "output_type": "display_data"
    },
    {
     "name": "stderr",
     "output_type": "stream",
     "text": [
      "[I 2025-04-29 23:29:01,947] Trial 1 finished with value: 1.2047420740127563 and parameters: {'dropout_embed': 0.1531129606029485, 'dropout_rnn': 0.10524505272478693, 'dropout_hidden2': 0.2503727012088883, 'pre_rnn_embedding_size': 8, 'rnn_hidden_size': 64, 'hidden_size2': 16, 'learning_rate': 0.0061881005468469785, 'batch_size': 2}. Best is trial 1 with value: 1.2047420740127563.\n",
      "/state/partition1/job-59918280/ipykernel_522356/1335623980.py:23: FutureWarning: suggest_loguniform has been deprecated in v3.0.0. This feature will be removed in v6.0.0. See https://github.com/optuna/optuna/releases/tag/v3.0.0. Use suggest_float(..., log=True) instead.\n",
      "  learning_rate = trial.suggest_loguniform(\"learning_rate\", 1e-5, 1e-2)\n",
      "GPU available: True (cuda), used: True\n",
      "TPU available: False, using: 0 TPU cores\n",
      "HPU available: False, using: 0 HPUs\n"
     ]
    },
    {
     "data": {
      "text/html": [
       "Tracking run with wandb version 0.19.9"
      ],
      "text/plain": [
       "<IPython.core.display.HTML object>"
      ]
     },
     "metadata": {},
     "output_type": "display_data"
    },
    {
     "data": {
      "text/html": [
       "Run data is saved locally in <code>./wandb/run-20250429_232902-mpi742gz</code>"
      ],
      "text/plain": [
       "<IPython.core.display.HTML object>"
      ]
     },
     "metadata": {},
     "output_type": "display_data"
    },
    {
     "data": {
      "text/html": [
       "Syncing run <strong><a href='https://wandb.ai/npr264-new-york-university/Baseline/runs/mpi742gz' target=\"_blank\">prernn4_rnn256_hidden8lr0.003459727590680866_batchsize8dropoutembed0.4713909169022096_dropoutRNN0.5492459164841409_dropouthidden20.44131685061204995</a></strong> to <a href='https://wandb.ai/npr264-new-york-university/Baseline' target=\"_blank\">Weights & Biases</a> (<a href='https://wandb.me/developer-guide' target=\"_blank\">docs</a>)<br>"
      ],
      "text/plain": [
       "<IPython.core.display.HTML object>"
      ]
     },
     "metadata": {},
     "output_type": "display_data"
    },
    {
     "data": {
      "text/html": [
       " View project at <a href='https://wandb.ai/npr264-new-york-university/Baseline' target=\"_blank\">https://wandb.ai/npr264-new-york-university/Baseline</a>"
      ],
      "text/plain": [
       "<IPython.core.display.HTML object>"
      ]
     },
     "metadata": {},
     "output_type": "display_data"
    },
    {
     "data": {
      "text/html": [
       " View run at <a href='https://wandb.ai/npr264-new-york-university/Baseline/runs/mpi742gz' target=\"_blank\">https://wandb.ai/npr264-new-york-university/Baseline/runs/mpi742gz</a>"
      ],
      "text/plain": [
       "<IPython.core.display.HTML object>"
      ]
     },
     "metadata": {},
     "output_type": "display_data"
    },
    {
     "name": "stderr",
     "output_type": "stream",
     "text": [
      "/ext3/miniforge3/lib/python3.12/site-packages/pytorch_lightning/callbacks/model_checkpoint.py:654: Checkpoint directory /scratch/npr264/BioDeepL/project/moved_from_home/checkpoints/2 exists and is not empty.\n",
      "LOCAL_RANK: 0 - CUDA_VISIBLE_DEVICES: [0]\n",
      "/ext3/miniforge3/lib/python3.12/site-packages/torch/optim/lr_scheduler.py:62: UserWarning: The verbose parameter is deprecated. Please use get_last_lr() to access the learning rate.\n",
      "  warnings.warn(\n",
      "\n",
      "  | Name            | Type                 | Params | Mode \n",
      "-----------------------------------------------------------------\n",
      "0 | embeddingLayer  | Linear               | 24     | train\n",
      "1 | dropout_embed   | Dropout              | 0      | train\n",
      "2 | dropout_hidden2 | Dropout              | 0      | train\n",
      "3 | rnn             | LSTM                 | 2.1 M  | train\n",
      "4 | hidden2         | Linear               | 4.1 K  | train\n",
      "5 | classifier      | Linear               | 36     | train\n",
      "6 | train_criterion | CrossEntropyLoss     | 0      | train\n",
      "7 | val_criterion   | CrossEntropyLoss     | 0      | train\n",
      "8 | kappa           | MulticlassCohenKappa | 0      | train\n",
      "-----------------------------------------------------------------\n",
      "2.1 M     Trainable params\n",
      "0         Non-trainable params\n",
      "2.1 M     Total params\n",
      "8.495     Total estimated model params size (MB)\n",
      "9         Modules in train mode\n",
      "0         Modules in eval mode\n",
      "SLURM auto-requeueing enabled. Setting signal handlers.\n"
     ]
    },
    {
     "name": "stdout",
     "output_type": "stream",
     "text": [
      "Epoch 0: 100%|██████████| 26/26 [00:04<00:00,  6.34it/s, v_num=42gz, train_loss_step=1.310]\n",
      "Validation: |          | 0/? [00:00<?, ?it/s]\u001b[A\n",
      "Validation:   0%|          | 0/4 [00:00<?, ?it/s]\u001b[A\n",
      "Validation DataLoader 0:   0%|          | 0/4 [00:00<?, ?it/s]\u001b[A\n",
      "Validation DataLoader 0:  25%|██▌       | 1/4 [00:00<00:00, 10.34it/s]\u001b[A\n",
      "Validation DataLoader 0:  50%|█████     | 2/4 [00:00<00:00, 10.28it/s]\u001b[A\n",
      "Validation DataLoader 0:  75%|███████▌  | 3/4 [00:00<00:00, 10.28it/s]\u001b[A\n",
      "Validation DataLoader 0: 100%|██████████| 4/4 [00:00<00:00,  9.29it/s]\u001b[A\n",
      "Epoch 0: 100%|██████████| 26/26 [00:05<00:00,  4.90it/s, v_num=42gz, train_loss_step=1.310, val_loss=1.420, val_acc=0.547, val_cohen_kappa=0.189, train_loss_epoch=1.380]"
     ]
    },
    {
     "name": "stderr",
     "output_type": "stream",
     "text": [
      "Metric val_loss improved. New best score: 1.424\n"
     ]
    },
    {
     "name": "stdout",
     "output_type": "stream",
     "text": [
      "Epoch 1: 100%|██████████| 26/26 [00:05<00:00,  5.08it/s, v_num=42gz, train_loss_step=1.400, val_loss=1.420, val_acc=0.547, val_cohen_kappa=0.189, train_loss_epoch=1.380]\n",
      "Validation: |          | 0/? [00:00<?, ?it/s]\u001b[A\n",
      "Validation:   0%|          | 0/4 [00:00<?, ?it/s]\u001b[A\n",
      "Validation DataLoader 0:   0%|          | 0/4 [00:00<?, ?it/s]\u001b[A\n",
      "Validation DataLoader 0:  25%|██▌       | 1/4 [00:00<00:00, 15.88it/s]\u001b[A\n",
      "Validation DataLoader 0:  50%|█████     | 2/4 [00:00<00:00, 19.12it/s]\u001b[A\n",
      "Validation DataLoader 0:  75%|███████▌  | 3/4 [00:00<00:00, 16.58it/s]\u001b[A\n",
      "Validation DataLoader 0: 100%|██████████| 4/4 [00:00<00:00, 15.91it/s]\u001b[A\n",
      "Epoch 1: 100%|██████████| 26/26 [00:06<00:00,  4.21it/s, v_num=42gz, train_loss_step=1.400, val_loss=1.320, val_acc=0.354, val_cohen_kappa=0.0715, train_loss_epoch=1.400]"
     ]
    },
    {
     "name": "stderr",
     "output_type": "stream",
     "text": [
      "Metric val_loss improved by 0.106 >= min_delta = 0.0. New best score: 1.318\n"
     ]
    },
    {
     "name": "stdout",
     "output_type": "stream",
     "text": [
      "Epoch 2: 100%|██████████| 26/26 [00:04<00:00,  5.32it/s, v_num=42gz, train_loss_step=1.220, val_loss=1.320, val_acc=0.354, val_cohen_kappa=0.0715, train_loss_epoch=1.400]\n",
      "Validation: |          | 0/? [00:00<?, ?it/s]\u001b[A\n",
      "Validation:   0%|          | 0/4 [00:00<?, ?it/s]\u001b[A\n",
      "Validation DataLoader 0:   0%|          | 0/4 [00:00<?, ?it/s]\u001b[A\n",
      "Validation DataLoader 0:  25%|██▌       | 1/4 [00:00<00:00, 10.27it/s]\u001b[A\n",
      "Validation DataLoader 0:  50%|█████     | 2/4 [00:00<00:00, 10.10it/s]\u001b[A\n",
      "Validation DataLoader 0:  75%|███████▌  | 3/4 [00:00<00:00, 10.13it/s]\u001b[A\n",
      "Validation DataLoader 0: 100%|██████████| 4/4 [00:00<00:00,  9.40it/s]\u001b[A\n",
      "Epoch 2: 100%|██████████| 26/26 [00:06<00:00,  4.29it/s, v_num=42gz, train_loss_step=1.220, val_loss=1.280, val_acc=0.253, val_cohen_kappa=0.0867, train_loss_epoch=1.340]"
     ]
    },
    {
     "name": "stderr",
     "output_type": "stream",
     "text": [
      "Metric val_loss improved by 0.034 >= min_delta = 0.0. New best score: 1.285\n"
     ]
    },
    {
     "name": "stdout",
     "output_type": "stream",
     "text": [
      "Epoch 3: 100%|██████████| 26/26 [00:05<00:00,  5.08it/s, v_num=42gz, train_loss_step=1.320, val_loss=1.280, val_acc=0.253, val_cohen_kappa=0.0867, train_loss_epoch=1.340]\n",
      "Validation: |          | 0/? [00:00<?, ?it/s]\u001b[A\n",
      "Validation:   0%|          | 0/4 [00:00<?, ?it/s]\u001b[A\n",
      "Validation DataLoader 0:   0%|          | 0/4 [00:00<?, ?it/s]\u001b[A\n",
      "Validation DataLoader 0:  25%|██▌       | 1/4 [00:00<00:00, 11.02it/s]\u001b[A\n",
      "Validation DataLoader 0:  50%|█████     | 2/4 [00:00<00:00, 10.67it/s]\u001b[A\n",
      "Validation DataLoader 0:  75%|███████▌  | 3/4 [00:00<00:00, 10.95it/s]\u001b[A\n",
      "Validation DataLoader 0: 100%|██████████| 4/4 [00:00<00:00, 12.10it/s]\u001b[A\n",
      "Epoch 4: 100%|██████████| 26/26 [00:04<00:00,  5.83it/s, v_num=42gz, train_loss_step=1.360, val_loss=1.300, val_acc=0.379, val_cohen_kappa=0.112, train_loss_epoch=1.310] \n",
      "Validation: |          | 0/? [00:00<?, ?it/s]\u001b[A\n",
      "Validation:   0%|          | 0/4 [00:00<?, ?it/s]\u001b[A\n",
      "Validation DataLoader 0:   0%|          | 0/4 [00:00<?, ?it/s]\u001b[A\n",
      "Validation DataLoader 0:  25%|██▌       | 1/4 [00:00<00:00, 27.99it/s]\u001b[A\n",
      "Validation DataLoader 0:  50%|█████     | 2/4 [00:00<00:00, 25.99it/s]\u001b[A\n",
      "Validation DataLoader 0:  75%|███████▌  | 3/4 [00:00<00:00, 23.69it/s]\u001b[A\n",
      "Validation DataLoader 0: 100%|██████████| 4/4 [00:00<00:00, 21.88it/s]\u001b[A\n",
      "Epoch 5: 100%|██████████| 26/26 [00:04<00:00,  6.03it/s, v_num=42gz, train_loss_step=1.390, val_loss=1.340, val_acc=0.156, val_cohen_kappa=0.039, train_loss_epoch=1.330]\n",
      "Validation: |          | 0/? [00:00<?, ?it/s]\u001b[A\n",
      "Validation:   0%|          | 0/4 [00:00<?, ?it/s]\u001b[A\n",
      "Validation DataLoader 0:   0%|          | 0/4 [00:00<?, ?it/s]\u001b[A\n",
      "Validation DataLoader 0:  25%|██▌       | 1/4 [00:00<00:00, 10.85it/s]\u001b[A\n",
      "Validation DataLoader 0:  50%|█████     | 2/4 [00:00<00:00, 10.34it/s]\u001b[A\n",
      "Validation DataLoader 0:  75%|███████▌  | 3/4 [00:00<00:00, 10.50it/s]\u001b[A\n",
      "Validation DataLoader 0: 100%|██████████| 4/4 [00:00<00:00, 10.28it/s]\u001b[A\n",
      "Epoch 6: 100%|██████████| 26/26 [00:04<00:00,  5.28it/s, v_num=42gz, train_loss_step=1.290, val_loss=1.320, val_acc=0.507, val_cohen_kappa=0.177, train_loss_epoch=1.360]\n",
      "Validation: |          | 0/? [00:00<?, ?it/s]\u001b[A\n",
      "Validation:   0%|          | 0/4 [00:00<?, ?it/s]\u001b[A\n",
      "Validation DataLoader 0:   0%|          | 0/4 [00:00<?, ?it/s]\u001b[A\n",
      "Validation DataLoader 0:  25%|██▌       | 1/4 [00:00<00:00, 27.51it/s]\u001b[A\n",
      "Validation DataLoader 0:  50%|█████     | 2/4 [00:00<00:00, 16.20it/s]\u001b[A\n",
      "Validation DataLoader 0:  75%|███████▌  | 3/4 [00:00<00:00, 14.75it/s]\u001b[A\n",
      "Validation DataLoader 0: 100%|██████████| 4/4 [00:00<00:00, 15.35it/s]\u001b[A\n",
      "Epoch 6: 100%|██████████| 26/26 [00:06<00:00,  4.33it/s, v_num=42gz, train_loss_step=1.290, val_loss=1.270, val_acc=0.306, val_cohen_kappa=0.125, train_loss_epoch=1.340]"
     ]
    },
    {
     "name": "stderr",
     "output_type": "stream",
     "text": [
      "Metric val_loss improved by 0.016 >= min_delta = 0.0. New best score: 1.268\n"
     ]
    },
    {
     "name": "stdout",
     "output_type": "stream",
     "text": [
      "Epoch 7: 100%|██████████| 26/26 [00:04<00:00,  5.35it/s, v_num=42gz, train_loss_step=1.150, val_loss=1.270, val_acc=0.306, val_cohen_kappa=0.125, train_loss_epoch=1.340]\n",
      "Validation: |          | 0/? [00:00<?, ?it/s]\u001b[A\n",
      "Validation:   0%|          | 0/4 [00:00<?, ?it/s]\u001b[A\n",
      "Validation DataLoader 0:   0%|          | 0/4 [00:00<?, ?it/s]\u001b[A\n",
      "Validation DataLoader 0:  25%|██▌       | 1/4 [00:00<00:00, 11.04it/s]\u001b[A\n",
      "Validation DataLoader 0:  50%|█████     | 2/4 [00:00<00:00, 10.72it/s]\u001b[A\n",
      "Validation DataLoader 0:  75%|███████▌  | 3/4 [00:00<00:00, 11.05it/s]\u001b[A\n",
      "Validation DataLoader 0: 100%|██████████| 4/4 [00:00<00:00,  9.88it/s]\u001b[A\n",
      "Epoch 7: 100%|██████████| 26/26 [00:06<00:00,  4.29it/s, v_num=42gz, train_loss_step=1.150, val_loss=1.220, val_acc=0.234, val_cohen_kappa=0.101, train_loss_epoch=1.310]"
     ]
    },
    {
     "name": "stderr",
     "output_type": "stream",
     "text": [
      "Metric val_loss improved by 0.046 >= min_delta = 0.0. New best score: 1.223\n"
     ]
    },
    {
     "name": "stdout",
     "output_type": "stream",
     "text": [
      "Epoch 8: 100%|██████████| 26/26 [00:04<00:00,  5.47it/s, v_num=42gz, train_loss_step=1.330, val_loss=1.220, val_acc=0.234, val_cohen_kappa=0.101, train_loss_epoch=1.310]\n",
      "Validation: |          | 0/? [00:00<?, ?it/s]\u001b[A\n",
      "Validation:   0%|          | 0/4 [00:00<?, ?it/s]\u001b[A\n",
      "Validation DataLoader 0:   0%|          | 0/4 [00:00<?, ?it/s]\u001b[A\n",
      "Validation DataLoader 0:  25%|██▌       | 1/4 [00:00<00:00, 15.91it/s]\u001b[A\n",
      "Validation DataLoader 0:  50%|█████     | 2/4 [00:00<00:00, 18.93it/s]\u001b[A\n",
      "Validation DataLoader 0:  75%|███████▌  | 3/4 [00:00<00:00, 14.64it/s]\u001b[A\n",
      "Validation DataLoader 0: 100%|██████████| 4/4 [00:00<00:00, 14.31it/s]\u001b[A\n",
      "Epoch 9: 100%|██████████| 26/26 [00:04<00:00,  5.21it/s, v_num=42gz, train_loss_step=1.380, val_loss=1.250, val_acc=0.294, val_cohen_kappa=0.107, train_loss_epoch=1.290]\n",
      "Validation: |          | 0/? [00:00<?, ?it/s]\u001b[A\n",
      "Validation:   0%|          | 0/4 [00:00<?, ?it/s]\u001b[A\n",
      "Validation DataLoader 0:   0%|          | 0/4 [00:00<?, ?it/s]\u001b[A\n",
      "Validation DataLoader 0:  25%|██▌       | 1/4 [00:00<00:00, 11.61it/s]\u001b[A\n",
      "Validation DataLoader 0:  50%|█████     | 2/4 [00:00<00:00, 10.86it/s]\u001b[A\n",
      "Validation DataLoader 0:  75%|███████▌  | 3/4 [00:00<00:00, 10.51it/s]\u001b[A\n",
      "Validation DataLoader 0: 100%|██████████| 4/4 [00:00<00:00,  9.52it/s]\u001b[A\n",
      "Epoch 10: 100%|██████████| 26/26 [00:04<00:00,  5.60it/s, v_num=42gz, train_loss_step=1.130, val_loss=1.240, val_acc=0.242, val_cohen_kappa=0.126, train_loss_epoch=1.290]\n",
      "Validation: |          | 0/? [00:00<?, ?it/s]\u001b[A\n",
      "Validation:   0%|          | 0/4 [00:00<?, ?it/s]\u001b[A\n",
      "Validation DataLoader 0:   0%|          | 0/4 [00:00<?, ?it/s]\u001b[A\n",
      "Validation DataLoader 0:  25%|██▌       | 1/4 [00:00<00:00, 10.93it/s]\u001b[A\n",
      "Validation DataLoader 0:  50%|█████     | 2/4 [00:00<00:00, 13.59it/s]\u001b[A\n",
      "Validation DataLoader 0:  75%|███████▌  | 3/4 [00:00<00:00, 12.73it/s]\u001b[A\n",
      "Validation DataLoader 0: 100%|██████████| 4/4 [00:00<00:00, 10.95it/s]\u001b[A\n",
      "Epoch 11: 100%|██████████| 26/26 [00:04<00:00,  5.30it/s, v_num=42gz, train_loss_step=1.280, val_loss=1.240, val_acc=0.243, val_cohen_kappa=0.116, train_loss_epoch=1.250]\n",
      "Validation: |          | 0/? [00:00<?, ?it/s]\u001b[A\n",
      "Validation:   0%|          | 0/4 [00:00<?, ?it/s]\u001b[A\n",
      "Validation DataLoader 0:   0%|          | 0/4 [00:00<?, ?it/s]\u001b[A\n",
      "Validation DataLoader 0:  25%|██▌       | 1/4 [00:00<00:00, 10.99it/s]\u001b[A\n",
      "Validation DataLoader 0:  50%|█████     | 2/4 [00:00<00:00, 11.83it/s]\u001b[A\n",
      "Validation DataLoader 0:  75%|███████▌  | 3/4 [00:00<00:00, 11.36it/s]\u001b[A\n",
      "Validation DataLoader 0: 100%|██████████| 4/4 [00:00<00:00, 10.21it/s]\u001b[A\n",
      "Epoch 11: 100%|██████████| 26/26 [00:06<00:00,  4.29it/s, v_num=42gz, train_loss_step=1.280, val_loss=1.330, val_acc=0.214, val_cohen_kappa=0.0925, train_loss_epoch=1.300]"
     ]
    },
    {
     "name": "stderr",
     "output_type": "stream",
     "text": [
      "Monitored metric val_loss did not improve in the last 4 records. Best score: 1.223. Signaling Trainer to stop.\n"
     ]
    },
    {
     "name": "stdout",
     "output_type": "stream",
     "text": [
      "Epoch 11: 100%|██████████| 26/26 [00:06<00:00,  4.29it/s, v_num=42gz, train_loss_step=1.280, val_loss=1.330, val_acc=0.214, val_cohen_kappa=0.0925, train_loss_epoch=1.300]\n",
      "Best model path: /scratch/npr264/BioDeepL/project/moved_from_home/checkpoints/2/best-checkpoint-v18.ckpt\n"
     ]
    },
    {
     "name": "stderr",
     "output_type": "stream",
     "text": [
      "You are using the plain ModelCheckpoint callback. Consider using LitModelCheckpoint which with seamless uploading to Model registry.\n",
      "GPU available: True (cuda), used: True\n",
      "TPU available: False, using: 0 TPU cores\n",
      "HPU available: False, using: 0 HPUs\n",
      "LOCAL_RANK: 0 - CUDA_VISIBLE_DEVICES: [0]\n",
      "SLURM auto-requeueing enabled. Setting signal handlers.\n"
     ]
    },
    {
     "name": "stdout",
     "output_type": "stream",
     "text": [
      "Validation DataLoader 0: 100%|██████████| 4/4 [00:00<00:00, 15.62it/s]\n"
     ]
    },
    {
     "name": "stderr",
     "output_type": "stream",
     "text": [
      "\u001b[34m\u001b[1mwandb\u001b[0m: \u001b[32m\u001b[41mERROR\u001b[0m The nbformat package was not found. It is required to save notebook history.\n"
     ]
    },
    {
     "data": {
      "text/html": [],
      "text/plain": [
       "<IPython.core.display.HTML object>"
      ]
     },
     "metadata": {},
     "output_type": "display_data"
    },
    {
     "data": {
      "text/html": [
       "<br>    <style><br>        .wandb-row {<br>            display: flex;<br>            flex-direction: row;<br>            flex-wrap: wrap;<br>            justify-content: flex-start;<br>            width: 100%;<br>        }<br>        .wandb-col {<br>            display: flex;<br>            flex-direction: column;<br>            flex-basis: 100%;<br>            flex: 1;<br>            padding: 10px;<br>        }<br>    </style><br><div class=\"wandb-row\"><div class=\"wandb-col\"><h3>Run history:</h3><br/><table class=\"wandb\"><tr><td>best_val_loss</td><td>▁</td></tr><tr><td>epoch</td><td>▁▁▁▁▂▂▂▂▂▂▂▂▂▃▃▃▄▄▄▄▄▅▅▅▅▅▆▆▆▆▇▇▇▇▇▇▇▇██</td></tr><tr><td>train_loss_epoch</td><td>▇█▅▄▅▆▅▄▃▃▁▃</td></tr><tr><td>train_loss_step</td><td>▆▅▅▅▆▅▅▄▄▅▄▅▄▄▄▅▅▅▅█▅▅▄▄▅▄▄▅▃▅▄▄▄▄▄▄▃▅▁▄</td></tr><tr><td>trainer/global_step</td><td>▁▁▂▂▂▃▃▃▃▃▄▄▄▄▄▄▄▄▅▅▅▅▅▅▆▆▆▆▆▆▆▇▇▇▇▇▇███</td></tr><tr><td>val_acc</td><td>█▅▃▅▁▇▄▂▃▃▃▂</td></tr><tr><td>val_cohen_kappa</td><td>█▃▃▄▁▇▅▄▄▅▅▃</td></tr><tr><td>val_loss</td><td>█▄▃▄▅▄▃▁▂▂▂▅</td></tr></table><br/></div><div class=\"wandb-col\"><h3>Run summary:</h3><br/><table class=\"wandb\"><tr><td>best_val_loss</td><td>1.22276</td></tr><tr><td>epoch</td><td>11</td></tr><tr><td>train_loss_epoch</td><td>1.3016</td></tr><tr><td>train_loss_step</td><td>1.27734</td></tr><tr><td>trainer/global_step</td><td>311</td></tr><tr><td>val_acc</td><td>0.21443</td></tr><tr><td>val_cohen_kappa</td><td>0.09248</td></tr><tr><td>val_loss</td><td>1.32563</td></tr></table><br/></div></div>"
      ],
      "text/plain": [
       "<IPython.core.display.HTML object>"
      ]
     },
     "metadata": {},
     "output_type": "display_data"
    },
    {
     "data": {
      "text/html": [
       " View run <strong style=\"color:#cdcd00\">prernn4_rnn256_hidden8lr0.003459727590680866_batchsize8dropoutembed0.4713909169022096_dropoutRNN0.5492459164841409_dropouthidden20.44131685061204995</strong> at: <a href='https://wandb.ai/npr264-new-york-university/Baseline/runs/mpi742gz' target=\"_blank\">https://wandb.ai/npr264-new-york-university/Baseline/runs/mpi742gz</a><br> View project at: <a href='https://wandb.ai/npr264-new-york-university/Baseline' target=\"_blank\">https://wandb.ai/npr264-new-york-university/Baseline</a><br>Synced 5 W&B file(s), 0 media file(s), 0 artifact file(s) and 0 other file(s)"
      ],
      "text/plain": [
       "<IPython.core.display.HTML object>"
      ]
     },
     "metadata": {},
     "output_type": "display_data"
    },
    {
     "data": {
      "text/html": [
       "Find logs at: <code>./wandb/run-20250429_232902-mpi742gz/logs</code>"
      ],
      "text/plain": [
       "<IPython.core.display.HTML object>"
      ]
     },
     "metadata": {},
     "output_type": "display_data"
    },
    {
     "name": "stderr",
     "output_type": "stream",
     "text": [
      "[I 2025-04-29 23:30:17,989] Trial 2 finished with value: 1.2227600812911987 and parameters: {'dropout_embed': 0.4713909169022096, 'dropout_rnn': 0.5492459164841409, 'dropout_hidden2': 0.44131685061204995, 'pre_rnn_embedding_size': 4, 'rnn_hidden_size': 256, 'hidden_size2': 8, 'learning_rate': 0.003459727590680866, 'batch_size': 8}. Best is trial 1 with value: 1.2047420740127563.\n",
      "/state/partition1/job-59918280/ipykernel_522356/1335623980.py:23: FutureWarning: suggest_loguniform has been deprecated in v3.0.0. This feature will be removed in v6.0.0. See https://github.com/optuna/optuna/releases/tag/v3.0.0. Use suggest_float(..., log=True) instead.\n",
      "  learning_rate = trial.suggest_loguniform(\"learning_rate\", 1e-5, 1e-2)\n",
      "GPU available: True (cuda), used: True\n",
      "TPU available: False, using: 0 TPU cores\n",
      "HPU available: False, using: 0 HPUs\n"
     ]
    },
    {
     "data": {
      "text/html": [
       "Tracking run with wandb version 0.19.9"
      ],
      "text/plain": [
       "<IPython.core.display.HTML object>"
      ]
     },
     "metadata": {},
     "output_type": "display_data"
    },
    {
     "data": {
      "text/html": [
       "Run data is saved locally in <code>./wandb/run-20250429_233018-1cwtj7ty</code>"
      ],
      "text/plain": [
       "<IPython.core.display.HTML object>"
      ]
     },
     "metadata": {},
     "output_type": "display_data"
    },
    {
     "data": {
      "text/html": [
       "Syncing run <strong><a href='https://wandb.ai/npr264-new-york-university/Baseline/runs/1cwtj7ty' target=\"_blank\">prernn32_rnn64_hidden32lr0.0007087919030556449_batchsize16dropoutembed0.5454003025906452_dropoutRNN0.2707725368577054_dropouthidden20.28329792326641134</a></strong> to <a href='https://wandb.ai/npr264-new-york-university/Baseline' target=\"_blank\">Weights & Biases</a> (<a href='https://wandb.me/developer-guide' target=\"_blank\">docs</a>)<br>"
      ],
      "text/plain": [
       "<IPython.core.display.HTML object>"
      ]
     },
     "metadata": {},
     "output_type": "display_data"
    },
    {
     "data": {
      "text/html": [
       " View project at <a href='https://wandb.ai/npr264-new-york-university/Baseline' target=\"_blank\">https://wandb.ai/npr264-new-york-university/Baseline</a>"
      ],
      "text/plain": [
       "<IPython.core.display.HTML object>"
      ]
     },
     "metadata": {},
     "output_type": "display_data"
    },
    {
     "data": {
      "text/html": [
       " View run at <a href='https://wandb.ai/npr264-new-york-university/Baseline/runs/1cwtj7ty' target=\"_blank\">https://wandb.ai/npr264-new-york-university/Baseline/runs/1cwtj7ty</a>"
      ],
      "text/plain": [
       "<IPython.core.display.HTML object>"
      ]
     },
     "metadata": {},
     "output_type": "display_data"
    },
    {
     "name": "stderr",
     "output_type": "stream",
     "text": [
      "/ext3/miniforge3/lib/python3.12/site-packages/pytorch_lightning/callbacks/model_checkpoint.py:654: Checkpoint directory /scratch/npr264/BioDeepL/project/moved_from_home/checkpoints/3 exists and is not empty.\n",
      "LOCAL_RANK: 0 - CUDA_VISIBLE_DEVICES: [0]\n",
      "/ext3/miniforge3/lib/python3.12/site-packages/torch/optim/lr_scheduler.py:62: UserWarning: The verbose parameter is deprecated. Please use get_last_lr() to access the learning rate.\n",
      "  warnings.warn(\n",
      "\n",
      "  | Name            | Type                 | Params | Mode \n",
      "-----------------------------------------------------------------\n",
      "0 | embeddingLayer  | Linear               | 192    | train\n",
      "1 | dropout_embed   | Dropout              | 0      | train\n",
      "2 | dropout_hidden2 | Dropout              | 0      | train\n",
      "3 | rnn             | LSTM                 | 151 K  | train\n",
      "4 | hidden2         | Linear               | 4.1 K  | train\n",
      "5 | classifier      | Linear               | 132    | train\n",
      "6 | train_criterion | CrossEntropyLoss     | 0      | train\n",
      "7 | val_criterion   | CrossEntropyLoss     | 0      | train\n",
      "8 | kappa           | MulticlassCohenKappa | 0      | train\n",
      "-----------------------------------------------------------------\n",
      "155 K     Trainable params\n",
      "0         Non-trainable params\n",
      "155 K     Total params\n",
      "0.622     Total estimated model params size (MB)\n",
      "9         Modules in train mode\n",
      "0         Modules in eval mode\n",
      "SLURM auto-requeueing enabled. Setting signal handlers.\n"
     ]
    },
    {
     "name": "stdout",
     "output_type": "stream",
     "text": [
      "Epoch 0: 100%|██████████| 13/13 [00:00<00:00, 26.06it/s, v_num=j7ty, train_loss_step=1.370]\n",
      "Validation: |          | 0/? [00:00<?, ?it/s]\u001b[A\n",
      "Validation:   0%|          | 0/2 [00:00<?, ?it/s]\u001b[A\n",
      "Validation DataLoader 0:   0%|          | 0/2 [00:00<?, ?it/s]\u001b[A\n",
      "Validation DataLoader 0:  50%|█████     | 1/2 [00:00<00:00, 27.43it/s]\u001b[A\n",
      "Validation DataLoader 0: 100%|██████████| 2/2 [00:00<00:00, 29.05it/s]\u001b[A\n",
      "Epoch 0: 100%|██████████| 13/13 [00:01<00:00,  9.97it/s, v_num=j7ty, train_loss_step=1.370, val_loss=1.350, val_acc=0.170, val_cohen_kappa=0.0545, train_loss_epoch=1.380]"
     ]
    },
    {
     "name": "stderr",
     "output_type": "stream",
     "text": [
      "Metric val_loss improved. New best score: 1.348\n"
     ]
    },
    {
     "name": "stdout",
     "output_type": "stream",
     "text": [
      "Epoch 1: 100%|██████████| 13/13 [00:01<00:00, 10.28it/s, v_num=j7ty, train_loss_step=1.340, val_loss=1.350, val_acc=0.170, val_cohen_kappa=0.0545, train_loss_epoch=1.380]\n",
      "Validation: |          | 0/? [00:00<?, ?it/s]\u001b[A\n",
      "Validation:   0%|          | 0/2 [00:00<?, ?it/s]\u001b[A\n",
      "Validation DataLoader 0:   0%|          | 0/2 [00:00<?, ?it/s]\u001b[A\n",
      "Validation DataLoader 0:  50%|█████     | 1/2 [00:00<00:00, 30.72it/s]\u001b[A\n",
      "Validation DataLoader 0: 100%|██████████| 2/2 [00:00<00:00, 26.12it/s]\u001b[A\n",
      "Epoch 1: 100%|██████████| 13/13 [00:02<00:00,  6.07it/s, v_num=j7ty, train_loss_step=1.340, val_loss=1.280, val_acc=0.223, val_cohen_kappa=0.0673, train_loss_epoch=1.330]"
     ]
    },
    {
     "name": "stderr",
     "output_type": "stream",
     "text": [
      "Metric val_loss improved by 0.063 >= min_delta = 0.0. New best score: 1.285\n"
     ]
    },
    {
     "name": "stdout",
     "output_type": "stream",
     "text": [
      "Epoch 2: 100%|██████████| 13/13 [00:01<00:00,  9.97it/s, v_num=j7ty, train_loss_step=1.330, val_loss=1.280, val_acc=0.223, val_cohen_kappa=0.0673, train_loss_epoch=1.330]\n",
      "Validation: |          | 0/? [00:00<?, ?it/s]\u001b[A\n",
      "Validation:   0%|          | 0/2 [00:00<?, ?it/s]\u001b[A\n",
      "Validation DataLoader 0:   0%|          | 0/2 [00:00<?, ?it/s]\u001b[A\n",
      "Validation DataLoader 0:  50%|█████     | 1/2 [00:00<00:00, 28.39it/s]\u001b[A\n",
      "Validation DataLoader 0: 100%|██████████| 2/2 [00:00<00:00, 33.56it/s]\u001b[A\n",
      "Epoch 3: 100%|██████████| 13/13 [00:01<00:00,  8.58it/s, v_num=j7ty, train_loss_step=1.240, val_loss=1.290, val_acc=0.253, val_cohen_kappa=0.0851, train_loss_epoch=1.270]\n",
      "Validation: |          | 0/? [00:00<?, ?it/s]\u001b[A\n",
      "Validation:   0%|          | 0/2 [00:00<?, ?it/s]\u001b[A\n",
      "Validation DataLoader 0:   0%|          | 0/2 [00:00<?, ?it/s]\u001b[A\n",
      "Validation DataLoader 0:  50%|█████     | 1/2 [00:00<00:00, 30.51it/s]\u001b[A\n",
      "Validation DataLoader 0: 100%|██████████| 2/2 [00:00<00:00, 37.38it/s]\u001b[A\n",
      "Epoch 3: 100%|██████████| 13/13 [00:02<00:00,  5.08it/s, v_num=j7ty, train_loss_step=1.240, val_loss=1.250, val_acc=0.259, val_cohen_kappa=0.0916, train_loss_epoch=1.250]"
     ]
    },
    {
     "name": "stderr",
     "output_type": "stream",
     "text": [
      "Metric val_loss improved by 0.036 >= min_delta = 0.0. New best score: 1.249\n"
     ]
    },
    {
     "name": "stdout",
     "output_type": "stream",
     "text": [
      "Epoch 4: 100%|██████████| 13/13 [00:01<00:00,  8.26it/s, v_num=j7ty, train_loss_step=1.220, val_loss=1.250, val_acc=0.259, val_cohen_kappa=0.0916, train_loss_epoch=1.250]\n",
      "Validation: |          | 0/? [00:00<?, ?it/s]\u001b[A\n",
      "Validation:   0%|          | 0/2 [00:00<?, ?it/s]\u001b[A\n",
      "Validation DataLoader 0:   0%|          | 0/2 [00:00<?, ?it/s]\u001b[A\n",
      "Validation DataLoader 0:  50%|█████     | 1/2 [00:00<00:00, 25.77it/s]\u001b[A\n",
      "Validation DataLoader 0: 100%|██████████| 2/2 [00:00<00:00, 29.19it/s]\u001b[A\n",
      "Epoch 5: 100%|██████████| 13/13 [00:01<00:00,  9.85it/s, v_num=j7ty, train_loss_step=1.210, val_loss=1.270, val_acc=0.261, val_cohen_kappa=0.0971, train_loss_epoch=1.240]\n",
      "Validation: |          | 0/? [00:00<?, ?it/s]\u001b[A\n",
      "Validation:   0%|          | 0/2 [00:00<?, ?it/s]\u001b[A\n",
      "Validation DataLoader 0:   0%|          | 0/2 [00:00<?, ?it/s]\u001b[A\n",
      "Validation DataLoader 0:  50%|█████     | 1/2 [00:00<00:00, 27.89it/s]\u001b[A\n",
      "Validation DataLoader 0: 100%|██████████| 2/2 [00:00<00:00, 24.82it/s]\u001b[A\n",
      "Epoch 6: 100%|██████████| 13/13 [00:01<00:00, 10.08it/s, v_num=j7ty, train_loss_step=1.240, val_loss=1.290, val_acc=0.300, val_cohen_kappa=0.105, train_loss_epoch=1.230] \n",
      "Validation: |          | 0/? [00:00<?, ?it/s]\u001b[A\n",
      "Validation:   0%|          | 0/2 [00:00<?, ?it/s]\u001b[A\n",
      "Validation DataLoader 0:   0%|          | 0/2 [00:00<?, ?it/s]\u001b[A\n",
      "Validation DataLoader 0:  50%|█████     | 1/2 [00:00<00:00, 28.65it/s]\u001b[A\n",
      "Validation DataLoader 0: 100%|██████████| 2/2 [00:00<00:00, 25.10it/s]\u001b[A\n",
      "Epoch 7: 100%|██████████| 13/13 [00:01<00:00,  9.27it/s, v_num=j7ty, train_loss_step=1.270, val_loss=1.260, val_acc=0.277, val_cohen_kappa=0.104, train_loss_epoch=1.220]\n",
      "Validation: |          | 0/? [00:00<?, ?it/s]\u001b[A\n",
      "Validation:   0%|          | 0/2 [00:00<?, ?it/s]\u001b[A\n",
      "Validation DataLoader 0:   0%|          | 0/2 [00:00<?, ?it/s]\u001b[A\n",
      "Validation DataLoader 0:  50%|█████     | 1/2 [00:00<00:00, 89.86it/s]\u001b[A\n",
      "Validation DataLoader 0: 100%|██████████| 2/2 [00:00<00:00, 62.44it/s]\u001b[A\n",
      "Epoch 7: 100%|██████████| 13/13 [00:02<00:00,  5.48it/s, v_num=j7ty, train_loss_step=1.270, val_loss=1.290, val_acc=0.352, val_cohen_kappa=0.106, train_loss_epoch=1.210]"
     ]
    },
    {
     "name": "stderr",
     "output_type": "stream",
     "text": [
      "Monitored metric val_loss did not improve in the last 4 records. Best score: 1.249. Signaling Trainer to stop.\n"
     ]
    },
    {
     "name": "stdout",
     "output_type": "stream",
     "text": [
      "Epoch 7: 100%|██████████| 13/13 [00:02<00:00,  5.43it/s, v_num=j7ty, train_loss_step=1.270, val_loss=1.290, val_acc=0.352, val_cohen_kappa=0.106, train_loss_epoch=1.210]\n"
     ]
    },
    {
     "name": "stderr",
     "output_type": "stream",
     "text": [
      "You are using the plain ModelCheckpoint callback. Consider using LitModelCheckpoint which with seamless uploading to Model registry.\n",
      "GPU available: True (cuda), used: True\n",
      "TPU available: False, using: 0 TPU cores\n",
      "HPU available: False, using: 0 HPUs\n",
      "LOCAL_RANK: 0 - CUDA_VISIBLE_DEVICES: [0]\n",
      "SLURM auto-requeueing enabled. Setting signal handlers.\n"
     ]
    },
    {
     "name": "stdout",
     "output_type": "stream",
     "text": [
      "Best model path: /scratch/npr264/BioDeepL/project/moved_from_home/checkpoints/3/best-checkpoint-v18.ckpt\n",
      "Validation DataLoader 0: 100%|██████████| 2/2 [00:00<00:00, 30.12it/s]\n"
     ]
    },
    {
     "name": "stderr",
     "output_type": "stream",
     "text": [
      "\u001b[34m\u001b[1mwandb\u001b[0m: \u001b[32m\u001b[41mERROR\u001b[0m The nbformat package was not found. It is required to save notebook history.\n"
     ]
    },
    {
     "data": {
      "text/html": [],
      "text/plain": [
       "<IPython.core.display.HTML object>"
      ]
     },
     "metadata": {},
     "output_type": "display_data"
    },
    {
     "data": {
      "text/html": [
       "<br>    <style><br>        .wandb-row {<br>            display: flex;<br>            flex-direction: row;<br>            flex-wrap: wrap;<br>            justify-content: flex-start;<br>            width: 100%;<br>        }<br>        .wandb-col {<br>            display: flex;<br>            flex-direction: column;<br>            flex-basis: 100%;<br>            flex: 1;<br>            padding: 10px;<br>        }<br>    </style><br><div class=\"wandb-row\"><div class=\"wandb-col\"><h3>Run history:</h3><br/><table class=\"wandb\"><tr><td>best_val_loss</td><td>▁</td></tr><tr><td>epoch</td><td>▁▁▁▁▁▂▂▂▂▂▃▃▃▃▃▄▄▄▄▄▅▅▅▅▅▆▆▆▆▆▆▇▇▇▇█████</td></tr><tr><td>train_loss_epoch</td><td>█▆▄▃▂▂▂▁</td></tr><tr><td>train_loss_step</td><td>██▇██▇▇▆▆▆▆▅▃▃▅▄▃▆▆▄▄▅▅▃▂▆▂▅▄▃▆▄▄▄▅▁▄▃▄▅</td></tr><tr><td>trainer/global_step</td><td>▁▁▁▂▂▂▂▂▂▃▃▃▃▃▄▄▄▄▄▄▄▅▅▅▅▆▆▆▆▆▆▇▇▇▇█████</td></tr><tr><td>val_acc</td><td>▁▃▄▄▅▆▅█</td></tr><tr><td>val_cohen_kappa</td><td>▁▃▅▆▇███</td></tr><tr><td>val_loss</td><td>█▄▄▁▃▄▂▄</td></tr></table><br/></div><div class=\"wandb-col\"><h3>Run summary:</h3><br/><table class=\"wandb\"><tr><td>best_val_loss</td><td>1.2487</td></tr><tr><td>epoch</td><td>7</td></tr><tr><td>train_loss_epoch</td><td>1.20704</td></tr><tr><td>train_loss_step</td><td>1.27098</td></tr><tr><td>trainer/global_step</td><td>103</td></tr><tr><td>val_acc</td><td>0.35196</td></tr><tr><td>val_cohen_kappa</td><td>0.10586</td></tr><tr><td>val_loss</td><td>1.28775</td></tr></table><br/></div></div>"
      ],
      "text/plain": [
       "<IPython.core.display.HTML object>"
      ]
     },
     "metadata": {},
     "output_type": "display_data"
    },
    {
     "data": {
      "text/html": [
       " View run <strong style=\"color:#cdcd00\">prernn32_rnn64_hidden32lr0.0007087919030556449_batchsize16dropoutembed0.5454003025906452_dropoutRNN0.2707725368577054_dropouthidden20.28329792326641134</strong> at: <a href='https://wandb.ai/npr264-new-york-university/Baseline/runs/1cwtj7ty' target=\"_blank\">https://wandb.ai/npr264-new-york-university/Baseline/runs/1cwtj7ty</a><br> View project at: <a href='https://wandb.ai/npr264-new-york-university/Baseline' target=\"_blank\">https://wandb.ai/npr264-new-york-university/Baseline</a><br>Synced 5 W&B file(s), 0 media file(s), 0 artifact file(s) and 0 other file(s)"
      ],
      "text/plain": [
       "<IPython.core.display.HTML object>"
      ]
     },
     "metadata": {},
     "output_type": "display_data"
    },
    {
     "data": {
      "text/html": [
       "Find logs at: <code>./wandb/run-20250429_233018-1cwtj7ty/logs</code>"
      ],
      "text/plain": [
       "<IPython.core.display.HTML object>"
      ]
     },
     "metadata": {},
     "output_type": "display_data"
    },
    {
     "name": "stderr",
     "output_type": "stream",
     "text": [
      "[I 2025-04-29 23:30:39,931] Trial 3 finished with value: 1.248695969581604 and parameters: {'dropout_embed': 0.5454003025906452, 'dropout_rnn': 0.2707725368577054, 'dropout_hidden2': 0.28329792326641134, 'pre_rnn_embedding_size': 32, 'rnn_hidden_size': 64, 'hidden_size2': 32, 'learning_rate': 0.0007087919030556449, 'batch_size': 16}. Best is trial 1 with value: 1.2047420740127563.\n",
      "/state/partition1/job-59918280/ipykernel_522356/1335623980.py:23: FutureWarning: suggest_loguniform has been deprecated in v3.0.0. This feature will be removed in v6.0.0. See https://github.com/optuna/optuna/releases/tag/v3.0.0. Use suggest_float(..., log=True) instead.\n",
      "  learning_rate = trial.suggest_loguniform(\"learning_rate\", 1e-5, 1e-2)\n",
      "GPU available: True (cuda), used: True\n",
      "TPU available: False, using: 0 TPU cores\n",
      "HPU available: False, using: 0 HPUs\n"
     ]
    },
    {
     "data": {
      "text/html": [
       "Tracking run with wandb version 0.19.9"
      ],
      "text/plain": [
       "<IPython.core.display.HTML object>"
      ]
     },
     "metadata": {},
     "output_type": "display_data"
    },
    {
     "data": {
      "text/html": [
       "Run data is saved locally in <code>./wandb/run-20250429_233039-pbtm6rpu</code>"
      ],
      "text/plain": [
       "<IPython.core.display.HTML object>"
      ]
     },
     "metadata": {},
     "output_type": "display_data"
    },
    {
     "data": {
      "text/html": [
       "Syncing run <strong><a href='https://wandb.ai/npr264-new-york-university/Baseline/runs/pbtm6rpu' target=\"_blank\">prernn8_rnn64_hidden4lr0.0011937773355246394_batchsize16dropoutembed0.4136319115567111_dropoutRNN0.3746949208092797_dropouthidden20.3613580497461789</a></strong> to <a href='https://wandb.ai/npr264-new-york-university/Baseline' target=\"_blank\">Weights & Biases</a> (<a href='https://wandb.me/developer-guide' target=\"_blank\">docs</a>)<br>"
      ],
      "text/plain": [
       "<IPython.core.display.HTML object>"
      ]
     },
     "metadata": {},
     "output_type": "display_data"
    },
    {
     "data": {
      "text/html": [
       " View project at <a href='https://wandb.ai/npr264-new-york-university/Baseline' target=\"_blank\">https://wandb.ai/npr264-new-york-university/Baseline</a>"
      ],
      "text/plain": [
       "<IPython.core.display.HTML object>"
      ]
     },
     "metadata": {},
     "output_type": "display_data"
    },
    {
     "data": {
      "text/html": [
       " View run at <a href='https://wandb.ai/npr264-new-york-university/Baseline/runs/pbtm6rpu' target=\"_blank\">https://wandb.ai/npr264-new-york-university/Baseline/runs/pbtm6rpu</a>"
      ],
      "text/plain": [
       "<IPython.core.display.HTML object>"
      ]
     },
     "metadata": {},
     "output_type": "display_data"
    },
    {
     "name": "stderr",
     "output_type": "stream",
     "text": [
      "/ext3/miniforge3/lib/python3.12/site-packages/pytorch_lightning/callbacks/model_checkpoint.py:654: Checkpoint directory /scratch/npr264/BioDeepL/project/moved_from_home/checkpoints/4 exists and is not empty.\n",
      "LOCAL_RANK: 0 - CUDA_VISIBLE_DEVICES: [0]\n",
      "/ext3/miniforge3/lib/python3.12/site-packages/torch/optim/lr_scheduler.py:62: UserWarning: The verbose parameter is deprecated. Please use get_last_lr() to access the learning rate.\n",
      "  warnings.warn(\n",
      "\n",
      "  | Name            | Type                 | Params | Mode \n",
      "-----------------------------------------------------------------\n",
      "0 | embeddingLayer  | Linear               | 48     | train\n",
      "1 | dropout_embed   | Dropout              | 0      | train\n",
      "2 | dropout_hidden2 | Dropout              | 0      | train\n",
      "3 | rnn             | LSTM                 | 138 K  | train\n",
      "4 | hidden2         | Linear               | 516    | train\n",
      "5 | classifier      | Linear               | 20     | train\n",
      "6 | train_criterion | CrossEntropyLoss     | 0      | train\n",
      "7 | val_criterion   | CrossEntropyLoss     | 0      | train\n",
      "8 | kappa           | MulticlassCohenKappa | 0      | train\n",
      "-----------------------------------------------------------------\n",
      "139 K     Trainable params\n",
      "0         Non-trainable params\n",
      "139 K     Total params\n",
      "0.557     Total estimated model params size (MB)\n",
      "9         Modules in train mode\n",
      "0         Modules in eval mode\n",
      "SLURM auto-requeueing enabled. Setting signal handlers.\n"
     ]
    },
    {
     "name": "stdout",
     "output_type": "stream",
     "text": [
      "Epoch 0: 100%|██████████| 13/13 [00:00<00:00, 24.34it/s, v_num=6rpu, train_loss_step=1.510]\n",
      "Validation: |          | 0/? [00:00<?, ?it/s]\u001b[A\n",
      "Validation:   0%|          | 0/2 [00:00<?, ?it/s]\u001b[A\n",
      "Validation DataLoader 0:   0%|          | 0/2 [00:00<?, ?it/s]\u001b[A\n",
      "Validation DataLoader 0:  50%|█████     | 1/2 [00:00<00:00, 45.31it/s]\u001b[A\n",
      "Validation DataLoader 0: 100%|██████████| 2/2 [00:00<00:00, 26.94it/s]\u001b[A\n",
      "Epoch 0: 100%|██████████| 13/13 [00:01<00:00,  9.33it/s, v_num=6rpu, train_loss_step=1.510, val_loss=1.450, val_acc=0.345, val_cohen_kappa=0.0384, train_loss_epoch=1.410]"
     ]
    },
    {
     "name": "stderr",
     "output_type": "stream",
     "text": [
      "Metric val_loss improved. New best score: 1.448\n"
     ]
    },
    {
     "name": "stdout",
     "output_type": "stream",
     "text": [
      "Epoch 1: 100%|██████████| 13/13 [00:01<00:00, 10.16it/s, v_num=6rpu, train_loss_step=1.280, val_loss=1.450, val_acc=0.345, val_cohen_kappa=0.0384, train_loss_epoch=1.410]\n",
      "Validation: |          | 0/? [00:00<?, ?it/s]\u001b[A\n",
      "Validation:   0%|          | 0/2 [00:00<?, ?it/s]\u001b[A\n",
      "Validation DataLoader 0:   0%|          | 0/2 [00:00<?, ?it/s]\u001b[A\n",
      "Validation DataLoader 0:  50%|█████     | 1/2 [00:00<00:00, 18.81it/s]\u001b[A\n",
      "Validation DataLoader 0: 100%|██████████| 2/2 [00:00<00:00, 27.25it/s]\u001b[A\n",
      "Epoch 1: 100%|██████████| 13/13 [00:02<00:00,  6.07it/s, v_num=6rpu, train_loss_step=1.280, val_loss=1.400, val_acc=0.296, val_cohen_kappa=0.0643, train_loss_epoch=1.380]"
     ]
    },
    {
     "name": "stderr",
     "output_type": "stream",
     "text": [
      "Metric val_loss improved by 0.052 >= min_delta = 0.0. New best score: 1.396\n"
     ]
    },
    {
     "name": "stdout",
     "output_type": "stream",
     "text": [
      "Epoch 2: 100%|██████████| 13/13 [00:01<00:00,  8.72it/s, v_num=6rpu, train_loss_step=1.360, val_loss=1.400, val_acc=0.296, val_cohen_kappa=0.0643, train_loss_epoch=1.380]\n",
      "Validation: |          | 0/? [00:00<?, ?it/s]\u001b[A\n",
      "Validation:   0%|          | 0/2 [00:00<?, ?it/s]\u001b[A\n",
      "Validation DataLoader 0:   0%|          | 0/2 [00:00<?, ?it/s]\u001b[A\n",
      "Validation DataLoader 0:  50%|█████     | 1/2 [00:00<00:00, 92.29it/s]\u001b[A\n",
      "Validation DataLoader 0: 100%|██████████| 2/2 [00:00<00:00, 49.15it/s]\u001b[A\n",
      "Epoch 2: 100%|██████████| 13/13 [00:02<00:00,  4.82it/s, v_num=6rpu, train_loss_step=1.360, val_loss=1.390, val_acc=0.362, val_cohen_kappa=0.0921, train_loss_epoch=1.360]"
     ]
    },
    {
     "name": "stderr",
     "output_type": "stream",
     "text": [
      "Metric val_loss improved by 0.011 >= min_delta = 0.0. New best score: 1.386\n"
     ]
    },
    {
     "name": "stdout",
     "output_type": "stream",
     "text": [
      "Epoch 3: 100%|██████████| 13/13 [00:01<00:00,  9.25it/s, v_num=6rpu, train_loss_step=1.420, val_loss=1.390, val_acc=0.362, val_cohen_kappa=0.0921, train_loss_epoch=1.360]\n",
      "Validation: |          | 0/? [00:00<?, ?it/s]\u001b[A\n",
      "Validation:   0%|          | 0/2 [00:00<?, ?it/s]\u001b[A\n",
      "Validation DataLoader 0:   0%|          | 0/2 [00:00<?, ?it/s]\u001b[A\n",
      "Validation DataLoader 0:  50%|█████     | 1/2 [00:00<00:00, 27.07it/s]\u001b[A\n",
      "Validation DataLoader 0: 100%|██████████| 2/2 [00:00<00:00, 24.79it/s]\u001b[A\n",
      "Epoch 3: 100%|██████████| 13/13 [00:02<00:00,  5.59it/s, v_num=6rpu, train_loss_step=1.420, val_loss=1.370, val_acc=0.355, val_cohen_kappa=0.127, train_loss_epoch=1.340] "
     ]
    },
    {
     "name": "stderr",
     "output_type": "stream",
     "text": [
      "Metric val_loss improved by 0.019 >= min_delta = 0.0. New best score: 1.366\n"
     ]
    },
    {
     "name": "stdout",
     "output_type": "stream",
     "text": [
      "Epoch 4: 100%|██████████| 13/13 [00:01<00:00,  9.90it/s, v_num=6rpu, train_loss_step=1.410, val_loss=1.370, val_acc=0.355, val_cohen_kappa=0.127, train_loss_epoch=1.340]\n",
      "Validation: |          | 0/? [00:00<?, ?it/s]\u001b[A\n",
      "Validation:   0%|          | 0/2 [00:00<?, ?it/s]\u001b[A\n",
      "Validation DataLoader 0:   0%|          | 0/2 [00:00<?, ?it/s]\u001b[A\n",
      "Validation DataLoader 0:  50%|█████     | 1/2 [00:00<00:00, 29.86it/s]\u001b[A\n",
      "Validation DataLoader 0: 100%|██████████| 2/2 [00:00<00:00, 24.54it/s]\u001b[A\n",
      "Epoch 4: 100%|██████████| 13/13 [00:02<00:00,  6.23it/s, v_num=6rpu, train_loss_step=1.410, val_loss=1.360, val_acc=0.280, val_cohen_kappa=0.0965, train_loss_epoch=1.330]"
     ]
    },
    {
     "name": "stderr",
     "output_type": "stream",
     "text": [
      "Metric val_loss improved by 0.008 >= min_delta = 0.0. New best score: 1.358\n"
     ]
    },
    {
     "name": "stdout",
     "output_type": "stream",
     "text": [
      "Epoch 5: 100%|██████████| 13/13 [00:01<00:00, 10.05it/s, v_num=6rpu, train_loss_step=1.340, val_loss=1.360, val_acc=0.280, val_cohen_kappa=0.0965, train_loss_epoch=1.330]\n",
      "Validation: |          | 0/? [00:00<?, ?it/s]\u001b[A\n",
      "Validation:   0%|          | 0/2 [00:00<?, ?it/s]\u001b[A\n",
      "Validation DataLoader 0:   0%|          | 0/2 [00:00<?, ?it/s]\u001b[A\n",
      "Validation DataLoader 0:  50%|█████     | 1/2 [00:00<00:00, 30.21it/s]\u001b[A\n",
      "Validation DataLoader 0: 100%|██████████| 2/2 [00:00<00:00, 36.21it/s]\u001b[A\n",
      "Epoch 5: 100%|██████████| 13/13 [00:02<00:00,  6.05it/s, v_num=6rpu, train_loss_step=1.340, val_loss=1.300, val_acc=0.277, val_cohen_kappa=0.0958, train_loss_epoch=1.310]"
     ]
    },
    {
     "name": "stderr",
     "output_type": "stream",
     "text": [
      "Metric val_loss improved by 0.054 >= min_delta = 0.0. New best score: 1.304\n"
     ]
    },
    {
     "name": "stdout",
     "output_type": "stream",
     "text": [
      "Epoch 6: 100%|██████████| 13/13 [00:01<00:00,  8.00it/s, v_num=6rpu, train_loss_step=1.210, val_loss=1.300, val_acc=0.277, val_cohen_kappa=0.0958, train_loss_epoch=1.310]\n",
      "Validation: |          | 0/? [00:00<?, ?it/s]\u001b[A\n",
      "Validation:   0%|          | 0/2 [00:00<?, ?it/s]\u001b[A\n",
      "Validation DataLoader 0:   0%|          | 0/2 [00:00<?, ?it/s]\u001b[A\n",
      "Validation DataLoader 0:  50%|█████     | 1/2 [00:00<00:00, 90.27it/s]\u001b[A\n",
      "Validation DataLoader 0: 100%|██████████| 2/2 [00:00<00:00, 59.82it/s]\u001b[A\n",
      "Epoch 7: 100%|██████████| 13/13 [00:01<00:00,  8.25it/s, v_num=6rpu, train_loss_step=1.400, val_loss=1.330, val_acc=0.248, val_cohen_kappa=0.0889, train_loss_epoch=1.300]\n",
      "Validation: |          | 0/? [00:00<?, ?it/s]\u001b[A\n",
      "Validation:   0%|          | 0/2 [00:00<?, ?it/s]\u001b[A\n",
      "Validation DataLoader 0:   0%|          | 0/2 [00:00<?, ?it/s]\u001b[A\n",
      "Validation DataLoader 0:  50%|█████     | 1/2 [00:00<00:00, 30.35it/s]\u001b[A\n",
      "Validation DataLoader 0: 100%|██████████| 2/2 [00:00<00:00, 23.90it/s]\u001b[A\n",
      "Epoch 8: 100%|██████████| 13/13 [00:01<00:00,  9.65it/s, v_num=6rpu, train_loss_step=1.320, val_loss=1.330, val_acc=0.269, val_cohen_kappa=0.0911, train_loss_epoch=1.310]\n",
      "Validation: |          | 0/? [00:00<?, ?it/s]\u001b[A\n",
      "Validation:   0%|          | 0/2 [00:00<?, ?it/s]\u001b[A\n",
      "Validation DataLoader 0:   0%|          | 0/2 [00:00<?, ?it/s]\u001b[A\n",
      "Validation DataLoader 0:  50%|█████     | 1/2 [00:00<00:00, 54.00it/s]\u001b[A\n",
      "Validation DataLoader 0: 100%|██████████| 2/2 [00:00<00:00, 28.02it/s]\u001b[A\n",
      "Epoch 8: 100%|██████████| 13/13 [00:02<00:00,  5.78it/s, v_num=6rpu, train_loss_step=1.320, val_loss=1.280, val_acc=0.280, val_cohen_kappa=0.103, train_loss_epoch=1.300] "
     ]
    },
    {
     "name": "stderr",
     "output_type": "stream",
     "text": [
      "Metric val_loss improved by 0.020 >= min_delta = 0.0. New best score: 1.284\n"
     ]
    },
    {
     "name": "stdout",
     "output_type": "stream",
     "text": [
      "Epoch 9: 100%|██████████| 13/13 [00:01<00:00, 10.27it/s, v_num=6rpu, train_loss_step=1.290, val_loss=1.280, val_acc=0.280, val_cohen_kappa=0.103, train_loss_epoch=1.300]\n",
      "Validation: |          | 0/? [00:00<?, ?it/s]\u001b[A\n",
      "Validation:   0%|          | 0/2 [00:00<?, ?it/s]\u001b[A\n",
      "Validation DataLoader 0:   0%|          | 0/2 [00:00<?, ?it/s]\u001b[A\n",
      "Validation DataLoader 0:  50%|█████     | 1/2 [00:00<00:00, 28.68it/s]\u001b[A\n",
      "Validation DataLoader 0: 100%|██████████| 2/2 [00:00<00:00, 22.87it/s]\u001b[A\n",
      "Epoch 10: 100%|██████████| 13/13 [00:01<00:00,  9.96it/s, v_num=6rpu, train_loss_step=1.170, val_loss=1.290, val_acc=0.263, val_cohen_kappa=0.100, train_loss_epoch=1.280]\n",
      "Validation: |          | 0/? [00:00<?, ?it/s]\u001b[A\n",
      "Validation:   0%|          | 0/2 [00:00<?, ?it/s]\u001b[A\n",
      "Validation DataLoader 0:   0%|          | 0/2 [00:00<?, ?it/s]\u001b[A\n",
      "Validation DataLoader 0:  50%|█████     | 1/2 [00:00<00:00, 76.60it/s]\u001b[A\n",
      "Validation DataLoader 0: 100%|██████████| 2/2 [00:00<00:00, 43.80it/s]\u001b[A\n",
      "Epoch 10: 100%|██████████| 13/13 [00:02<00:00,  5.69it/s, v_num=6rpu, train_loss_step=1.170, val_loss=1.250, val_acc=0.258, val_cohen_kappa=0.117, train_loss_epoch=1.270]"
     ]
    },
    {
     "name": "stderr",
     "output_type": "stream",
     "text": [
      "Metric val_loss improved by 0.032 >= min_delta = 0.0. New best score: 1.252\n"
     ]
    },
    {
     "name": "stdout",
     "output_type": "stream",
     "text": [
      "Epoch 11: 100%|██████████| 13/13 [00:01<00:00,  8.23it/s, v_num=6rpu, train_loss_step=1.250, val_loss=1.250, val_acc=0.258, val_cohen_kappa=0.117, train_loss_epoch=1.270]\n",
      "Validation: |          | 0/? [00:00<?, ?it/s]\u001b[A\n",
      "Validation:   0%|          | 0/2 [00:00<?, ?it/s]\u001b[A\n",
      "Validation DataLoader 0:   0%|          | 0/2 [00:00<?, ?it/s]\u001b[A\n",
      "Validation DataLoader 0:  50%|█████     | 1/2 [00:00<00:00, 25.91it/s]\u001b[A\n",
      "Validation DataLoader 0: 100%|██████████| 2/2 [00:00<00:00, 31.23it/s]\u001b[A\n",
      "Epoch 12: 100%|██████████| 13/13 [00:01<00:00, 10.04it/s, v_num=6rpu, train_loss_step=1.150, val_loss=1.350, val_acc=0.220, val_cohen_kappa=0.0778, train_loss_epoch=1.250]\n",
      "Validation: |          | 0/? [00:00<?, ?it/s]\u001b[A\n",
      "Validation:   0%|          | 0/2 [00:00<?, ?it/s]\u001b[A\n",
      "Validation DataLoader 0:   0%|          | 0/2 [00:00<?, ?it/s]\u001b[A\n",
      "Validation DataLoader 0:  50%|█████     | 1/2 [00:00<00:00, 56.46it/s]\u001b[A\n",
      "Validation DataLoader 0: 100%|██████████| 2/2 [00:00<00:00, 31.66it/s]\u001b[A\n",
      "Epoch 13: 100%|██████████| 13/13 [00:01<00:00, 10.72it/s, v_num=6rpu, train_loss_step=1.200, val_loss=1.260, val_acc=0.319, val_cohen_kappa=0.134, train_loss_epoch=1.260] \n",
      "Validation: |          | 0/? [00:00<?, ?it/s]\u001b[A\n",
      "Validation:   0%|          | 0/2 [00:00<?, ?it/s]\u001b[A\n",
      "Validation DataLoader 0:   0%|          | 0/2 [00:00<?, ?it/s]\u001b[A\n",
      "Validation DataLoader 0:  50%|█████     | 1/2 [00:00<00:00, 28.34it/s]\u001b[A\n",
      "Validation DataLoader 0: 100%|██████████| 2/2 [00:00<00:00, 25.31it/s]\u001b[A\n",
      "Epoch 14: 100%|██████████| 13/13 [00:01<00:00,  8.73it/s, v_num=6rpu, train_loss_step=1.310, val_loss=1.350, val_acc=0.262, val_cohen_kappa=0.0974, train_loss_epoch=1.250]\n",
      "Validation: |          | 0/? [00:00<?, ?it/s]\u001b[A\n",
      "Validation:   0%|          | 0/2 [00:00<?, ?it/s]\u001b[A\n",
      "Validation DataLoader 0:   0%|          | 0/2 [00:00<?, ?it/s]\u001b[A\n",
      "Validation DataLoader 0:  50%|█████     | 1/2 [00:00<00:00, 26.91it/s]\u001b[A\n",
      "Validation DataLoader 0: 100%|██████████| 2/2 [00:00<00:00, 33.92it/s]\u001b[A\n",
      "Epoch 14: 100%|██████████| 13/13 [00:02<00:00,  5.18it/s, v_num=6rpu, train_loss_step=1.310, val_loss=1.290, val_acc=0.265, val_cohen_kappa=0.0984, train_loss_epoch=1.230]"
     ]
    },
    {
     "name": "stderr",
     "output_type": "stream",
     "text": [
      "Monitored metric val_loss did not improve in the last 4 records. Best score: 1.252. Signaling Trainer to stop.\n"
     ]
    },
    {
     "name": "stdout",
     "output_type": "stream",
     "text": [
      "Epoch 14: 100%|██████████| 13/13 [00:02<00:00,  5.17it/s, v_num=6rpu, train_loss_step=1.310, val_loss=1.290, val_acc=0.265, val_cohen_kappa=0.0984, train_loss_epoch=1.230]\n"
     ]
    },
    {
     "name": "stderr",
     "output_type": "stream",
     "text": [
      "You are using the plain ModelCheckpoint callback. Consider using LitModelCheckpoint which with seamless uploading to Model registry.\n",
      "GPU available: True (cuda), used: True\n",
      "TPU available: False, using: 0 TPU cores\n",
      "HPU available: False, using: 0 HPUs\n",
      "LOCAL_RANK: 0 - CUDA_VISIBLE_DEVICES: [0]\n",
      "SLURM auto-requeueing enabled. Setting signal handlers.\n"
     ]
    },
    {
     "name": "stdout",
     "output_type": "stream",
     "text": [
      "Best model path: /scratch/npr264/BioDeepL/project/moved_from_home/checkpoints/4/best-checkpoint-v18.ckpt\n",
      "Validation DataLoader 0: 100%|██████████| 2/2 [00:00<00:00, 25.65it/s]\n"
     ]
    },
    {
     "name": "stderr",
     "output_type": "stream",
     "text": [
      "\u001b[34m\u001b[1mwandb\u001b[0m: \u001b[32m\u001b[41mERROR\u001b[0m The nbformat package was not found. It is required to save notebook history.\n"
     ]
    },
    {
     "data": {
      "text/html": [],
      "text/plain": [
       "<IPython.core.display.HTML object>"
      ]
     },
     "metadata": {},
     "output_type": "display_data"
    },
    {
     "data": {
      "text/html": [
       "<br>    <style><br>        .wandb-row {<br>            display: flex;<br>            flex-direction: row;<br>            flex-wrap: wrap;<br>            justify-content: flex-start;<br>            width: 100%;<br>        }<br>        .wandb-col {<br>            display: flex;<br>            flex-direction: column;<br>            flex-basis: 100%;<br>            flex: 1;<br>            padding: 10px;<br>        }<br>    </style><br><div class=\"wandb-row\"><div class=\"wandb-col\"><h3>Run history:</h3><br/><table class=\"wandb\"><tr><td>best_val_loss</td><td>▁</td></tr><tr><td>epoch</td><td>▁▁▁▁▁▂▂▃▃▃▃▃▃▃▃▃▄▄▄▅▅▅▅▅▅▅▅▅▆▆▇▇▇▇▇▇▇▇██</td></tr><tr><td>train_loss_epoch</td><td>█▇▆▅▅▄▄▄▄▃▃▂▂▂▁</td></tr><tr><td>train_loss_step</td><td>█▅▄▆▇▄▆▇▅▅▄▅▅▄▅▄▄▃▄▄▃▃▅▃▄▄▅▃▅▃▃▂▄▂▄▂▅▁▃▄</td></tr><tr><td>trainer/global_step</td><td>▁▁▁▁▁▂▂▂▂▂▃▃▃▃▃▄▄▄▄▄▄▅▅▅▅▅▅▆▆▆▆▇▇▇▇▇▇███</td></tr><tr><td>val_acc</td><td>▇▅██▄▄▂▃▄▃▃▁▆▃▃</td></tr><tr><td>val_cohen_kappa</td><td>▁▃▅▇▅▅▅▅▆▆▇▄█▅▅</td></tr><tr><td>val_loss</td><td>█▆▆▅▅▃▄▄▂▂▁▅▁▄▂</td></tr></table><br/></div><div class=\"wandb-col\"><h3>Run summary:</h3><br/><table class=\"wandb\"><tr><td>best_val_loss</td><td>1.25239</td></tr><tr><td>epoch</td><td>14</td></tr><tr><td>train_loss_epoch</td><td>1.23423</td></tr><tr><td>train_loss_step</td><td>1.19762</td></tr><tr><td>trainer/global_step</td><td>194</td></tr><tr><td>val_acc</td><td>0.26542</td></tr><tr><td>val_cohen_kappa</td><td>0.0984</td></tr><tr><td>val_loss</td><td>1.2879</td></tr></table><br/></div></div>"
      ],
      "text/plain": [
       "<IPython.core.display.HTML object>"
      ]
     },
     "metadata": {},
     "output_type": "display_data"
    },
    {
     "data": {
      "text/html": [
       " View run <strong style=\"color:#cdcd00\">prernn8_rnn64_hidden4lr0.0011937773355246394_batchsize16dropoutembed0.4136319115567111_dropoutRNN0.3746949208092797_dropouthidden20.3613580497461789</strong> at: <a href='https://wandb.ai/npr264-new-york-university/Baseline/runs/pbtm6rpu' target=\"_blank\">https://wandb.ai/npr264-new-york-university/Baseline/runs/pbtm6rpu</a><br> View project at: <a href='https://wandb.ai/npr264-new-york-university/Baseline' target=\"_blank\">https://wandb.ai/npr264-new-york-university/Baseline</a><br>Synced 5 W&B file(s), 0 media file(s), 0 artifact file(s) and 0 other file(s)"
      ],
      "text/plain": [
       "<IPython.core.display.HTML object>"
      ]
     },
     "metadata": {},
     "output_type": "display_data"
    },
    {
     "data": {
      "text/html": [
       "Find logs at: <code>./wandb/run-20250429_233039-pbtm6rpu/logs</code>"
      ],
      "text/plain": [
       "<IPython.core.display.HTML object>"
      ]
     },
     "metadata": {},
     "output_type": "display_data"
    },
    {
     "name": "stderr",
     "output_type": "stream",
     "text": [
      "[I 2025-04-29 23:31:18,290] Trial 4 finished with value: 1.2523900270462036 and parameters: {'dropout_embed': 0.4136319115567111, 'dropout_rnn': 0.3746949208092797, 'dropout_hidden2': 0.3613580497461789, 'pre_rnn_embedding_size': 8, 'rnn_hidden_size': 64, 'hidden_size2': 4, 'learning_rate': 0.0011937773355246394, 'batch_size': 16}. Best is trial 1 with value: 1.2047420740127563.\n",
      "/state/partition1/job-59918280/ipykernel_522356/1335623980.py:23: FutureWarning: suggest_loguniform has been deprecated in v3.0.0. This feature will be removed in v6.0.0. See https://github.com/optuna/optuna/releases/tag/v3.0.0. Use suggest_float(..., log=True) instead.\n",
      "  learning_rate = trial.suggest_loguniform(\"learning_rate\", 1e-5, 1e-2)\n",
      "GPU available: True (cuda), used: True\n",
      "TPU available: False, using: 0 TPU cores\n",
      "HPU available: False, using: 0 HPUs\n"
     ]
    },
    {
     "data": {
      "text/html": [
       "Tracking run with wandb version 0.19.9"
      ],
      "text/plain": [
       "<IPython.core.display.HTML object>"
      ]
     },
     "metadata": {},
     "output_type": "display_data"
    },
    {
     "data": {
      "text/html": [
       "Run data is saved locally in <code>./wandb/run-20250429_233118-17myrrm6</code>"
      ],
      "text/plain": [
       "<IPython.core.display.HTML object>"
      ]
     },
     "metadata": {},
     "output_type": "display_data"
    },
    {
     "data": {
      "text/html": [
       "Syncing run <strong><a href='https://wandb.ai/npr264-new-york-university/Baseline/runs/17myrrm6' target=\"_blank\">prernn8_rnn512_hidden4lr0.00016839306018642973_batchsize8dropoutembed0.5032923660324129_dropoutRNN0.3179038965679448_dropouthidden20.10353708313228051</a></strong> to <a href='https://wandb.ai/npr264-new-york-university/Baseline' target=\"_blank\">Weights & Biases</a> (<a href='https://wandb.me/developer-guide' target=\"_blank\">docs</a>)<br>"
      ],
      "text/plain": [
       "<IPython.core.display.HTML object>"
      ]
     },
     "metadata": {},
     "output_type": "display_data"
    },
    {
     "data": {
      "text/html": [
       " View project at <a href='https://wandb.ai/npr264-new-york-university/Baseline' target=\"_blank\">https://wandb.ai/npr264-new-york-university/Baseline</a>"
      ],
      "text/plain": [
       "<IPython.core.display.HTML object>"
      ]
     },
     "metadata": {},
     "output_type": "display_data"
    },
    {
     "data": {
      "text/html": [
       " View run at <a href='https://wandb.ai/npr264-new-york-university/Baseline/runs/17myrrm6' target=\"_blank\">https://wandb.ai/npr264-new-york-university/Baseline/runs/17myrrm6</a>"
      ],
      "text/plain": [
       "<IPython.core.display.HTML object>"
      ]
     },
     "metadata": {},
     "output_type": "display_data"
    },
    {
     "name": "stderr",
     "output_type": "stream",
     "text": [
      "/ext3/miniforge3/lib/python3.12/site-packages/pytorch_lightning/callbacks/model_checkpoint.py:654: Checkpoint directory /scratch/npr264/BioDeepL/project/moved_from_home/checkpoints/5 exists and is not empty.\n",
      "LOCAL_RANK: 0 - CUDA_VISIBLE_DEVICES: [0]\n",
      "/ext3/miniforge3/lib/python3.12/site-packages/torch/optim/lr_scheduler.py:62: UserWarning: The verbose parameter is deprecated. Please use get_last_lr() to access the learning rate.\n",
      "  warnings.warn(\n",
      "\n",
      "  | Name            | Type                 | Params | Mode \n",
      "-----------------------------------------------------------------\n",
      "0 | embeddingLayer  | Linear               | 48     | train\n",
      "1 | dropout_embed   | Dropout              | 0      | train\n",
      "2 | dropout_hidden2 | Dropout              | 0      | train\n",
      "3 | rnn             | LSTM                 | 8.5 M  | train\n",
      "4 | hidden2         | Linear               | 4.1 K  | train\n",
      "5 | classifier      | Linear               | 20     | train\n",
      "6 | train_criterion | CrossEntropyLoss     | 0      | train\n",
      "7 | val_criterion   | CrossEntropyLoss     | 0      | train\n",
      "8 | kappa           | MulticlassCohenKappa | 0      | train\n",
      "-----------------------------------------------------------------\n",
      "8.5 M     Trainable params\n",
      "0         Non-trainable params\n",
      "8.5 M     Total params\n",
      "33.817    Total estimated model params size (MB)\n",
      "9         Modules in train mode\n",
      "0         Modules in eval mode\n",
      "SLURM auto-requeueing enabled. Setting signal handlers.\n"
     ]
    },
    {
     "name": "stdout",
     "output_type": "stream",
     "text": [
      "Epoch 0: 100%|██████████| 26/26 [00:07<00:00,  3.27it/s, v_num=rrm6, train_loss_step=1.390]\n",
      "Validation: |          | 0/? [00:00<?, ?it/s]\u001b[A\n",
      "Validation:   0%|          | 0/4 [00:00<?, ?it/s]\u001b[A\n",
      "Validation DataLoader 0:   0%|          | 0/4 [00:00<?, ?it/s]\u001b[A\n",
      "Validation DataLoader 0:  25%|██▌       | 1/4 [00:00<00:00,  5.48it/s]\u001b[A\n",
      "Validation DataLoader 0:  50%|█████     | 2/4 [00:00<00:00,  5.49it/s]\u001b[A\n",
      "Validation DataLoader 0:  75%|███████▌  | 3/4 [00:00<00:00,  5.46it/s]\u001b[A\n",
      "Validation DataLoader 0: 100%|██████████| 4/4 [00:00<00:00,  5.85it/s]\u001b[A\n",
      "Epoch 0: 100%|██████████| 26/26 [00:09<00:00,  2.77it/s, v_num=rrm6, train_loss_step=1.390, val_loss=1.360, val_acc=0.0962, val_cohen_kappa=0.0265, train_loss_epoch=1.400]"
     ]
    },
    {
     "name": "stderr",
     "output_type": "stream",
     "text": [
      "Metric val_loss improved. New best score: 1.362\n"
     ]
    },
    {
     "name": "stdout",
     "output_type": "stream",
     "text": [
      "Epoch 1: 100%|██████████| 26/26 [00:07<00:00,  3.30it/s, v_num=rrm6, train_loss_step=1.340, val_loss=1.360, val_acc=0.0962, val_cohen_kappa=0.0265, train_loss_epoch=1.400]\n",
      "Validation: |          | 0/? [00:00<?, ?it/s]\u001b[A\n",
      "Validation:   0%|          | 0/4 [00:00<?, ?it/s]\u001b[A\n",
      "Validation DataLoader 0:   0%|          | 0/4 [00:00<?, ?it/s]\u001b[A\n",
      "Validation DataLoader 0:  25%|██▌       | 1/4 [00:00<00:00, 12.21it/s]\u001b[A\n",
      "Validation DataLoader 0:  50%|█████     | 2/4 [00:00<00:00, 11.93it/s]\u001b[A\n",
      "Validation DataLoader 0:  75%|███████▌  | 3/4 [00:00<00:00, 11.55it/s]\u001b[A\n",
      "Validation DataLoader 0: 100%|██████████| 4/4 [00:00<00:00, 12.08it/s]\u001b[A\n",
      "Epoch 1: 100%|██████████| 26/26 [00:08<00:00,  2.90it/s, v_num=rrm6, train_loss_step=1.340, val_loss=1.330, val_acc=0.136, val_cohen_kappa=0.0378, train_loss_epoch=1.370] "
     ]
    },
    {
     "name": "stderr",
     "output_type": "stream",
     "text": [
      "Metric val_loss improved by 0.031 >= min_delta = 0.0. New best score: 1.331\n"
     ]
    },
    {
     "name": "stdout",
     "output_type": "stream",
     "text": [
      "Epoch 2: 100%|██████████| 26/26 [00:09<00:00,  2.86it/s, v_num=rrm6, train_loss_step=1.340, val_loss=1.330, val_acc=0.136, val_cohen_kappa=0.0378, train_loss_epoch=1.370]\n",
      "Validation: |          | 0/? [00:00<?, ?it/s]\u001b[A\n",
      "Validation:   0%|          | 0/4 [00:00<?, ?it/s]\u001b[A\n",
      "Validation DataLoader 0:   0%|          | 0/4 [00:00<?, ?it/s]\u001b[A\n",
      "Validation DataLoader 0:  25%|██▌       | 1/4 [00:00<00:00, 11.30it/s]\u001b[A\n",
      "Validation DataLoader 0:  50%|█████     | 2/4 [00:00<00:00,  9.02it/s]\u001b[A\n",
      "Validation DataLoader 0:  75%|███████▌  | 3/4 [00:00<00:00,  9.35it/s]\u001b[A\n",
      "Validation DataLoader 0: 100%|██████████| 4/4 [00:00<00:00,  9.34it/s]\u001b[A\n",
      "Epoch 2: 100%|██████████| 26/26 [00:10<00:00,  2.49it/s, v_num=rrm6, train_loss_step=1.340, val_loss=1.330, val_acc=0.144, val_cohen_kappa=0.0531, train_loss_epoch=1.360]"
     ]
    },
    {
     "name": "stderr",
     "output_type": "stream",
     "text": [
      "Metric val_loss improved by 0.003 >= min_delta = 0.0. New best score: 1.328\n"
     ]
    },
    {
     "name": "stdout",
     "output_type": "stream",
     "text": [
      "Epoch 3: 100%|██████████| 26/26 [00:08<00:00,  3.04it/s, v_num=rrm6, train_loss_step=1.220, val_loss=1.330, val_acc=0.144, val_cohen_kappa=0.0531, train_loss_epoch=1.360]\n",
      "Validation: |          | 0/? [00:00<?, ?it/s]\u001b[A\n",
      "Validation:   0%|          | 0/4 [00:00<?, ?it/s]\u001b[A\n",
      "Validation DataLoader 0:   0%|          | 0/4 [00:00<?, ?it/s]\u001b[A\n",
      "Validation DataLoader 0:  25%|██▌       | 1/4 [00:00<00:00,  6.15it/s]\u001b[A\n",
      "Validation DataLoader 0:  50%|█████     | 2/4 [00:00<00:00,  5.83it/s]\u001b[A\n",
      "Validation DataLoader 0:  75%|███████▌  | 3/4 [00:00<00:00,  6.02it/s]\u001b[A\n",
      "Validation DataLoader 0: 100%|██████████| 4/4 [00:00<00:00,  6.16it/s]\u001b[A\n",
      "Epoch 3: 100%|██████████| 26/26 [00:10<00:00,  2.59it/s, v_num=rrm6, train_loss_step=1.220, val_loss=1.320, val_acc=0.166, val_cohen_kappa=0.0764, train_loss_epoch=1.360]"
     ]
    },
    {
     "name": "stderr",
     "output_type": "stream",
     "text": [
      "Metric val_loss improved by 0.012 >= min_delta = 0.0. New best score: 1.316\n"
     ]
    },
    {
     "name": "stdout",
     "output_type": "stream",
     "text": [
      "Epoch 4: 100%|██████████| 26/26 [00:08<00:00,  3.03it/s, v_num=rrm6, train_loss_step=1.380, val_loss=1.320, val_acc=0.166, val_cohen_kappa=0.0764, train_loss_epoch=1.360]\n",
      "Validation: |          | 0/? [00:00<?, ?it/s]\u001b[A\n",
      "Validation:   0%|          | 0/4 [00:00<?, ?it/s]\u001b[A\n",
      "Validation DataLoader 0:   0%|          | 0/4 [00:00<?, ?it/s]\u001b[A\n",
      "Validation DataLoader 0:  25%|██▌       | 1/4 [00:00<00:00,  6.16it/s]\u001b[A\n",
      "Validation DataLoader 0:  50%|█████     | 2/4 [00:00<00:00,  5.83it/s]\u001b[A\n",
      "Validation DataLoader 0:  75%|███████▌  | 3/4 [00:00<00:00,  6.05it/s]\u001b[A\n",
      "Validation DataLoader 0: 100%|██████████| 4/4 [00:00<00:00,  6.21it/s]\u001b[A\n",
      "Epoch 4: 100%|██████████| 26/26 [00:10<00:00,  2.58it/s, v_num=rrm6, train_loss_step=1.380, val_loss=1.300, val_acc=0.174, val_cohen_kappa=0.0779, train_loss_epoch=1.340]"
     ]
    },
    {
     "name": "stderr",
     "output_type": "stream",
     "text": [
      "Metric val_loss improved by 0.013 >= min_delta = 0.0. New best score: 1.303\n"
     ]
    },
    {
     "name": "stdout",
     "output_type": "stream",
     "text": [
      "Epoch 5: 100%|██████████| 26/26 [00:08<00:00,  2.96it/s, v_num=rrm6, train_loss_step=1.350, val_loss=1.300, val_acc=0.174, val_cohen_kappa=0.0779, train_loss_epoch=1.340]\n",
      "Validation: |          | 0/? [00:00<?, ?it/s]\u001b[A\n",
      "Validation:   0%|          | 0/4 [00:00<?, ?it/s]\u001b[A\n",
      "Validation DataLoader 0:   0%|          | 0/4 [00:00<?, ?it/s]\u001b[A\n",
      "Validation DataLoader 0:  25%|██▌       | 1/4 [00:00<00:00, 10.34it/s]\u001b[A\n",
      "Validation DataLoader 0:  50%|█████     | 2/4 [00:00<00:00,  9.40it/s]\u001b[A\n",
      "Validation DataLoader 0:  75%|███████▌  | 3/4 [00:00<00:00,  9.00it/s]\u001b[A\n",
      "Validation DataLoader 0: 100%|██████████| 4/4 [00:00<00:00,  8.87it/s]\u001b[A\n",
      "Epoch 6: 100%|██████████| 26/26 [00:08<00:00,  2.91it/s, v_num=rrm6, train_loss_step=1.290, val_loss=1.340, val_acc=0.155, val_cohen_kappa=0.0511, train_loss_epoch=1.320]\n",
      "Validation: |          | 0/? [00:00<?, ?it/s]\u001b[A\n",
      "Validation:   0%|          | 0/4 [00:00<?, ?it/s]\u001b[A\n",
      "Validation DataLoader 0:   0%|          | 0/4 [00:00<?, ?it/s]\u001b[A\n",
      "Validation DataLoader 0:  25%|██▌       | 1/4 [00:00<00:00, 11.71it/s]\u001b[A\n",
      "Validation DataLoader 0:  50%|█████     | 2/4 [00:00<00:00, 11.72it/s]\u001b[A\n",
      "Validation DataLoader 0:  75%|███████▌  | 3/4 [00:00<00:00, 11.14it/s]\u001b[A\n",
      "Validation DataLoader 0: 100%|██████████| 4/4 [00:00<00:00, 11.74it/s]\u001b[A\n",
      "Epoch 7: 100%|██████████| 26/26 [00:08<00:00,  2.94it/s, v_num=rrm6, train_loss_step=1.480, val_loss=1.310, val_acc=0.170, val_cohen_kappa=0.0711, train_loss_epoch=1.330]\n",
      "Validation: |          | 0/? [00:00<?, ?it/s]\u001b[A\n",
      "Validation:   0%|          | 0/4 [00:00<?, ?it/s]\u001b[A\n",
      "Validation DataLoader 0:   0%|          | 0/4 [00:00<?, ?it/s]\u001b[A\n",
      "Validation DataLoader 0:  25%|██▌       | 1/4 [00:00<00:00,  5.79it/s]\u001b[A\n",
      "Validation DataLoader 0:  50%|█████     | 2/4 [00:00<00:00,  5.78it/s]\u001b[A\n",
      "Validation DataLoader 0:  75%|███████▌  | 3/4 [00:00<00:00,  5.80it/s]\u001b[A\n",
      "Validation DataLoader 0: 100%|██████████| 4/4 [00:00<00:00,  5.94it/s]\u001b[A\n",
      "Epoch 8: 100%|██████████| 26/26 [00:08<00:00,  3.06it/s, v_num=rrm6, train_loss_step=1.450, val_loss=1.310, val_acc=0.163, val_cohen_kappa=0.0664, train_loss_epoch=1.310]\n",
      "Validation: |          | 0/? [00:00<?, ?it/s]\u001b[A\n",
      "Validation:   0%|          | 0/4 [00:00<?, ?it/s]\u001b[A\n",
      "Validation DataLoader 0:   0%|          | 0/4 [00:00<?, ?it/s]\u001b[A\n",
      "Validation DataLoader 0:  25%|██▌       | 1/4 [00:00<00:00,  6.08it/s]\u001b[A\n",
      "Validation DataLoader 0:  50%|█████     | 2/4 [00:00<00:00,  5.96it/s]\u001b[A\n",
      "Validation DataLoader 0:  75%|███████▌  | 3/4 [00:00<00:00,  5.84it/s]\u001b[A\n",
      "Validation DataLoader 0: 100%|██████████| 4/4 [00:00<00:00,  6.09it/s]\u001b[A\n",
      "Epoch 8: 100%|██████████| 26/26 [00:09<00:00,  2.61it/s, v_num=rrm6, train_loss_step=1.450, val_loss=1.330, val_acc=0.176, val_cohen_kappa=0.0666, train_loss_epoch=1.300]"
     ]
    },
    {
     "name": "stderr",
     "output_type": "stream",
     "text": [
      "Monitored metric val_loss did not improve in the last 4 records. Best score: 1.303. Signaling Trainer to stop.\n"
     ]
    },
    {
     "name": "stdout",
     "output_type": "stream",
     "text": [
      "Epoch 8: 100%|██████████| 26/26 [00:09<00:00,  2.60it/s, v_num=rrm6, train_loss_step=1.450, val_loss=1.330, val_acc=0.176, val_cohen_kappa=0.0666, train_loss_epoch=1.300]\n",
      "Best model path: /scratch/npr264/BioDeepL/project/moved_from_home/checkpoints/5/best-checkpoint-v18.ckpt\n"
     ]
    },
    {
     "name": "stderr",
     "output_type": "stream",
     "text": [
      "You are using the plain ModelCheckpoint callback. Consider using LitModelCheckpoint which with seamless uploading to Model registry.\n",
      "GPU available: True (cuda), used: True\n",
      "TPU available: False, using: 0 TPU cores\n",
      "HPU available: False, using: 0 HPUs\n",
      "LOCAL_RANK: 0 - CUDA_VISIBLE_DEVICES: [0]\n",
      "SLURM auto-requeueing enabled. Setting signal handlers.\n"
     ]
    },
    {
     "name": "stdout",
     "output_type": "stream",
     "text": [
      "Validation DataLoader 0: 100%|██████████| 4/4 [00:00<00:00,  6.86it/s]\n"
     ]
    },
    {
     "name": "stderr",
     "output_type": "stream",
     "text": [
      "\u001b[34m\u001b[1mwandb\u001b[0m: \u001b[32m\u001b[41mERROR\u001b[0m The nbformat package was not found. It is required to save notebook history.\n"
     ]
    },
    {
     "data": {
      "text/html": [],
      "text/plain": [
       "<IPython.core.display.HTML object>"
      ]
     },
     "metadata": {},
     "output_type": "display_data"
    },
    {
     "data": {
      "text/html": [
       "<br>    <style><br>        .wandb-row {<br>            display: flex;<br>            flex-direction: row;<br>            flex-wrap: wrap;<br>            justify-content: flex-start;<br>            width: 100%;<br>        }<br>        .wandb-col {<br>            display: flex;<br>            flex-direction: column;<br>            flex-basis: 100%;<br>            flex: 1;<br>            padding: 10px;<br>        }<br>    </style><br><div class=\"wandb-row\"><div class=\"wandb-col\"><h3>Run history:</h3><br/><table class=\"wandb\"><tr><td>best_val_loss</td><td>▁</td></tr><tr><td>epoch</td><td>▁▁▁▁▁▂▂▂▂▂▃▃▃▃▃▃▄▄▄▄▅▅▅▅▅▅▅▅▅▅▆▆▆▆▆▇▇███</td></tr><tr><td>train_loss_epoch</td><td>█▆▅▅▄▃▃▂▁</td></tr><tr><td>train_loss_step</td><td>▇▆▆▅▄▅▅▅▅▅▄▅▄▅▅▆▄▁▃▃▃▅▅▃▂▆▅▄▁▄▃▅▂▃█▅▆▃▃▇</td></tr><tr><td>trainer/global_step</td><td>▁▁▁▂▂▂▂▃▃▃▃▃▃▃▃▄▄▄▄▄▄▄▄▄▅▅▆▆▆▆▆▆▇▇▇▇████</td></tr><tr><td>val_acc</td><td>▁▄▅▇█▆█▇█</td></tr><tr><td>val_cohen_kappa</td><td>▁▃▅██▄▇▆▆</td></tr><tr><td>val_loss</td><td>█▄▄▃▁▆▂▂▅</td></tr></table><br/></div><div class=\"wandb-col\"><h3>Run summary:</h3><br/><table class=\"wandb\"><tr><td>best_val_loss</td><td>1.30276</td></tr><tr><td>epoch</td><td>8</td></tr><tr><td>train_loss_epoch</td><td>1.30189</td></tr><tr><td>train_loss_step</td><td>1.44924</td></tr><tr><td>trainer/global_step</td><td>233</td></tr><tr><td>val_acc</td><td>0.17554</td></tr><tr><td>val_cohen_kappa</td><td>0.06661</td></tr><tr><td>val_loss</td><td>1.33273</td></tr></table><br/></div></div>"
      ],
      "text/plain": [
       "<IPython.core.display.HTML object>"
      ]
     },
     "metadata": {},
     "output_type": "display_data"
    },
    {
     "data": {
      "text/html": [
       " View run <strong style=\"color:#cdcd00\">prernn8_rnn512_hidden4lr0.00016839306018642973_batchsize8dropoutembed0.5032923660324129_dropoutRNN0.3179038965679448_dropouthidden20.10353708313228051</strong> at: <a href='https://wandb.ai/npr264-new-york-university/Baseline/runs/17myrrm6' target=\"_blank\">https://wandb.ai/npr264-new-york-university/Baseline/runs/17myrrm6</a><br> View project at: <a href='https://wandb.ai/npr264-new-york-university/Baseline' target=\"_blank\">https://wandb.ai/npr264-new-york-university/Baseline</a><br>Synced 5 W&B file(s), 0 media file(s), 0 artifact file(s) and 0 other file(s)"
      ],
      "text/plain": [
       "<IPython.core.display.HTML object>"
      ]
     },
     "metadata": {},
     "output_type": "display_data"
    },
    {
     "data": {
      "text/html": [
       "Find logs at: <code>./wandb/run-20250429_233118-17myrrm6/logs</code>"
      ],
      "text/plain": [
       "<IPython.core.display.HTML object>"
      ]
     },
     "metadata": {},
     "output_type": "display_data"
    },
    {
     "name": "stderr",
     "output_type": "stream",
     "text": [
      "[I 2025-04-29 23:32:54,335] Trial 5 finished with value: 1.3027628660202026 and parameters: {'dropout_embed': 0.5032923660324129, 'dropout_rnn': 0.3179038965679448, 'dropout_hidden2': 0.10353708313228051, 'pre_rnn_embedding_size': 8, 'rnn_hidden_size': 512, 'hidden_size2': 4, 'learning_rate': 0.00016839306018642973, 'batch_size': 8}. Best is trial 1 with value: 1.2047420740127563.\n",
      "/state/partition1/job-59918280/ipykernel_522356/1335623980.py:23: FutureWarning: suggest_loguniform has been deprecated in v3.0.0. This feature will be removed in v6.0.0. See https://github.com/optuna/optuna/releases/tag/v3.0.0. Use suggest_float(..., log=True) instead.\n",
      "  learning_rate = trial.suggest_loguniform(\"learning_rate\", 1e-5, 1e-2)\n",
      "GPU available: True (cuda), used: True\n",
      "TPU available: False, using: 0 TPU cores\n",
      "HPU available: False, using: 0 HPUs\n"
     ]
    },
    {
     "data": {
      "text/html": [
       "Tracking run with wandb version 0.19.9"
      ],
      "text/plain": [
       "<IPython.core.display.HTML object>"
      ]
     },
     "metadata": {},
     "output_type": "display_data"
    },
    {
     "data": {
      "text/html": [
       "Run data is saved locally in <code>./wandb/run-20250429_233254-4qg957vj</code>"
      ],
      "text/plain": [
       "<IPython.core.display.HTML object>"
      ]
     },
     "metadata": {},
     "output_type": "display_data"
    },
    {
     "data": {
      "text/html": [
       "Syncing run <strong><a href='https://wandb.ai/npr264-new-york-university/Baseline/runs/4qg957vj' target=\"_blank\">prernn8_rnn512_hidden8lr0.0024445634202143584_batchsize64dropoutembed0.5436083209012667_dropoutRNN0.2511431620096437_dropouthidden20.3243466441867762</a></strong> to <a href='https://wandb.ai/npr264-new-york-university/Baseline' target=\"_blank\">Weights & Biases</a> (<a href='https://wandb.me/developer-guide' target=\"_blank\">docs</a>)<br>"
      ],
      "text/plain": [
       "<IPython.core.display.HTML object>"
      ]
     },
     "metadata": {},
     "output_type": "display_data"
    },
    {
     "data": {
      "text/html": [
       " View project at <a href='https://wandb.ai/npr264-new-york-university/Baseline' target=\"_blank\">https://wandb.ai/npr264-new-york-university/Baseline</a>"
      ],
      "text/plain": [
       "<IPython.core.display.HTML object>"
      ]
     },
     "metadata": {},
     "output_type": "display_data"
    },
    {
     "data": {
      "text/html": [
       " View run at <a href='https://wandb.ai/npr264-new-york-university/Baseline/runs/4qg957vj' target=\"_blank\">https://wandb.ai/npr264-new-york-university/Baseline/runs/4qg957vj</a>"
      ],
      "text/plain": [
       "<IPython.core.display.HTML object>"
      ]
     },
     "metadata": {},
     "output_type": "display_data"
    },
    {
     "name": "stderr",
     "output_type": "stream",
     "text": [
      "/ext3/miniforge3/lib/python3.12/site-packages/pytorch_lightning/callbacks/model_checkpoint.py:654: Checkpoint directory /scratch/npr264/BioDeepL/project/moved_from_home/checkpoints/6 exists and is not empty.\n",
      "LOCAL_RANK: 0 - CUDA_VISIBLE_DEVICES: [0]\n",
      "/ext3/miniforge3/lib/python3.12/site-packages/torch/optim/lr_scheduler.py:62: UserWarning: The verbose parameter is deprecated. Please use get_last_lr() to access the learning rate.\n",
      "  warnings.warn(\n",
      "\n",
      "  | Name            | Type                 | Params | Mode \n",
      "-----------------------------------------------------------------\n",
      "0 | embeddingLayer  | Linear               | 48     | train\n",
      "1 | dropout_embed   | Dropout              | 0      | train\n",
      "2 | dropout_hidden2 | Dropout              | 0      | train\n",
      "3 | rnn             | LSTM                 | 8.5 M  | train\n",
      "4 | hidden2         | Linear               | 8.2 K  | train\n",
      "5 | classifier      | Linear               | 36     | train\n",
      "6 | train_criterion | CrossEntropyLoss     | 0      | train\n",
      "7 | val_criterion   | CrossEntropyLoss     | 0      | train\n",
      "8 | kappa           | MulticlassCohenKappa | 0      | train\n",
      "-----------------------------------------------------------------\n",
      "8.5 M     Trainable params\n",
      "0         Non-trainable params\n",
      "8.5 M     Total params\n",
      "33.833    Total estimated model params size (MB)\n",
      "9         Modules in train mode\n",
      "0         Modules in eval mode\n",
      "SLURM auto-requeueing enabled. Setting signal handlers.\n"
     ]
    },
    {
     "name": "stdout",
     "output_type": "stream",
     "text": [
      "Epoch 0: 100%|██████████| 4/4 [00:04<00:00,  0.92it/s, v_num=57vj, train_loss_step=1.550]\n",
      "Validation: |          | 0/? [00:00<?, ?it/s]\u001b[A\n",
      "Validation:   0%|          | 0/1 [00:00<?, ?it/s]\u001b[A\n",
      "Validation DataLoader 0:   0%|          | 0/1 [00:00<?, ?it/s]\u001b[A\n",
      "Validation DataLoader 0: 100%|██████████| 1/1 [00:00<00:00,  8.31it/s]\u001b[A\n",
      "Epoch 0: 100%|██████████| 4/4 [00:05<00:00,  0.74it/s, v_num=57vj, train_loss_step=1.550, val_loss=1.370, val_acc=0.358, val_cohen_kappa=0.122, train_loss_epoch=1.380]"
     ]
    },
    {
     "name": "stderr",
     "output_type": "stream",
     "text": [
      "Metric val_loss improved. New best score: 1.372\n"
     ]
    },
    {
     "name": "stdout",
     "output_type": "stream",
     "text": [
      "Epoch 1: 100%|██████████| 4/4 [00:04<00:00,  0.84it/s, v_num=57vj, train_loss_step=1.350, val_loss=1.370, val_acc=0.358, val_cohen_kappa=0.122, train_loss_epoch=1.380]\n",
      "Validation: |          | 0/? [00:00<?, ?it/s]\u001b[A\n",
      "Validation:   0%|          | 0/1 [00:00<?, ?it/s]\u001b[A\n",
      "Validation DataLoader 0:   0%|          | 0/1 [00:00<?, ?it/s]\u001b[A\n",
      "Validation DataLoader 0: 100%|██████████| 1/1 [00:00<00:00,  4.08it/s]\u001b[A\n",
      "Epoch 1: 100%|██████████| 4/4 [00:05<00:00,  0.69it/s, v_num=57vj, train_loss_step=1.350, val_loss=1.350, val_acc=0.282, val_cohen_kappa=0.0552, train_loss_epoch=1.360]"
     ]
    },
    {
     "name": "stderr",
     "output_type": "stream",
     "text": [
      "Metric val_loss improved by 0.023 >= min_delta = 0.0. New best score: 1.349\n"
     ]
    },
    {
     "name": "stdout",
     "output_type": "stream",
     "text": [
      "Epoch 2: 100%|██████████| 4/4 [00:03<00:00,  1.16it/s, v_num=57vj, train_loss_step=1.400, val_loss=1.350, val_acc=0.282, val_cohen_kappa=0.0552, train_loss_epoch=1.360]\n",
      "Validation: |          | 0/? [00:00<?, ?it/s]\u001b[A\n",
      "Validation:   0%|          | 0/1 [00:00<?, ?it/s]\u001b[A\n",
      "Validation DataLoader 0:   0%|          | 0/1 [00:00<?, ?it/s]\u001b[A\n",
      "Validation DataLoader 0: 100%|██████████| 1/1 [00:00<00:00,  4.14it/s]\u001b[A\n",
      "Epoch 2: 100%|██████████| 4/4 [00:04<00:00,  0.88it/s, v_num=57vj, train_loss_step=1.400, val_loss=1.320, val_acc=0.248, val_cohen_kappa=0.0811, train_loss_epoch=1.350]"
     ]
    },
    {
     "name": "stderr",
     "output_type": "stream",
     "text": [
      "Metric val_loss improved by 0.031 >= min_delta = 0.0. New best score: 1.318\n"
     ]
    },
    {
     "name": "stdout",
     "output_type": "stream",
     "text": [
      "Epoch 3: 100%|██████████| 4/4 [00:04<00:00,  0.92it/s, v_num=57vj, train_loss_step=1.380, val_loss=1.320, val_acc=0.248, val_cohen_kappa=0.0811, train_loss_epoch=1.350]\n",
      "Validation: |          | 0/? [00:00<?, ?it/s]\u001b[A\n",
      "Validation:   0%|          | 0/1 [00:00<?, ?it/s]\u001b[A\n",
      "Validation DataLoader 0:   0%|          | 0/1 [00:00<?, ?it/s]\u001b[A\n",
      "Validation DataLoader 0: 100%|██████████| 1/1 [00:00<00:00,  8.19it/s]\u001b[A\n",
      "Epoch 3: 100%|██████████| 4/4 [00:05<00:00,  0.75it/s, v_num=57vj, train_loss_step=1.380, val_loss=1.300, val_acc=0.223, val_cohen_kappa=0.0922, train_loss_epoch=1.330]"
     ]
    },
    {
     "name": "stderr",
     "output_type": "stream",
     "text": [
      "Metric val_loss improved by 0.017 >= min_delta = 0.0. New best score: 1.301\n"
     ]
    },
    {
     "name": "stdout",
     "output_type": "stream",
     "text": [
      "Epoch 4: 100%|██████████| 4/4 [00:05<00:00,  0.77it/s, v_num=57vj, train_loss_step=1.230, val_loss=1.300, val_acc=0.223, val_cohen_kappa=0.0922, train_loss_epoch=1.330]\n",
      "Validation: |          | 0/? [00:00<?, ?it/s]\u001b[A\n",
      "Validation:   0%|          | 0/1 [00:00<?, ?it/s]\u001b[A\n",
      "Validation DataLoader 0:   0%|          | 0/1 [00:00<?, ?it/s]\u001b[A\n",
      "Validation DataLoader 0: 100%|██████████| 1/1 [00:00<00:00,  7.28it/s]\u001b[A\n",
      "Epoch 5: 100%|██████████| 4/4 [00:04<00:00,  0.93it/s, v_num=57vj, train_loss_step=1.250, val_loss=1.390, val_acc=0.145, val_cohen_kappa=0.0369, train_loss_epoch=1.310]\n",
      "Validation: |          | 0/? [00:00<?, ?it/s]\u001b[A\n",
      "Validation:   0%|          | 0/1 [00:00<?, ?it/s]\u001b[A\n",
      "Validation DataLoader 0:   0%|          | 0/1 [00:00<?, ?it/s]\u001b[A\n",
      "Validation DataLoader 0: 100%|██████████| 1/1 [00:00<00:00,  4.26it/s]\u001b[A\n",
      "Epoch 5: 100%|██████████| 4/4 [00:05<00:00,  0.75it/s, v_num=57vj, train_loss_step=1.250, val_loss=1.300, val_acc=0.242, val_cohen_kappa=0.0933, train_loss_epoch=1.330]"
     ]
    },
    {
     "name": "stderr",
     "output_type": "stream",
     "text": [
      "Metric val_loss improved by 0.003 >= min_delta = 0.0. New best score: 1.298\n"
     ]
    },
    {
     "name": "stdout",
     "output_type": "stream",
     "text": [
      "Epoch 6: 100%|██████████| 4/4 [00:03<00:00,  1.06it/s, v_num=57vj, train_loss_step=1.430, val_loss=1.300, val_acc=0.242, val_cohen_kappa=0.0933, train_loss_epoch=1.330]\n",
      "Validation: |          | 0/? [00:00<?, ?it/s]\u001b[A\n",
      "Validation:   0%|          | 0/1 [00:00<?, ?it/s]\u001b[A\n",
      "Validation DataLoader 0:   0%|          | 0/1 [00:00<?, ?it/s]\u001b[A\n",
      "Validation DataLoader 0: 100%|██████████| 1/1 [00:00<00:00,  5.96it/s]\u001b[A\n",
      "Epoch 6: 100%|██████████| 4/4 [00:05<00:00,  0.80it/s, v_num=57vj, train_loss_step=1.430, val_loss=1.270, val_acc=0.269, val_cohen_kappa=0.110, train_loss_epoch=1.310] "
     ]
    },
    {
     "name": "stderr",
     "output_type": "stream",
     "text": [
      "Metric val_loss improved by 0.027 >= min_delta = 0.0. New best score: 1.271\n"
     ]
    },
    {
     "name": "stdout",
     "output_type": "stream",
     "text": [
      "Epoch 7: 100%|██████████| 4/4 [00:05<00:00,  0.80it/s, v_num=57vj, train_loss_step=1.300, val_loss=1.270, val_acc=0.269, val_cohen_kappa=0.110, train_loss_epoch=1.310]\n",
      "Validation: |          | 0/? [00:00<?, ?it/s]\u001b[A\n",
      "Validation:   0%|          | 0/1 [00:00<?, ?it/s]\u001b[A\n",
      "Validation DataLoader 0:   0%|          | 0/1 [00:00<?, ?it/s]\u001b[A\n",
      "Validation DataLoader 0: 100%|██████████| 1/1 [00:00<00:00,  7.84it/s]\u001b[A\n",
      "Epoch 8: 100%|██████████| 4/4 [00:04<00:00,  0.85it/s, v_num=57vj, train_loss_step=1.360, val_loss=1.370, val_acc=0.319, val_cohen_kappa=0.113, train_loss_epoch=1.290]\n",
      "Validation: |          | 0/? [00:00<?, ?it/s]\u001b[A\n",
      "Validation:   0%|          | 0/1 [00:00<?, ?it/s]\u001b[A\n",
      "Validation DataLoader 0:   0%|          | 0/1 [00:00<?, ?it/s]\u001b[A\n",
      "Validation DataLoader 0: 100%|██████████| 1/1 [00:00<00:00,  4.07it/s]\u001b[A\n",
      "Epoch 9: 100%|██████████| 4/4 [00:03<00:00,  1.21it/s, v_num=57vj, train_loss_step=1.360, val_loss=1.340, val_acc=0.256, val_cohen_kappa=0.0801, train_loss_epoch=1.300]\n",
      "Validation: |          | 0/? [00:00<?, ?it/s]\u001b[A\n",
      "Validation:   0%|          | 0/1 [00:00<?, ?it/s]\u001b[A\n",
      "Validation DataLoader 0:   0%|          | 0/1 [00:00<?, ?it/s]\u001b[A\n",
      "Validation DataLoader 0: 100%|██████████| 1/1 [00:00<00:00,  3.88it/s]\u001b[A\n",
      "Epoch 10: 100%|██████████| 4/4 [00:04<00:00,  0.85it/s, v_num=57vj, train_loss_step=1.340, val_loss=1.320, val_acc=0.198, val_cohen_kappa=0.0661, train_loss_epoch=1.290]\n",
      "Validation: |          | 0/? [00:00<?, ?it/s]\u001b[A\n",
      "Validation:   0%|          | 0/1 [00:00<?, ?it/s]\u001b[A\n",
      "Validation DataLoader 0:   0%|          | 0/1 [00:00<?, ?it/s]\u001b[A\n",
      "Validation DataLoader 0: 100%|██████████| 1/1 [00:00<00:00,  5.33it/s]\u001b[A\n",
      "Epoch 10: 100%|██████████| 4/4 [00:05<00:00,  0.68it/s, v_num=57vj, train_loss_step=1.340, val_loss=1.270, val_acc=0.222, val_cohen_kappa=0.102, train_loss_epoch=1.280] "
     ]
    },
    {
     "name": "stderr",
     "output_type": "stream",
     "text": [
      "Metric val_loss improved by 0.005 >= min_delta = 0.0. New best score: 1.267\n"
     ]
    },
    {
     "name": "stdout",
     "output_type": "stream",
     "text": [
      "Epoch 11: 100%|██████████| 4/4 [00:05<00:00,  0.75it/s, v_num=57vj, train_loss_step=1.240, val_loss=1.270, val_acc=0.222, val_cohen_kappa=0.102, train_loss_epoch=1.280]\n",
      "Validation: |          | 0/? [00:00<?, ?it/s]\u001b[A\n",
      "Validation:   0%|          | 0/1 [00:00<?, ?it/s]\u001b[A\n",
      "Validation DataLoader 0:   0%|          | 0/1 [00:00<?, ?it/s]\u001b[A\n",
      "Validation DataLoader 0: 100%|██████████| 1/1 [00:00<00:00,  4.09it/s]\u001b[A\n",
      "Epoch 12: 100%|██████████| 4/4 [00:03<00:00,  1.02it/s, v_num=57vj, train_loss_step=1.210, val_loss=1.310, val_acc=0.211, val_cohen_kappa=0.0859, train_loss_epoch=1.260]\n",
      "Validation: |          | 0/? [00:00<?, ?it/s]\u001b[A\n",
      "Validation:   0%|          | 0/1 [00:00<?, ?it/s]\u001b[A\n",
      "Validation DataLoader 0:   0%|          | 0/1 [00:00<?, ?it/s]\u001b[A\n",
      "Validation DataLoader 0: 100%|██████████| 1/1 [00:00<00:00,  4.02it/s]\u001b[A\n",
      "Epoch 13: 100%|██████████| 4/4 [00:04<00:00,  0.93it/s, v_num=57vj, train_loss_step=1.310, val_loss=1.440, val_acc=0.242, val_cohen_kappa=0.0693, train_loss_epoch=1.290]\n",
      "Validation: |          | 0/? [00:00<?, ?it/s]\u001b[A\n",
      "Validation:   0%|          | 0/1 [00:00<?, ?it/s]\u001b[A\n",
      "Validation DataLoader 0:   0%|          | 0/1 [00:00<?, ?it/s]\u001b[A\n",
      "Validation DataLoader 0: 100%|██████████| 1/1 [00:00<00:00,  8.22it/s]\u001b[A\n",
      "Epoch 14: 100%|██████████| 4/4 [00:03<00:00,  1.16it/s, v_num=57vj, train_loss_step=1.320, val_loss=1.350, val_acc=0.226, val_cohen_kappa=0.0803, train_loss_epoch=1.250]\n",
      "Validation: |          | 0/? [00:00<?, ?it/s]\u001b[A\n",
      "Validation:   0%|          | 0/1 [00:00<?, ?it/s]\u001b[A\n",
      "Validation DataLoader 0:   0%|          | 0/1 [00:00<?, ?it/s]\u001b[A\n",
      "Validation DataLoader 0: 100%|██████████| 1/1 [00:00<00:00,  5.94it/s]\u001b[A\n",
      "Epoch 14: 100%|██████████| 4/4 [00:04<00:00,  0.87it/s, v_num=57vj, train_loss_step=1.320, val_loss=1.350, val_acc=0.201, val_cohen_kappa=0.0746, train_loss_epoch=1.270]"
     ]
    },
    {
     "name": "stderr",
     "output_type": "stream",
     "text": [
      "Monitored metric val_loss did not improve in the last 4 records. Best score: 1.267. Signaling Trainer to stop.\n"
     ]
    },
    {
     "name": "stdout",
     "output_type": "stream",
     "text": [
      "Epoch 14: 100%|██████████| 4/4 [00:04<00:00,  0.87it/s, v_num=57vj, train_loss_step=1.320, val_loss=1.350, val_acc=0.201, val_cohen_kappa=0.0746, train_loss_epoch=1.270]\n",
      "Best model path: /scratch/npr264/BioDeepL/project/moved_from_home/checkpoints/6/best-checkpoint-v18.ckpt\n"
     ]
    },
    {
     "name": "stderr",
     "output_type": "stream",
     "text": [
      "You are using the plain ModelCheckpoint callback. Consider using LitModelCheckpoint which with seamless uploading to Model registry.\n",
      "GPU available: True (cuda), used: True\n",
      "TPU available: False, using: 0 TPU cores\n",
      "HPU available: False, using: 0 HPUs\n",
      "LOCAL_RANK: 0 - CUDA_VISIBLE_DEVICES: [0]\n",
      "SLURM auto-requeueing enabled. Setting signal handlers.\n"
     ]
    },
    {
     "name": "stdout",
     "output_type": "stream",
     "text": [
      "Validation DataLoader 0: 100%|██████████| 1/1 [00:00<00:00,  3.97it/s]"
     ]
    },
    {
     "name": "stderr",
     "output_type": "stream",
     "text": [
      "\u001b[34m\u001b[1mwandb\u001b[0m: \u001b[32m\u001b[41mERROR\u001b[0m The nbformat package was not found. It is required to save notebook history.\n"
     ]
    },
    {
     "name": "stdout",
     "output_type": "stream",
     "text": [
      "\n"
     ]
    },
    {
     "data": {
      "text/html": [],
      "text/plain": [
       "<IPython.core.display.HTML object>"
      ]
     },
     "metadata": {},
     "output_type": "display_data"
    },
    {
     "data": {
      "text/html": [
       "<br>    <style><br>        .wandb-row {<br>            display: flex;<br>            flex-direction: row;<br>            flex-wrap: wrap;<br>            justify-content: flex-start;<br>            width: 100%;<br>        }<br>        .wandb-col {<br>            display: flex;<br>            flex-direction: column;<br>            flex-basis: 100%;<br>            flex: 1;<br>            padding: 10px;<br>        }<br>    </style><br><div class=\"wandb-row\"><div class=\"wandb-col\"><h3>Run history:</h3><br/><table class=\"wandb\"><tr><td>best_val_loss</td><td>▁</td></tr><tr><td>epoch</td><td>▁▁▁▁▁▂▂▃▃▃▃▃▃▃▃▃▄▄▄▄▅▅▅▅▅▅▅▅▅▆▇▇▇▇▇▇▇███</td></tr><tr><td>train_loss_epoch</td><td>█▇▆▅▄▅▄▃▄▃▂▁▃▁▂</td></tr><tr><td>train_loss_step</td><td>▅█▅▄▄▅▄▅▃▂▄▂▃▆▃▃▃▄▃▄▂▄▃▂▃▁▂▃▂▃</td></tr><tr><td>trainer/global_step</td><td>▁▁▁▁▁▂▂▂▂▂▃▃▃▃▄▄▄▄▅▅▅▅▅▆▆▆▆▆▆▆▇▇▇▇▇█████</td></tr><tr><td>val_acc</td><td>█▆▄▄▁▄▅▇▅▃▄▃▄▄▃</td></tr><tr><td>val_cohen_kappa</td><td>█▃▅▆▁▆▇▇▅▃▆▅▄▅▄</td></tr><tr><td>val_loss</td><td>▅▄▃▂▆▂▁▅▄▃▁▃█▄▄</td></tr></table><br/></div><div class=\"wandb-col\"><h3>Run summary:</h3><br/><table class=\"wandb\"><tr><td>best_val_loss</td><td>1.26663</td></tr><tr><td>epoch</td><td>14</td></tr><tr><td>train_loss_epoch</td><td>1.27049</td></tr><tr><td>train_loss_step</td><td>1.324</td></tr><tr><td>trainer/global_step</td><td>59</td></tr><tr><td>val_acc</td><td>0.20134</td></tr><tr><td>val_cohen_kappa</td><td>0.07463</td></tr><tr><td>val_loss</td><td>1.35179</td></tr></table><br/></div></div>"
      ],
      "text/plain": [
       "<IPython.core.display.HTML object>"
      ]
     },
     "metadata": {},
     "output_type": "display_data"
    },
    {
     "data": {
      "text/html": [
       " View run <strong style=\"color:#cdcd00\">prernn8_rnn512_hidden8lr0.0024445634202143584_batchsize64dropoutembed0.5436083209012667_dropoutRNN0.2511431620096437_dropouthidden20.3243466441867762</strong> at: <a href='https://wandb.ai/npr264-new-york-university/Baseline/runs/4qg957vj' target=\"_blank\">https://wandb.ai/npr264-new-york-university/Baseline/runs/4qg957vj</a><br> View project at: <a href='https://wandb.ai/npr264-new-york-university/Baseline' target=\"_blank\">https://wandb.ai/npr264-new-york-university/Baseline</a><br>Synced 5 W&B file(s), 0 media file(s), 0 artifact file(s) and 0 other file(s)"
      ],
      "text/plain": [
       "<IPython.core.display.HTML object>"
      ]
     },
     "metadata": {},
     "output_type": "display_data"
    },
    {
     "data": {
      "text/html": [
       "Find logs at: <code>./wandb/run-20250429_233254-4qg957vj/logs</code>"
      ],
      "text/plain": [
       "<IPython.core.display.HTML object>"
      ]
     },
     "metadata": {},
     "output_type": "display_data"
    },
    {
     "name": "stderr",
     "output_type": "stream",
     "text": [
      "[I 2025-04-29 23:34:22,686] Trial 6 finished with value: 1.2666295766830444 and parameters: {'dropout_embed': 0.5436083209012667, 'dropout_rnn': 0.2511431620096437, 'dropout_hidden2': 0.3243466441867762, 'pre_rnn_embedding_size': 8, 'rnn_hidden_size': 512, 'hidden_size2': 8, 'learning_rate': 0.0024445634202143584, 'batch_size': 64}. Best is trial 1 with value: 1.2047420740127563.\n",
      "/state/partition1/job-59918280/ipykernel_522356/1335623980.py:23: FutureWarning: suggest_loguniform has been deprecated in v3.0.0. This feature will be removed in v6.0.0. See https://github.com/optuna/optuna/releases/tag/v3.0.0. Use suggest_float(..., log=True) instead.\n",
      "  learning_rate = trial.suggest_loguniform(\"learning_rate\", 1e-5, 1e-2)\n",
      "GPU available: True (cuda), used: True\n",
      "TPU available: False, using: 0 TPU cores\n",
      "HPU available: False, using: 0 HPUs\n"
     ]
    },
    {
     "data": {
      "text/html": [
       "Tracking run with wandb version 0.19.9"
      ],
      "text/plain": [
       "<IPython.core.display.HTML object>"
      ]
     },
     "metadata": {},
     "output_type": "display_data"
    },
    {
     "data": {
      "text/html": [
       "Run data is saved locally in <code>./wandb/run-20250429_233422-s60wwuot</code>"
      ],
      "text/plain": [
       "<IPython.core.display.HTML object>"
      ]
     },
     "metadata": {},
     "output_type": "display_data"
    },
    {
     "data": {
      "text/html": [
       "Syncing run <strong><a href='https://wandb.ai/npr264-new-york-university/Baseline/runs/s60wwuot' target=\"_blank\">prernn4_rnn256_hidden16lr5.5508929266907494e-05_batchsize8dropoutembed0.5048895242843134_dropoutRNN0.5381220470526296_dropouthidden20.17523916286937402</a></strong> to <a href='https://wandb.ai/npr264-new-york-university/Baseline' target=\"_blank\">Weights & Biases</a> (<a href='https://wandb.me/developer-guide' target=\"_blank\">docs</a>)<br>"
      ],
      "text/plain": [
       "<IPython.core.display.HTML object>"
      ]
     },
     "metadata": {},
     "output_type": "display_data"
    },
    {
     "data": {
      "text/html": [
       " View project at <a href='https://wandb.ai/npr264-new-york-university/Baseline' target=\"_blank\">https://wandb.ai/npr264-new-york-university/Baseline</a>"
      ],
      "text/plain": [
       "<IPython.core.display.HTML object>"
      ]
     },
     "metadata": {},
     "output_type": "display_data"
    },
    {
     "data": {
      "text/html": [
       " View run at <a href='https://wandb.ai/npr264-new-york-university/Baseline/runs/s60wwuot' target=\"_blank\">https://wandb.ai/npr264-new-york-university/Baseline/runs/s60wwuot</a>"
      ],
      "text/plain": [
       "<IPython.core.display.HTML object>"
      ]
     },
     "metadata": {},
     "output_type": "display_data"
    },
    {
     "name": "stderr",
     "output_type": "stream",
     "text": [
      "/ext3/miniforge3/lib/python3.12/site-packages/pytorch_lightning/callbacks/model_checkpoint.py:654: Checkpoint directory /scratch/npr264/BioDeepL/project/moved_from_home/checkpoints/7 exists and is not empty.\n",
      "LOCAL_RANK: 0 - CUDA_VISIBLE_DEVICES: [0]\n",
      "/ext3/miniforge3/lib/python3.12/site-packages/torch/optim/lr_scheduler.py:62: UserWarning: The verbose parameter is deprecated. Please use get_last_lr() to access the learning rate.\n",
      "  warnings.warn(\n",
      "\n",
      "  | Name            | Type                 | Params | Mode \n",
      "-----------------------------------------------------------------\n",
      "0 | embeddingLayer  | Linear               | 24     | train\n",
      "1 | dropout_embed   | Dropout              | 0      | train\n",
      "2 | dropout_hidden2 | Dropout              | 0      | train\n",
      "3 | rnn             | LSTM                 | 2.1 M  | train\n",
      "4 | hidden2         | Linear               | 8.2 K  | train\n",
      "5 | classifier      | Linear               | 68     | train\n",
      "6 | train_criterion | CrossEntropyLoss     | 0      | train\n",
      "7 | val_criterion   | CrossEntropyLoss     | 0      | train\n",
      "8 | kappa           | MulticlassCohenKappa | 0      | train\n",
      "-----------------------------------------------------------------\n",
      "2.1 M     Trainable params\n",
      "0         Non-trainable params\n",
      "2.1 M     Total params\n",
      "8.512     Total estimated model params size (MB)\n",
      "9         Modules in train mode\n",
      "0         Modules in eval mode\n",
      "SLURM auto-requeueing enabled. Setting signal handlers.\n"
     ]
    },
    {
     "name": "stdout",
     "output_type": "stream",
     "text": [
      "Epoch 0: 100%|██████████| 26/26 [00:04<00:00,  6.26it/s, v_num=wuot, train_loss_step=1.390]\n",
      "Validation: |          | 0/? [00:00<?, ?it/s]\u001b[A\n",
      "Validation:   0%|          | 0/4 [00:00<?, ?it/s]\u001b[A\n",
      "Validation DataLoader 0:   0%|          | 0/4 [00:00<?, ?it/s]\u001b[A\n",
      "Validation DataLoader 0:  25%|██▌       | 1/4 [00:00<00:00, 13.43it/s]\u001b[A\n",
      "Validation DataLoader 0:  50%|█████     | 2/4 [00:00<00:00, 13.90it/s]\u001b[A\n",
      "Validation DataLoader 0:  75%|███████▌  | 3/4 [00:00<00:00, 12.00it/s]\u001b[A\n",
      "Validation DataLoader 0: 100%|██████████| 4/4 [00:00<00:00, 12.03it/s]\u001b[A\n",
      "Epoch 0: 100%|██████████| 26/26 [00:05<00:00,  4.86it/s, v_num=wuot, train_loss_step=1.390, val_loss=1.380, val_acc=0.108, val_cohen_kappa=0.0161, train_loss_epoch=1.390]"
     ]
    },
    {
     "name": "stderr",
     "output_type": "stream",
     "text": [
      "Metric val_loss improved. New best score: 1.382\n"
     ]
    },
    {
     "name": "stdout",
     "output_type": "stream",
     "text": [
      "Epoch 1: 100%|██████████| 26/26 [00:05<00:00,  4.99it/s, v_num=wuot, train_loss_step=1.370, val_loss=1.380, val_acc=0.108, val_cohen_kappa=0.0161, train_loss_epoch=1.390]\n",
      "Validation: |          | 0/? [00:00<?, ?it/s]\u001b[A\n",
      "Validation:   0%|          | 0/4 [00:00<?, ?it/s]\u001b[A\n",
      "Validation DataLoader 0:   0%|          | 0/4 [00:00<?, ?it/s]\u001b[A\n",
      "Validation DataLoader 0:  25%|██▌       | 1/4 [00:00<00:00, 11.01it/s]\u001b[A\n",
      "Validation DataLoader 0:  50%|█████     | 2/4 [00:00<00:00, 15.05it/s]\u001b[A\n",
      "Validation DataLoader 0:  75%|███████▌  | 3/4 [00:00<00:00, 13.97it/s]\u001b[A\n",
      "Validation DataLoader 0: 100%|██████████| 4/4 [00:00<00:00, 13.37it/s]\u001b[A\n",
      "Epoch 1: 100%|██████████| 26/26 [00:06<00:00,  4.06it/s, v_num=wuot, train_loss_step=1.370, val_loss=1.380, val_acc=0.241, val_cohen_kappa=0.0755, train_loss_epoch=1.380]"
     ]
    },
    {
     "name": "stderr",
     "output_type": "stream",
     "text": [
      "Metric val_loss improved by 0.001 >= min_delta = 0.0. New best score: 1.381\n"
     ]
    },
    {
     "name": "stdout",
     "output_type": "stream",
     "text": [
      "Epoch 2: 100%|██████████| 26/26 [00:05<00:00,  5.09it/s, v_num=wuot, train_loss_step=1.380, val_loss=1.380, val_acc=0.241, val_cohen_kappa=0.0755, train_loss_epoch=1.380]\n",
      "Validation: |          | 0/? [00:00<?, ?it/s]\u001b[A\n",
      "Validation:   0%|          | 0/4 [00:00<?, ?it/s]\u001b[A\n",
      "Validation DataLoader 0:   0%|          | 0/4 [00:00<?, ?it/s]\u001b[A\n",
      "Validation DataLoader 0:  25%|██▌       | 1/4 [00:00<00:00, 10.83it/s]\u001b[A\n",
      "Validation DataLoader 0:  50%|█████     | 2/4 [00:00<00:00, 14.69it/s]\u001b[A\n",
      "Validation DataLoader 0:  75%|███████▌  | 3/4 [00:00<00:00, 16.94it/s]\u001b[A\n",
      "Validation DataLoader 0: 100%|██████████| 4/4 [00:00<00:00, 15.32it/s]\u001b[A\n",
      "Epoch 2: 100%|██████████| 26/26 [00:06<00:00,  4.18it/s, v_num=wuot, train_loss_step=1.380, val_loss=1.380, val_acc=0.384, val_cohen_kappa=0.0951, train_loss_epoch=1.380]"
     ]
    },
    {
     "name": "stderr",
     "output_type": "stream",
     "text": [
      "Metric val_loss improved by 0.001 >= min_delta = 0.0. New best score: 1.380\n"
     ]
    },
    {
     "name": "stdout",
     "output_type": "stream",
     "text": [
      "Epoch 3: 100%|██████████| 26/26 [00:05<00:00,  5.07it/s, v_num=wuot, train_loss_step=1.380, val_loss=1.380, val_acc=0.384, val_cohen_kappa=0.0951, train_loss_epoch=1.380]\n",
      "Validation: |          | 0/? [00:00<?, ?it/s]\u001b[A\n",
      "Validation:   0%|          | 0/4 [00:00<?, ?it/s]\u001b[A\n",
      "Validation DataLoader 0:   0%|          | 0/4 [00:00<?, ?it/s]\u001b[A\n",
      "Validation DataLoader 0:  25%|██▌       | 1/4 [00:00<00:00, 10.60it/s]\u001b[A\n",
      "Validation DataLoader 0:  50%|█████     | 2/4 [00:00<00:00, 10.02it/s]\u001b[A\n",
      "Validation DataLoader 0:  75%|███████▌  | 3/4 [00:00<00:00, 10.13it/s]\u001b[A\n",
      "Validation DataLoader 0: 100%|██████████| 4/4 [00:00<00:00,  9.45it/s]\u001b[A\n",
      "Epoch 3: 100%|██████████| 26/26 [00:06<00:00,  4.06it/s, v_num=wuot, train_loss_step=1.380, val_loss=1.380, val_acc=0.372, val_cohen_kappa=0.0997, train_loss_epoch=1.370]"
     ]
    },
    {
     "name": "stderr",
     "output_type": "stream",
     "text": [
      "Metric val_loss improved by 0.003 >= min_delta = 0.0. New best score: 1.377\n"
     ]
    },
    {
     "name": "stdout",
     "output_type": "stream",
     "text": [
      "Epoch 4: 100%|██████████| 26/26 [00:05<00:00,  5.14it/s, v_num=wuot, train_loss_step=1.360, val_loss=1.380, val_acc=0.372, val_cohen_kappa=0.0997, train_loss_epoch=1.370]\n",
      "Validation: |          | 0/? [00:00<?, ?it/s]\u001b[A\n",
      "Validation:   0%|          | 0/4 [00:00<?, ?it/s]\u001b[A\n",
      "Validation DataLoader 0:   0%|          | 0/4 [00:00<?, ?it/s]\u001b[A\n",
      "Validation DataLoader 0:  25%|██▌       | 1/4 [00:00<00:00, 10.62it/s]\u001b[A\n",
      "Validation DataLoader 0:  50%|█████     | 2/4 [00:00<00:00, 10.14it/s]\u001b[A\n",
      "Validation DataLoader 0:  75%|███████▌  | 3/4 [00:00<00:00, 10.13it/s]\u001b[A\n",
      "Validation DataLoader 0: 100%|██████████| 4/4 [00:00<00:00,  9.37it/s]\u001b[A\n",
      "Epoch 4: 100%|██████████| 26/26 [00:06<00:00,  4.06it/s, v_num=wuot, train_loss_step=1.360, val_loss=1.370, val_acc=0.385, val_cohen_kappa=0.112, train_loss_epoch=1.360] "
     ]
    },
    {
     "name": "stderr",
     "output_type": "stream",
     "text": [
      "Metric val_loss improved by 0.005 >= min_delta = 0.0. New best score: 1.372\n"
     ]
    },
    {
     "name": "stdout",
     "output_type": "stream",
     "text": [
      "Epoch 5: 100%|██████████| 26/26 [00:04<00:00,  5.26it/s, v_num=wuot, train_loss_step=1.250, val_loss=1.370, val_acc=0.385, val_cohen_kappa=0.112, train_loss_epoch=1.360]\n",
      "Validation: |          | 0/? [00:00<?, ?it/s]\u001b[A\n",
      "Validation:   0%|          | 0/4 [00:00<?, ?it/s]\u001b[A\n",
      "Validation DataLoader 0:   0%|          | 0/4 [00:00<?, ?it/s]\u001b[A\n",
      "Validation DataLoader 0:  25%|██▌       | 1/4 [00:00<00:00, 22.27it/s]\u001b[A\n",
      "Validation DataLoader 0:  50%|█████     | 2/4 [00:00<00:00, 13.22it/s]\u001b[A\n",
      "Validation DataLoader 0:  75%|███████▌  | 3/4 [00:00<00:00, 11.78it/s]\u001b[A\n",
      "Validation DataLoader 0: 100%|██████████| 4/4 [00:00<00:00, 10.39it/s]\u001b[A\n",
      "Epoch 5: 100%|██████████| 26/26 [00:06<00:00,  4.21it/s, v_num=wuot, train_loss_step=1.250, val_loss=1.370, val_acc=0.365, val_cohen_kappa=0.114, train_loss_epoch=1.350]"
     ]
    },
    {
     "name": "stderr",
     "output_type": "stream",
     "text": [
      "Metric val_loss improved by 0.003 >= min_delta = 0.0. New best score: 1.369\n"
     ]
    },
    {
     "name": "stdout",
     "output_type": "stream",
     "text": [
      "Epoch 6: 100%|██████████| 26/26 [00:04<00:00,  5.35it/s, v_num=wuot, train_loss_step=1.360, val_loss=1.370, val_acc=0.365, val_cohen_kappa=0.114, train_loss_epoch=1.350]\n",
      "Validation: |          | 0/? [00:00<?, ?it/s]\u001b[A\n",
      "Validation:   0%|          | 0/4 [00:00<?, ?it/s]\u001b[A\n",
      "Validation DataLoader 0:   0%|          | 0/4 [00:00<?, ?it/s]\u001b[A\n",
      "Validation DataLoader 0:  25%|██▌       | 1/4 [00:00<00:00, 11.20it/s]\u001b[A\n",
      "Validation DataLoader 0:  50%|█████     | 2/4 [00:00<00:00, 10.76it/s]\u001b[A\n",
      "Validation DataLoader 0:  75%|███████▌  | 3/4 [00:00<00:00, 10.29it/s]\u001b[A\n",
      "Validation DataLoader 0: 100%|██████████| 4/4 [00:00<00:00, 10.31it/s]\u001b[A\n",
      "Epoch 6: 100%|██████████| 26/26 [00:06<00:00,  4.31it/s, v_num=wuot, train_loss_step=1.360, val_loss=1.350, val_acc=0.279, val_cohen_kappa=0.0963, train_loss_epoch=1.320]"
     ]
    },
    {
     "name": "stderr",
     "output_type": "stream",
     "text": [
      "Metric val_loss improved by 0.022 >= min_delta = 0.0. New best score: 1.348\n"
     ]
    },
    {
     "name": "stdout",
     "output_type": "stream",
     "text": [
      "Epoch 7: 100%|██████████| 26/26 [00:04<00:00,  6.23it/s, v_num=wuot, train_loss_step=1.220, val_loss=1.350, val_acc=0.279, val_cohen_kappa=0.0963, train_loss_epoch=1.320]\n",
      "Validation: |          | 0/? [00:00<?, ?it/s]\u001b[A\n",
      "Validation:   0%|          | 0/4 [00:00<?, ?it/s]\u001b[A\n",
      "Validation DataLoader 0:   0%|          | 0/4 [00:00<?, ?it/s]\u001b[A\n",
      "Validation DataLoader 0:  25%|██▌       | 1/4 [00:00<00:00, 22.90it/s]\u001b[A\n",
      "Validation DataLoader 0:  50%|█████     | 2/4 [00:00<00:00, 10.56it/s]\u001b[A\n",
      "Validation DataLoader 0:  75%|███████▌  | 3/4 [00:00<00:00, 12.94it/s]\u001b[A\n",
      "Validation DataLoader 0: 100%|██████████| 4/4 [00:00<00:00, 11.99it/s]\u001b[A\n",
      "Epoch 7: 100%|██████████| 26/26 [00:05<00:00,  4.86it/s, v_num=wuot, train_loss_step=1.220, val_loss=1.310, val_acc=0.270, val_cohen_kappa=0.0859, train_loss_epoch=1.310]"
     ]
    },
    {
     "name": "stderr",
     "output_type": "stream",
     "text": [
      "Metric val_loss improved by 0.037 >= min_delta = 0.0. New best score: 1.310\n"
     ]
    },
    {
     "name": "stdout",
     "output_type": "stream",
     "text": [
      "Epoch 8: 100%|██████████| 26/26 [00:05<00:00,  4.96it/s, v_num=wuot, train_loss_step=1.270, val_loss=1.310, val_acc=0.270, val_cohen_kappa=0.0859, train_loss_epoch=1.310]\n",
      "Validation: |          | 0/? [00:00<?, ?it/s]\u001b[A\n",
      "Validation:   0%|          | 0/4 [00:00<?, ?it/s]\u001b[A\n",
      "Validation DataLoader 0:   0%|          | 0/4 [00:00<?, ?it/s]\u001b[A\n",
      "Validation DataLoader 0:  25%|██▌       | 1/4 [00:00<00:00, 14.94it/s]\u001b[A\n",
      "Validation DataLoader 0:  50%|█████     | 2/4 [00:00<00:00, 11.95it/s]\u001b[A\n",
      "Validation DataLoader 0:  75%|███████▌  | 3/4 [00:00<00:00, 11.84it/s]\u001b[A\n",
      "Validation DataLoader 0: 100%|██████████| 4/4 [00:00<00:00, 10.33it/s]\u001b[A\n",
      "Epoch 8: 100%|██████████| 26/26 [00:06<00:00,  4.02it/s, v_num=wuot, train_loss_step=1.270, val_loss=1.280, val_acc=0.294, val_cohen_kappa=0.123, train_loss_epoch=1.300] "
     ]
    },
    {
     "name": "stderr",
     "output_type": "stream",
     "text": [
      "Metric val_loss improved by 0.028 >= min_delta = 0.0. New best score: 1.282\n"
     ]
    },
    {
     "name": "stdout",
     "output_type": "stream",
     "text": [
      "Epoch 9: 100%|██████████| 26/26 [00:04<00:00,  5.21it/s, v_num=wuot, train_loss_step=1.200, val_loss=1.280, val_acc=0.294, val_cohen_kappa=0.123, train_loss_epoch=1.300]\n",
      "Validation: |          | 0/? [00:00<?, ?it/s]\u001b[A\n",
      "Validation:   0%|          | 0/4 [00:00<?, ?it/s]\u001b[A\n",
      "Validation DataLoader 0:   0%|          | 0/4 [00:00<?, ?it/s]\u001b[A\n",
      "Validation DataLoader 0:  25%|██▌       | 1/4 [00:00<00:00, 11.18it/s]\u001b[A\n",
      "Validation DataLoader 0:  50%|█████     | 2/4 [00:00<00:00, 11.44it/s]\u001b[A\n",
      "Validation DataLoader 0:  75%|███████▌  | 3/4 [00:00<00:00, 11.01it/s]\u001b[A\n",
      "Validation DataLoader 0: 100%|██████████| 4/4 [00:00<00:00, 10.48it/s]\u001b[A\n",
      "Epoch 9: 100%|██████████| 26/26 [00:06<00:00,  4.17it/s, v_num=wuot, train_loss_step=1.200, val_loss=1.280, val_acc=0.276, val_cohen_kappa=0.117, train_loss_epoch=1.290]"
     ]
    },
    {
     "name": "stderr",
     "output_type": "stream",
     "text": [
      "Metric val_loss improved by 0.004 >= min_delta = 0.0. New best score: 1.278\n"
     ]
    },
    {
     "name": "stdout",
     "output_type": "stream",
     "text": [
      "Epoch 10: 100%|██████████| 26/26 [00:05<00:00,  5.20it/s, v_num=wuot, train_loss_step=1.310, val_loss=1.280, val_acc=0.276, val_cohen_kappa=0.117, train_loss_epoch=1.290]\n",
      "Validation: |          | 0/? [00:00<?, ?it/s]\u001b[A\n",
      "Validation:   0%|          | 0/4 [00:00<?, ?it/s]\u001b[A\n",
      "Validation DataLoader 0:   0%|          | 0/4 [00:00<?, ?it/s]\u001b[A\n",
      "Validation DataLoader 0:  25%|██▌       | 1/4 [00:00<00:00, 11.28it/s]\u001b[A\n",
      "Validation DataLoader 0:  50%|█████     | 2/4 [00:00<00:00, 11.51it/s]\u001b[A\n",
      "Validation DataLoader 0:  75%|███████▌  | 3/4 [00:00<00:00, 11.11it/s]\u001b[A\n",
      "Validation DataLoader 0: 100%|██████████| 4/4 [00:00<00:00, 10.09it/s]\u001b[A\n",
      "Epoch 10: 100%|██████████| 26/26 [00:06<00:00,  4.16it/s, v_num=wuot, train_loss_step=1.310, val_loss=1.260, val_acc=0.270, val_cohen_kappa=0.118, train_loss_epoch=1.290]"
     ]
    },
    {
     "name": "stderr",
     "output_type": "stream",
     "text": [
      "Metric val_loss improved by 0.022 >= min_delta = 0.0. New best score: 1.256\n"
     ]
    },
    {
     "name": "stdout",
     "output_type": "stream",
     "text": [
      "Epoch 11: 100%|██████████| 26/26 [00:05<00:00,  5.16it/s, v_num=wuot, train_loss_step=1.520, val_loss=1.260, val_acc=0.270, val_cohen_kappa=0.118, train_loss_epoch=1.290]\n",
      "Validation: |          | 0/? [00:00<?, ?it/s]\u001b[A\n",
      "Validation:   0%|          | 0/4 [00:00<?, ?it/s]\u001b[A\n",
      "Validation DataLoader 0:   0%|          | 0/4 [00:00<?, ?it/s]\u001b[A\n",
      "Validation DataLoader 0:  25%|██▌       | 1/4 [00:00<00:00, 14.59it/s]\u001b[A\n",
      "Validation DataLoader 0:  50%|█████     | 2/4 [00:00<00:00, 13.03it/s]\u001b[A\n",
      "Validation DataLoader 0:  75%|███████▌  | 3/4 [00:00<00:00, 12.54it/s]\u001b[A\n",
      "Validation DataLoader 0: 100%|██████████| 4/4 [00:00<00:00, 11.70it/s]\u001b[A\n",
      "Epoch 11: 100%|██████████| 26/26 [00:06<00:00,  4.10it/s, v_num=wuot, train_loss_step=1.520, val_loss=1.250, val_acc=0.256, val_cohen_kappa=0.117, train_loss_epoch=1.270]"
     ]
    },
    {
     "name": "stderr",
     "output_type": "stream",
     "text": [
      "Metric val_loss improved by 0.003 >= min_delta = 0.0. New best score: 1.253\n"
     ]
    },
    {
     "name": "stdout",
     "output_type": "stream",
     "text": [
      "Epoch 12: 100%|██████████| 26/26 [00:05<00:00,  5.11it/s, v_num=wuot, train_loss_step=1.360, val_loss=1.250, val_acc=0.256, val_cohen_kappa=0.117, train_loss_epoch=1.270]\n",
      "Validation: |          | 0/? [00:00<?, ?it/s]\u001b[A\n",
      "Validation:   0%|          | 0/4 [00:00<?, ?it/s]\u001b[A\n",
      "Validation DataLoader 0:   0%|          | 0/4 [00:00<?, ?it/s]\u001b[A\n",
      "Validation DataLoader 0:  25%|██▌       | 1/4 [00:00<00:00, 11.05it/s]\u001b[A\n",
      "Validation DataLoader 0:  50%|█████     | 2/4 [00:00<00:00, 11.16it/s]\u001b[A\n",
      "Validation DataLoader 0:  75%|███████▌  | 3/4 [00:00<00:00, 10.68it/s]\u001b[A\n",
      "Validation DataLoader 0: 100%|██████████| 4/4 [00:00<00:00, 10.33it/s]\u001b[A\n",
      "Epoch 13: 100%|██████████| 26/26 [00:05<00:00,  5.19it/s, v_num=wuot, train_loss_step=1.260, val_loss=1.250, val_acc=0.251, val_cohen_kappa=0.112, train_loss_epoch=1.270]\n",
      "Validation: |          | 0/? [00:00<?, ?it/s]\u001b[A\n",
      "Validation:   0%|          | 0/4 [00:00<?, ?it/s]\u001b[A\n",
      "Validation DataLoader 0:   0%|          | 0/4 [00:00<?, ?it/s]\u001b[A\n",
      "Validation DataLoader 0:  25%|██▌       | 1/4 [00:00<00:00, 12.18it/s]\u001b[A\n",
      "Validation DataLoader 0:  50%|█████     | 2/4 [00:00<00:00, 11.00it/s]\u001b[A\n",
      "Validation DataLoader 0:  75%|███████▌  | 3/4 [00:00<00:00, 11.21it/s]\u001b[A\n",
      "Validation DataLoader 0: 100%|██████████| 4/4 [00:00<00:00,  9.97it/s]\u001b[A\n",
      "Epoch 13: 100%|██████████| 26/26 [00:06<00:00,  4.09it/s, v_num=wuot, train_loss_step=1.260, val_loss=1.250, val_acc=0.245, val_cohen_kappa=0.108, train_loss_epoch=1.270]"
     ]
    },
    {
     "name": "stderr",
     "output_type": "stream",
     "text": [
      "Metric val_loss improved by 0.000 >= min_delta = 0.0. New best score: 1.252\n"
     ]
    },
    {
     "name": "stdout",
     "output_type": "stream",
     "text": [
      "Epoch 14: 100%|██████████| 26/26 [00:04<00:00,  5.26it/s, v_num=wuot, train_loss_step=1.410, val_loss=1.250, val_acc=0.245, val_cohen_kappa=0.108, train_loss_epoch=1.270]\n",
      "Validation: |          | 0/? [00:00<?, ?it/s]\u001b[A\n",
      "Validation:   0%|          | 0/4 [00:00<?, ?it/s]\u001b[A\n",
      "Validation DataLoader 0:   0%|          | 0/4 [00:00<?, ?it/s]\u001b[A\n",
      "Validation DataLoader 0:  25%|██▌       | 1/4 [00:00<00:00, 12.63it/s]\u001b[A\n",
      "Validation DataLoader 0:  50%|█████     | 2/4 [00:00<00:00, 10.65it/s]\u001b[A\n",
      "Validation DataLoader 0:  75%|███████▌  | 3/4 [00:00<00:00, 11.18it/s]\u001b[A\n",
      "Validation DataLoader 0: 100%|██████████| 4/4 [00:00<00:00,  9.98it/s]\u001b[A\n",
      "Epoch 15: 100%|██████████| 26/26 [00:04<00:00,  5.28it/s, v_num=wuot, train_loss_step=1.380, val_loss=1.260, val_acc=0.257, val_cohen_kappa=0.106, train_loss_epoch=1.260]\n",
      "Validation: |          | 0/? [00:00<?, ?it/s]\u001b[A\n",
      "Validation:   0%|          | 0/4 [00:00<?, ?it/s]\u001b[A\n",
      "Validation DataLoader 0:   0%|          | 0/4 [00:00<?, ?it/s]\u001b[A\n",
      "Validation DataLoader 0:  25%|██▌       | 1/4 [00:00<00:00, 12.38it/s]\u001b[A\n",
      "Validation DataLoader 0:  50%|█████     | 2/4 [00:00<00:00, 12.40it/s]\u001b[A\n",
      "Validation DataLoader 0:  75%|███████▌  | 3/4 [00:00<00:00, 12.13it/s]\u001b[A\n",
      "Validation DataLoader 0: 100%|██████████| 4/4 [00:00<00:00, 11.49it/s]\u001b[A\n",
      "Epoch 15: 100%|██████████| 26/26 [00:06<00:00,  4.06it/s, v_num=wuot, train_loss_step=1.380, val_loss=1.250, val_acc=0.278, val_cohen_kappa=0.124, train_loss_epoch=1.250]"
     ]
    },
    {
     "name": "stderr",
     "output_type": "stream",
     "text": [
      "Metric val_loss improved by 0.002 >= min_delta = 0.0. New best score: 1.251\n"
     ]
    },
    {
     "name": "stdout",
     "output_type": "stream",
     "text": [
      "Epoch 16: 100%|██████████| 26/26 [00:04<00:00,  5.36it/s, v_num=wuot, train_loss_step=1.330, val_loss=1.250, val_acc=0.278, val_cohen_kappa=0.124, train_loss_epoch=1.250]\n",
      "Validation: |          | 0/? [00:00<?, ?it/s]\u001b[A\n",
      "Validation:   0%|          | 0/4 [00:00<?, ?it/s]\u001b[A\n",
      "Validation DataLoader 0:   0%|          | 0/4 [00:00<?, ?it/s]\u001b[A\n",
      "Validation DataLoader 0:  25%|██▌       | 1/4 [00:00<00:00, 13.46it/s]\u001b[A\n",
      "Validation DataLoader 0:  50%|█████     | 2/4 [00:00<00:00, 11.27it/s]\u001b[A\n",
      "Validation DataLoader 0:  75%|███████▌  | 3/4 [00:00<00:00, 11.33it/s]\u001b[A\n",
      "Validation DataLoader 0: 100%|██████████| 4/4 [00:00<00:00, 10.08it/s]\u001b[A\n",
      "Epoch 16: 100%|██████████| 26/26 [00:06<00:00,  4.25it/s, v_num=wuot, train_loss_step=1.330, val_loss=1.250, val_acc=0.251, val_cohen_kappa=0.105, train_loss_epoch=1.250]"
     ]
    },
    {
     "name": "stderr",
     "output_type": "stream",
     "text": [
      "Metric val_loss improved by 0.003 >= min_delta = 0.0. New best score: 1.248\n"
     ]
    },
    {
     "name": "stdout",
     "output_type": "stream",
     "text": [
      "Epoch 17: 100%|██████████| 26/26 [00:04<00:00,  5.21it/s, v_num=wuot, train_loss_step=1.190, val_loss=1.250, val_acc=0.251, val_cohen_kappa=0.105, train_loss_epoch=1.250]\n",
      "Validation: |          | 0/? [00:00<?, ?it/s]\u001b[A\n",
      "Validation:   0%|          | 0/4 [00:00<?, ?it/s]\u001b[A\n",
      "Validation DataLoader 0:   0%|          | 0/4 [00:00<?, ?it/s]\u001b[A\n",
      "Validation DataLoader 0:  25%|██▌       | 1/4 [00:00<00:00, 11.17it/s]\u001b[A\n",
      "Validation DataLoader 0:  50%|█████     | 2/4 [00:00<00:00, 11.38it/s]\u001b[A\n",
      "Validation DataLoader 0:  75%|███████▌  | 3/4 [00:00<00:00, 11.12it/s]\u001b[A\n",
      "Validation DataLoader 0: 100%|██████████| 4/4 [00:00<00:00, 10.46it/s]\u001b[A\n",
      "Epoch 18: 100%|██████████| 26/26 [00:05<00:00,  5.17it/s, v_num=wuot, train_loss_step=1.200, val_loss=1.250, val_acc=0.237, val_cohen_kappa=0.0959, train_loss_epoch=1.240]\n",
      "Validation: |          | 0/? [00:00<?, ?it/s]\u001b[A\n",
      "Validation:   0%|          | 0/4 [00:00<?, ?it/s]\u001b[A\n",
      "Validation DataLoader 0:   0%|          | 0/4 [00:00<?, ?it/s]\u001b[A\n",
      "Validation DataLoader 0:  25%|██▌       | 1/4 [00:00<00:00, 12.13it/s]\u001b[A\n",
      "Validation DataLoader 0:  50%|█████     | 2/4 [00:00<00:00, 10.64it/s]\u001b[A\n",
      "Validation DataLoader 0:  75%|███████▌  | 3/4 [00:00<00:00, 11.04it/s]\u001b[A\n",
      "Validation DataLoader 0: 100%|██████████| 4/4 [00:00<00:00, 10.00it/s]\u001b[A\n",
      "Epoch 18: 100%|██████████| 26/26 [00:06<00:00,  4.18it/s, v_num=wuot, train_loss_step=1.200, val_loss=1.240, val_acc=0.261, val_cohen_kappa=0.114, train_loss_epoch=1.240] "
     ]
    },
    {
     "name": "stderr",
     "output_type": "stream",
     "text": [
      "Metric val_loss improved by 0.007 >= min_delta = 0.0. New best score: 1.241\n"
     ]
    },
    {
     "name": "stdout",
     "output_type": "stream",
     "text": [
      "Epoch 19: 100%|██████████| 26/26 [00:05<00:00,  5.20it/s, v_num=wuot, train_loss_step=1.090, val_loss=1.240, val_acc=0.261, val_cohen_kappa=0.114, train_loss_epoch=1.240]\n",
      "Validation: |          | 0/? [00:00<?, ?it/s]\u001b[A\n",
      "Validation:   0%|          | 0/4 [00:00<?, ?it/s]\u001b[A\n",
      "Validation DataLoader 0:   0%|          | 0/4 [00:00<?, ?it/s]\u001b[A\n",
      "Validation DataLoader 0:  25%|██▌       | 1/4 [00:00<00:00, 12.11it/s]\u001b[A\n",
      "Validation DataLoader 0:  50%|█████     | 2/4 [00:00<00:00, 16.26it/s]\u001b[A\n",
      "Validation DataLoader 0:  75%|███████▌  | 3/4 [00:00<00:00, 13.38it/s]\u001b[A\n",
      "Validation DataLoader 0: 100%|██████████| 4/4 [00:00<00:00, 14.21it/s]\u001b[A\n",
      "Epoch 19: 100%|██████████| 26/26 [00:06<00:00,  4.12it/s, v_num=wuot, train_loss_step=1.090, val_loss=1.250, val_acc=0.252, val_cohen_kappa=0.103, train_loss_epoch=1.240]"
     ]
    },
    {
     "name": "stderr",
     "output_type": "stream",
     "text": [
      "`Trainer.fit` stopped: `max_epochs=20` reached.\n"
     ]
    },
    {
     "name": "stdout",
     "output_type": "stream",
     "text": [
      "Epoch 19: 100%|██████████| 26/26 [00:06<00:00,  4.12it/s, v_num=wuot, train_loss_step=1.090, val_loss=1.250, val_acc=0.252, val_cohen_kappa=0.103, train_loss_epoch=1.240]\n"
     ]
    },
    {
     "name": "stderr",
     "output_type": "stream",
     "text": [
      "You are using the plain ModelCheckpoint callback. Consider using LitModelCheckpoint which with seamless uploading to Model registry.\n",
      "GPU available: True (cuda), used: True\n",
      "TPU available: False, using: 0 TPU cores\n",
      "HPU available: False, using: 0 HPUs\n"
     ]
    },
    {
     "name": "stdout",
     "output_type": "stream",
     "text": [
      "Best model path: /scratch/npr264/BioDeepL/project/moved_from_home/checkpoints/7/best-checkpoint-v18.ckpt\n"
     ]
    },
    {
     "name": "stderr",
     "output_type": "stream",
     "text": [
      "LOCAL_RANK: 0 - CUDA_VISIBLE_DEVICES: [0]\n",
      "SLURM auto-requeueing enabled. Setting signal handlers.\n"
     ]
    },
    {
     "name": "stdout",
     "output_type": "stream",
     "text": [
      "Validation DataLoader 0: 100%|██████████| 4/4 [00:00<00:00, 19.82it/s]\n"
     ]
    },
    {
     "name": "stderr",
     "output_type": "stream",
     "text": [
      "\u001b[34m\u001b[1mwandb\u001b[0m: \u001b[32m\u001b[41mERROR\u001b[0m The nbformat package was not found. It is required to save notebook history.\n"
     ]
    },
    {
     "data": {
      "text/html": [],
      "text/plain": [
       "<IPython.core.display.HTML object>"
      ]
     },
     "metadata": {},
     "output_type": "display_data"
    },
    {
     "data": {
      "text/html": [
       "<br>    <style><br>        .wandb-row {<br>            display: flex;<br>            flex-direction: row;<br>            flex-wrap: wrap;<br>            justify-content: flex-start;<br>            width: 100%;<br>        }<br>        .wandb-col {<br>            display: flex;<br>            flex-direction: column;<br>            flex-basis: 100%;<br>            flex: 1;<br>            padding: 10px;<br>        }<br>    </style><br><div class=\"wandb-row\"><div class=\"wandb-col\"><h3>Run history:</h3><br/><table class=\"wandb\"><tr><td>best_val_loss</td><td>▁</td></tr><tr><td>epoch</td><td>▁▁▁▁▂▂▂▂▂▂▂▃▃▃▄▄▄▅▅▅▅▅▅▆▆▆▆▆▇▇▇▇▇▇▇▇████</td></tr><tr><td>train_loss_epoch</td><td>███▇▇▆▅▄▄▃▃▂▃▂▂▂▁▁▁▁</td></tr><tr><td>train_loss_step</td><td>██████▇▇▇▇▆▅▆▆▇▅▆▅▅▄▇▅▇▁▆█▇▃▂▅▇▅▅▆▇▃▄▅▆▃</td></tr><tr><td>trainer/global_step</td><td>▁▁▁▁▁▂▂▂▂▃▃▃▃▄▄▄▄▄▄▄▅▅▅▅▅▅▅▅▆▆▆▆▆▆▆▇▇▇▇█</td></tr><tr><td>val_acc</td><td>▁▄████▅▅▆▅▅▅▅▄▅▅▅▄▅▅</td></tr><tr><td>val_cohen_kappa</td><td>▁▅▆▆▇▇▆▆████▇▇▇█▇▆▇▇</td></tr><tr><td>val_loss</td><td>█████▇▆▄▃▃▂▂▂▂▂▂▁▁▁▂</td></tr></table><br/></div><div class=\"wandb-col\"><h3>Run summary:</h3><br/><table class=\"wandb\"><tr><td>best_val_loss</td><td>1.24063</td></tr><tr><td>epoch</td><td>19</td></tr><tr><td>train_loss_epoch</td><td>1.23734</td></tr><tr><td>train_loss_step</td><td>1.09468</td></tr><tr><td>trainer/global_step</td><td>519</td></tr><tr><td>val_acc</td><td>0.25202</td></tr><tr><td>val_cohen_kappa</td><td>0.10275</td></tr><tr><td>val_loss</td><td>1.2529</td></tr></table><br/></div></div>"
      ],
      "text/plain": [
       "<IPython.core.display.HTML object>"
      ]
     },
     "metadata": {},
     "output_type": "display_data"
    },
    {
     "data": {
      "text/html": [
       " View run <strong style=\"color:#cdcd00\">prernn4_rnn256_hidden16lr5.5508929266907494e-05_batchsize8dropoutembed0.5048895242843134_dropoutRNN0.5381220470526296_dropouthidden20.17523916286937402</strong> at: <a href='https://wandb.ai/npr264-new-york-university/Baseline/runs/s60wwuot' target=\"_blank\">https://wandb.ai/npr264-new-york-university/Baseline/runs/s60wwuot</a><br> View project at: <a href='https://wandb.ai/npr264-new-york-university/Baseline' target=\"_blank\">https://wandb.ai/npr264-new-york-university/Baseline</a><br>Synced 5 W&B file(s), 0 media file(s), 0 artifact file(s) and 0 other file(s)"
      ],
      "text/plain": [
       "<IPython.core.display.HTML object>"
      ]
     },
     "metadata": {},
     "output_type": "display_data"
    },
    {
     "data": {
      "text/html": [
       "Find logs at: <code>./wandb/run-20250429_233422-s60wwuot/logs</code>"
      ],
      "text/plain": [
       "<IPython.core.display.HTML object>"
      ]
     },
     "metadata": {},
     "output_type": "display_data"
    },
    {
     "name": "stderr",
     "output_type": "stream",
     "text": [
      "[I 2025-04-29 23:36:33,095] Trial 7 finished with value: 1.2406257390975952 and parameters: {'dropout_embed': 0.5048895242843134, 'dropout_rnn': 0.5381220470526296, 'dropout_hidden2': 0.17523916286937402, 'pre_rnn_embedding_size': 4, 'rnn_hidden_size': 256, 'hidden_size2': 16, 'learning_rate': 5.5508929266907494e-05, 'batch_size': 8}. Best is trial 1 with value: 1.2047420740127563.\n",
      "/state/partition1/job-59918280/ipykernel_522356/1335623980.py:23: FutureWarning: suggest_loguniform has been deprecated in v3.0.0. This feature will be removed in v6.0.0. See https://github.com/optuna/optuna/releases/tag/v3.0.0. Use suggest_float(..., log=True) instead.\n",
      "  learning_rate = trial.suggest_loguniform(\"learning_rate\", 1e-5, 1e-2)\n",
      "GPU available: True (cuda), used: True\n",
      "TPU available: False, using: 0 TPU cores\n",
      "HPU available: False, using: 0 HPUs\n"
     ]
    },
    {
     "data": {
      "text/html": [
       "Tracking run with wandb version 0.19.9"
      ],
      "text/plain": [
       "<IPython.core.display.HTML object>"
      ]
     },
     "metadata": {},
     "output_type": "display_data"
    },
    {
     "data": {
      "text/html": [
       "Run data is saved locally in <code>./wandb/run-20250429_233633-0zd4aysh</code>"
      ],
      "text/plain": [
       "<IPython.core.display.HTML object>"
      ]
     },
     "metadata": {},
     "output_type": "display_data"
    },
    {
     "data": {
      "text/html": [
       "Syncing run <strong><a href='https://wandb.ai/npr264-new-york-university/Baseline/runs/0zd4aysh' target=\"_blank\">prernn16_rnn64_hidden16lr0.0007083482372659089_batchsize16dropoutembed0.3816103842622691_dropoutRNN0.3197011186104653_dropouthidden20.27580911056742374</a></strong> to <a href='https://wandb.ai/npr264-new-york-university/Baseline' target=\"_blank\">Weights & Biases</a> (<a href='https://wandb.me/developer-guide' target=\"_blank\">docs</a>)<br>"
      ],
      "text/plain": [
       "<IPython.core.display.HTML object>"
      ]
     },
     "metadata": {},
     "output_type": "display_data"
    },
    {
     "data": {
      "text/html": [
       " View project at <a href='https://wandb.ai/npr264-new-york-university/Baseline' target=\"_blank\">https://wandb.ai/npr264-new-york-university/Baseline</a>"
      ],
      "text/plain": [
       "<IPython.core.display.HTML object>"
      ]
     },
     "metadata": {},
     "output_type": "display_data"
    },
    {
     "data": {
      "text/html": [
       " View run at <a href='https://wandb.ai/npr264-new-york-university/Baseline/runs/0zd4aysh' target=\"_blank\">https://wandb.ai/npr264-new-york-university/Baseline/runs/0zd4aysh</a>"
      ],
      "text/plain": [
       "<IPython.core.display.HTML object>"
      ]
     },
     "metadata": {},
     "output_type": "display_data"
    },
    {
     "name": "stderr",
     "output_type": "stream",
     "text": [
      "/ext3/miniforge3/lib/python3.12/site-packages/pytorch_lightning/callbacks/model_checkpoint.py:654: Checkpoint directory /scratch/npr264/BioDeepL/project/moved_from_home/checkpoints/8 exists and is not empty.\n",
      "LOCAL_RANK: 0 - CUDA_VISIBLE_DEVICES: [0]\n",
      "/ext3/miniforge3/lib/python3.12/site-packages/torch/optim/lr_scheduler.py:62: UserWarning: The verbose parameter is deprecated. Please use get_last_lr() to access the learning rate.\n",
      "  warnings.warn(\n",
      "\n",
      "  | Name            | Type                 | Params | Mode \n",
      "-----------------------------------------------------------------\n",
      "0 | embeddingLayer  | Linear               | 96     | train\n",
      "1 | dropout_embed   | Dropout              | 0      | train\n",
      "2 | dropout_hidden2 | Dropout              | 0      | train\n",
      "3 | rnn             | LSTM                 | 142 K  | train\n",
      "4 | hidden2         | Linear               | 2.1 K  | train\n",
      "5 | classifier      | Linear               | 68     | train\n",
      "6 | train_criterion | CrossEntropyLoss     | 0      | train\n",
      "7 | val_criterion   | CrossEntropyLoss     | 0      | train\n",
      "8 | kappa           | MulticlassCohenKappa | 0      | train\n",
      "-----------------------------------------------------------------\n",
      "145 K     Trainable params\n",
      "0         Non-trainable params\n",
      "145 K     Total params\n",
      "0.580     Total estimated model params size (MB)\n",
      "9         Modules in train mode\n",
      "0         Modules in eval mode\n",
      "SLURM auto-requeueing enabled. Setting signal handlers.\n"
     ]
    },
    {
     "name": "stdout",
     "output_type": "stream",
     "text": [
      "Epoch 0: 100%|██████████| 13/13 [00:00<00:00, 25.86it/s, v_num=aysh, train_loss_step=1.380]\n",
      "Validation: |          | 0/? [00:00<?, ?it/s]\u001b[A\n",
      "Validation:   0%|          | 0/2 [00:00<?, ?it/s]\u001b[A\n",
      "Validation DataLoader 0:   0%|          | 0/2 [00:00<?, ?it/s]\u001b[A\n",
      "Validation DataLoader 0:  50%|█████     | 1/2 [00:00<00:00, 28.47it/s]\u001b[A\n",
      "Validation DataLoader 0: 100%|██████████| 2/2 [00:00<00:00, 26.37it/s]\u001b[A\n",
      "Epoch 0: 100%|██████████| 13/13 [00:01<00:00,  9.13it/s, v_num=aysh, train_loss_step=1.380, val_loss=1.400, val_acc=0.256, val_cohen_kappa=0.0209, train_loss_epoch=1.390]"
     ]
    },
    {
     "name": "stderr",
     "output_type": "stream",
     "text": [
      "Metric val_loss improved. New best score: 1.401\n"
     ]
    },
    {
     "name": "stdout",
     "output_type": "stream",
     "text": [
      "Epoch 1: 100%|██████████| 13/13 [00:01<00:00, 10.13it/s, v_num=aysh, train_loss_step=1.370, val_loss=1.400, val_acc=0.256, val_cohen_kappa=0.0209, train_loss_epoch=1.390]\n",
      "Validation: |          | 0/? [00:00<?, ?it/s]\u001b[A\n",
      "Validation:   0%|          | 0/2 [00:00<?, ?it/s]\u001b[A\n",
      "Validation DataLoader 0:   0%|          | 0/2 [00:00<?, ?it/s]\u001b[A\n",
      "Validation DataLoader 0:  50%|█████     | 1/2 [00:00<00:00, 33.99it/s]\u001b[A\n",
      "Validation DataLoader 0: 100%|██████████| 2/2 [00:00<00:00, 24.71it/s]\u001b[A\n",
      "Epoch 1: 100%|██████████| 13/13 [00:02<00:00,  5.75it/s, v_num=aysh, train_loss_step=1.370, val_loss=1.370, val_acc=0.217, val_cohen_kappa=0.0504, train_loss_epoch=1.360]"
     ]
    },
    {
     "name": "stderr",
     "output_type": "stream",
     "text": [
      "Metric val_loss improved by 0.035 >= min_delta = 0.0. New best score: 1.366\n"
     ]
    },
    {
     "name": "stdout",
     "output_type": "stream",
     "text": [
      "Epoch 2: 100%|██████████| 13/13 [00:01<00:00,  9.83it/s, v_num=aysh, train_loss_step=1.280, val_loss=1.370, val_acc=0.217, val_cohen_kappa=0.0504, train_loss_epoch=1.360]\n",
      "Validation: |          | 0/? [00:00<?, ?it/s]\u001b[A\n",
      "Validation:   0%|          | 0/2 [00:00<?, ?it/s]\u001b[A\n",
      "Validation DataLoader 0:   0%|          | 0/2 [00:00<?, ?it/s]\u001b[A\n",
      "Validation DataLoader 0:  50%|█████     | 1/2 [00:00<00:00, 27.02it/s]\u001b[A\n",
      "Validation DataLoader 0: 100%|██████████| 2/2 [00:00<00:00, 24.21it/s]\u001b[A\n",
      "Epoch 2: 100%|██████████| 13/13 [00:02<00:00,  5.69it/s, v_num=aysh, train_loss_step=1.280, val_loss=1.330, val_acc=0.181, val_cohen_kappa=0.0583, train_loss_epoch=1.320]"
     ]
    },
    {
     "name": "stderr",
     "output_type": "stream",
     "text": [
      "Metric val_loss improved by 0.036 >= min_delta = 0.0. New best score: 1.330\n"
     ]
    },
    {
     "name": "stdout",
     "output_type": "stream",
     "text": [
      "Epoch 3: 100%|██████████| 13/13 [00:01<00:00,  9.45it/s, v_num=aysh, train_loss_step=1.250, val_loss=1.330, val_acc=0.181, val_cohen_kappa=0.0583, train_loss_epoch=1.320]\n",
      "Validation: |          | 0/? [00:00<?, ?it/s]\u001b[A\n",
      "Validation:   0%|          | 0/2 [00:00<?, ?it/s]\u001b[A\n",
      "Validation DataLoader 0:   0%|          | 0/2 [00:00<?, ?it/s]\u001b[A\n",
      "Validation DataLoader 0:  50%|█████     | 1/2 [00:00<00:00, 33.04it/s]\u001b[A\n",
      "Validation DataLoader 0: 100%|██████████| 2/2 [00:00<00:00, 24.37it/s]\u001b[A\n",
      "Epoch 3: 100%|██████████| 13/13 [00:02<00:00,  5.59it/s, v_num=aysh, train_loss_step=1.250, val_loss=1.300, val_acc=0.197, val_cohen_kappa=0.0749, train_loss_epoch=1.270]"
     ]
    },
    {
     "name": "stderr",
     "output_type": "stream",
     "text": [
      "Metric val_loss improved by 0.027 >= min_delta = 0.0. New best score: 1.302\n"
     ]
    },
    {
     "name": "stdout",
     "output_type": "stream",
     "text": [
      "Epoch 4: 100%|██████████| 13/13 [00:01<00:00,  9.54it/s, v_num=aysh, train_loss_step=1.240, val_loss=1.300, val_acc=0.197, val_cohen_kappa=0.0749, train_loss_epoch=1.270]\n",
      "Validation: |          | 0/? [00:00<?, ?it/s]\u001b[A\n",
      "Validation:   0%|          | 0/2 [00:00<?, ?it/s]\u001b[A\n",
      "Validation DataLoader 0:   0%|          | 0/2 [00:00<?, ?it/s]\u001b[A\n",
      "Validation DataLoader 0:  50%|█████     | 1/2 [00:00<00:00, 28.92it/s]\u001b[A\n",
      "Validation DataLoader 0: 100%|██████████| 2/2 [00:00<00:00, 25.38it/s]\u001b[A\n",
      "Epoch 5: 100%|██████████| 13/13 [00:01<00:00,  9.68it/s, v_num=aysh, train_loss_step=1.290, val_loss=1.310, val_acc=0.252, val_cohen_kappa=0.0771, train_loss_epoch=1.260]\n",
      "Validation: |          | 0/? [00:00<?, ?it/s]\u001b[A\n",
      "Validation:   0%|          | 0/2 [00:00<?, ?it/s]\u001b[A\n",
      "Validation DataLoader 0:   0%|          | 0/2 [00:00<?, ?it/s]\u001b[A\n",
      "Validation DataLoader 0:  50%|█████     | 1/2 [00:00<00:00, 28.88it/s]\u001b[A\n",
      "Validation DataLoader 0: 100%|██████████| 2/2 [00:00<00:00, 25.45it/s]\u001b[A\n",
      "Epoch 5: 100%|██████████| 13/13 [00:02<00:00,  5.79it/s, v_num=aysh, train_loss_step=1.290, val_loss=1.270, val_acc=0.240, val_cohen_kappa=0.0729, train_loss_epoch=1.250]"
     ]
    },
    {
     "name": "stderr",
     "output_type": "stream",
     "text": [
      "Metric val_loss improved by 0.028 >= min_delta = 0.0. New best score: 1.275\n"
     ]
    },
    {
     "name": "stdout",
     "output_type": "stream",
     "text": [
      "Epoch 6: 100%|██████████| 13/13 [00:01<00:00,  9.81it/s, v_num=aysh, train_loss_step=1.320, val_loss=1.270, val_acc=0.240, val_cohen_kappa=0.0729, train_loss_epoch=1.250]\n",
      "Validation: |          | 0/? [00:00<?, ?it/s]\u001b[A\n",
      "Validation:   0%|          | 0/2 [00:00<?, ?it/s]\u001b[A\n",
      "Validation DataLoader 0:   0%|          | 0/2 [00:00<?, ?it/s]\u001b[A\n",
      "Validation DataLoader 0:  50%|█████     | 1/2 [00:00<00:00, 26.78it/s]\u001b[A\n",
      "Validation DataLoader 0: 100%|██████████| 2/2 [00:00<00:00, 33.88it/s]\u001b[A\n",
      "Epoch 7: 100%|██████████| 13/13 [00:01<00:00,  8.13it/s, v_num=aysh, train_loss_step=1.330, val_loss=1.300, val_acc=0.226, val_cohen_kappa=0.072, train_loss_epoch=1.240] \n",
      "Validation: |          | 0/? [00:00<?, ?it/s]\u001b[A\n",
      "Validation:   0%|          | 0/2 [00:00<?, ?it/s]\u001b[A\n",
      "Validation DataLoader 0:   0%|          | 0/2 [00:00<?, ?it/s]\u001b[A\n",
      "Validation DataLoader 0:  50%|█████     | 1/2 [00:00<00:00, 62.87it/s]\u001b[A\n",
      "Validation DataLoader 0: 100%|██████████| 2/2 [00:00<00:00, 51.64it/s]\u001b[A\n",
      "Epoch 8: 100%|██████████| 13/13 [00:01<00:00,  8.19it/s, v_num=aysh, train_loss_step=1.140, val_loss=1.340, val_acc=0.270, val_cohen_kappa=0.0701, train_loss_epoch=1.230]\n",
      "Validation: |          | 0/? [00:00<?, ?it/s]\u001b[A\n",
      "Validation:   0%|          | 0/2 [00:00<?, ?it/s]\u001b[A\n",
      "Validation DataLoader 0:   0%|          | 0/2 [00:00<?, ?it/s]\u001b[A\n",
      "Validation DataLoader 0:  50%|█████     | 1/2 [00:00<00:00, 32.55it/s]\u001b[A\n",
      "Validation DataLoader 0: 100%|██████████| 2/2 [00:00<00:00, 25.87it/s]\u001b[A\n",
      "Epoch 9: 100%|██████████| 13/13 [00:01<00:00, 10.22it/s, v_num=aysh, train_loss_step=1.200, val_loss=1.340, val_acc=0.220, val_cohen_kappa=0.0727, train_loss_epoch=1.220]\n",
      "Validation: |          | 0/? [00:00<?, ?it/s]\u001b[A\n",
      "Validation:   0%|          | 0/2 [00:00<?, ?it/s]\u001b[A\n",
      "Validation DataLoader 0:   0%|          | 0/2 [00:00<?, ?it/s]\u001b[A\n",
      "Validation DataLoader 0:  50%|█████     | 1/2 [00:00<00:00, 24.85it/s]\u001b[A\n",
      "Validation DataLoader 0: 100%|██████████| 2/2 [00:00<00:00, 23.90it/s]\u001b[A\n",
      "Epoch 9: 100%|██████████| 13/13 [00:02<00:00,  5.86it/s, v_num=aysh, train_loss_step=1.200, val_loss=1.340, val_acc=0.266, val_cohen_kappa=0.0722, train_loss_epoch=1.220]"
     ]
    },
    {
     "name": "stderr",
     "output_type": "stream",
     "text": [
      "Monitored metric val_loss did not improve in the last 4 records. Best score: 1.275. Signaling Trainer to stop.\n"
     ]
    },
    {
     "name": "stdout",
     "output_type": "stream",
     "text": [
      "Epoch 9: 100%|██████████| 13/13 [00:02<00:00,  5.84it/s, v_num=aysh, train_loss_step=1.200, val_loss=1.340, val_acc=0.266, val_cohen_kappa=0.0722, train_loss_epoch=1.220]\n",
      "Best model path: /scratch/npr264/BioDeepL/project/moved_from_home/checkpoints/8/best-checkpoint-v18.ckpt\n"
     ]
    },
    {
     "name": "stderr",
     "output_type": "stream",
     "text": [
      "You are using the plain ModelCheckpoint callback. Consider using LitModelCheckpoint which with seamless uploading to Model registry.\n",
      "GPU available: True (cuda), used: True\n",
      "TPU available: False, using: 0 TPU cores\n",
      "HPU available: False, using: 0 HPUs\n",
      "LOCAL_RANK: 0 - CUDA_VISIBLE_DEVICES: [0]\n",
      "SLURM auto-requeueing enabled. Setting signal handlers.\n"
     ]
    },
    {
     "name": "stdout",
     "output_type": "stream",
     "text": [
      "Validation DataLoader 0: 100%|██████████| 2/2 [00:00<00:00, 23.15it/s]\n"
     ]
    },
    {
     "name": "stderr",
     "output_type": "stream",
     "text": [
      "\u001b[34m\u001b[1mwandb\u001b[0m: \u001b[32m\u001b[41mERROR\u001b[0m The nbformat package was not found. It is required to save notebook history.\n"
     ]
    },
    {
     "data": {
      "text/html": [],
      "text/plain": [
       "<IPython.core.display.HTML object>"
      ]
     },
     "metadata": {},
     "output_type": "display_data"
    },
    {
     "data": {
      "text/html": [
       "<br>    <style><br>        .wandb-row {<br>            display: flex;<br>            flex-direction: row;<br>            flex-wrap: wrap;<br>            justify-content: flex-start;<br>            width: 100%;<br>        }<br>        .wandb-col {<br>            display: flex;<br>            flex-direction: column;<br>            flex-basis: 100%;<br>            flex: 1;<br>            padding: 10px;<br>        }<br>    </style><br><div class=\"wandb-row\"><div class=\"wandb-col\"><h3>Run history:</h3><br/><table class=\"wandb\"><tr><td>best_val_loss</td><td>▁</td></tr><tr><td>epoch</td><td>▁▁▁▁▁▂▂▂▂▂▂▃▃▃▃▃▃▄▄▄▄▅▅▅▅▅▅▅▆▆▆▆▆▆▇▇▇███</td></tr><tr><td>train_loss_epoch</td><td>█▇▅▃▃▂▂▂▁▁</td></tr><tr><td>train_loss_step</td><td>██▇██▆▇▆█▇▇▆▄▆▅▅▅▆▃▆▇▇▄▃▁▆▁▅▂▄▂▃▂▂▆▄▃▄▁▁</td></tr><tr><td>trainer/global_step</td><td>▁▁▁▁▂▂▂▂▂▂▂▂▂▃▃▃▃▄▄▄▄▅▅▅▅▅▆▆▆▇▇▇▇▇▇█████</td></tr><tr><td>val_acc</td><td>▇▄▁▂▇▆▅█▄█</td></tr><tr><td>val_cohen_kappa</td><td>▁▅▆██▇▇▇▇▇</td></tr><tr><td>val_loss</td><td>█▆▄▃▃▁▃▅▄▄</td></tr></table><br/></div><div class=\"wandb-col\"><h3>Run summary:</h3><br/><table class=\"wandb\"><tr><td>best_val_loss</td><td>1.27495</td></tr><tr><td>epoch</td><td>9</td></tr><tr><td>train_loss_epoch</td><td>1.21795</td></tr><tr><td>train_loss_step</td><td>1.20036</td></tr><tr><td>trainer/global_step</td><td>129</td></tr><tr><td>val_acc</td><td>0.26643</td></tr><tr><td>val_cohen_kappa</td><td>0.07224</td></tr><tr><td>val_loss</td><td>1.33706</td></tr></table><br/></div></div>"
      ],
      "text/plain": [
       "<IPython.core.display.HTML object>"
      ]
     },
     "metadata": {},
     "output_type": "display_data"
    },
    {
     "data": {
      "text/html": [
       " View run <strong style=\"color:#cdcd00\">prernn16_rnn64_hidden16lr0.0007083482372659089_batchsize16dropoutembed0.3816103842622691_dropoutRNN0.3197011186104653_dropouthidden20.27580911056742374</strong> at: <a href='https://wandb.ai/npr264-new-york-university/Baseline/runs/0zd4aysh' target=\"_blank\">https://wandb.ai/npr264-new-york-university/Baseline/runs/0zd4aysh</a><br> View project at: <a href='https://wandb.ai/npr264-new-york-university/Baseline' target=\"_blank\">https://wandb.ai/npr264-new-york-university/Baseline</a><br>Synced 5 W&B file(s), 0 media file(s), 0 artifact file(s) and 0 other file(s)"
      ],
      "text/plain": [
       "<IPython.core.display.HTML object>"
      ]
     },
     "metadata": {},
     "output_type": "display_data"
    },
    {
     "data": {
      "text/html": [
       "Find logs at: <code>./wandb/run-20250429_233633-0zd4aysh/logs</code>"
      ],
      "text/plain": [
       "<IPython.core.display.HTML object>"
      ]
     },
     "metadata": {},
     "output_type": "display_data"
    },
    {
     "name": "stderr",
     "output_type": "stream",
     "text": [
      "[I 2025-04-29 23:36:59,792] Trial 8 finished with value: 1.2749487161636353 and parameters: {'dropout_embed': 0.3816103842622691, 'dropout_rnn': 0.3197011186104653, 'dropout_hidden2': 0.27580911056742374, 'pre_rnn_embedding_size': 16, 'rnn_hidden_size': 64, 'hidden_size2': 16, 'learning_rate': 0.0007083482372659089, 'batch_size': 16}. Best is trial 1 with value: 1.2047420740127563.\n",
      "/state/partition1/job-59918280/ipykernel_522356/1335623980.py:23: FutureWarning: suggest_loguniform has been deprecated in v3.0.0. This feature will be removed in v6.0.0. See https://github.com/optuna/optuna/releases/tag/v3.0.0. Use suggest_float(..., log=True) instead.\n",
      "  learning_rate = trial.suggest_loguniform(\"learning_rate\", 1e-5, 1e-2)\n",
      "GPU available: True (cuda), used: True\n",
      "TPU available: False, using: 0 TPU cores\n",
      "HPU available: False, using: 0 HPUs\n"
     ]
    },
    {
     "data": {
      "text/html": [
       "Tracking run with wandb version 0.19.9"
      ],
      "text/plain": [
       "<IPython.core.display.HTML object>"
      ]
     },
     "metadata": {},
     "output_type": "display_data"
    },
    {
     "data": {
      "text/html": [
       "Run data is saved locally in <code>./wandb/run-20250429_233659-yepkx4xx</code>"
      ],
      "text/plain": [
       "<IPython.core.display.HTML object>"
      ]
     },
     "metadata": {},
     "output_type": "display_data"
    },
    {
     "data": {
      "text/html": [
       "Syncing run <strong><a href='https://wandb.ai/npr264-new-york-university/Baseline/runs/yepkx4xx' target=\"_blank\">prernn16_rnn256_hidden4lr5.4316857815769047e-05_batchsize64dropoutembed0.5207994972869551_dropoutRNN0.1944227688411284_dropouthidden20.1838498739963927</a></strong> to <a href='https://wandb.ai/npr264-new-york-university/Baseline' target=\"_blank\">Weights & Biases</a> (<a href='https://wandb.me/developer-guide' target=\"_blank\">docs</a>)<br>"
      ],
      "text/plain": [
       "<IPython.core.display.HTML object>"
      ]
     },
     "metadata": {},
     "output_type": "display_data"
    },
    {
     "data": {
      "text/html": [
       " View project at <a href='https://wandb.ai/npr264-new-york-university/Baseline' target=\"_blank\">https://wandb.ai/npr264-new-york-university/Baseline</a>"
      ],
      "text/plain": [
       "<IPython.core.display.HTML object>"
      ]
     },
     "metadata": {},
     "output_type": "display_data"
    },
    {
     "data": {
      "text/html": [
       " View run at <a href='https://wandb.ai/npr264-new-york-university/Baseline/runs/yepkx4xx' target=\"_blank\">https://wandb.ai/npr264-new-york-university/Baseline/runs/yepkx4xx</a>"
      ],
      "text/plain": [
       "<IPython.core.display.HTML object>"
      ]
     },
     "metadata": {},
     "output_type": "display_data"
    },
    {
     "name": "stderr",
     "output_type": "stream",
     "text": [
      "/ext3/miniforge3/lib/python3.12/site-packages/pytorch_lightning/callbacks/model_checkpoint.py:654: Checkpoint directory /scratch/npr264/BioDeepL/project/moved_from_home/checkpoints/9 exists and is not empty.\n",
      "LOCAL_RANK: 0 - CUDA_VISIBLE_DEVICES: [0]\n",
      "/ext3/miniforge3/lib/python3.12/site-packages/torch/optim/lr_scheduler.py:62: UserWarning: The verbose parameter is deprecated. Please use get_last_lr() to access the learning rate.\n",
      "  warnings.warn(\n",
      "\n",
      "  | Name            | Type                 | Params | Mode \n",
      "-----------------------------------------------------------------\n",
      "0 | embeddingLayer  | Linear               | 96     | train\n",
      "1 | dropout_embed   | Dropout              | 0      | train\n",
      "2 | dropout_hidden2 | Dropout              | 0      | train\n",
      "3 | rnn             | LSTM                 | 2.1 M  | train\n",
      "4 | hidden2         | Linear               | 2.1 K  | train\n",
      "5 | classifier      | Linear               | 20     | train\n",
      "6 | train_criterion | CrossEntropyLoss     | 0      | train\n",
      "7 | val_criterion   | CrossEntropyLoss     | 0      | train\n",
      "8 | kappa           | MulticlassCohenKappa | 0      | train\n",
      "-----------------------------------------------------------------\n",
      "2.1 M     Trainable params\n",
      "0         Non-trainable params\n",
      "2.1 M     Total params\n",
      "8.586     Total estimated model params size (MB)\n",
      "9         Modules in train mode\n",
      "0         Modules in eval mode\n",
      "SLURM auto-requeueing enabled. Setting signal handlers.\n"
     ]
    },
    {
     "name": "stdout",
     "output_type": "stream",
     "text": [
      "Epoch 0: 100%|██████████| 4/4 [00:01<00:00,  2.51it/s, v_num=x4xx, train_loss_step=1.320]\n",
      "Validation: |          | 0/? [00:00<?, ?it/s]\u001b[A\n",
      "Validation:   0%|          | 0/1 [00:00<?, ?it/s]\u001b[A\n",
      "Validation DataLoader 0:   0%|          | 0/1 [00:00<?, ?it/s]\u001b[A\n",
      "Validation DataLoader 0: 100%|██████████| 1/1 [00:00<00:00,  9.56it/s]\u001b[A\n",
      "Epoch 0: 100%|██████████| 4/4 [00:02<00:00,  1.58it/s, v_num=x4xx, train_loss_step=1.320, val_loss=1.460, val_acc=0.208, val_cohen_kappa=0.000, train_loss_epoch=1.410]"
     ]
    },
    {
     "name": "stderr",
     "output_type": "stream",
     "text": [
      "Metric val_loss improved. New best score: 1.461\n"
     ]
    },
    {
     "name": "stdout",
     "output_type": "stream",
     "text": [
      "Epoch 1: 100%|██████████| 4/4 [00:02<00:00,  1.77it/s, v_num=x4xx, train_loss_step=1.390, val_loss=1.460, val_acc=0.208, val_cohen_kappa=0.000, train_loss_epoch=1.410]\n",
      "Validation: |          | 0/? [00:00<?, ?it/s]\u001b[A\n",
      "Validation:   0%|          | 0/1 [00:00<?, ?it/s]\u001b[A\n",
      "Validation DataLoader 0:   0%|          | 0/1 [00:00<?, ?it/s]\u001b[A\n",
      "Validation DataLoader 0: 100%|██████████| 1/1 [00:00<00:00,  9.09it/s]\u001b[A\n",
      "Epoch 1: 100%|██████████| 4/4 [00:03<00:00,  1.25it/s, v_num=x4xx, train_loss_step=1.390, val_loss=1.460, val_acc=0.208, val_cohen_kappa=0.000, train_loss_epoch=1.410]"
     ]
    },
    {
     "name": "stderr",
     "output_type": "stream",
     "text": [
      "Metric val_loss improved by 0.002 >= min_delta = 0.0. New best score: 1.459\n"
     ]
    },
    {
     "name": "stdout",
     "output_type": "stream",
     "text": [
      "Epoch 2: 100%|██████████| 4/4 [00:02<00:00,  1.76it/s, v_num=x4xx, train_loss_step=1.350, val_loss=1.460, val_acc=0.208, val_cohen_kappa=0.000, train_loss_epoch=1.410]\n",
      "Validation: |          | 0/? [00:00<?, ?it/s]\u001b[A\n",
      "Validation:   0%|          | 0/1 [00:00<?, ?it/s]\u001b[A\n",
      "Validation DataLoader 0:   0%|          | 0/1 [00:00<?, ?it/s]\u001b[A\n",
      "Validation DataLoader 0: 100%|██████████| 1/1 [00:00<00:00, 10.62it/s]\u001b[A\n",
      "Epoch 2: 100%|██████████| 4/4 [00:03<00:00,  1.24it/s, v_num=x4xx, train_loss_step=1.350, val_loss=1.460, val_acc=0.208, val_cohen_kappa=0.000, train_loss_epoch=1.410]"
     ]
    },
    {
     "name": "stderr",
     "output_type": "stream",
     "text": [
      "Metric val_loss improved by 0.002 >= min_delta = 0.0. New best score: 1.458\n"
     ]
    },
    {
     "name": "stdout",
     "output_type": "stream",
     "text": [
      "Epoch 3: 100%|██████████| 4/4 [00:02<00:00,  1.84it/s, v_num=x4xx, train_loss_step=1.430, val_loss=1.460, val_acc=0.208, val_cohen_kappa=0.000, train_loss_epoch=1.410]\n",
      "Validation: |          | 0/? [00:00<?, ?it/s]\u001b[A\n",
      "Validation:   0%|          | 0/1 [00:00<?, ?it/s]\u001b[A\n",
      "Validation DataLoader 0:   0%|          | 0/1 [00:00<?, ?it/s]\u001b[A\n",
      "Validation DataLoader 0: 100%|██████████| 1/1 [00:00<00:00, 10.58it/s]\u001b[A\n",
      "Epoch 3: 100%|██████████| 4/4 [00:03<00:00,  1.18it/s, v_num=x4xx, train_loss_step=1.430, val_loss=1.460, val_acc=0.208, val_cohen_kappa=0.000, train_loss_epoch=1.410]"
     ]
    },
    {
     "name": "stderr",
     "output_type": "stream",
     "text": [
      "Metric val_loss improved by 0.002 >= min_delta = 0.0. New best score: 1.456\n"
     ]
    },
    {
     "name": "stdout",
     "output_type": "stream",
     "text": [
      "Epoch 4: 100%|██████████| 4/4 [00:01<00:00,  2.02it/s, v_num=x4xx, train_loss_step=1.310, val_loss=1.460, val_acc=0.208, val_cohen_kappa=0.000, train_loss_epoch=1.410]\n",
      "Validation: |          | 0/? [00:00<?, ?it/s]\u001b[A\n",
      "Validation:   0%|          | 0/1 [00:00<?, ?it/s]\u001b[A\n",
      "Validation DataLoader 0:   0%|          | 0/1 [00:00<?, ?it/s]\u001b[A\n",
      "Validation DataLoader 0: 100%|██████████| 1/1 [00:00<00:00,  9.51it/s]\u001b[A\n",
      "Epoch 4: 100%|██████████| 4/4 [00:02<00:00,  1.35it/s, v_num=x4xx, train_loss_step=1.310, val_loss=1.450, val_acc=0.209, val_cohen_kappa=0.00133, train_loss_epoch=1.410]"
     ]
    },
    {
     "name": "stderr",
     "output_type": "stream",
     "text": [
      "Metric val_loss improved by 0.002 >= min_delta = 0.0. New best score: 1.453\n"
     ]
    },
    {
     "name": "stdout",
     "output_type": "stream",
     "text": [
      "Epoch 5: 100%|██████████| 4/4 [00:02<00:00,  1.71it/s, v_num=x4xx, train_loss_step=1.490, val_loss=1.450, val_acc=0.209, val_cohen_kappa=0.00133, train_loss_epoch=1.410]\n",
      "Validation: |          | 0/? [00:00<?, ?it/s]\u001b[A\n",
      "Validation:   0%|          | 0/1 [00:00<?, ?it/s]\u001b[A\n",
      "Validation DataLoader 0:   0%|          | 0/1 [00:00<?, ?it/s]\u001b[A\n",
      "Validation DataLoader 0: 100%|██████████| 1/1 [00:00<00:00,  8.63it/s]\u001b[A\n",
      "Epoch 5: 100%|██████████| 4/4 [00:03<00:00,  1.21it/s, v_num=x4xx, train_loss_step=1.490, val_loss=1.450, val_acc=0.209, val_cohen_kappa=0.00695, train_loss_epoch=1.410]"
     ]
    },
    {
     "name": "stderr",
     "output_type": "stream",
     "text": [
      "Metric val_loss improved by 0.002 >= min_delta = 0.0. New best score: 1.451\n"
     ]
    },
    {
     "name": "stdout",
     "output_type": "stream",
     "text": [
      "Epoch 6: 100%|██████████| 4/4 [00:02<00:00,  1.74it/s, v_num=x4xx, train_loss_step=1.380, val_loss=1.450, val_acc=0.209, val_cohen_kappa=0.00695, train_loss_epoch=1.410]\n",
      "Validation: |          | 0/? [00:00<?, ?it/s]\u001b[A\n",
      "Validation:   0%|          | 0/1 [00:00<?, ?it/s]\u001b[A\n",
      "Validation DataLoader 0:   0%|          | 0/1 [00:00<?, ?it/s]\u001b[A\n",
      "Validation DataLoader 0: 100%|██████████| 1/1 [00:00<00:00,  8.80it/s]\u001b[A\n",
      "Epoch 6: 100%|██████████| 4/4 [00:03<00:00,  1.23it/s, v_num=x4xx, train_loss_step=1.380, val_loss=1.450, val_acc=0.208, val_cohen_kappa=0.0139, train_loss_epoch=1.400] "
     ]
    },
    {
     "name": "stderr",
     "output_type": "stream",
     "text": [
      "Metric val_loss improved by 0.003 >= min_delta = 0.0. New best score: 1.449\n"
     ]
    },
    {
     "name": "stdout",
     "output_type": "stream",
     "text": [
      "Epoch 7: 100%|██████████| 4/4 [00:02<00:00,  1.78it/s, v_num=x4xx, train_loss_step=1.380, val_loss=1.450, val_acc=0.208, val_cohen_kappa=0.0139, train_loss_epoch=1.400]\n",
      "Validation: |          | 0/? [00:00<?, ?it/s]\u001b[A\n",
      "Validation:   0%|          | 0/1 [00:00<?, ?it/s]\u001b[A\n",
      "Validation DataLoader 0:   0%|          | 0/1 [00:00<?, ?it/s]\u001b[A\n",
      "Validation DataLoader 0: 100%|██████████| 1/1 [00:00<00:00,  8.53it/s]\u001b[A\n",
      "Epoch 7: 100%|██████████| 4/4 [00:03<00:00,  1.25it/s, v_num=x4xx, train_loss_step=1.380, val_loss=1.450, val_acc=0.208, val_cohen_kappa=0.0183, train_loss_epoch=1.400]"
     ]
    },
    {
     "name": "stderr",
     "output_type": "stream",
     "text": [
      "Metric val_loss improved by 0.002 >= min_delta = 0.0. New best score: 1.446\n"
     ]
    },
    {
     "name": "stdout",
     "output_type": "stream",
     "text": [
      "Epoch 8: 100%|██████████| 4/4 [00:02<00:00,  1.75it/s, v_num=x4xx, train_loss_step=1.320, val_loss=1.450, val_acc=0.208, val_cohen_kappa=0.0183, train_loss_epoch=1.400]\n",
      "Validation: |          | 0/? [00:00<?, ?it/s]\u001b[A\n",
      "Validation:   0%|          | 0/1 [00:00<?, ?it/s]\u001b[A\n",
      "Validation DataLoader 0:   0%|          | 0/1 [00:00<?, ?it/s]\u001b[A\n",
      "Validation DataLoader 0: 100%|██████████| 1/1 [00:00<00:00,  8.81it/s]\u001b[A\n",
      "Epoch 8: 100%|██████████| 4/4 [00:03<00:00,  1.20it/s, v_num=x4xx, train_loss_step=1.320, val_loss=1.440, val_acc=0.205, val_cohen_kappa=0.0196, train_loss_epoch=1.400]"
     ]
    },
    {
     "name": "stderr",
     "output_type": "stream",
     "text": [
      "Metric val_loss improved by 0.003 >= min_delta = 0.0. New best score: 1.443\n"
     ]
    },
    {
     "name": "stdout",
     "output_type": "stream",
     "text": [
      "Epoch 9: 100%|██████████| 4/4 [00:02<00:00,  1.74it/s, v_num=x4xx, train_loss_step=1.360, val_loss=1.440, val_acc=0.205, val_cohen_kappa=0.0196, train_loss_epoch=1.400]\n",
      "Validation: |          | 0/? [00:00<?, ?it/s]\u001b[A\n",
      "Validation:   0%|          | 0/1 [00:00<?, ?it/s]\u001b[A\n",
      "Validation DataLoader 0:   0%|          | 0/1 [00:00<?, ?it/s]\u001b[A\n",
      "Validation DataLoader 0: 100%|██████████| 1/1 [00:00<00:00, 10.03it/s]\u001b[A\n",
      "Epoch 9: 100%|██████████| 4/4 [00:03<00:00,  1.22it/s, v_num=x4xx, train_loss_step=1.360, val_loss=1.440, val_acc=0.205, val_cohen_kappa=0.0203, train_loss_epoch=1.400]"
     ]
    },
    {
     "name": "stderr",
     "output_type": "stream",
     "text": [
      "Metric val_loss improved by 0.002 >= min_delta = 0.0. New best score: 1.442\n"
     ]
    },
    {
     "name": "stdout",
     "output_type": "stream",
     "text": [
      "Epoch 10: 100%|██████████| 4/4 [00:01<00:00,  2.03it/s, v_num=x4xx, train_loss_step=1.390, val_loss=1.440, val_acc=0.205, val_cohen_kappa=0.0203, train_loss_epoch=1.400]\n",
      "Validation: |          | 0/? [00:00<?, ?it/s]\u001b[A\n",
      "Validation:   0%|          | 0/1 [00:00<?, ?it/s]\u001b[A\n",
      "Validation DataLoader 0:   0%|          | 0/1 [00:00<?, ?it/s]\u001b[A\n",
      "Validation DataLoader 0: 100%|██████████| 1/1 [00:00<00:00, 10.93it/s]\u001b[A\n",
      "Epoch 10: 100%|██████████| 4/4 [00:03<00:00,  1.33it/s, v_num=x4xx, train_loss_step=1.390, val_loss=1.440, val_acc=0.204, val_cohen_kappa=0.0223, train_loss_epoch=1.400]"
     ]
    },
    {
     "name": "stderr",
     "output_type": "stream",
     "text": [
      "Metric val_loss improved by 0.002 >= min_delta = 0.0. New best score: 1.439\n"
     ]
    },
    {
     "name": "stdout",
     "output_type": "stream",
     "text": [
      "Epoch 11: 100%|██████████| 4/4 [00:02<00:00,  1.90it/s, v_num=x4xx, train_loss_step=1.420, val_loss=1.440, val_acc=0.204, val_cohen_kappa=0.0223, train_loss_epoch=1.400]\n",
      "Validation: |          | 0/? [00:00<?, ?it/s]\u001b[A\n",
      "Validation:   0%|          | 0/1 [00:00<?, ?it/s]\u001b[A\n",
      "Validation DataLoader 0:   0%|          | 0/1 [00:00<?, ?it/s]\u001b[A\n",
      "Validation DataLoader 0: 100%|██████████| 1/1 [00:00<00:00,  8.54it/s]\u001b[A\n",
      "Epoch 11: 100%|██████████| 4/4 [00:03<00:00,  1.31it/s, v_num=x4xx, train_loss_step=1.420, val_loss=1.440, val_acc=0.205, val_cohen_kappa=0.0252, train_loss_epoch=1.400]"
     ]
    },
    {
     "name": "stderr",
     "output_type": "stream",
     "text": [
      "Metric val_loss improved by 0.003 >= min_delta = 0.0. New best score: 1.436\n"
     ]
    },
    {
     "name": "stdout",
     "output_type": "stream",
     "text": [
      "Epoch 12: 100%|██████████| 4/4 [00:02<00:00,  1.74it/s, v_num=x4xx, train_loss_step=1.440, val_loss=1.440, val_acc=0.205, val_cohen_kappa=0.0252, train_loss_epoch=1.400]\n",
      "Validation: |          | 0/? [00:00<?, ?it/s]\u001b[A\n",
      "Validation:   0%|          | 0/1 [00:00<?, ?it/s]\u001b[A\n",
      "Validation DataLoader 0:   0%|          | 0/1 [00:00<?, ?it/s]\u001b[A\n",
      "Validation DataLoader 0: 100%|██████████| 1/1 [00:00<00:00,  8.58it/s]\u001b[A\n",
      "Epoch 12: 100%|██████████| 4/4 [00:03<00:00,  1.22it/s, v_num=x4xx, train_loss_step=1.440, val_loss=1.430, val_acc=0.204, val_cohen_kappa=0.0276, train_loss_epoch=1.400]"
     ]
    },
    {
     "name": "stderr",
     "output_type": "stream",
     "text": [
      "Metric val_loss improved by 0.004 >= min_delta = 0.0. New best score: 1.433\n"
     ]
    },
    {
     "name": "stdout",
     "output_type": "stream",
     "text": [
      "Epoch 13: 100%|██████████| 4/4 [00:02<00:00,  1.69it/s, v_num=x4xx, train_loss_step=1.390, val_loss=1.430, val_acc=0.204, val_cohen_kappa=0.0276, train_loss_epoch=1.400]\n",
      "Validation: |          | 0/? [00:00<?, ?it/s]\u001b[A\n",
      "Validation:   0%|          | 0/1 [00:00<?, ?it/s]\u001b[A\n",
      "Validation DataLoader 0:   0%|          | 0/1 [00:00<?, ?it/s]\u001b[A\n",
      "Validation DataLoader 0: 100%|██████████| 1/1 [00:00<00:00, 10.24it/s]\u001b[A\n",
      "Epoch 13: 100%|██████████| 4/4 [00:03<00:00,  1.20it/s, v_num=x4xx, train_loss_step=1.390, val_loss=1.430, val_acc=0.200, val_cohen_kappa=0.0283, train_loss_epoch=1.390]"
     ]
    },
    {
     "name": "stderr",
     "output_type": "stream",
     "text": [
      "Metric val_loss improved by 0.005 >= min_delta = 0.0. New best score: 1.428\n"
     ]
    },
    {
     "name": "stdout",
     "output_type": "stream",
     "text": [
      "Epoch 14: 100%|██████████| 4/4 [00:02<00:00,  1.77it/s, v_num=x4xx, train_loss_step=1.330, val_loss=1.430, val_acc=0.200, val_cohen_kappa=0.0283, train_loss_epoch=1.390]\n",
      "Validation: |          | 0/? [00:00<?, ?it/s]\u001b[A\n",
      "Validation:   0%|          | 0/1 [00:00<?, ?it/s]\u001b[A\n",
      "Validation DataLoader 0:   0%|          | 0/1 [00:00<?, ?it/s]\u001b[A\n",
      "Validation DataLoader 0: 100%|██████████| 1/1 [00:00<00:00,  8.79it/s]\u001b[A\n",
      "Epoch 14: 100%|██████████| 4/4 [00:03<00:00,  1.23it/s, v_num=x4xx, train_loss_step=1.330, val_loss=1.420, val_acc=0.201, val_cohen_kappa=0.0289, train_loss_epoch=1.390]"
     ]
    },
    {
     "name": "stderr",
     "output_type": "stream",
     "text": [
      "Metric val_loss improved by 0.003 >= min_delta = 0.0. New best score: 1.425\n"
     ]
    },
    {
     "name": "stdout",
     "output_type": "stream",
     "text": [
      "Epoch 15: 100%|██████████| 4/4 [00:02<00:00,  1.71it/s, v_num=x4xx, train_loss_step=1.380, val_loss=1.420, val_acc=0.201, val_cohen_kappa=0.0289, train_loss_epoch=1.390]\n",
      "Validation: |          | 0/? [00:00<?, ?it/s]\u001b[A\n",
      "Validation:   0%|          | 0/1 [00:00<?, ?it/s]\u001b[A\n",
      "Validation DataLoader 0:   0%|          | 0/1 [00:00<?, ?it/s]\u001b[A\n",
      "Validation DataLoader 0: 100%|██████████| 1/1 [00:00<00:00,  8.37it/s]\u001b[A\n",
      "Epoch 15: 100%|██████████| 4/4 [00:03<00:00,  1.22it/s, v_num=x4xx, train_loss_step=1.380, val_loss=1.420, val_acc=0.201, val_cohen_kappa=0.0306, train_loss_epoch=1.390]"
     ]
    },
    {
     "name": "stderr",
     "output_type": "stream",
     "text": [
      "Metric val_loss improved by 0.003 >= min_delta = 0.0. New best score: 1.421\n"
     ]
    },
    {
     "name": "stdout",
     "output_type": "stream",
     "text": [
      "Epoch 16: 100%|██████████| 4/4 [00:02<00:00,  1.75it/s, v_num=x4xx, train_loss_step=1.330, val_loss=1.420, val_acc=0.201, val_cohen_kappa=0.0306, train_loss_epoch=1.390]\n",
      "Validation: |          | 0/? [00:00<?, ?it/s]\u001b[A\n",
      "Validation:   0%|          | 0/1 [00:00<?, ?it/s]\u001b[A\n",
      "Validation DataLoader 0:   0%|          | 0/1 [00:00<?, ?it/s]\u001b[A\n",
      "Validation DataLoader 0: 100%|██████████| 1/1 [00:00<00:00,  8.60it/s]\u001b[A\n",
      "Epoch 16: 100%|██████████| 4/4 [00:03<00:00,  1.19it/s, v_num=x4xx, train_loss_step=1.330, val_loss=1.420, val_acc=0.199, val_cohen_kappa=0.0319, train_loss_epoch=1.390]"
     ]
    },
    {
     "name": "stderr",
     "output_type": "stream",
     "text": [
      "Metric val_loss improved by 0.005 >= min_delta = 0.0. New best score: 1.417\n"
     ]
    },
    {
     "name": "stdout",
     "output_type": "stream",
     "text": [
      "Epoch 17: 100%|██████████| 4/4 [00:01<00:00,  2.01it/s, v_num=x4xx, train_loss_step=1.400, val_loss=1.420, val_acc=0.199, val_cohen_kappa=0.0319, train_loss_epoch=1.390]\n",
      "Validation: |          | 0/? [00:00<?, ?it/s]\u001b[A\n",
      "Validation:   0%|          | 0/1 [00:00<?, ?it/s]\u001b[A\n",
      "Validation DataLoader 0:   0%|          | 0/1 [00:00<?, ?it/s]\u001b[A\n",
      "Validation DataLoader 0: 100%|██████████| 1/1 [00:00<00:00, 10.51it/s]\u001b[A\n",
      "Epoch 17: 100%|██████████| 4/4 [00:02<00:00,  1.38it/s, v_num=x4xx, train_loss_step=1.400, val_loss=1.410, val_acc=0.197, val_cohen_kappa=0.0316, train_loss_epoch=1.390]"
     ]
    },
    {
     "name": "stderr",
     "output_type": "stream",
     "text": [
      "Metric val_loss improved by 0.005 >= min_delta = 0.0. New best score: 1.412\n"
     ]
    },
    {
     "name": "stdout",
     "output_type": "stream",
     "text": [
      "Epoch 18: 100%|██████████| 4/4 [00:02<00:00,  1.46it/s, v_num=x4xx, train_loss_step=1.320, val_loss=1.410, val_acc=0.197, val_cohen_kappa=0.0316, train_loss_epoch=1.390]\n",
      "Validation: |          | 0/? [00:00<?, ?it/s]\u001b[A\n",
      "Validation:   0%|          | 0/1 [00:00<?, ?it/s]\u001b[A\n",
      "Validation DataLoader 0:   0%|          | 0/1 [00:00<?, ?it/s]\u001b[A\n",
      "Validation DataLoader 0: 100%|██████████| 1/1 [00:00<00:00,  8.34it/s]\u001b[A\n",
      "Epoch 18: 100%|██████████| 4/4 [00:03<00:00,  1.07it/s, v_num=x4xx, train_loss_step=1.320, val_loss=1.410, val_acc=0.195, val_cohen_kappa=0.0335, train_loss_epoch=1.380]"
     ]
    },
    {
     "name": "stderr",
     "output_type": "stream",
     "text": [
      "Metric val_loss improved by 0.007 >= min_delta = 0.0. New best score: 1.405\n"
     ]
    },
    {
     "name": "stdout",
     "output_type": "stream",
     "text": [
      "Epoch 19: 100%|██████████| 4/4 [00:02<00:00,  1.73it/s, v_num=x4xx, train_loss_step=1.420, val_loss=1.410, val_acc=0.195, val_cohen_kappa=0.0335, train_loss_epoch=1.380]\n",
      "Validation: |          | 0/? [00:00<?, ?it/s]\u001b[A\n",
      "Validation:   0%|          | 0/1 [00:00<?, ?it/s]\u001b[A\n",
      "Validation DataLoader 0:   0%|          | 0/1 [00:00<?, ?it/s]\u001b[A\n",
      "Validation DataLoader 0: 100%|██████████| 1/1 [00:00<00:00,  8.94it/s]\u001b[A\n",
      "Epoch 19: 100%|██████████| 4/4 [00:03<00:00,  1.22it/s, v_num=x4xx, train_loss_step=1.420, val_loss=1.400, val_acc=0.195, val_cohen_kappa=0.0384, train_loss_epoch=1.380]"
     ]
    },
    {
     "name": "stderr",
     "output_type": "stream",
     "text": [
      "Metric val_loss improved by 0.007 >= min_delta = 0.0. New best score: 1.398\n",
      "`Trainer.fit` stopped: `max_epochs=20` reached.\n"
     ]
    },
    {
     "name": "stdout",
     "output_type": "stream",
     "text": [
      "Epoch 19: 100%|██████████| 4/4 [00:03<00:00,  1.19it/s, v_num=x4xx, train_loss_step=1.420, val_loss=1.400, val_acc=0.195, val_cohen_kappa=0.0384, train_loss_epoch=1.380]\n",
      "Best model path: /scratch/npr264/BioDeepL/project/moved_from_home/checkpoints/9/best-checkpoint-v18.ckpt\n"
     ]
    },
    {
     "name": "stderr",
     "output_type": "stream",
     "text": [
      "You are using the plain ModelCheckpoint callback. Consider using LitModelCheckpoint which with seamless uploading to Model registry.\n",
      "GPU available: True (cuda), used: True\n",
      "TPU available: False, using: 0 TPU cores\n",
      "HPU available: False, using: 0 HPUs\n",
      "LOCAL_RANK: 0 - CUDA_VISIBLE_DEVICES: [0]\n",
      "SLURM auto-requeueing enabled. Setting signal handlers.\n"
     ]
    },
    {
     "name": "stdout",
     "output_type": "stream",
     "text": [
      "Validation DataLoader 0: 100%|██████████| 1/1 [00:00<00:00,  8.22it/s]\n"
     ]
    },
    {
     "name": "stderr",
     "output_type": "stream",
     "text": [
      "\u001b[34m\u001b[1mwandb\u001b[0m: \u001b[32m\u001b[41mERROR\u001b[0m The nbformat package was not found. It is required to save notebook history.\n"
     ]
    },
    {
     "data": {
      "text/html": [],
      "text/plain": [
       "<IPython.core.display.HTML object>"
      ]
     },
     "metadata": {},
     "output_type": "display_data"
    },
    {
     "data": {
      "text/html": [
       "<br>    <style><br>        .wandb-row {<br>            display: flex;<br>            flex-direction: row;<br>            flex-wrap: wrap;<br>            justify-content: flex-start;<br>            width: 100%;<br>        }<br>        .wandb-col {<br>            display: flex;<br>            flex-direction: column;<br>            flex-basis: 100%;<br>            flex: 1;<br>            padding: 10px;<br>        }<br>    </style><br><div class=\"wandb-row\"><div class=\"wandb-col\"><h3>Run history:</h3><br/><table class=\"wandb\"><tr><td>best_val_loss</td><td>▁</td></tr><tr><td>epoch</td><td>▁▁▁▁▁▂▂▂▂▂▃▃▃▄▄▄▄▄▄▄▅▅▅▅▅▆▆▆▆▆▇▇▇▇▇█████</td></tr><tr><td>train_loss_epoch</td><td>█▇▇▇▇▆▆▆▆▅▅▅▄▄▃▃▂▂▂▁</td></tr><tr><td>train_loss_step</td><td>▅▁▅▄▆▂▄▆▄▁▄█▅▄▅▄▅▁▅▃▄▄▅▅▃▆▅▄▅▂▃▄▄▂▅▄▄▁▄▅</td></tr><tr><td>trainer/global_step</td><td>▁▁▂▂▂▂▃▃▃▃▃▃▃▄▄▄▄▄▄▅▅▅▅▅▅▅▅▅▆▆▆▆▆▇▇▇▇███</td></tr><tr><td>val_acc</td><td>███████▇▆▆▆▆▆▄▄▄▃▂▁▁</td></tr><tr><td>val_cohen_kappa</td><td>▁▁▁▁▁▂▄▄▅▅▅▆▆▆▆▇▇▇▇█</td></tr><tr><td>val_loss</td><td>███▇▇▇▇▆▆▆▆▅▅▄▄▄▃▃▂▁</td></tr></table><br/></div><div class=\"wandb-col\"><h3>Run summary:</h3><br/><table class=\"wandb\"><tr><td>best_val_loss</td><td>1.39821</td></tr><tr><td>epoch</td><td>19</td></tr><tr><td>train_loss_epoch</td><td>1.38124</td></tr><tr><td>train_loss_step</td><td>1.42133</td></tr><tr><td>trainer/global_step</td><td>79</td></tr><tr><td>val_acc</td><td>0.19539</td></tr><tr><td>val_cohen_kappa</td><td>0.03841</td></tr><tr><td>val_loss</td><td>1.39821</td></tr></table><br/></div></div>"
      ],
      "text/plain": [
       "<IPython.core.display.HTML object>"
      ]
     },
     "metadata": {},
     "output_type": "display_data"
    },
    {
     "data": {
      "text/html": [
       " View run <strong style=\"color:#cdcd00\">prernn16_rnn256_hidden4lr5.4316857815769047e-05_batchsize64dropoutembed0.5207994972869551_dropoutRNN0.1944227688411284_dropouthidden20.1838498739963927</strong> at: <a href='https://wandb.ai/npr264-new-york-university/Baseline/runs/yepkx4xx' target=\"_blank\">https://wandb.ai/npr264-new-york-university/Baseline/runs/yepkx4xx</a><br> View project at: <a href='https://wandb.ai/npr264-new-york-university/Baseline' target=\"_blank\">https://wandb.ai/npr264-new-york-university/Baseline</a><br>Synced 5 W&B file(s), 0 media file(s), 0 artifact file(s) and 0 other file(s)"
      ],
      "text/plain": [
       "<IPython.core.display.HTML object>"
      ]
     },
     "metadata": {},
     "output_type": "display_data"
    },
    {
     "data": {
      "text/html": [
       "Find logs at: <code>./wandb/run-20250429_233659-yepkx4xx/logs</code>"
      ],
      "text/plain": [
       "<IPython.core.display.HTML object>"
      ]
     },
     "metadata": {},
     "output_type": "display_data"
    },
    {
     "name": "stderr",
     "output_type": "stream",
     "text": [
      "[I 2025-04-29 23:38:10,218] Trial 9 finished with value: 1.398207426071167 and parameters: {'dropout_embed': 0.5207994972869551, 'dropout_rnn': 0.1944227688411284, 'dropout_hidden2': 0.1838498739963927, 'pre_rnn_embedding_size': 16, 'rnn_hidden_size': 256, 'hidden_size2': 4, 'learning_rate': 5.4316857815769047e-05, 'batch_size': 64}. Best is trial 1 with value: 1.2047420740127563.\n",
      "/state/partition1/job-59918280/ipykernel_522356/1335623980.py:23: FutureWarning: suggest_loguniform has been deprecated in v3.0.0. This feature will be removed in v6.0.0. See https://github.com/optuna/optuna/releases/tag/v3.0.0. Use suggest_float(..., log=True) instead.\n",
      "  learning_rate = trial.suggest_loguniform(\"learning_rate\", 1e-5, 1e-2)\n",
      "GPU available: True (cuda), used: True\n",
      "TPU available: False, using: 0 TPU cores\n",
      "HPU available: False, using: 0 HPUs\n"
     ]
    },
    {
     "data": {
      "text/html": [
       "Tracking run with wandb version 0.19.9"
      ],
      "text/plain": [
       "<IPython.core.display.HTML object>"
      ]
     },
     "metadata": {},
     "output_type": "display_data"
    },
    {
     "data": {
      "text/html": [
       "Run data is saved locally in <code>./wandb/run-20250429_233810-8luhbfep</code>"
      ],
      "text/plain": [
       "<IPython.core.display.HTML object>"
      ]
     },
     "metadata": {},
     "output_type": "display_data"
    },
    {
     "data": {
      "text/html": [
       "Syncing run <strong><a href='https://wandb.ai/npr264-new-york-university/Baseline/runs/8luhbfep' target=\"_blank\">prernn64_rnn1024_hidden64lr0.009499380781497826_batchsize2dropoutembed0.12916400206572898_dropoutRNN0.14359436044100035_dropouthidden20.5105784822945836</a></strong> to <a href='https://wandb.ai/npr264-new-york-university/Baseline' target=\"_blank\">Weights & Biases</a> (<a href='https://wandb.me/developer-guide' target=\"_blank\">docs</a>)<br>"
      ],
      "text/plain": [
       "<IPython.core.display.HTML object>"
      ]
     },
     "metadata": {},
     "output_type": "display_data"
    },
    {
     "data": {
      "text/html": [
       " View project at <a href='https://wandb.ai/npr264-new-york-university/Baseline' target=\"_blank\">https://wandb.ai/npr264-new-york-university/Baseline</a>"
      ],
      "text/plain": [
       "<IPython.core.display.HTML object>"
      ]
     },
     "metadata": {},
     "output_type": "display_data"
    },
    {
     "data": {
      "text/html": [
       " View run at <a href='https://wandb.ai/npr264-new-york-university/Baseline/runs/8luhbfep' target=\"_blank\">https://wandb.ai/npr264-new-york-university/Baseline/runs/8luhbfep</a>"
      ],
      "text/plain": [
       "<IPython.core.display.HTML object>"
      ]
     },
     "metadata": {},
     "output_type": "display_data"
    },
    {
     "name": "stderr",
     "output_type": "stream",
     "text": [
      "/ext3/miniforge3/lib/python3.12/site-packages/pytorch_lightning/callbacks/model_checkpoint.py:654: Checkpoint directory /scratch/npr264/BioDeepL/project/moved_from_home/checkpoints/10 exists and is not empty.\n",
      "LOCAL_RANK: 0 - CUDA_VISIBLE_DEVICES: [0]\n",
      "/ext3/miniforge3/lib/python3.12/site-packages/torch/optim/lr_scheduler.py:62: UserWarning: The verbose parameter is deprecated. Please use get_last_lr() to access the learning rate.\n",
      "  warnings.warn(\n",
      "\n",
      "  | Name            | Type                 | Params | Mode \n",
      "-----------------------------------------------------------------\n",
      "0 | embeddingLayer  | Linear               | 384    | train\n",
      "1 | dropout_embed   | Dropout              | 0      | train\n",
      "2 | dropout_hidden2 | Dropout              | 0      | train\n",
      "3 | rnn             | LSTM                 | 34.1 M | train\n",
      "4 | hidden2         | Linear               | 131 K  | train\n",
      "5 | classifier      | Linear               | 260    | train\n",
      "6 | train_criterion | CrossEntropyLoss     | 0      | train\n",
      "7 | val_criterion   | CrossEntropyLoss     | 0      | train\n",
      "8 | kappa           | MulticlassCohenKappa | 0      | train\n",
      "-----------------------------------------------------------------\n",
      "34.3 M    Trainable params\n",
      "0         Non-trainable params\n",
      "34.3 M    Total params\n",
      "137.071   Total estimated model params size (MB)\n",
      "9         Modules in train mode\n",
      "0         Modules in eval mode\n",
      "SLURM auto-requeueing enabled. Setting signal handlers.\n"
     ]
    },
    {
     "name": "stdout",
     "output_type": "stream",
     "text": [
      "Epoch 0: 100%|██████████| 101/101 [01:02<00:00,  1.63it/s, v_num=bfep, train_loss_step=nan.0]\n",
      "Validation: |          | 0/? [00:00<?, ?it/s]\u001b[A\n",
      "Validation:   0%|          | 0/14 [00:00<?, ?it/s]\u001b[A\n",
      "Validation DataLoader 0:   0%|          | 0/14 [00:00<?, ?it/s]\u001b[A\n",
      "Validation DataLoader 0:   7%|▋         | 1/14 [00:00<00:05,  2.51it/s]\u001b[A\n",
      "Validation DataLoader 0:  14%|█▍        | 2/14 [00:00<00:04,  2.53it/s]\u001b[A\n",
      "Validation DataLoader 0:  21%|██▏       | 3/14 [00:01<00:04,  2.57it/s]\u001b[A\n",
      "Validation DataLoader 0:  29%|██▊       | 4/14 [00:01<00:03,  2.55it/s]\u001b[A\n",
      "Validation DataLoader 0:  36%|███▌      | 5/14 [00:01<00:03,  2.55it/s]\u001b[A\n",
      "Validation DataLoader 0:  43%|████▎     | 6/14 [00:02<00:03,  2.55it/s]\u001b[A\n",
      "Validation DataLoader 0:  50%|█████     | 7/14 [00:02<00:02,  2.55it/s]\u001b[A\n",
      "Validation DataLoader 0:  57%|█████▋    | 8/14 [00:03<00:02,  2.55it/s]\u001b[A\n",
      "Validation DataLoader 0:  64%|██████▍   | 9/14 [00:03<00:01,  2.55it/s]\u001b[A\n",
      "Validation DataLoader 0:  71%|███████▏  | 10/14 [00:03<00:01,  2.56it/s]\u001b[A\n",
      "Validation DataLoader 0:  79%|███████▊  | 11/14 [00:04<00:01,  2.56it/s]\u001b[A\n",
      "Validation DataLoader 0:  86%|████████▌ | 12/14 [00:04<00:00,  2.56it/s]\u001b[A\n",
      "Validation DataLoader 0:  93%|█████████▎| 13/14 [00:05<00:00,  2.56it/s]\u001b[A\n",
      "Validation DataLoader 0: 100%|██████████| 14/14 [00:05<00:00,  2.57it/s]\u001b[A\n",
      "Epoch 0: 100%|██████████| 101/101 [01:08<00:00,  1.47it/s, v_num=bfep, train_loss_step=nan.0, val_loss=nan.0, val_acc=0.208, val_cohen_kappa=0.000, train_loss_epoch=nan.0]"
     ]
    },
    {
     "name": "stderr",
     "output_type": "stream",
     "text": [
      "Monitored metric val_loss = nan is not finite. Previous best value was inf. Signaling Trainer to stop.\n"
     ]
    },
    {
     "name": "stdout",
     "output_type": "stream",
     "text": [
      "Epoch 0: 100%|██████████| 101/101 [01:10<00:00,  1.44it/s, v_num=bfep, train_loss_step=nan.0, val_loss=nan.0, val_acc=0.208, val_cohen_kappa=0.000, train_loss_epoch=nan.0]\n",
      "Best model path: /scratch/npr264/BioDeepL/project/moved_from_home/checkpoints/10/best-checkpoint-v18.ckpt\n"
     ]
    },
    {
     "name": "stderr",
     "output_type": "stream",
     "text": [
      "You are using the plain ModelCheckpoint callback. Consider using LitModelCheckpoint which with seamless uploading to Model registry.\n",
      "GPU available: True (cuda), used: True\n",
      "TPU available: False, using: 0 TPU cores\n",
      "HPU available: False, using: 0 HPUs\n",
      "LOCAL_RANK: 0 - CUDA_VISIBLE_DEVICES: [0]\n",
      "SLURM auto-requeueing enabled. Setting signal handlers.\n"
     ]
    },
    {
     "name": "stdout",
     "output_type": "stream",
     "text": [
      "Validation DataLoader 0: 100%|██████████| 14/14 [00:04<00:00,  2.94it/s]\n"
     ]
    },
    {
     "name": "stderr",
     "output_type": "stream",
     "text": [
      "\u001b[34m\u001b[1mwandb\u001b[0m: \u001b[32m\u001b[41mERROR\u001b[0m The nbformat package was not found. It is required to save notebook history.\n"
     ]
    },
    {
     "data": {
      "text/html": [],
      "text/plain": [
       "<IPython.core.display.HTML object>"
      ]
     },
     "metadata": {},
     "output_type": "display_data"
    },
    {
     "data": {
      "text/html": [
       "<br>    <style><br>        .wandb-row {<br>            display: flex;<br>            flex-direction: row;<br>            flex-wrap: wrap;<br>            justify-content: flex-start;<br>            width: 100%;<br>        }<br>        .wandb-col {<br>            display: flex;<br>            flex-direction: column;<br>            flex-basis: 100%;<br>            flex: 1;<br>            padding: 10px;<br>        }<br>    </style><br><div class=\"wandb-row\"><div class=\"wandb-col\"><h3>Run history:</h3><br/><table class=\"wandb\"><tr><td>epoch</td><td>▁▁▁▁▁▁▁▁▁▁▁▁▁▁▁▁▁▁▁▁▁▁▁▁▁▁▁▁▁▁▁▁▁▁▁▁▁▁▁▁</td></tr><tr><td>train_loss_step</td><td>▁█                                      </td></tr><tr><td>trainer/global_step</td><td>▁▁▁▁▂▂▂▂▂▃▃▃▃▄▄▄▄▄▅▅▅▅▅▅▆▆▆▆▆▆▇▇▇▇▇█████</td></tr><tr><td>val_acc</td><td>▁</td></tr><tr><td>val_cohen_kappa</td><td>▁</td></tr></table><br/></div><div class=\"wandb-col\"><h3>Run summary:</h3><br/><table class=\"wandb\"><tr><td>best_val_loss</td><td>nan</td></tr><tr><td>epoch</td><td>0</td></tr><tr><td>train_loss_epoch</td><td>nan</td></tr><tr><td>train_loss_step</td><td>nan</td></tr><tr><td>trainer/global_step</td><td>100</td></tr><tr><td>val_acc</td><td>0.20848</td></tr><tr><td>val_cohen_kappa</td><td>0</td></tr><tr><td>val_loss</td><td>nan</td></tr></table><br/></div></div>"
      ],
      "text/plain": [
       "<IPython.core.display.HTML object>"
      ]
     },
     "metadata": {},
     "output_type": "display_data"
    },
    {
     "data": {
      "text/html": [
       " View run <strong style=\"color:#cdcd00\">prernn64_rnn1024_hidden64lr0.009499380781497826_batchsize2dropoutembed0.12916400206572898_dropoutRNN0.14359436044100035_dropouthidden20.5105784822945836</strong> at: <a href='https://wandb.ai/npr264-new-york-university/Baseline/runs/8luhbfep' target=\"_blank\">https://wandb.ai/npr264-new-york-university/Baseline/runs/8luhbfep</a><br> View project at: <a href='https://wandb.ai/npr264-new-york-university/Baseline' target=\"_blank\">https://wandb.ai/npr264-new-york-university/Baseline</a><br>Synced 5 W&B file(s), 0 media file(s), 0 artifact file(s) and 0 other file(s)"
      ],
      "text/plain": [
       "<IPython.core.display.HTML object>"
      ]
     },
     "metadata": {},
     "output_type": "display_data"
    },
    {
     "data": {
      "text/html": [
       "Find logs at: <code>./wandb/run-20250429_233810-8luhbfep/logs</code>"
      ],
      "text/plain": [
       "<IPython.core.display.HTML object>"
      ]
     },
     "metadata": {},
     "output_type": "display_data"
    },
    {
     "name": "stderr",
     "output_type": "stream",
     "text": [
      "[W 2025-04-29 23:39:31,678] Trial 10 failed with parameters: {'dropout_embed': 0.12916400206572898, 'dropout_rnn': 0.14359436044100035, 'dropout_hidden2': 0.5105784822945836, 'pre_rnn_embedding_size': 64, 'rnn_hidden_size': 1024, 'hidden_size2': 64, 'learning_rate': 0.009499380781497826, 'batch_size': 2} because of the following error: The value nan is not acceptable.\n",
      "[W 2025-04-29 23:39:31,679] Trial 10 failed with value nan.\n",
      "/state/partition1/job-59918280/ipykernel_522356/1335623980.py:23: FutureWarning: suggest_loguniform has been deprecated in v3.0.0. This feature will be removed in v6.0.0. See https://github.com/optuna/optuna/releases/tag/v3.0.0. Use suggest_float(..., log=True) instead.\n",
      "  learning_rate = trial.suggest_loguniform(\"learning_rate\", 1e-5, 1e-2)\n",
      "GPU available: True (cuda), used: True\n",
      "TPU available: False, using: 0 TPU cores\n",
      "HPU available: False, using: 0 HPUs\n"
     ]
    },
    {
     "data": {
      "text/html": [
       "Tracking run with wandb version 0.19.9"
      ],
      "text/plain": [
       "<IPython.core.display.HTML object>"
      ]
     },
     "metadata": {},
     "output_type": "display_data"
    },
    {
     "data": {
      "text/html": [
       "Run data is saved locally in <code>./wandb/run-20250429_233931-it6eefvp</code>"
      ],
      "text/plain": [
       "<IPython.core.display.HTML object>"
      ]
     },
     "metadata": {},
     "output_type": "display_data"
    },
    {
     "data": {
      "text/html": [
       "Syncing run <strong><a href='https://wandb.ai/npr264-new-york-university/Baseline/runs/it6eefvp' target=\"_blank\">prernn64_rnn32_hidden64lr0.007845146565455376_batchsize2dropoutembed0.11770524401924032_dropoutRNN0.12065053357333444_dropouthidden20.5351828654099343</a></strong> to <a href='https://wandb.ai/npr264-new-york-university/Baseline' target=\"_blank\">Weights & Biases</a> (<a href='https://wandb.me/developer-guide' target=\"_blank\">docs</a>)<br>"
      ],
      "text/plain": [
       "<IPython.core.display.HTML object>"
      ]
     },
     "metadata": {},
     "output_type": "display_data"
    },
    {
     "data": {
      "text/html": [
       " View project at <a href='https://wandb.ai/npr264-new-york-university/Baseline' target=\"_blank\">https://wandb.ai/npr264-new-york-university/Baseline</a>"
      ],
      "text/plain": [
       "<IPython.core.display.HTML object>"
      ]
     },
     "metadata": {},
     "output_type": "display_data"
    },
    {
     "data": {
      "text/html": [
       " View run at <a href='https://wandb.ai/npr264-new-york-university/Baseline/runs/it6eefvp' target=\"_blank\">https://wandb.ai/npr264-new-york-university/Baseline/runs/it6eefvp</a>"
      ],
      "text/plain": [
       "<IPython.core.display.HTML object>"
      ]
     },
     "metadata": {},
     "output_type": "display_data"
    },
    {
     "name": "stderr",
     "output_type": "stream",
     "text": [
      "/ext3/miniforge3/lib/python3.12/site-packages/pytorch_lightning/callbacks/model_checkpoint.py:654: Checkpoint directory /scratch/npr264/BioDeepL/project/moved_from_home/checkpoints/11 exists and is not empty.\n",
      "LOCAL_RANK: 0 - CUDA_VISIBLE_DEVICES: [0]\n",
      "/ext3/miniforge3/lib/python3.12/site-packages/torch/optim/lr_scheduler.py:62: UserWarning: The verbose parameter is deprecated. Please use get_last_lr() to access the learning rate.\n",
      "  warnings.warn(\n",
      "\n",
      "  | Name            | Type                 | Params | Mode \n",
      "-----------------------------------------------------------------\n",
      "0 | embeddingLayer  | Linear               | 384    | train\n",
      "1 | dropout_embed   | Dropout              | 0      | train\n",
      "2 | dropout_hidden2 | Dropout              | 0      | train\n",
      "3 | rnn             | LSTM                 | 50.9 K | train\n",
      "4 | hidden2         | Linear               | 4.2 K  | train\n",
      "5 | classifier      | Linear               | 260    | train\n",
      "6 | train_criterion | CrossEntropyLoss     | 0      | train\n",
      "7 | val_criterion   | CrossEntropyLoss     | 0      | train\n",
      "8 | kappa           | MulticlassCohenKappa | 0      | train\n",
      "-----------------------------------------------------------------\n",
      "55.7 K    Trainable params\n",
      "0         Non-trainable params\n",
      "55.7 K    Total params\n",
      "0.223     Total estimated model params size (MB)\n",
      "9         Modules in train mode\n",
      "0         Modules in eval mode\n",
      "SLURM auto-requeueing enabled. Setting signal handlers.\n"
     ]
    },
    {
     "name": "stdout",
     "output_type": "stream",
     "text": [
      "Epoch 0: 100%|██████████| 101/101 [00:01<00:00, 50.97it/s, v_num=efvp, train_loss_step=1.100]\n",
      "Validation: |          | 0/? [00:00<?, ?it/s]\u001b[A\n",
      "Validation:   0%|          | 0/14 [00:00<?, ?it/s]\u001b[A\n",
      "Validation DataLoader 0:   0%|          | 0/14 [00:00<?, ?it/s]\u001b[A\n",
      "Validation DataLoader 0:   7%|▋         | 1/14 [00:00<00:00, 109.38it/s]\u001b[A\n",
      "Validation DataLoader 0:  14%|█▍        | 2/14 [00:00<00:00, 101.91it/s]\u001b[A\n",
      "Validation DataLoader 0:  21%|██▏       | 3/14 [00:00<00:00, 106.18it/s]\u001b[A\n",
      "Validation DataLoader 0:  29%|██▊       | 4/14 [00:00<00:00, 103.09it/s]\u001b[A\n",
      "Validation DataLoader 0:  36%|███▌      | 5/14 [00:00<00:00, 99.90it/s] \u001b[A\n",
      "Validation DataLoader 0:  43%|████▎     | 6/14 [00:00<00:00, 73.05it/s]\u001b[A\n",
      "Validation DataLoader 0:  50%|█████     | 7/14 [00:00<00:00, 65.99it/s]\u001b[A\n",
      "Validation DataLoader 0:  57%|█████▋    | 8/14 [00:00<00:00, 68.39it/s]\u001b[A\n",
      "Validation DataLoader 0:  64%|██████▍   | 9/14 [00:00<00:00, 71.13it/s]\u001b[A\n",
      "Validation DataLoader 0:  71%|███████▏  | 10/14 [00:00<00:00, 73.82it/s]\u001b[A\n",
      "Validation DataLoader 0:  79%|███████▊  | 11/14 [00:00<00:00, 75.85it/s]\u001b[A\n",
      "Validation DataLoader 0:  86%|████████▌ | 12/14 [00:00<00:00, 69.72it/s]\u001b[A\n",
      "Validation DataLoader 0:  93%|█████████▎| 13/14 [00:00<00:00, 66.83it/s]\u001b[A\n",
      "Validation DataLoader 0: 100%|██████████| 14/14 [00:00<00:00, 68.33it/s]\u001b[A\n",
      "Epoch 0: 100%|██████████| 101/101 [00:03<00:00, 33.04it/s, v_num=efvp, train_loss_step=1.100, val_loss=1.340, val_acc=0.230, val_cohen_kappa=0.0584, train_loss_epoch=1.370]"
     ]
    },
    {
     "name": "stderr",
     "output_type": "stream",
     "text": [
      "Metric val_loss improved. New best score: 1.339\n"
     ]
    },
    {
     "name": "stdout",
     "output_type": "stream",
     "text": [
      "Epoch 1: 100%|██████████| 101/101 [00:02<00:00, 37.77it/s, v_num=efvp, train_loss_step=1.320, val_loss=1.340, val_acc=0.230, val_cohen_kappa=0.0584, train_loss_epoch=1.370]\n",
      "Validation: |          | 0/? [00:00<?, ?it/s]\u001b[A\n",
      "Validation:   0%|          | 0/14 [00:00<?, ?it/s]\u001b[A\n",
      "Validation DataLoader 0:   0%|          | 0/14 [00:00<?, ?it/s]\u001b[A\n",
      "Validation DataLoader 0:   7%|▋         | 1/14 [00:00<00:00, 28.79it/s]\u001b[A\n",
      "Validation DataLoader 0:  14%|█▍        | 2/14 [00:00<00:00, 32.85it/s]\u001b[A\n",
      "Validation DataLoader 0:  21%|██▏       | 3/14 [00:00<00:00, 41.60it/s]\u001b[A\n",
      "Validation DataLoader 0:  29%|██▊       | 4/14 [00:00<00:00, 37.86it/s]\u001b[A\n",
      "Validation DataLoader 0:  36%|███▌      | 5/14 [00:00<00:00, 36.05it/s]\u001b[A\n",
      "Validation DataLoader 0:  43%|████▎     | 6/14 [00:00<00:00, 33.37it/s]\u001b[A\n",
      "Validation DataLoader 0:  50%|█████     | 7/14 [00:00<00:00, 32.85it/s]\u001b[A\n",
      "Validation DataLoader 0:  57%|█████▋    | 8/14 [00:00<00:00, 32.15it/s]\u001b[A\n",
      "Validation DataLoader 0:  64%|██████▍   | 9/14 [00:00<00:00, 31.88it/s]\u001b[A\n",
      "Validation DataLoader 0:  71%|███████▏  | 10/14 [00:00<00:00, 34.14it/s]\u001b[A\n",
      "Validation DataLoader 0:  79%|███████▊  | 11/14 [00:00<00:00, 33.74it/s]\u001b[A\n",
      "Validation DataLoader 0:  86%|████████▌ | 12/14 [00:00<00:00, 33.19it/s]\u001b[A\n",
      "Validation DataLoader 0:  93%|█████████▎| 13/14 [00:00<00:00, 34.78it/s]\u001b[A\n",
      "Validation DataLoader 0: 100%|██████████| 14/14 [00:00<00:00, 34.27it/s]\u001b[A\n",
      "Epoch 2: 100%|██████████| 101/101 [00:02<00:00, 37.93it/s, v_num=efvp, train_loss_step=1.040, val_loss=1.360, val_acc=0.164, val_cohen_kappa=0.021, train_loss_epoch=1.330] \n",
      "Validation: |          | 0/? [00:00<?, ?it/s]\u001b[A\n",
      "Validation:   0%|          | 0/14 [00:00<?, ?it/s]\u001b[A\n",
      "Validation DataLoader 0:   0%|          | 0/14 [00:00<?, ?it/s]\u001b[A\n",
      "Validation DataLoader 0:   7%|▋         | 1/14 [00:00<00:00, 95.40it/s]\u001b[A\n",
      "Validation DataLoader 0:  14%|█▍        | 2/14 [00:00<00:00, 94.92it/s]\u001b[A\n",
      "Validation DataLoader 0:  21%|██▏       | 3/14 [00:00<00:00, 93.37it/s]\u001b[A\n",
      "Validation DataLoader 0:  29%|██▊       | 4/14 [00:00<00:00, 92.82it/s]\u001b[A\n",
      "Validation DataLoader 0:  36%|███▌      | 5/14 [00:00<00:00, 90.37it/s]\u001b[A\n",
      "Validation DataLoader 0:  43%|████▎     | 6/14 [00:00<00:00, 92.18it/s]\u001b[A\n",
      "Validation DataLoader 0:  50%|█████     | 7/14 [00:00<00:00, 85.72it/s]\u001b[A\n",
      "Validation DataLoader 0:  57%|█████▋    | 8/14 [00:00<00:00, 86.04it/s]\u001b[A\n",
      "Validation DataLoader 0:  64%|██████▍   | 9/14 [00:00<00:00, 87.89it/s]\u001b[A\n",
      "Validation DataLoader 0:  71%|███████▏  | 10/14 [00:00<00:00, 89.80it/s]\u001b[A\n",
      "Validation DataLoader 0:  79%|███████▊  | 11/14 [00:00<00:00, 91.66it/s]\u001b[A\n",
      "Validation DataLoader 0:  86%|████████▌ | 12/14 [00:00<00:00, 91.35it/s]\u001b[A\n",
      "Validation DataLoader 0:  93%|█████████▎| 13/14 [00:00<00:00, 92.32it/s]\u001b[A\n",
      "Validation DataLoader 0: 100%|██████████| 14/14 [00:00<00:00, 91.46it/s]\u001b[A\n",
      "Epoch 3: 100%|██████████| 101/101 [00:02<00:00, 41.71it/s, v_num=efvp, train_loss_step=1.210, val_loss=1.400, val_acc=0.257, val_cohen_kappa=0.0751, train_loss_epoch=1.310]\n",
      "Validation: |          | 0/? [00:00<?, ?it/s]\u001b[A\n",
      "Validation:   0%|          | 0/14 [00:00<?, ?it/s]\u001b[A\n",
      "Validation DataLoader 0:   0%|          | 0/14 [00:00<?, ?it/s]\u001b[A\n",
      "Validation DataLoader 0:   7%|▋         | 1/14 [00:00<00:00, 94.41it/s]\u001b[A\n",
      "Validation DataLoader 0:  14%|█▍        | 2/14 [00:00<00:00, 100.88it/s]\u001b[A\n",
      "Validation DataLoader 0:  21%|██▏       | 3/14 [00:00<00:00, 46.71it/s] \u001b[A\n",
      "Validation DataLoader 0:  29%|██▊       | 4/14 [00:00<00:00, 53.67it/s]\u001b[A\n",
      "Validation DataLoader 0:  36%|███▌      | 5/14 [00:00<00:00, 59.62it/s]\u001b[A\n",
      "Validation DataLoader 0:  43%|████▎     | 6/14 [00:00<00:00, 64.22it/s]\u001b[A\n",
      "Validation DataLoader 0:  50%|█████     | 7/14 [00:00<00:00, 66.47it/s]\u001b[A\n",
      "Validation DataLoader 0:  57%|█████▋    | 8/14 [00:00<00:00, 67.67it/s]\u001b[A\n",
      "Validation DataLoader 0:  64%|██████▍   | 9/14 [00:00<00:00, 66.28it/s]\u001b[A\n",
      "Validation DataLoader 0:  71%|███████▏  | 10/14 [00:00<00:00, 67.67it/s]\u001b[A\n",
      "Validation DataLoader 0:  79%|███████▊  | 11/14 [00:00<00:00, 62.09it/s]\u001b[A\n",
      "Validation DataLoader 0:  86%|████████▌ | 12/14 [00:00<00:00, 64.68it/s]\u001b[A\n",
      "Validation DataLoader 0:  93%|█████████▎| 13/14 [00:00<00:00, 67.01it/s]\u001b[A\n",
      "Validation DataLoader 0: 100%|██████████| 14/14 [00:00<00:00, 69.08it/s]\u001b[A\n",
      "Epoch 4: 100%|██████████| 101/101 [00:02<00:00, 36.29it/s, v_num=efvp, train_loss_step=1.460, val_loss=1.350, val_acc=0.536, val_cohen_kappa=0.128, train_loss_epoch=1.310] \n",
      "Validation: |          | 0/? [00:00<?, ?it/s]\u001b[A\n",
      "Validation:   0%|          | 0/14 [00:00<?, ?it/s]\u001b[A\n",
      "Validation DataLoader 0:   0%|          | 0/14 [00:00<?, ?it/s]\u001b[A\n",
      "Validation DataLoader 0:   7%|▋         | 1/14 [00:00<00:00, 29.74it/s]\u001b[A\n",
      "Validation DataLoader 0:  14%|█▍        | 2/14 [00:00<00:00, 31.20it/s]\u001b[A\n",
      "Validation DataLoader 0:  21%|██▏       | 3/14 [00:00<00:00, 30.89it/s]\u001b[A\n",
      "Validation DataLoader 0:  29%|██▊       | 4/14 [00:00<00:00, 36.37it/s]\u001b[A\n",
      "Validation DataLoader 0:  36%|███▌      | 5/14 [00:00<00:00, 35.18it/s]\u001b[A\n",
      "Validation DataLoader 0:  43%|████▎     | 6/14 [00:00<00:00, 33.42it/s]\u001b[A\n",
      "Validation DataLoader 0:  50%|█████     | 7/14 [00:00<00:00, 32.21it/s]\u001b[A\n",
      "Validation DataLoader 0:  57%|█████▋    | 8/14 [00:00<00:00, 31.49it/s]\u001b[A\n",
      "Validation DataLoader 0:  64%|██████▍   | 9/14 [00:00<00:00, 31.68it/s]\u001b[A\n",
      "Validation DataLoader 0:  71%|███████▏  | 10/14 [00:00<00:00, 31.50it/s]\u001b[A\n",
      "Validation DataLoader 0:  79%|███████▊  | 11/14 [00:00<00:00, 33.34it/s]\u001b[A\n",
      "Validation DataLoader 0:  86%|████████▌ | 12/14 [00:00<00:00, 32.92it/s]\u001b[A\n",
      "Validation DataLoader 0:  93%|█████████▎| 13/14 [00:00<00:00, 32.67it/s]\u001b[A\n",
      "Validation DataLoader 0: 100%|██████████| 14/14 [00:00<00:00, 34.36it/s]\u001b[A\n",
      "Epoch 4: 100%|██████████| 101/101 [00:03<00:00, 26.57it/s, v_num=efvp, train_loss_step=1.460, val_loss=1.440, val_acc=0.348, val_cohen_kappa=0.110, train_loss_epoch=1.270]"
     ]
    },
    {
     "name": "stderr",
     "output_type": "stream",
     "text": [
      "Monitored metric val_loss did not improve in the last 4 records. Best score: 1.339. Signaling Trainer to stop.\n"
     ]
    },
    {
     "name": "stdout",
     "output_type": "stream",
     "text": [
      "Epoch 4: 100%|██████████| 101/101 [00:03<00:00, 26.51it/s, v_num=efvp, train_loss_step=1.460, val_loss=1.440, val_acc=0.348, val_cohen_kappa=0.110, train_loss_epoch=1.270]\n",
      "Best model path: /scratch/npr264/BioDeepL/project/moved_from_home/checkpoints/11/best-checkpoint-v17.ckpt\n"
     ]
    },
    {
     "name": "stderr",
     "output_type": "stream",
     "text": [
      "You are using the plain ModelCheckpoint callback. Consider using LitModelCheckpoint which with seamless uploading to Model registry.\n",
      "GPU available: True (cuda), used: True\n",
      "TPU available: False, using: 0 TPU cores\n",
      "HPU available: False, using: 0 HPUs\n",
      "LOCAL_RANK: 0 - CUDA_VISIBLE_DEVICES: [0]\n",
      "SLURM auto-requeueing enabled. Setting signal handlers.\n"
     ]
    },
    {
     "name": "stdout",
     "output_type": "stream",
     "text": [
      "Validation DataLoader 0: 100%|██████████| 14/14 [00:00<00:00, 34.25it/s]\n"
     ]
    },
    {
     "name": "stderr",
     "output_type": "stream",
     "text": [
      "\u001b[34m\u001b[1mwandb\u001b[0m: \u001b[32m\u001b[41mERROR\u001b[0m The nbformat package was not found. It is required to save notebook history.\n"
     ]
    },
    {
     "data": {
      "text/html": [],
      "text/plain": [
       "<IPython.core.display.HTML object>"
      ]
     },
     "metadata": {},
     "output_type": "display_data"
    },
    {
     "data": {
      "text/html": [
       "<br>    <style><br>        .wandb-row {<br>            display: flex;<br>            flex-direction: row;<br>            flex-wrap: wrap;<br>            justify-content: flex-start;<br>            width: 100%;<br>        }<br>        .wandb-col {<br>            display: flex;<br>            flex-direction: column;<br>            flex-basis: 100%;<br>            flex: 1;<br>            padding: 10px;<br>        }<br>    </style><br><div class=\"wandb-row\"><div class=\"wandb-col\"><h3>Run history:</h3><br/><table class=\"wandb\"><tr><td>best_val_loss</td><td>▁</td></tr><tr><td>epoch</td><td>▁▁▁▁▁▁▁▁▁▃▃▃▃▃▃▅▅▅▅▅▆▆▆▆▆▆▆▆▆███████████</td></tr><tr><td>train_loss_epoch</td><td>█▅▄▄▁</td></tr><tr><td>train_loss_step</td><td>▄▅▇▅▅▅▄▄▅▄▂▂▄▅▄▃▄▅▄▅▄▂▅▃▂▂▄▄▁▄▆▃▂▃▅▄▃▄▆█</td></tr><tr><td>trainer/global_step</td><td>▁▂▂▂▂▂▂▂▂▃▃▃▄▄▄▅▅▅▅▅▅▅▅▆▆▆▆▇▇▇▇▇▇▇▇▇▇███</td></tr><tr><td>val_acc</td><td>▂▁▃█▄</td></tr><tr><td>val_cohen_kappa</td><td>▃▁▅█▇</td></tr><tr><td>val_loss</td><td>▁▃▅▁█</td></tr></table><br/></div><div class=\"wandb-col\"><h3>Run summary:</h3><br/><table class=\"wandb\"><tr><td>best_val_loss</td><td>1.33922</td></tr><tr><td>epoch</td><td>4</td></tr><tr><td>train_loss_epoch</td><td>1.26794</td></tr><tr><td>train_loss_step</td><td>1.6718</td></tr><tr><td>trainer/global_step</td><td>504</td></tr><tr><td>val_acc</td><td>0.34762</td></tr><tr><td>val_cohen_kappa</td><td>0.1096</td></tr><tr><td>val_loss</td><td>1.43702</td></tr></table><br/></div></div>"
      ],
      "text/plain": [
       "<IPython.core.display.HTML object>"
      ]
     },
     "metadata": {},
     "output_type": "display_data"
    },
    {
     "data": {
      "text/html": [
       " View run <strong style=\"color:#cdcd00\">prernn64_rnn32_hidden64lr0.007845146565455376_batchsize2dropoutembed0.11770524401924032_dropoutRNN0.12065053357333444_dropouthidden20.5351828654099343</strong> at: <a href='https://wandb.ai/npr264-new-york-university/Baseline/runs/it6eefvp' target=\"_blank\">https://wandb.ai/npr264-new-york-university/Baseline/runs/it6eefvp</a><br> View project at: <a href='https://wandb.ai/npr264-new-york-university/Baseline' target=\"_blank\">https://wandb.ai/npr264-new-york-university/Baseline</a><br>Synced 5 W&B file(s), 0 media file(s), 0 artifact file(s) and 0 other file(s)"
      ],
      "text/plain": [
       "<IPython.core.display.HTML object>"
      ]
     },
     "metadata": {},
     "output_type": "display_data"
    },
    {
     "data": {
      "text/html": [
       "Find logs at: <code>./wandb/run-20250429_233931-it6eefvp/logs</code>"
      ],
      "text/plain": [
       "<IPython.core.display.HTML object>"
      ]
     },
     "metadata": {},
     "output_type": "display_data"
    },
    {
     "name": "stderr",
     "output_type": "stream",
     "text": [
      "[I 2025-04-29 23:39:54,775] Trial 11 finished with value: 1.3392200469970703 and parameters: {'dropout_embed': 0.11770524401924032, 'dropout_rnn': 0.12065053357333444, 'dropout_hidden2': 0.5351828654099343, 'pre_rnn_embedding_size': 64, 'rnn_hidden_size': 32, 'hidden_size2': 64, 'learning_rate': 0.007845146565455376, 'batch_size': 2}. Best is trial 1 with value: 1.2047420740127563.\n",
      "/state/partition1/job-59918280/ipykernel_522356/1335623980.py:23: FutureWarning: suggest_loguniform has been deprecated in v3.0.0. This feature will be removed in v6.0.0. See https://github.com/optuna/optuna/releases/tag/v3.0.0. Use suggest_float(..., log=True) instead.\n",
      "  learning_rate = trial.suggest_loguniform(\"learning_rate\", 1e-5, 1e-2)\n",
      "GPU available: True (cuda), used: True\n",
      "TPU available: False, using: 0 TPU cores\n",
      "HPU available: False, using: 0 HPUs\n"
     ]
    },
    {
     "data": {
      "text/html": [
       "Tracking run with wandb version 0.19.9"
      ],
      "text/plain": [
       "<IPython.core.display.HTML object>"
      ]
     },
     "metadata": {},
     "output_type": "display_data"
    },
    {
     "data": {
      "text/html": [
       "Run data is saved locally in <code>./wandb/run-20250429_233955-ug9h19nx</code>"
      ],
      "text/plain": [
       "<IPython.core.display.HTML object>"
      ]
     },
     "metadata": {},
     "output_type": "display_data"
    },
    {
     "data": {
      "text/html": [
       "Syncing run <strong><a href='https://wandb.ai/npr264-new-york-university/Baseline/runs/ug9h19nx' target=\"_blank\">prernn4_rnn1024_hidden8lr0.009991777854944464_batchsize4dropoutembed0.20146265322849521_dropoutRNN0.5392266514923794_dropouthidden20.4770104589821209</a></strong> to <a href='https://wandb.ai/npr264-new-york-university/Baseline' target=\"_blank\">Weights & Biases</a> (<a href='https://wandb.me/developer-guide' target=\"_blank\">docs</a>)<br>"
      ],
      "text/plain": [
       "<IPython.core.display.HTML object>"
      ]
     },
     "metadata": {},
     "output_type": "display_data"
    },
    {
     "data": {
      "text/html": [
       " View project at <a href='https://wandb.ai/npr264-new-york-university/Baseline' target=\"_blank\">https://wandb.ai/npr264-new-york-university/Baseline</a>"
      ],
      "text/plain": [
       "<IPython.core.display.HTML object>"
      ]
     },
     "metadata": {},
     "output_type": "display_data"
    },
    {
     "data": {
      "text/html": [
       " View run at <a href='https://wandb.ai/npr264-new-york-university/Baseline/runs/ug9h19nx' target=\"_blank\">https://wandb.ai/npr264-new-york-university/Baseline/runs/ug9h19nx</a>"
      ],
      "text/plain": [
       "<IPython.core.display.HTML object>"
      ]
     },
     "metadata": {},
     "output_type": "display_data"
    },
    {
     "name": "stderr",
     "output_type": "stream",
     "text": [
      "/ext3/miniforge3/lib/python3.12/site-packages/pytorch_lightning/callbacks/model_checkpoint.py:654: Checkpoint directory /scratch/npr264/BioDeepL/project/moved_from_home/checkpoints/12 exists and is not empty.\n",
      "LOCAL_RANK: 0 - CUDA_VISIBLE_DEVICES: [0]\n",
      "/ext3/miniforge3/lib/python3.12/site-packages/torch/optim/lr_scheduler.py:62: UserWarning: The verbose parameter is deprecated. Please use get_last_lr() to access the learning rate.\n",
      "  warnings.warn(\n",
      "\n",
      "  | Name            | Type                 | Params | Mode \n",
      "-----------------------------------------------------------------\n",
      "0 | embeddingLayer  | Linear               | 24     | train\n",
      "1 | dropout_embed   | Dropout              | 0      | train\n",
      "2 | dropout_hidden2 | Dropout              | 0      | train\n",
      "3 | rnn             | LSTM                 | 33.6 M | train\n",
      "4 | hidden2         | Linear               | 16.4 K | train\n",
      "5 | classifier      | Linear               | 36     | train\n",
      "6 | train_criterion | CrossEntropyLoss     | 0      | train\n",
      "7 | val_criterion   | CrossEntropyLoss     | 0      | train\n",
      "8 | kappa           | MulticlassCohenKappa | 0      | train\n",
      "-----------------------------------------------------------------\n",
      "33.7 M    Trainable params\n",
      "0         Non-trainable params\n",
      "33.7 M    Total params\n",
      "134.644   Total estimated model params size (MB)\n",
      "9         Modules in train mode\n",
      "0         Modules in eval mode\n",
      "SLURM auto-requeueing enabled. Setting signal handlers.\n"
     ]
    },
    {
     "name": "stdout",
     "output_type": "stream",
     "text": [
      "Epoch 0: 100%|██████████| 51/51 [00:35<00:00,  1.43it/s, v_num=19nx, train_loss_step=1.520]\n",
      "Validation: |          | 0/? [00:00<?, ?it/s]\u001b[A\n",
      "Validation:   0%|          | 0/7 [00:00<?, ?it/s]\u001b[A\n",
      "Validation DataLoader 0:   0%|          | 0/7 [00:00<?, ?it/s]\u001b[A\n",
      "Validation DataLoader 0:  14%|█▍        | 1/7 [00:00<00:02,  2.29it/s]\u001b[A\n",
      "Validation DataLoader 0:  29%|██▊       | 2/7 [00:00<00:02,  2.26it/s]\u001b[A\n",
      "Validation DataLoader 0:  43%|████▎     | 3/7 [00:01<00:01,  2.28it/s]\u001b[A\n",
      "Validation DataLoader 0:  57%|█████▋    | 4/7 [00:01<00:01,  2.30it/s]\u001b[A\n",
      "Validation DataLoader 0:  71%|███████▏  | 5/7 [00:02<00:00,  2.30it/s]\u001b[A\n",
      "Validation DataLoader 0:  86%|████████▌ | 6/7 [00:02<00:00,  2.32it/s]\u001b[A\n",
      "Validation DataLoader 0: 100%|██████████| 7/7 [00:03<00:00,  2.31it/s]\u001b[A\n",
      "Epoch 0: 100%|██████████| 51/51 [00:39<00:00,  1.29it/s, v_num=19nx, train_loss_step=1.520, val_loss=1.480, val_acc=0.209, val_cohen_kappa=-1.24e-5, train_loss_epoch=1.990]"
     ]
    },
    {
     "name": "stderr",
     "output_type": "stream",
     "text": [
      "Metric val_loss improved. New best score: 1.475\n"
     ]
    },
    {
     "name": "stdout",
     "output_type": "stream",
     "text": [
      "Epoch 1: 100%|██████████| 51/51 [00:36<00:00,  1.38it/s, v_num=19nx, train_loss_step=1.380, val_loss=1.480, val_acc=0.209, val_cohen_kappa=-1.24e-5, train_loss_epoch=1.990]\n",
      "Validation: |          | 0/? [00:00<?, ?it/s]\u001b[A\n",
      "Validation:   0%|          | 0/7 [00:00<?, ?it/s]\u001b[A\n",
      "Validation DataLoader 0:   0%|          | 0/7 [00:00<?, ?it/s]\u001b[A\n",
      "Validation DataLoader 0:  14%|█▍        | 1/7 [00:00<00:01,  4.81it/s]\u001b[A\n",
      "Validation DataLoader 0:  29%|██▊       | 2/7 [00:00<00:01,  4.33it/s]\u001b[A\n",
      "Validation DataLoader 0:  43%|████▎     | 3/7 [00:00<00:01,  3.63it/s]\u001b[A\n",
      "Validation DataLoader 0:  57%|█████▋    | 4/7 [00:01<00:00,  3.19it/s]\u001b[A\n",
      "Validation DataLoader 0:  71%|███████▏  | 5/7 [00:01<00:00,  2.97it/s]\u001b[A\n",
      "Validation DataLoader 0:  86%|████████▌ | 6/7 [00:02<00:00,  2.85it/s]\u001b[A\n",
      "Validation DataLoader 0: 100%|██████████| 7/7 [00:02<00:00,  2.75it/s]\u001b[A\n",
      "Epoch 1: 100%|██████████| 51/51 [00:40<00:00,  1.26it/s, v_num=19nx, train_loss_step=1.380, val_loss=1.420, val_acc=0.136, val_cohen_kappa=0.00697, train_loss_epoch=1.480] "
     ]
    },
    {
     "name": "stderr",
     "output_type": "stream",
     "text": [
      "Metric val_loss improved by 0.052 >= min_delta = 0.0. New best score: 1.423\n"
     ]
    },
    {
     "name": "stdout",
     "output_type": "stream",
     "text": [
      "Epoch 2: 100%|██████████| 51/51 [00:34<00:00,  1.50it/s, v_num=19nx, train_loss_step=1.730, val_loss=1.420, val_acc=0.136, val_cohen_kappa=0.00697, train_loss_epoch=1.480]\n",
      "Validation: |          | 0/? [00:00<?, ?it/s]\u001b[A\n",
      "Validation:   0%|          | 0/7 [00:00<?, ?it/s]\u001b[A\n",
      "Validation DataLoader 0:   0%|          | 0/7 [00:00<?, ?it/s]\u001b[A\n",
      "Validation DataLoader 0:  14%|█▍        | 1/7 [00:00<00:01,  4.55it/s]\u001b[A\n",
      "Validation DataLoader 0:  29%|██▊       | 2/7 [00:00<00:01,  4.63it/s]\u001b[A\n",
      "Validation DataLoader 0:  43%|████▎     | 3/7 [00:00<00:00,  4.46it/s]\u001b[A\n",
      "Validation DataLoader 0:  57%|█████▋    | 4/7 [00:00<00:00,  4.20it/s]\u001b[A\n",
      "Validation DataLoader 0:  71%|███████▏  | 5/7 [00:01<00:00,  3.62it/s]\u001b[A\n",
      "Validation DataLoader 0:  86%|████████▌ | 6/7 [00:01<00:00,  3.31it/s]\u001b[A\n",
      "Validation DataLoader 0: 100%|██████████| 7/7 [00:02<00:00,  3.10it/s]\u001b[A\n",
      "Epoch 3: 100%|██████████| 51/51 [00:36<00:00,  1.39it/s, v_num=19nx, train_loss_step=1.350, val_loss=1.440, val_acc=0.372, val_cohen_kappa=0.0284, train_loss_epoch=1.400] \n",
      "Validation: |          | 0/? [00:00<?, ?it/s]\u001b[A\n",
      "Validation:   0%|          | 0/7 [00:00<?, ?it/s]\u001b[A\n",
      "Validation DataLoader 0:   0%|          | 0/7 [00:00<?, ?it/s]\u001b[A\n",
      "Validation DataLoader 0:  14%|█▍        | 1/7 [00:00<00:02,  2.32it/s]\u001b[A\n",
      "Validation DataLoader 0:  29%|██▊       | 2/7 [00:00<00:02,  2.34it/s]\u001b[A\n",
      "Validation DataLoader 0:  43%|████▎     | 3/7 [00:01<00:01,  2.32it/s]\u001b[A\n",
      "Validation DataLoader 0:  57%|█████▋    | 4/7 [00:01<00:01,  2.35it/s]\u001b[A\n",
      "Validation DataLoader 0:  71%|███████▏  | 5/7 [00:02<00:00,  2.34it/s]\u001b[A\n",
      "Validation DataLoader 0:  86%|████████▌ | 6/7 [00:02<00:00,  2.56it/s]\u001b[A\n",
      "Validation DataLoader 0: 100%|██████████| 7/7 [00:02<00:00,  2.72it/s]\u001b[A\n",
      "Epoch 3: 100%|██████████| 51/51 [00:40<00:00,  1.27it/s, v_num=19nx, train_loss_step=1.350, val_loss=1.390, val_acc=0.450, val_cohen_kappa=-0.00118, train_loss_epoch=1.390]"
     ]
    },
    {
     "name": "stderr",
     "output_type": "stream",
     "text": [
      "Metric val_loss improved by 0.038 >= min_delta = 0.0. New best score: 1.386\n"
     ]
    },
    {
     "name": "stdout",
     "output_type": "stream",
     "text": [
      "Epoch 4: 100%|██████████| 51/51 [00:36<00:00,  1.40it/s, v_num=19nx, train_loss_step=1.420, val_loss=1.390, val_acc=0.450, val_cohen_kappa=-0.00118, train_loss_epoch=1.390]\n",
      "Validation: |          | 0/? [00:00<?, ?it/s]\u001b[A\n",
      "Validation:   0%|          | 0/7 [00:00<?, ?it/s]\u001b[A\n",
      "Validation DataLoader 0:   0%|          | 0/7 [00:00<?, ?it/s]\u001b[A\n",
      "Validation DataLoader 0:  14%|█▍        | 1/7 [00:00<00:02,  2.29it/s]\u001b[A\n",
      "Validation DataLoader 0:  29%|██▊       | 2/7 [00:00<00:02,  2.34it/s]\u001b[A\n",
      "Validation DataLoader 0:  43%|████▎     | 3/7 [00:01<00:01,  2.30it/s]\u001b[A\n",
      "Validation DataLoader 0:  57%|█████▋    | 4/7 [00:01<00:01,  2.31it/s]\u001b[A\n",
      "Validation DataLoader 0:  71%|███████▏  | 5/7 [00:02<00:00,  2.32it/s]\u001b[A\n",
      "Validation DataLoader 0:  86%|████████▌ | 6/7 [00:02<00:00,  2.31it/s]\u001b[A\n",
      "Validation DataLoader 0: 100%|██████████| 7/7 [00:03<00:00,  2.31it/s]\u001b[A\n",
      "Epoch 4: 100%|██████████| 51/51 [00:40<00:00,  1.27it/s, v_num=19nx, train_loss_step=1.420, val_loss=1.380, val_acc=0.382, val_cohen_kappa=0.0493, train_loss_epoch=1.390]  "
     ]
    },
    {
     "name": "stderr",
     "output_type": "stream",
     "text": [
      "Metric val_loss improved by 0.002 >= min_delta = 0.0. New best score: 1.383\n"
     ]
    },
    {
     "name": "stdout",
     "output_type": "stream",
     "text": [
      "Epoch 5: 100%|██████████| 51/51 [00:33<00:00,  1.52it/s, v_num=19nx, train_loss_step=1.370, val_loss=1.380, val_acc=0.382, val_cohen_kappa=0.0493, train_loss_epoch=1.390]\n",
      "Validation: |          | 0/? [00:00<?, ?it/s]\u001b[A\n",
      "Validation:   0%|          | 0/7 [00:00<?, ?it/s]\u001b[A\n",
      "Validation DataLoader 0:   0%|          | 0/7 [00:00<?, ?it/s]\u001b[A\n",
      "Validation DataLoader 0:  14%|█▍        | 1/7 [00:00<00:02,  2.14it/s]\u001b[A\n",
      "Validation DataLoader 0:  29%|██▊       | 2/7 [00:00<00:02,  2.14it/s]\u001b[A\n",
      "Validation DataLoader 0:  43%|████▎     | 3/7 [00:01<00:01,  2.27it/s]\u001b[A\n",
      "Validation DataLoader 0:  57%|█████▋    | 4/7 [00:01<00:01,  2.23it/s]\u001b[A\n",
      "Validation DataLoader 0:  71%|███████▏  | 5/7 [00:02<00:00,  2.21it/s]\u001b[A\n",
      "Validation DataLoader 0:  86%|████████▌ | 6/7 [00:02<00:00,  2.20it/s]\u001b[A\n",
      "Validation DataLoader 0: 100%|██████████| 7/7 [00:02<00:00,  2.38it/s]\u001b[A\n",
      "Epoch 6: 100%|██████████| 51/51 [00:35<00:00,  1.42it/s, v_num=19nx, train_loss_step=1.370, val_loss=1.420, val_acc=0.225, val_cohen_kappa=-0.0153, train_loss_epoch=1.400]\n",
      "Validation: |          | 0/? [00:00<?, ?it/s]\u001b[A\n",
      "Validation:   0%|          | 0/7 [00:00<?, ?it/s]\u001b[A\n",
      "Validation DataLoader 0:   0%|          | 0/7 [00:00<?, ?it/s]\u001b[A\n",
      "Validation DataLoader 0:  14%|█▍        | 1/7 [00:00<00:02,  2.97it/s]\u001b[A\n",
      "Validation DataLoader 0:  29%|██▊       | 2/7 [00:00<00:01,  3.68it/s]\u001b[A\n",
      "Validation DataLoader 0:  43%|████▎     | 3/7 [00:00<00:01,  3.95it/s]\u001b[A\n",
      "Validation DataLoader 0:  57%|█████▋    | 4/7 [00:00<00:00,  4.12it/s]\u001b[A\n",
      "Validation DataLoader 0:  71%|███████▏  | 5/7 [00:01<00:00,  4.22it/s]\u001b[A\n",
      "Validation DataLoader 0:  86%|████████▌ | 6/7 [00:01<00:00,  3.94it/s]\u001b[A\n",
      "Validation DataLoader 0: 100%|██████████| 7/7 [00:01<00:00,  3.99it/s]\u001b[A\n",
      "Epoch 6: 100%|██████████| 51/51 [00:38<00:00,  1.33it/s, v_num=19nx, train_loss_step=1.370, val_loss=1.360, val_acc=0.106, val_cohen_kappa=0.0238, train_loss_epoch=1.410] "
     ]
    },
    {
     "name": "stderr",
     "output_type": "stream",
     "text": [
      "Metric val_loss improved by 0.023 >= min_delta = 0.0. New best score: 1.360\n"
     ]
    },
    {
     "name": "stdout",
     "output_type": "stream",
     "text": [
      "Epoch 7: 100%|██████████| 51/51 [00:35<00:00,  1.44it/s, v_num=19nx, train_loss_step=1.860, val_loss=1.360, val_acc=0.106, val_cohen_kappa=0.0238, train_loss_epoch=1.410]\n",
      "Validation: |          | 0/? [00:00<?, ?it/s]\u001b[A\n",
      "Validation:   0%|          | 0/7 [00:00<?, ?it/s]\u001b[A\n",
      "Validation DataLoader 0:   0%|          | 0/7 [00:00<?, ?it/s]\u001b[A\n",
      "Validation DataLoader 0:  14%|█▍        | 1/7 [00:00<00:02,  2.13it/s]\u001b[A\n",
      "Validation DataLoader 0:  29%|██▊       | 2/7 [00:00<00:02,  2.14it/s]\u001b[A\n",
      "Validation DataLoader 0:  43%|████▎     | 3/7 [00:01<00:01,  2.14it/s]\u001b[A\n",
      "Validation DataLoader 0:  57%|█████▋    | 4/7 [00:01<00:01,  2.13it/s]\u001b[A\n",
      "Validation DataLoader 0:  71%|███████▏  | 5/7 [00:02<00:00,  2.13it/s]\u001b[A\n",
      "Validation DataLoader 0:  86%|████████▌ | 6/7 [00:02<00:00,  2.18it/s]\u001b[A\n",
      "Validation DataLoader 0: 100%|██████████| 7/7 [00:03<00:00,  2.19it/s]\u001b[A\n",
      "Epoch 8:  49%|████▉     | 25/51 [00:17<00:17,  1.46it/s, v_num=19nx, train_loss_step=1.390, val_loss=1.460, val_acc=0.498, val_cohen_kappa=-0.0532, train_loss_epoch=1.410]"
     ]
    }
   ],
   "source": [
    "accelerator = \"gpu\" if torch.cuda.is_available() else \"cpu\"\n",
    "def objective(trial, acc_preprocess, RNN_type, modelType):\n",
    "    acc_preprocess = acc_preprocess\n",
    "    RNN_type = RNN_type\n",
    "    \n",
    "    # Dropouts\n",
    "    dropout_embed = trial.suggest_float('dropout_embed', 0.1, 0.55)\n",
    "    dropout_rnn = trial.suggest_float('dropout_rnn', 0.1, 0.55)\n",
    "    dropout_hidden2 = trial.suggest_float('dropout_hidden2', 0.1, 0.55)\n",
    "    \n",
    "    #label_smoothing = trial.suggest_float(\"label_smoothing\", 0.0, 0.1)\n",
    "    #Sizes\n",
    "    pre_rnn_size = trial.suggest_categorical(\"pre_rnn_embedding_size\", [4, 8, 16, 32, 64])\n",
    "    rnn_hidden_size = trial.suggest_categorical(\"rnn_hidden_size\", [32, 64, 128, 256, 512, 1024])\n",
    "    hidden_size2 = trial.suggest_categorical(\"hidden_size2\", [4, 8, 16, 32, 64])\n",
    "\n",
    "    #other\n",
    "    learning_rate = trial.suggest_loguniform(\"learning_rate\", 1e-5, 1e-2)\n",
    "    batch_size = trial.suggest_categorical(\"batch_size\", [2, 4, 8, 16, 32, 64])\n",
    "    # batch_size = trial.suggest_categorical(\"batch_size\", [8, 16,32,64,128])\n",
    "\n",
    "    #bidirectional = trial.suggest_categorical(\"bidirectional\", [True, False])\n",
    "    #Conditional logic for acc_preprocess-specific parameters\n",
    "    if acc_preprocess == \"ActiNet\":\n",
    "        cnn_output_channels = trial.suggest_categorical(\"cnn_output_channels\", [8, 16, 32, 64])\n",
    "        cnn_name_piece = f\"_cnn{cnn_output_channels}\"\n",
    "    else:\n",
    "        cnn_output_channels = None  # Not relevant for \"Manual\"\n",
    "        cnn_name_piece = \"\"\n",
    "    \n",
    "    size_piece = f\"prernn{pre_rnn_size}_rnn{rnn_hidden_size}_hidden{hidden_size2}\"\n",
    "    other_piece = f\"lr{learning_rate}_batchsize{batch_size}\"\n",
    "    dropout_piece = f\"dropoutembed{dropout_embed}_dropoutRNN{dropout_rnn}_dropouthidden2{dropout_hidden2}\"\n",
    "    name = size_piece+other_piece+dropout_piece+cnn_name_piece\n",
    "    \n",
    "    wandb_logger = WandbLogger(name, project = modelType)\n",
    "    #wandb.define_metric(\"best_val_loss\", summary=\"min\")\n",
    "    checkpoint_callback = ModelCheckpoint(\n",
    "    monitor='val_loss',\n",
    "    dirpath=f'/scratch/npr264/BioDeepL/project/moved_from_home/checkpoints/{trial.number}/',\n",
    "    filename='best-checkpoint',\n",
    "    save_top_k=1,\n",
    "    mode='min'\n",
    "    )\n",
    "    early_stop_callback = EarlyStopping(\n",
    "    monitor='val_loss',\n",
    "    patience=4,\n",
    "    verbose=True,\n",
    "    mode='min'\n",
    "    )\n",
    "    trainer = pl.Trainer(\n",
    "    max_epochs=20,\n",
    "    devices=1,\n",
    "    accelerator=accelerator,\n",
    "    logger=wandb_logger,\n",
    "    callbacks=[checkpoint_callback, early_stop_callback],\n",
    "    log_every_n_steps=2,\n",
    "    )\n",
    "    model = SleepStager(non_acc_dim = 5,\n",
    "                        acc_preprocess = acc_preprocess,\n",
    "                        RNN_type = RNN_type,\n",
    "                        dropout_embed = dropout_embed,\n",
    "                        dropout_rnn = dropout_rnn,\n",
    "                        dropout_hidden2 = dropout_hidden2,\n",
    "                        pre_rnn_embedding_size= pre_rnn_size,\n",
    "                        rnn_hidden_size= rnn_hidden_size,\n",
    "                        hidden_size2= hidden_size2,\n",
    "                        lr = learning_rate,\n",
    "                        weight_tensor=weight_tensor.to(device),\n",
    "                    debug= False)\n",
    "    # train_dataset_optuna, val_dataset_optuna = get_datasets(segment_len, segment_len/2)\n",
    "    train_loader = DataLoader(train_dataset_mixed, batch_size=batch_size, shuffle=True, num_workers = 8)\n",
    "    val_loader = DataLoader(val_dataset_mixed, batch_size=batch_size, shuffle=False, num_workers = 8)\n",
    "    trainer.fit(model, train_loader, val_loader)\n",
    "    \n",
    "\n",
    "    #we will pull the best model, even if it overtrained a little, so we need to go pull that best model to understand its performance\n",
    "    best_model_path = checkpoint_callback.best_model_path\n",
    "    print(f\"Best model path: {best_model_path}\")\n",
    "    \n",
    "    # Load the model\n",
    "    best_model = SleepStager.load_from_checkpoint(best_model_path,non_acc_dim = 5,\n",
    "                            acc_preprocess = acc_preprocess,\n",
    "                            RNN_type = RNN_type,\n",
    "                            dropout_embed = dropout_embed,\n",
    "                            dropout_rnn = dropout_rnn,\n",
    "                            dropout_hidden2 = dropout_hidden2,\n",
    "                            pre_rnn_embedding_size= pre_rnn_size,\n",
    "                            rnn_hidden_size= rnn_hidden_size,\n",
    "                            hidden_size2= hidden_size2,\n",
    "                            lr = learning_rate,\n",
    "                            weight_tensor=weight_tensor.to(device),\n",
    "                        debug= False)\n",
    "    # Evaluate the best model\n",
    "    trainer_best = pl.Trainer(devices=1, accelerator=accelerator)\n",
    "    val_result = trainer_best.validate(best_model, val_loader, verbose=False)\n",
    "    val_loss = val_result[0][\"val_loss\"]\n",
    "    #log needed things\n",
    "    wandb_logger.experiment.config.update(trial.params)\n",
    "    wandb_logger.experiment.config.update({\"trial_number\": trial.number})\n",
    "    wandb_logger.experiment.log({\"best_val_loss\": val_loss})\n",
    "    wandb.finish()\n",
    "\n",
    "    return val_loss\n",
    "\n",
    "study = optuna.create_study(direction=\"minimize\")\n",
    "study.optimize(lambda trial: objective(trial, acc_preprocess, RNN_type, modelType), n_trials=500)\n",
    "best_trial = study.best_trial\n",
    "print(\"Best trial:\")\n",
    "print(f\"  Value: {best_trial.value}\")\n",
    "print(\"  Params:\")\n",
    "for key, value in best_trial.params.items():\n",
    "    print(f\"    {key}: {value}\")"
   ]
  },
  {
   "cell_type": "markdown",
   "id": "6d462a5c-196d-4bcf-bf24-8969533fa3a5",
   "metadata": {},
   "source": [
    "### Train"
   ]
  },
  {
   "cell_type": "code",
   "execution_count": 12,
   "id": "4e30e006-0bb1-4a6b-b202-a336b8e62018",
   "metadata": {},
   "outputs": [],
   "source": [
    "#decisions\n",
    "acc_preprocess = acc_preprocess\n",
    "RNN_type = RNN_type\n",
    "\n",
    "batch_size = 2\n",
    "hidden_size2 = 32\n",
    "rnn_hidden_size = 512\n",
    "pre_rnn_size = 8\n",
    "\n",
    "cnn_output_channels = 16\n",
    "\n",
    "lr = 1e-3\n",
    "\n",
    "dropout_embed = 0.15\n",
    "dropout_rnn = 0.2\n",
    "dropout_hidden2 = 0.25\n",
    "num_workers = 4\n"
   ]
  },
  {
   "cell_type": "code",
   "execution_count": 13,
   "id": "be61762e-143c-47a5-98e4-3eda5ad875c0",
   "metadata": {
    "scrolled": true
   },
   "outputs": [],
   "source": [
    "def train_model(batch_size,acc_preprocess,RNN_type,lr,rnn_hidden_size,pre_rnn_size,hidden_size2,dropout_embed,dropout_rnn,dropout_hidden2, modelType, nameAppend):\n",
    "    # Train the acc aware model\n",
    "    wandb_logger = WandbLogger(project=f\"{modelType}_training\")\n",
    "    loss_checkpoint = ModelCheckpoint(\n",
    "        monitor='val_loss',\n",
    "        dirpath=f'/scratch/npr264/BioDeepL/project/checkpoints/{modelType}/loss',\n",
    "        filename='best-checkpoint',\n",
    "        save_top_k=1,\n",
    "        mode='min'\n",
    "    )\n",
    "    early_stop_callback = EarlyStopping(\n",
    "        monitor='val_loss',\n",
    "        patience=4,\n",
    "        verbose=True,\n",
    "        mode='min'\n",
    "    )\n",
    "    trainer = pl.Trainer(\n",
    "        max_epochs=200,\n",
    "        devices=1,\n",
    "        accelerator='gpu',\n",
    "        logger=wandb_logger,\n",
    "        log_every_n_steps=1,\n",
    "        precision=\"16-mixed\",\n",
    "        callbacks=[loss_checkpoint,early_stop_callback]\n",
    "    )\n",
    "    model = SleepStager(non_acc_dim = 5,\n",
    "                            acc_preprocess = acc_preprocess,\n",
    "                            RNN_type = RNN_type,\n",
    "                            dropout_embed = dropout_embed,\n",
    "                            dropout_rnn = dropout_rnn,\n",
    "                            dropout_hidden2 = dropout_hidden2,\n",
    "                            pre_rnn_embedding_size= pre_rnn_size,\n",
    "                            rnn_hidden_size= rnn_hidden_size,\n",
    "                            hidden_size2= hidden_size2,\n",
    "                            lr = lr,\n",
    "                            weight_tensor=weight_tensor.to(device),\n",
    "                        debug= False)\n",
    "    \n",
    "    #train_dataset_mixed = torch.load('datasets/train_dataset_mixed.pt')\n",
    "    #val_dataset_mixed = torch.load('datasets/val_dataset_mixed.pt')\n",
    "    train_loader = DataLoader(train_dataset_mixed, batch_size=batch_size, shuffle=True, num_workers = num_workers)\n",
    "    val_loader = DataLoader(val_dataset_mixed, batch_size=batch_size, shuffle=False, num_workers = num_workers)\n",
    "    start_time = time.time()\n",
    "    trainer.fit(model, train_loader, val_loader)\n",
    "    end_time = time.time()\n",
    "    training_time_seconds = end_time - start_time\n",
    "    wandb.finish()\n",
    "    best_model_path = loss_checkpoint.best_model_path\n",
    "    print(f\"Best model path: {best_model_path}\")\n",
    "    \n",
    "    # Load the model\n",
    "    model = SleepStager.load_from_checkpoint(best_model_path,non_acc_dim = 5,\n",
    "                            acc_preprocess = acc_preprocess,\n",
    "                            RNN_type = RNN_type,\n",
    "                            dropout_embed = dropout_embed,\n",
    "                            dropout_rnn = dropout_rnn,\n",
    "                            dropout_hidden2 = dropout_hidden2,\n",
    "                            pre_rnn_embedding_size= pre_rnn_size,\n",
    "                            rnn_hidden_size= rnn_hidden_size,\n",
    "                            hidden_size2= hidden_size2,\n",
    "                            lr = lr,\n",
    "                            weight_tensor=weight_tensor.to(device),\n",
    "                        debug= False)\n",
    "    \n",
    "    torch.save(model.state_dict(), f\"/home/npr264/DeepLearning/project/cleaned/models/{modelType}/{nameAppend}.pth\")\n",
    "    return model, training_time_seconds"
   ]
  },
  {
   "cell_type": "markdown",
   "id": "3cd8cc1b-453d-4320-8f07-22e0adc056a9",
   "metadata": {},
   "source": [
    "### Test"
   ]
  },
  {
   "cell_type": "code",
   "execution_count": 14,
   "id": "fbfff17a-0c95-4a1e-966e-6ad40e8276ba",
   "metadata": {},
   "outputs": [
    {
     "name": "stderr",
     "output_type": "stream",
     "text": [
      "/state/partition1/job-59945766/ipykernel_1009285/2699598398.py:1: FutureWarning: You are using `torch.load` with `weights_only=False` (the current default value), which uses the default pickle module implicitly. It is possible to construct malicious pickle data which will execute arbitrary code during unpickling (See https://github.com/pytorch/pytorch/blob/main/SECURITY.md#untrusted-models for more details). In a future release, the default value for `weights_only` will be flipped to `True`. This limits the functions that could be executed during unpickling. Arbitrary objects will no longer be allowed to be loaded via this mode unless they are explicitly allowlisted by the user via `torch.serialization.add_safe_globals`. We recommend you start setting `weights_only=True` for any use case where you don't have full control of the loaded file. Please open an issue on GitHub for any issues related to this experimental feature.\n",
      "  test_dataset_mixed = torch.load(f'/home/npr264/DeepLearning/project/cleaned/datasets/testset_{chunk_duration}s.pt')\n"
     ]
    }
   ],
   "source": [
    "test_dataset_mixed = torch.load(f'/home/npr264/DeepLearning/project/cleaned/datasets/testset_{chunk_duration}s.pt')\n",
    "test_loader = DataLoader(test_dataset_mixed, batch_size=batch_size, shuffle=False, num_workers = num_workers)\n"
   ]
  },
  {
   "cell_type": "code",
   "execution_count": 15,
   "id": "a0993417-219d-4122-8a45-fb12dbbff7ed",
   "metadata": {},
   "outputs": [],
   "source": [
    "#class_mapping is a dictionary that maps the class number to the class string like shown below\n",
    "\n",
    "\n",
    "def plot_confusion_matrix_with_metrics(y_true, y_pred, modelType, run = \"\"):\n",
    "    class_mapping = {\n",
    "    0: \"Wake\",    # Wake\n",
    "    1: \"N1/N2\",  # non-REM stage 1 (light)\n",
    "    2: \"Deep\",   # non-REM stage 3 (deep)\n",
    "    3: \"REM\"   # REM\n",
    "    }\n",
    "    class_vals = [i for i in class_mapping.keys()]\n",
    "    class_names = [class_mapping[i] for i in range(len(class_vals))]\n",
    "    cm = confusion_matrix(y_true, y_pred, labels=range(len(class_vals)))\n",
    "    cm_sum = np.sum(cm, axis=1, keepdims=True)\n",
    "    cm_perc = cm / cm_sum.astype(float) * 100  # row-wise percentage (sensitivity)\n",
    "\n",
    "    # Calculate Sensitivity (Recall) and PPV (Precision)\n",
    "    sensitivity = np.diag(cm) / np.sum(cm, axis=1)\n",
    "    ppv = np.diag(cm) / np.sum(cm, axis=0)\n",
    "\n",
    "    fig, ax = plt.subplots(figsize=(8, 6))\n",
    "    sns.heatmap(cm, annot=False, fmt='g', cmap='Blues', cbar=False, ax=ax)\n",
    "\n",
    "    # Labels inside the boxes\n",
    "    for i in range(cm.shape[0]):\n",
    "        for j in range(cm.shape[1]):\n",
    "            count = cm[i, j]\n",
    "            perc = cm_perc[i, j]\n",
    "            ax.text(j + 0.5, i + 0.3, f\"{count:,}\", \n",
    "                    ha='center', va='center', color='black', fontsize=10)\n",
    "            ax.text(j + 0.5, i + 0.7, f\"{perc:.0f}%\", \n",
    "                    ha='center', va='center', color='black', fontsize=8)\n",
    "\n",
    "    # Set axis labels\n",
    "    ax.set_xlabel('Prediction', fontsize=12)\n",
    "    ax.set_ylabel('Reference', fontsize=12)\n",
    "\n",
    "    # Set ticks\n",
    "    ax.set_xticks(np.arange(len(class_vals)) + 0.5)\n",
    "    ax.set_yticks(np.arange(len(class_vals)) + 0.5)\n",
    "\n",
    "    ax.set_xticklabels(class_names, rotation=0, ha=\"center\")\n",
    "    ax.set_yticklabels(class_names, rotation=0)\n",
    "\n",
    "    # Plot PPV (precision) on top\n",
    "    for j, p in enumerate(ppv):\n",
    "        ax.text(j + 0.5, -0.2, f\"{int(p*100) if not np.isnan(p) else 0}%\", \n",
    "                ha='center', va='center', color='black', fontsize=10)\n",
    "\n",
    "    # Plot Sensitivity (recall) on right\n",
    "    for i, s in enumerate(sensitivity):\n",
    "        ax.text(len(class_names) + 0.1, i + 0.5, f\"{int(s*100) if not np.isnan(s) else 0}%\", \n",
    "                ha='left', va='center', color='black', fontsize=10)\n",
    "\n",
    "    # Center \"PPV\" label on top\n",
    "    ax.text(len(class_vals) / 2, -0.5, \"PPV\", fontsize=14, ha='center', va='center')\n",
    "\n",
    "    # Center \"Sensitivity\" label on the right\n",
    "    ax.text(len(class_vals) + 0.5, len(class_vals) / 2, \"Sensitivity\", fontsize=14, ha='center', va='center', rotation=90)\n",
    "\n",
    "    plt.tight_layout()\n",
    "    plt.show()\n",
    "    save_path = f\"/home/npr264/DeepLearning/project/cleaned/figures/{modelType}/cms/cm_model{run}.png\"\n",
    "    fig.savefig(save_path, dpi=300, bbox_inches='tight')\n",
    "    print(f\"Figure saved to {save_path}\")\n",
    "\n",
    "    return fig, ax\n"
   ]
  },
  {
   "cell_type": "code",
   "execution_count": 16,
   "id": "a8a9ba5e-1e29-451a-868b-a0e4e8deda8e",
   "metadata": {},
   "outputs": [],
   "source": [
    "def evaluate_model(model, dataloader, modelType, run):\n",
    "    # figure out where the model lives (cpu or cuda)\n",
    "    device = next(model.parameters()).device\n",
    "    model.eval()\n",
    "\n",
    "    all_labels = []\n",
    "    all_preds  = []\n",
    "    all_probs  = []\n",
    "\n",
    "    start_time = time.time()\n",
    "\n",
    "    with torch.no_grad():\n",
    "        for non_acc, acc, labels in dataloader:\n",
    "            # move inputs to model's device\n",
    "            non_acc = non_acc.to(device)\n",
    "            acc     = acc.to(device)\n",
    "\n",
    "            # forward\n",
    "            y_hat = model(acc, non_acc)           # (seq_len, batch, C)\n",
    "            y_hat = y_hat.permute(1, 0, 2)        # (batch, seq_len, C)\n",
    "            B, T, C = y_hat.shape\n",
    "\n",
    "            # flatten\n",
    "            logits = y_hat.reshape(B*T, C)\n",
    "            probs  = torch.softmax(logits, dim=1).cpu().numpy()\n",
    "            preds  = probs.argmax(axis=1)\n",
    "            labs   = labels.reshape(-1).numpy()\n",
    "\n",
    "            # filter out padding (-1)\n",
    "            mask = (labs != -1)\n",
    "            all_labels.extend(labs[mask])\n",
    "            all_preds.extend(preds[mask])\n",
    "            all_probs.append(probs[mask])\n",
    "    end_time = time.time()\n",
    "    inference_time_seconds = end_time - start_time\n",
    "    all_probs = np.concatenate(all_probs, axis=0)\n",
    "    acc   = accuracy_score(all_labels, all_preds)\n",
    "    kappa = cohen_kappa_score(all_labels, all_preds)\n",
    "    auroc = roc_auc_score(all_labels, all_probs, multi_class='ovo', average='macro')\n",
    "    cm, ax  = plot_confusion_matrix_with_metrics(all_labels, all_preds, modelType, run)\n",
    "    return acc, kappa, auroc, cm, inference_time_seconds"
   ]
  },
  {
   "cell_type": "markdown",
   "id": "5c5708f1-fb36-41e9-bf40-f58f69e5ff2b",
   "metadata": {},
   "source": [
    "### Loop for eval"
   ]
  },
  {
   "cell_type": "code",
   "execution_count": null,
   "id": "2cba0834-f47d-4634-bde7-3c4d40a01d99",
   "metadata": {
    "scrolled": true
   },
   "outputs": [
    {
     "name": "stderr",
     "output_type": "stream",
     "text": [
      "Using 16bit Automatic Mixed Precision (AMP)\n",
      "GPU available: True (cuda), used: True\n",
      "TPU available: False, using: 0 TPU cores\n",
      "HPU available: False, using: 0 HPUs\n",
      "\u001b[34m\u001b[1mwandb\u001b[0m: \u001b[32m\u001b[41mERROR\u001b[0m Failed to detect the name of this notebook. You can set it manually with the WANDB_NOTEBOOK_NAME environment variable to enable code saving.\n",
      "\u001b[34m\u001b[1mwandb\u001b[0m: Using wandb-core as the SDK backend.  Please refer to https://wandb.me/wandb-core for more information.\n",
      "\u001b[34m\u001b[1mwandb\u001b[0m: Currently logged in as: \u001b[33mnpr264\u001b[0m (\u001b[33mnpr264-new-york-university\u001b[0m) to \u001b[32mhttps://api.wandb.ai\u001b[0m. Use \u001b[1m`wandb login --relogin`\u001b[0m to force relogin\n"
     ]
    },
    {
     "data": {
      "text/html": [
       "Tracking run with wandb version 0.19.9"
      ],
      "text/plain": [
       "<IPython.core.display.HTML object>"
      ]
     },
     "metadata": {},
     "output_type": "display_data"
    },
    {
     "data": {
      "text/html": [
       "Run data is saved locally in <code>./wandb/run-20250430_124203-2ngtkdsd</code>"
      ],
      "text/plain": [
       "<IPython.core.display.HTML object>"
      ]
     },
     "metadata": {},
     "output_type": "display_data"
    },
    {
     "data": {
      "text/html": [
       "Syncing run <strong><a href='https://wandb.ai/npr264-new-york-university/Baseline_training/runs/2ngtkdsd' target=\"_blank\">clean-water-13</a></strong> to <a href='https://wandb.ai/npr264-new-york-university/Baseline_training' target=\"_blank\">Weights & Biases</a> (<a href='https://wandb.me/developer-guide' target=\"_blank\">docs</a>)<br>"
      ],
      "text/plain": [
       "<IPython.core.display.HTML object>"
      ]
     },
     "metadata": {},
     "output_type": "display_data"
    },
    {
     "data": {
      "text/html": [
       " View project at <a href='https://wandb.ai/npr264-new-york-university/Baseline_training' target=\"_blank\">https://wandb.ai/npr264-new-york-university/Baseline_training</a>"
      ],
      "text/plain": [
       "<IPython.core.display.HTML object>"
      ]
     },
     "metadata": {},
     "output_type": "display_data"
    },
    {
     "data": {
      "text/html": [
       " View run at <a href='https://wandb.ai/npr264-new-york-university/Baseline_training/runs/2ngtkdsd' target=\"_blank\">https://wandb.ai/npr264-new-york-university/Baseline_training/runs/2ngtkdsd</a>"
      ],
      "text/plain": [
       "<IPython.core.display.HTML object>"
      ]
     },
     "metadata": {},
     "output_type": "display_data"
    },
    {
     "name": "stderr",
     "output_type": "stream",
     "text": [
      "/ext3/miniforge3/lib/python3.12/site-packages/pytorch_lightning/callbacks/model_checkpoint.py:654: Checkpoint directory /scratch/npr264/BioDeepL/project/checkpoints/Baseline/loss exists and is not empty.\n",
      "LOCAL_RANK: 0 - CUDA_VISIBLE_DEVICES: [0]\n",
      "/ext3/miniforge3/lib/python3.12/site-packages/torch/optim/lr_scheduler.py:62: UserWarning: The verbose parameter is deprecated. Please use get_last_lr() to access the learning rate.\n",
      "  warnings.warn(\n",
      "\n",
      "  | Name            | Type                 | Params | Mode \n",
      "-----------------------------------------------------------------\n",
      "0 | embeddingLayer  | Linear               | 48     | train\n",
      "1 | dropout_embed   | Dropout              | 0      | train\n",
      "2 | dropout_hidden2 | Dropout              | 0      | train\n",
      "3 | rnn             | LSTM                 | 8.5 M  | train\n",
      "4 | hidden2         | Linear               | 32.8 K | train\n",
      "5 | classifier      | Linear               | 132    | train\n",
      "6 | train_criterion | CrossEntropyLoss     | 0      | train\n",
      "7 | val_criterion   | CrossEntropyLoss     | 0      | train\n",
      "8 | kappa           | MulticlassCohenKappa | 0      | train\n",
      "-----------------------------------------------------------------\n",
      "8.5 M     Trainable params\n",
      "0         Non-trainable params\n",
      "8.5 M     Total params\n",
      "33.932    Total estimated model params size (MB)\n",
      "9         Modules in train mode\n",
      "0         Modules in eval mode\n",
      "SLURM auto-requeueing enabled. Setting signal handlers.\n"
     ]
    },
    {
     "name": "stdout",
     "output_type": "stream",
     "text": [
      "Epoch 0: 100%|██████████| 101/101 [00:23<00:00,  4.31it/s, v_num=kdsd, train_loss_step=1.220]\n",
      "Validation: |          | 0/? [00:00<?, ?it/s]\u001b[A\n",
      "Validation:   0%|          | 0/14 [00:00<?, ?it/s]\u001b[A\n",
      "Validation DataLoader 0:   0%|          | 0/14 [00:00<?, ?it/s]\u001b[A\n",
      "Validation DataLoader 0:   7%|▋         | 1/14 [00:00<00:01,  6.87it/s]\u001b[A\n",
      "Validation DataLoader 0:  14%|█▍        | 2/14 [00:00<00:02,  4.54it/s]\u001b[A\n",
      "Validation DataLoader 0:  21%|██▏       | 3/14 [00:00<00:01,  5.75it/s]\u001b[A\n",
      "Validation DataLoader 0:  29%|██▊       | 4/14 [00:00<00:01,  5.47it/s]\u001b[A\n",
      "Validation DataLoader 0:  36%|███▌      | 5/14 [00:00<00:01,  5.71it/s]\u001b[A\n",
      "Validation DataLoader 0:  43%|████▎     | 6/14 [00:01<00:01,  5.99it/s]\u001b[A\n",
      "Validation DataLoader 0:  50%|█████     | 7/14 [00:01<00:01,  6.25it/s]\u001b[A\n",
      "Validation DataLoader 0:  57%|█████▋    | 8/14 [00:01<00:00,  6.46it/s]\u001b[A\n",
      "Validation DataLoader 0:  64%|██████▍   | 9/14 [00:01<00:00,  6.59it/s]\u001b[A\n",
      "Validation DataLoader 0:  71%|███████▏  | 10/14 [00:01<00:00,  6.76it/s]\u001b[A\n",
      "Validation DataLoader 0:  79%|███████▊  | 11/14 [00:01<00:00,  6.87it/s]\u001b[A\n",
      "Validation DataLoader 0:  86%|████████▌ | 12/14 [00:01<00:00,  7.05it/s]\u001b[A\n",
      "Validation DataLoader 0:  93%|█████████▎| 13/14 [00:01<00:00,  7.08it/s]\u001b[A\n",
      "Validation DataLoader 0: 100%|██████████| 14/14 [00:01<00:00,  7.22it/s]\u001b[A\n",
      "Epoch 0: 100%|██████████| 101/101 [00:26<00:00,  3.87it/s, v_num=kdsd, train_loss_step=1.220, val_loss=1.390, val_acc=0.371, val_cohen_kappa=0.0923, train_loss_epoch=1.360]"
     ]
    },
    {
     "name": "stderr",
     "output_type": "stream",
     "text": [
      "Metric val_loss improved. New best score: 1.385\n"
     ]
    },
    {
     "name": "stdout",
     "output_type": "stream",
     "text": [
      "Epoch 1: 100%|██████████| 101/101 [00:24<00:00,  4.14it/s, v_num=kdsd, train_loss_step=1.300, val_loss=1.390, val_acc=0.371, val_cohen_kappa=0.0923, train_loss_epoch=1.360]\n",
      "Validation: |          | 0/? [00:00<?, ?it/s]\u001b[A\n",
      "Validation:   0%|          | 0/14 [00:00<?, ?it/s]\u001b[A\n",
      "Validation DataLoader 0:   0%|          | 0/14 [00:00<?, ?it/s]\u001b[A\n",
      "Validation DataLoader 0:   7%|▋         | 1/14 [00:00<00:01,  6.91it/s]\u001b[A\n",
      "Validation DataLoader 0:  14%|█▍        | 2/14 [00:00<00:01,  7.09it/s]\u001b[A\n",
      "Validation DataLoader 0:  21%|██▏       | 3/14 [00:00<00:01,  7.09it/s]\u001b[A\n",
      "Validation DataLoader 0:  29%|██▊       | 4/14 [00:00<00:01,  7.00it/s]\u001b[A\n",
      "Validation DataLoader 0:  36%|███▌      | 5/14 [00:00<00:01,  6.92it/s]\u001b[A\n",
      "Validation DataLoader 0:  43%|████▎     | 6/14 [00:00<00:01,  7.23it/s]\u001b[A\n",
      "Validation DataLoader 0:  50%|█████     | 7/14 [00:00<00:00,  7.18it/s]\u001b[A\n",
      "Validation DataLoader 0:  57%|█████▋    | 8/14 [00:01<00:00,  7.23it/s]\u001b[A\n",
      "Validation DataLoader 0:  64%|██████▍   | 9/14 [00:01<00:00,  7.21it/s]\u001b[A\n",
      "Validation DataLoader 0:  71%|███████▏  | 10/14 [00:01<00:00,  7.17it/s]\u001b[A\n",
      "Validation DataLoader 0:  79%|███████▊  | 11/14 [00:01<00:00,  7.15it/s]\u001b[A\n",
      "Validation DataLoader 0:  86%|████████▌ | 12/14 [00:01<00:00,  7.17it/s]\u001b[A\n",
      "Validation DataLoader 0:  93%|█████████▎| 13/14 [00:01<00:00,  7.19it/s]\u001b[A\n",
      "Validation DataLoader 0: 100%|██████████| 14/14 [00:01<00:00,  7.14it/s]\u001b[A\n",
      "Epoch 2: 100%|██████████| 101/101 [00:23<00:00,  4.28it/s, v_num=kdsd, train_loss_step=1.830, val_loss=1.410, val_acc=0.301, val_cohen_kappa=0.0484, train_loss_epoch=1.330]\n",
      "Validation: |          | 0/? [00:00<?, ?it/s]\u001b[A\n",
      "Validation:   0%|          | 0/14 [00:00<?, ?it/s]\u001b[A\n",
      "Validation DataLoader 0:   0%|          | 0/14 [00:00<?, ?it/s]\u001b[A\n",
      "Validation DataLoader 0:   7%|▋         | 1/14 [00:00<00:01,  7.16it/s]\u001b[A\n",
      "Validation DataLoader 0:  14%|█▍        | 2/14 [00:00<00:01,  6.99it/s]\u001b[A\n",
      "Validation DataLoader 0:  21%|██▏       | 3/14 [00:00<00:01,  6.81it/s]\u001b[A\n",
      "Validation DataLoader 0:  29%|██▊       | 4/14 [00:00<00:01,  6.75it/s]\u001b[A\n",
      "Validation DataLoader 0:  36%|███▌      | 5/14 [00:00<00:01,  6.87it/s]\u001b[A\n",
      "Validation DataLoader 0:  43%|████▎     | 6/14 [00:00<00:01,  7.11it/s]\u001b[A\n",
      "Validation DataLoader 0:  50%|█████     | 7/14 [00:00<00:00,  7.09it/s]\u001b[A\n",
      "Validation DataLoader 0:  57%|█████▋    | 8/14 [00:01<00:00,  7.16it/s]\u001b[A\n",
      "Validation DataLoader 0:  64%|██████▍   | 9/14 [00:01<00:00,  7.13it/s]\u001b[A\n",
      "Validation DataLoader 0:  71%|███████▏  | 10/14 [00:01<00:00,  7.10it/s]\u001b[A\n",
      "Validation DataLoader 0:  79%|███████▊  | 11/14 [00:01<00:00,  7.08it/s]\u001b[A\n",
      "Validation DataLoader 0:  86%|████████▌ | 12/14 [00:01<00:00,  7.19it/s]\u001b[A\n",
      "Validation DataLoader 0:  93%|█████████▎| 13/14 [00:01<00:00,  7.15it/s]\u001b[A\n",
      "Validation DataLoader 0: 100%|██████████| 14/14 [00:01<00:00,  7.13it/s]\u001b[A\n",
      "Epoch 3: 100%|██████████| 101/101 [00:24<00:00,  4.09it/s, v_num=kdsd, train_loss_step=1.400, val_loss=1.410, val_acc=0.512, val_cohen_kappa=0.175, train_loss_epoch=1.330] \n",
      "Validation: |          | 0/? [00:00<?, ?it/s]\u001b[A\n",
      "Validation:   0%|          | 0/14 [00:00<?, ?it/s]\u001b[A\n",
      "Validation DataLoader 0:   0%|          | 0/14 [00:00<?, ?it/s]\u001b[A\n",
      "Validation DataLoader 0:   7%|▋         | 1/14 [00:00<00:04,  3.01it/s]\u001b[A\n",
      "Validation DataLoader 0:  14%|█▍        | 2/14 [00:00<00:03,  3.14it/s]\u001b[A\n",
      "Validation DataLoader 0:  21%|██▏       | 3/14 [00:00<00:02,  3.82it/s]\u001b[A\n",
      "Validation DataLoader 0:  29%|██▊       | 4/14 [00:00<00:02,  4.27it/s]\u001b[A\n",
      "Validation DataLoader 0:  36%|███▌      | 5/14 [00:01<00:01,  4.57it/s]\u001b[A\n",
      "Validation DataLoader 0:  43%|████▎     | 6/14 [00:01<00:01,  4.85it/s]\u001b[A\n",
      "Validation DataLoader 0:  50%|█████     | 7/14 [00:01<00:01,  5.05it/s]\u001b[A\n",
      "Validation DataLoader 0:  57%|█████▋    | 8/14 [00:01<00:01,  5.24it/s]\u001b[A\n",
      "Validation DataLoader 0:  64%|██████▍   | 9/14 [00:01<00:00,  5.38it/s]\u001b[A\n",
      "Validation DataLoader 0:  71%|███████▏  | 10/14 [00:01<00:00,  5.48it/s]\u001b[A\n",
      "Validation DataLoader 0:  79%|███████▊  | 11/14 [00:01<00:00,  5.56it/s]\u001b[A\n",
      "Validation DataLoader 0:  86%|████████▌ | 12/14 [00:02<00:00,  5.64it/s]\u001b[A\n",
      "Validation DataLoader 0:  93%|█████████▎| 13/14 [00:02<00:00,  5.72it/s]\u001b[A\n",
      "Validation DataLoader 0: 100%|██████████| 14/14 [00:02<00:00,  5.82it/s]\u001b[A\n",
      "Epoch 3: 100%|██████████| 101/101 [00:28<00:00,  3.59it/s, v_num=kdsd, train_loss_step=1.400, val_loss=1.290, val_acc=0.301, val_cohen_kappa=0.0978, train_loss_epoch=1.310]"
     ]
    },
    {
     "name": "stderr",
     "output_type": "stream",
     "text": [
      "Metric val_loss improved by 0.100 >= min_delta = 0.0. New best score: 1.285\n"
     ]
    },
    {
     "name": "stdout",
     "output_type": "stream",
     "text": [
      "Epoch 4: 100%|██████████| 101/101 [00:24<00:00,  4.15it/s, v_num=kdsd, train_loss_step=1.250, val_loss=1.290, val_acc=0.301, val_cohen_kappa=0.0978, train_loss_epoch=1.310]\n",
      "Validation: |          | 0/? [00:00<?, ?it/s]\u001b[A\n",
      "Validation:   0%|          | 0/14 [00:00<?, ?it/s]\u001b[A\n",
      "Validation DataLoader 0:   0%|          | 0/14 [00:00<?, ?it/s]\u001b[A\n",
      "Validation DataLoader 0:   7%|▋         | 1/14 [00:00<00:01,  6.87it/s]\u001b[A\n",
      "Validation DataLoader 0:  14%|█▍        | 2/14 [00:00<00:02,  4.44it/s]\u001b[A\n",
      "Validation DataLoader 0:  21%|██▏       | 3/14 [00:00<00:02,  5.26it/s]\u001b[A\n",
      "Validation DataLoader 0:  29%|██▊       | 4/14 [00:00<00:01,  6.00it/s]\u001b[A\n",
      "Validation DataLoader 0:  36%|███▌      | 5/14 [00:00<00:01,  6.94it/s]\u001b[A\n",
      "Validation DataLoader 0:  43%|████▎     | 6/14 [00:00<00:01,  7.40it/s]\u001b[A\n",
      "Validation DataLoader 0:  50%|█████     | 7/14 [00:00<00:00,  7.83it/s]\u001b[A\n",
      "Validation DataLoader 0:  57%|█████▋    | 8/14 [00:00<00:00,  8.21it/s]\u001b[A\n",
      "Validation DataLoader 0:  64%|██████▍   | 9/14 [00:01<00:00,  8.40it/s]\u001b[A\n",
      "Validation DataLoader 0:  71%|███████▏  | 10/14 [00:01<00:00,  8.65it/s]\u001b[A\n",
      "Validation DataLoader 0:  79%|███████▊  | 11/14 [00:01<00:00,  8.94it/s]\u001b[A\n",
      "Validation DataLoader 0:  86%|████████▌ | 12/14 [00:01<00:00,  9.14it/s]\u001b[A\n",
      "Validation DataLoader 0:  93%|█████████▎| 13/14 [00:01<00:00,  9.43it/s]\u001b[A\n",
      "Validation DataLoader 0: 100%|██████████| 14/14 [00:01<00:00,  9.72it/s]\u001b[A\n",
      "Epoch 5: 100%|██████████| 101/101 [00:24<00:00,  4.19it/s, v_num=kdsd, train_loss_step=1.190, val_loss=1.430, val_acc=0.274, val_cohen_kappa=0.0811, train_loss_epoch=1.290]\n",
      "Validation: |          | 0/? [00:00<?, ?it/s]\u001b[A\n",
      "Validation:   0%|          | 0/14 [00:00<?, ?it/s]\u001b[A\n",
      "Validation DataLoader 0:   0%|          | 0/14 [00:00<?, ?it/s]\u001b[A\n",
      "Validation DataLoader 0:   7%|▋         | 1/14 [00:00<00:03,  3.68it/s]\u001b[A\n",
      "Validation DataLoader 0:  14%|█▍        | 2/14 [00:00<00:01,  6.21it/s]\u001b[A\n",
      "Validation DataLoader 0:  21%|██▏       | 3/14 [00:00<00:01,  5.73it/s]\u001b[A\n",
      "Validation DataLoader 0:  29%|██▊       | 4/14 [00:00<00:01,  6.16it/s]\u001b[A\n",
      "Validation DataLoader 0:  36%|███▌      | 5/14 [00:00<00:01,  6.38it/s]\u001b[A\n",
      "Validation DataLoader 0:  43%|████▎     | 6/14 [00:00<00:01,  6.46it/s]\u001b[A\n",
      "Validation DataLoader 0:  50%|█████     | 7/14 [00:01<00:01,  6.51it/s]\u001b[A\n",
      "Validation DataLoader 0:  57%|█████▋    | 8/14 [00:01<00:00,  6.86it/s]\u001b[A\n",
      "Validation DataLoader 0:  64%|██████▍   | 9/14 [00:01<00:00,  6.83it/s]\u001b[A\n",
      "Validation DataLoader 0:  71%|███████▏  | 10/14 [00:01<00:00,  6.88it/s]\u001b[A\n",
      "Validation DataLoader 0:  79%|███████▊  | 11/14 [00:01<00:00,  6.90it/s]\u001b[A\n",
      "Validation DataLoader 0:  86%|████████▌ | 12/14 [00:01<00:00,  6.90it/s]\u001b[A\n",
      "Validation DataLoader 0:  93%|█████████▎| 13/14 [00:01<00:00,  6.92it/s]\u001b[A\n",
      "Validation DataLoader 0: 100%|██████████| 14/14 [00:02<00:00,  6.91it/s]\u001b[A\n",
      "Epoch 6: 100%|██████████| 101/101 [00:23<00:00,  4.25it/s, v_num=kdsd, train_loss_step=1.470, val_loss=1.360, val_acc=0.437, val_cohen_kappa=0.113, train_loss_epoch=1.280] \n",
      "Validation: |          | 0/? [00:00<?, ?it/s]\u001b[A\n",
      "Validation:   0%|          | 0/14 [00:00<?, ?it/s]\u001b[A\n",
      "Validation DataLoader 0:   0%|          | 0/14 [00:00<?, ?it/s]\u001b[A\n",
      "Validation DataLoader 0:   7%|▋         | 1/14 [00:00<00:01,  7.09it/s]\u001b[A\n",
      "Validation DataLoader 0:  14%|█▍        | 2/14 [00:00<00:01,  7.21it/s]\u001b[A\n",
      "Validation DataLoader 0:  21%|██▏       | 3/14 [00:00<00:01,  7.06it/s]\u001b[A\n",
      "Validation DataLoader 0:  29%|██▊       | 4/14 [00:00<00:01,  6.94it/s]\u001b[A\n",
      "Validation DataLoader 0:  36%|███▌      | 5/14 [00:00<00:01,  6.89it/s]\u001b[A\n",
      "Validation DataLoader 0:  43%|████▎     | 6/14 [00:00<00:01,  6.87it/s]\u001b[A\n",
      "Validation DataLoader 0:  50%|█████     | 7/14 [00:01<00:01,  6.70it/s]\u001b[A\n",
      "Validation DataLoader 0:  57%|█████▋    | 8/14 [00:01<00:00,  6.81it/s]\u001b[A\n",
      "Validation DataLoader 0:  64%|██████▍   | 9/14 [00:01<00:00,  6.63it/s]\u001b[A\n",
      "Validation DataLoader 0:  71%|███████▏  | 10/14 [00:01<00:00,  6.79it/s]\u001b[A\n",
      "Validation DataLoader 0:  79%|███████▊  | 11/14 [00:01<00:00,  6.68it/s]\u001b[A\n",
      "Validation DataLoader 0:  86%|████████▌ | 12/14 [00:01<00:00,  6.74it/s]\u001b[A\n",
      "Validation DataLoader 0:  93%|█████████▎| 13/14 [00:01<00:00,  6.85it/s]\u001b[A\n",
      "Validation DataLoader 0: 100%|██████████| 14/14 [00:02<00:00,  6.96it/s]\u001b[A\n",
      "Epoch 7: 100%|██████████| 101/101 [00:24<00:00,  4.13it/s, v_num=kdsd, train_loss_step=1.190, val_loss=1.310, val_acc=0.394, val_cohen_kappa=0.138, train_loss_epoch=1.280]\n",
      "Validation: |          | 0/? [00:00<?, ?it/s]\u001b[A\n",
      "Validation:   0%|          | 0/14 [00:00<?, ?it/s]\u001b[A\n",
      "Validation DataLoader 0:   0%|          | 0/14 [00:00<?, ?it/s]\u001b[A\n",
      "Validation DataLoader 0:   7%|▋         | 1/14 [00:00<00:02,  6.46it/s]\u001b[A\n",
      "Validation DataLoader 0:  14%|█▍        | 2/14 [00:00<00:01,  6.90it/s]\u001b[A\n",
      "Validation DataLoader 0:  21%|██▏       | 3/14 [00:00<00:01,  7.00it/s]\u001b[A\n",
      "Validation DataLoader 0:  29%|██▊       | 4/14 [00:00<00:01,  6.97it/s]\u001b[A\n",
      "Validation DataLoader 0:  36%|███▌      | 5/14 [00:00<00:01,  6.99it/s]\u001b[A\n",
      "Validation DataLoader 0:  43%|████▎     | 6/14 [00:00<00:01,  7.24it/s]\u001b[A\n",
      "Validation DataLoader 0:  50%|█████     | 7/14 [00:00<00:00,  7.16it/s]\u001b[A\n",
      "Validation DataLoader 0:  57%|█████▋    | 8/14 [00:01<00:00,  7.18it/s]\u001b[A\n",
      "Validation DataLoader 0:  64%|██████▍   | 9/14 [00:01<00:00,  7.19it/s]\u001b[A\n",
      "Validation DataLoader 0:  71%|███████▏  | 10/14 [00:01<00:00,  7.15it/s]\u001b[A\n",
      "Validation DataLoader 0:  79%|███████▊  | 11/14 [00:01<00:00,  7.22it/s]\u001b[A\n",
      "Validation DataLoader 0:  86%|████████▌ | 12/14 [00:01<00:00,  7.18it/s]\u001b[A\n",
      "Validation DataLoader 0:  93%|█████████▎| 13/14 [00:01<00:00,  7.19it/s]\u001b[A\n",
      "Validation DataLoader 0: 100%|██████████| 14/14 [00:01<00:00,  7.17it/s]\u001b[A\n",
      "Epoch 7: 100%|██████████| 101/101 [00:27<00:00,  3.73it/s, v_num=kdsd, train_loss_step=1.190, val_loss=1.330, val_acc=0.468, val_cohen_kappa=0.165, train_loss_epoch=1.260]"
     ]
    },
    {
     "name": "stderr",
     "output_type": "stream",
     "text": [
      "Monitored metric val_loss did not improve in the last 4 records. Best score: 1.285. Signaling Trainer to stop.\n"
     ]
    },
    {
     "name": "stdout",
     "output_type": "stream",
     "text": [
      "Epoch 7: 100%|██████████| 101/101 [00:27<00:00,  3.72it/s, v_num=kdsd, train_loss_step=1.190, val_loss=1.330, val_acc=0.468, val_cohen_kappa=0.165, train_loss_epoch=1.260]\n"
     ]
    },
    {
     "name": "stderr",
     "output_type": "stream",
     "text": [
      "\u001b[34m\u001b[1mwandb\u001b[0m: \u001b[32m\u001b[41mERROR\u001b[0m The nbformat package was not found. It is required to save notebook history.\n"
     ]
    },
    {
     "data": {
      "text/html": [],
      "text/plain": [
       "<IPython.core.display.HTML object>"
      ]
     },
     "metadata": {},
     "output_type": "display_data"
    },
    {
     "data": {
      "text/html": [
       "<br>    <style><br>        .wandb-row {<br>            display: flex;<br>            flex-direction: row;<br>            flex-wrap: wrap;<br>            justify-content: flex-start;<br>            width: 100%;<br>        }<br>        .wandb-col {<br>            display: flex;<br>            flex-direction: column;<br>            flex-basis: 100%;<br>            flex: 1;<br>            padding: 10px;<br>        }<br>    </style><br><div class=\"wandb-row\"><div class=\"wandb-col\"><h3>Run history:</h3><br/><table class=\"wandb\"><tr><td>epoch</td><td>▁▁▁▁▁▂▂▂▂▂▃▃▃▃▃▃▃▄▄▄▅▅▅▆▆▇▇▇▇▇▇▇▇▇██████</td></tr><tr><td>train_loss_epoch</td><td>█▆▅▅▃▂▃▁</td></tr><tr><td>train_loss_step</td><td>▃▄▃▃▂▂▄▄▂▄▂▄▃▃▃▂▃▄█▂▄▂▄▁▃▁▃▃▃▂▄▂▄▁▁▅▃▄▂▂</td></tr><tr><td>trainer/global_step</td><td>▁▁▂▂▂▂▂▂▂▂▂▃▃▃▃▃▃▃▃▄▄▄▄▄▄▅▅▅▆▆▇▇▇▇▇▇████</td></tr><tr><td>val_acc</td><td>▄▂█▂▁▆▅▇</td></tr><tr><td>val_cohen_kappa</td><td>▃▁█▄▃▅▆▇</td></tr><tr><td>val_loss</td><td>▆▇▇▁█▅▂▃</td></tr></table><br/></div><div class=\"wandb-col\"><h3>Run summary:</h3><br/><table class=\"wandb\"><tr><td>epoch</td><td>7</td></tr><tr><td>train_loss_epoch</td><td>1.25916</td></tr><tr><td>train_loss_step</td><td>1.19401</td></tr><tr><td>trainer/global_step</td><td>807</td></tr><tr><td>val_acc</td><td>0.46789</td></tr><tr><td>val_cohen_kappa</td><td>0.1655</td></tr><tr><td>val_loss</td><td>1.334</td></tr></table><br/></div></div>"
      ],
      "text/plain": [
       "<IPython.core.display.HTML object>"
      ]
     },
     "metadata": {},
     "output_type": "display_data"
    },
    {
     "data": {
      "text/html": [
       " View run <strong style=\"color:#cdcd00\">clean-water-13</strong> at: <a href='https://wandb.ai/npr264-new-york-university/Baseline_training/runs/2ngtkdsd' target=\"_blank\">https://wandb.ai/npr264-new-york-university/Baseline_training/runs/2ngtkdsd</a><br> View project at: <a href='https://wandb.ai/npr264-new-york-university/Baseline_training' target=\"_blank\">https://wandb.ai/npr264-new-york-university/Baseline_training</a><br>Synced 5 W&B file(s), 0 media file(s), 0 artifact file(s) and 0 other file(s)"
      ],
      "text/plain": [
       "<IPython.core.display.HTML object>"
      ]
     },
     "metadata": {},
     "output_type": "display_data"
    },
    {
     "data": {
      "text/html": [
       "Find logs at: <code>./wandb/run-20250430_124203-2ngtkdsd/logs</code>"
      ],
      "text/plain": [
       "<IPython.core.display.HTML object>"
      ]
     },
     "metadata": {},
     "output_type": "display_data"
    },
    {
     "name": "stdout",
     "output_type": "stream",
     "text": [
      "Best model path: /scratch/npr264/BioDeepL/project/checkpoints/Baseline/loss/best-checkpoint-v12.ckpt\n",
      "Trained model 0 in 221.8449010848999 seconds\n"
     ]
    },
    {
     "data": {
      "image/png": "[encoded data removed]",
      "text/plain": [
       "<Figure size 800x600 with 1 Axes>"
      ]
     },
     "metadata": {},
     "output_type": "display_data"
    },
    {
     "name": "stderr",
     "output_type": "stream",
     "text": [
      "Using 16bit Automatic Mixed Precision (AMP)\n",
      "GPU available: True (cuda), used: True\n",
      "TPU available: False, using: 0 TPU cores\n",
      "HPU available: False, using: 0 HPUs\n"
     ]
    },
    {
     "name": "stdout",
     "output_type": "stream",
     "text": [
      "Figure saved to /home/npr264/DeepLearning/project/cleaned/figures/Baseline/cms/cm_model0.png\n",
      "Done with loop 0\n"
     ]
    },
    {
     "data": {
      "text/html": [
       "Tracking run with wandb version 0.19.9"
      ],
      "text/plain": [
       "<IPython.core.display.HTML object>"
      ]
     },
     "metadata": {},
     "output_type": "display_data"
    },
    {
     "data": {
      "text/html": [
       "Run data is saved locally in <code>./wandb/run-20250430_124553-5csv5w9l</code>"
      ],
      "text/plain": [
       "<IPython.core.display.HTML object>"
      ]
     },
     "metadata": {},
     "output_type": "display_data"
    },
    {
     "data": {
      "text/html": [
       "Syncing run <strong><a href='https://wandb.ai/npr264-new-york-university/Baseline_training/runs/5csv5w9l' target=\"_blank\">fragrant-smoke-14</a></strong> to <a href='https://wandb.ai/npr264-new-york-university/Baseline_training' target=\"_blank\">Weights & Biases</a> (<a href='https://wandb.me/developer-guide' target=\"_blank\">docs</a>)<br>"
      ],
      "text/plain": [
       "<IPython.core.display.HTML object>"
      ]
     },
     "metadata": {},
     "output_type": "display_data"
    },
    {
     "data": {
      "text/html": [
       " View project at <a href='https://wandb.ai/npr264-new-york-university/Baseline_training' target=\"_blank\">https://wandb.ai/npr264-new-york-university/Baseline_training</a>"
      ],
      "text/plain": [
       "<IPython.core.display.HTML object>"
      ]
     },
     "metadata": {},
     "output_type": "display_data"
    },
    {
     "data": {
      "text/html": [
       " View run at <a href='https://wandb.ai/npr264-new-york-university/Baseline_training/runs/5csv5w9l' target=\"_blank\">https://wandb.ai/npr264-new-york-university/Baseline_training/runs/5csv5w9l</a>"
      ],
      "text/plain": [
       "<IPython.core.display.HTML object>"
      ]
     },
     "metadata": {},
     "output_type": "display_data"
    },
    {
     "name": "stderr",
     "output_type": "stream",
     "text": [
      "/ext3/miniforge3/lib/python3.12/site-packages/pytorch_lightning/callbacks/model_checkpoint.py:654: Checkpoint directory /scratch/npr264/BioDeepL/project/checkpoints/Baseline/loss exists and is not empty.\n",
      "LOCAL_RANK: 0 - CUDA_VISIBLE_DEVICES: [0]\n",
      "/ext3/miniforge3/lib/python3.12/site-packages/torch/optim/lr_scheduler.py:62: UserWarning: The verbose parameter is deprecated. Please use get_last_lr() to access the learning rate.\n",
      "  warnings.warn(\n",
      "\n",
      "  | Name            | Type                 | Params | Mode \n",
      "-----------------------------------------------------------------\n",
      "0 | embeddingLayer  | Linear               | 48     | train\n",
      "1 | dropout_embed   | Dropout              | 0      | train\n",
      "2 | dropout_hidden2 | Dropout              | 0      | train\n",
      "3 | rnn             | LSTM                 | 8.5 M  | train\n",
      "4 | hidden2         | Linear               | 32.8 K | train\n",
      "5 | classifier      | Linear               | 132    | train\n",
      "6 | train_criterion | CrossEntropyLoss     | 0      | train\n",
      "7 | val_criterion   | CrossEntropyLoss     | 0      | train\n",
      "8 | kappa           | MulticlassCohenKappa | 0      | train\n",
      "-----------------------------------------------------------------\n",
      "8.5 M     Trainable params\n",
      "0         Non-trainable params\n",
      "8.5 M     Total params\n",
      "33.932    Total estimated model params size (MB)\n",
      "9         Modules in train mode\n",
      "0         Modules in eval mode\n",
      "SLURM auto-requeueing enabled. Setting signal handlers.\n"
     ]
    },
    {
     "name": "stdout",
     "output_type": "stream",
     "text": [
      "Epoch 0: 100%|██████████| 101/101 [00:23<00:00,  4.37it/s, v_num=5w9l, train_loss_step=1.320]\n",
      "Validation: |          | 0/? [00:00<?, ?it/s]\u001b[A\n",
      "Validation:   0%|          | 0/14 [00:00<?, ?it/s]\u001b[A\n",
      "Validation DataLoader 0:   0%|          | 0/14 [00:00<?, ?it/s]\u001b[A\n",
      "Validation DataLoader 0:   7%|▋         | 1/14 [00:00<00:01,  7.19it/s]\u001b[A\n",
      "Validation DataLoader 0:  14%|█▍        | 2/14 [00:00<00:01,  6.92it/s]\u001b[A\n",
      "Validation DataLoader 0:  21%|██▏       | 3/14 [00:00<00:01,  6.77it/s]\u001b[A\n",
      "Validation DataLoader 0:  29%|██▊       | 4/14 [00:00<00:01,  6.74it/s]\u001b[A\n",
      "Validation DataLoader 0:  36%|███▌      | 5/14 [00:00<00:01,  6.88it/s]\u001b[A\n",
      "Validation DataLoader 0:  43%|████▎     | 6/14 [00:00<00:01,  6.19it/s]\u001b[A\n",
      "Validation DataLoader 0:  50%|█████     | 7/14 [00:01<00:01,  5.54it/s]\u001b[A\n",
      "Validation DataLoader 0:  57%|█████▋    | 8/14 [00:01<00:01,  5.82it/s]\u001b[A\n",
      "Validation DataLoader 0:  64%|██████▍   | 9/14 [00:01<00:00,  5.99it/s]\u001b[A\n",
      "Validation DataLoader 0:  71%|███████▏  | 10/14 [00:01<00:00,  6.17it/s]\u001b[A\n",
      "Validation DataLoader 0:  79%|███████▊  | 11/14 [00:01<00:00,  6.33it/s]\u001b[A\n",
      "Validation DataLoader 0:  86%|████████▌ | 12/14 [00:01<00:00,  6.44it/s]\u001b[A\n",
      "Validation DataLoader 0:  93%|█████████▎| 13/14 [00:01<00:00,  6.55it/s]\u001b[A\n",
      "Validation DataLoader 0: 100%|██████████| 14/14 [00:02<00:00,  6.65it/s]\u001b[A\n",
      "Epoch 0: 100%|██████████| 101/101 [00:26<00:00,  3.87it/s, v_num=5w9l, train_loss_step=1.320, val_loss=1.350, val_acc=0.546, val_cohen_kappa=0.192, train_loss_epoch=1.350]"
     ]
    },
    {
     "name": "stderr",
     "output_type": "stream",
     "text": [
      "Metric val_loss improved. New best score: 1.352\n"
     ]
    },
    {
     "name": "stdout",
     "output_type": "stream",
     "text": [
      "Epoch 1: 100%|██████████| 101/101 [00:23<00:00,  4.35it/s, v_num=5w9l, train_loss_step=1.540, val_loss=1.350, val_acc=0.546, val_cohen_kappa=0.192, train_loss_epoch=1.350]\n",
      "Validation: |          | 0/? [00:00<?, ?it/s]\u001b[A\n",
      "Validation:   0%|          | 0/14 [00:00<?, ?it/s]\u001b[A\n",
      "Validation DataLoader 0:   0%|          | 0/14 [00:00<?, ?it/s]\u001b[A\n",
      "Validation DataLoader 0:   7%|▋         | 1/14 [00:00<00:01,  9.09it/s]\u001b[A\n",
      "Validation DataLoader 0:  14%|█▍        | 2/14 [00:00<00:01,  8.71it/s]\u001b[A\n",
      "Validation DataLoader 0:  21%|██▏       | 3/14 [00:00<00:01,  8.79it/s]\u001b[A\n",
      "Validation DataLoader 0:  29%|██▊       | 4/14 [00:00<00:01,  8.80it/s]\u001b[A\n",
      "Validation DataLoader 0:  36%|███▌      | 5/14 [00:00<00:01,  8.83it/s]\u001b[A\n",
      "Validation DataLoader 0:  43%|████▎     | 6/14 [00:00<00:00,  8.98it/s]\u001b[A\n",
      "Validation DataLoader 0:  50%|█████     | 7/14 [00:00<00:00,  9.25it/s]\u001b[A\n",
      "Validation DataLoader 0:  57%|█████▋    | 8/14 [00:00<00:00,  9.16it/s]\u001b[A\n",
      "Validation DataLoader 0:  64%|██████▍   | 9/14 [00:00<00:00,  9.12it/s]\u001b[A\n",
      "Validation DataLoader 0:  71%|███████▏  | 10/14 [00:01<00:00,  9.54it/s]\u001b[A\n",
      "Validation DataLoader 0:  79%|███████▊  | 11/14 [00:01<00:00,  9.10it/s]\u001b[A\n",
      "Validation DataLoader 0:  86%|████████▌ | 12/14 [00:01<00:00,  8.86it/s]\u001b[A\n",
      "Validation DataLoader 0:  93%|█████████▎| 13/14 [00:01<00:00,  8.73it/s]\u001b[A\n",
      "Validation DataLoader 0: 100%|██████████| 14/14 [00:01<00:00,  8.94it/s]\u001b[A\n",
      "Epoch 2: 100%|██████████| 101/101 [00:23<00:00,  4.24it/s, v_num=5w9l, train_loss_step=1.330, val_loss=1.410, val_acc=0.293, val_cohen_kappa=0.0488, train_loss_epoch=1.330]\n",
      "Validation: |          | 0/? [00:00<?, ?it/s]\u001b[A\n",
      "Validation:   0%|          | 0/14 [00:00<?, ?it/s]\u001b[A\n",
      "Validation DataLoader 0:   0%|          | 0/14 [00:00<?, ?it/s]\u001b[A\n",
      "Validation DataLoader 0:   7%|▋         | 1/14 [00:00<00:02,  5.08it/s]\u001b[A\n",
      "Validation DataLoader 0:  14%|█▍        | 2/14 [00:00<00:02,  5.99it/s]\u001b[A\n",
      "Validation DataLoader 0:  21%|██▏       | 3/14 [00:00<00:01,  6.27it/s]\u001b[A\n",
      "Validation DataLoader 0:  29%|██▊       | 4/14 [00:00<00:01,  6.30it/s]\u001b[A\n",
      "Validation DataLoader 0:  36%|███▌      | 5/14 [00:00<00:01,  6.45it/s]\u001b[A\n",
      "Validation DataLoader 0:  43%|████▎     | 6/14 [00:00<00:01,  6.50it/s]\u001b[A\n",
      "Validation DataLoader 0:  50%|█████     | 7/14 [00:01<00:01,  6.62it/s]\u001b[A\n",
      "Validation DataLoader 0:  57%|█████▋    | 8/14 [00:01<00:00,  6.69it/s]\u001b[A\n",
      "Validation DataLoader 0:  64%|██████▍   | 9/14 [00:01<00:00,  6.66it/s]\u001b[A\n",
      "Validation DataLoader 0:  71%|███████▏  | 10/14 [00:01<00:00,  6.69it/s]\u001b[A\n",
      "Validation DataLoader 0:  79%|███████▊  | 11/14 [00:01<00:00,  6.82it/s]\u001b[A\n",
      "Validation DataLoader 0:  86%|████████▌ | 12/14 [00:01<00:00,  6.82it/s]\u001b[A\n",
      "Validation DataLoader 0:  93%|█████████▎| 13/14 [00:01<00:00,  6.84it/s]\u001b[A\n",
      "Validation DataLoader 0: 100%|██████████| 14/14 [00:02<00:00,  6.86it/s]\u001b[A\n",
      "Epoch 2: 100%|██████████| 101/101 [00:27<00:00,  3.73it/s, v_num=5w9l, train_loss_step=1.330, val_loss=1.310, val_acc=0.335, val_cohen_kappa=0.109, train_loss_epoch=1.300] "
     ]
    },
    {
     "name": "stderr",
     "output_type": "stream",
     "text": [
      "Metric val_loss improved by 0.045 >= min_delta = 0.0. New best score: 1.307\n"
     ]
    },
    {
     "name": "stdout",
     "output_type": "stream",
     "text": [
      "Epoch 3: 100%|██████████| 101/101 [00:24<00:00,  4.11it/s, v_num=5w9l, train_loss_step=1.340, val_loss=1.310, val_acc=0.335, val_cohen_kappa=0.109, train_loss_epoch=1.300]\n",
      "Validation: |          | 0/? [00:00<?, ?it/s]\u001b[A\n",
      "Validation:   0%|          | 0/14 [00:00<?, ?it/s]\u001b[A\n",
      "Validation DataLoader 0:   0%|          | 0/14 [00:00<?, ?it/s]\u001b[A\n",
      "Validation DataLoader 0:   7%|▋         | 1/14 [00:00<00:01,  7.57it/s]\u001b[A\n",
      "Validation DataLoader 0:  14%|█▍        | 2/14 [00:00<00:01,  7.68it/s]\u001b[A\n",
      "Validation DataLoader 0:  21%|██▏       | 3/14 [00:00<00:01,  7.41it/s]\u001b[A\n",
      "Validation DataLoader 0:  29%|██▊       | 4/14 [00:00<00:01,  7.26it/s]\u001b[A\n",
      "Validation DataLoader 0:  36%|███▌      | 5/14 [00:00<00:01,  7.34it/s]\u001b[A\n",
      "Validation DataLoader 0:  43%|████▎     | 6/14 [00:00<00:01,  7.19it/s]\u001b[A\n",
      "Validation DataLoader 0:  50%|█████     | 7/14 [00:00<00:00,  7.16it/s]\u001b[A\n",
      "Validation DataLoader 0:  57%|█████▋    | 8/14 [00:01<00:00,  7.18it/s]\u001b[A\n",
      "Validation DataLoader 0:  64%|██████▍   | 9/14 [00:01<00:00,  7.17it/s]\u001b[A\n",
      "Validation DataLoader 0:  71%|███████▏  | 10/14 [00:01<00:00,  7.18it/s]\u001b[A\n",
      "Validation DataLoader 0:  79%|███████▊  | 11/14 [00:01<00:00,  7.16it/s]\u001b[A\n",
      "Validation DataLoader 0:  86%|████████▌ | 12/14 [00:01<00:00,  7.19it/s]\u001b[A\n",
      "Validation DataLoader 0:  93%|█████████▎| 13/14 [00:01<00:00,  7.19it/s]\u001b[A\n",
      "Validation DataLoader 0: 100%|██████████| 14/14 [00:01<00:00,  7.17it/s]\u001b[A\n",
      "Epoch 3: 100%|██████████| 101/101 [00:27<00:00,  3.70it/s, v_num=5w9l, train_loss_step=1.340, val_loss=1.280, val_acc=0.329, val_cohen_kappa=0.118, train_loss_epoch=1.290]"
     ]
    },
    {
     "name": "stderr",
     "output_type": "stream",
     "text": [
      "Metric val_loss improved by 0.028 >= min_delta = 0.0. New best score: 1.279\n"
     ]
    },
    {
     "name": "stdout",
     "output_type": "stream",
     "text": [
      "Epoch 4: 100%|██████████| 101/101 [00:23<00:00,  4.26it/s, v_num=5w9l, train_loss_step=1.520, val_loss=1.280, val_acc=0.329, val_cohen_kappa=0.118, train_loss_epoch=1.290]\n",
      "Validation: |          | 0/? [00:00<?, ?it/s]\u001b[A\n",
      "Validation:   0%|          | 0/14 [00:00<?, ?it/s]\u001b[A\n",
      "Validation DataLoader 0:   0%|          | 0/14 [00:00<?, ?it/s]\u001b[A\n",
      "Validation DataLoader 0:   7%|▋         | 1/14 [00:00<00:01, 11.69it/s]\u001b[A\n",
      "Validation DataLoader 0:  14%|█▍        | 2/14 [00:00<00:01, 11.35it/s]\u001b[A\n",
      "Validation DataLoader 0:  21%|██▏       | 3/14 [00:00<00:01, 10.18it/s]\u001b[A\n",
      "Validation DataLoader 0:  29%|██▊       | 4/14 [00:00<00:00, 10.28it/s]\u001b[A\n",
      "Validation DataLoader 0:  36%|███▌      | 5/14 [00:00<00:00,  9.92it/s]\u001b[A\n",
      "Validation DataLoader 0:  43%|████▎     | 6/14 [00:00<00:00, 10.03it/s]\u001b[A\n",
      "Validation DataLoader 0:  50%|█████     | 7/14 [00:00<00:00, 10.60it/s]\u001b[A\n",
      "Validation DataLoader 0:  57%|█████▋    | 8/14 [00:00<00:00, 11.08it/s]\u001b[A\n",
      "Validation DataLoader 0:  64%|██████▍   | 9/14 [00:00<00:00, 11.18it/s]\u001b[A\n",
      "Validation DataLoader 0:  71%|███████▏  | 10/14 [00:00<00:00, 11.50it/s]\u001b[A\n",
      "Validation DataLoader 0:  79%|███████▊  | 11/14 [00:00<00:00, 11.89it/s]\u001b[A\n",
      "Validation DataLoader 0:  86%|████████▌ | 12/14 [00:01<00:00, 11.22it/s]\u001b[A\n",
      "Validation DataLoader 0:  93%|█████████▎| 13/14 [00:01<00:00,  9.77it/s]\u001b[A\n",
      "Validation DataLoader 0: 100%|██████████| 14/14 [00:01<00:00,  8.38it/s]\u001b[A\n",
      "Epoch 5: 100%|██████████| 101/101 [00:23<00:00,  4.26it/s, v_num=5w9l, train_loss_step=1.410, val_loss=1.290, val_acc=0.356, val_cohen_kappa=0.126, train_loss_epoch=1.290]\n",
      "Validation: |          | 0/? [00:00<?, ?it/s]\u001b[A\n",
      "Validation:   0%|          | 0/14 [00:00<?, ?it/s]\u001b[A\n",
      "Validation DataLoader 0:   0%|          | 0/14 [00:00<?, ?it/s]\u001b[A\n",
      "Validation DataLoader 0:   7%|▋         | 1/14 [00:00<00:06,  2.14it/s]\u001b[A\n",
      "Validation DataLoader 0:  14%|█▍        | 2/14 [00:00<00:03,  3.55it/s]\u001b[A\n",
      "Validation DataLoader 0:  21%|██▏       | 3/14 [00:00<00:02,  4.33it/s]\u001b[A\n",
      "Validation DataLoader 0:  29%|██▊       | 4/14 [00:00<00:02,  4.99it/s]\u001b[A\n",
      "Validation DataLoader 0:  36%|███▌      | 5/14 [00:00<00:01,  5.39it/s]\u001b[A\n",
      "Validation DataLoader 0:  43%|████▎     | 6/14 [00:01<00:01,  5.71it/s]\u001b[A\n",
      "Validation DataLoader 0:  50%|█████     | 7/14 [00:01<00:01,  6.17it/s]\u001b[A\n",
      "Validation DataLoader 0:  57%|█████▋    | 8/14 [00:01<00:00,  6.35it/s]\u001b[A\n",
      "Validation DataLoader 0:  64%|██████▍   | 9/14 [00:01<00:00,  6.49it/s]\u001b[A\n",
      "Validation DataLoader 0:  71%|███████▏  | 10/14 [00:01<00:00,  6.66it/s]\u001b[A\n",
      "Validation DataLoader 0:  79%|███████▊  | 11/14 [00:01<00:00,  6.91it/s]\u001b[A\n",
      "Validation DataLoader 0:  86%|████████▌ | 12/14 [00:01<00:00,  6.45it/s]\u001b[A\n",
      "Validation DataLoader 0:  93%|█████████▎| 13/14 [00:01<00:00,  6.54it/s]\u001b[A\n",
      "Validation DataLoader 0: 100%|██████████| 14/14 [00:02<00:00,  6.77it/s]\u001b[A\n",
      "Epoch 6: 100%|██████████| 101/101 [00:25<00:00,  3.97it/s, v_num=5w9l, train_loss_step=1.200, val_loss=1.320, val_acc=0.365, val_cohen_kappa=0.127, train_loss_epoch=1.280]\n",
      "Validation: |          | 0/? [00:00<?, ?it/s]\u001b[A\n",
      "Validation:   0%|          | 0/14 [00:00<?, ?it/s]\u001b[A\n",
      "Validation DataLoader 0:   0%|          | 0/14 [00:00<?, ?it/s]\u001b[A\n",
      "Validation DataLoader 0:   7%|▋         | 1/14 [00:00<00:02,  4.62it/s]\u001b[A\n",
      "Validation DataLoader 0:  14%|█▍        | 2/14 [00:00<00:02,  4.10it/s]\u001b[A\n",
      "Validation DataLoader 0:  21%|██▏       | 3/14 [00:00<00:02,  4.89it/s]\u001b[A\n",
      "Validation DataLoader 0:  29%|██▊       | 4/14 [00:00<00:01,  5.76it/s]\u001b[A\n",
      "Validation DataLoader 0:  36%|███▌      | 5/14 [00:01<00:01,  4.96it/s]\u001b[A\n",
      "Validation DataLoader 0:  43%|████▎     | 6/14 [00:01<00:01,  5.61it/s]\u001b[A\n",
      "Validation DataLoader 0:  50%|█████     | 7/14 [00:01<00:01,  5.78it/s]\u001b[A\n",
      "Validation DataLoader 0:  57%|█████▋    | 8/14 [00:01<00:01,  5.85it/s]\u001b[A\n",
      "Validation DataLoader 0:  64%|██████▍   | 9/14 [00:01<00:00,  6.06it/s]\u001b[A\n",
      "Validation DataLoader 0:  71%|███████▏  | 10/14 [00:01<00:00,  6.32it/s]\u001b[A\n",
      "Validation DataLoader 0:  79%|███████▊  | 11/14 [00:01<00:00,  6.54it/s]\u001b[A\n",
      "Validation DataLoader 0:  86%|████████▌ | 12/14 [00:01<00:00,  6.75it/s]\u001b[A\n",
      "Validation DataLoader 0:  93%|█████████▎| 13/14 [00:01<00:00,  6.97it/s]\u001b[A\n",
      "Validation DataLoader 0: 100%|██████████| 14/14 [00:01<00:00,  7.14it/s]\u001b[A\n",
      "Epoch 7: 100%|██████████| 101/101 [00:24<00:00,  4.10it/s, v_num=5w9l, train_loss_step=1.190, val_loss=1.380, val_acc=0.335, val_cohen_kappa=0.118, train_loss_epoch=1.270]\n",
      "Validation: |          | 0/? [00:00<?, ?it/s]\u001b[A\n",
      "Validation:   0%|          | 0/14 [00:00<?, ?it/s]\u001b[A\n",
      "Validation DataLoader 0:   0%|          | 0/14 [00:00<?, ?it/s]\u001b[A\n",
      "Validation DataLoader 0:   7%|▋         | 1/14 [00:00<00:01,  8.13it/s]\u001b[A\n",
      "Validation DataLoader 0:  14%|█▍        | 2/14 [00:00<00:01,  7.25it/s]\u001b[A\n",
      "Validation DataLoader 0:  21%|██▏       | 3/14 [00:00<00:01,  7.12it/s]\u001b[A\n",
      "Validation DataLoader 0:  29%|██▊       | 4/14 [00:00<00:01,  7.17it/s]\u001b[A\n",
      "Validation DataLoader 0:  36%|███▌      | 5/14 [00:00<00:01,  7.06it/s]\u001b[A\n",
      "Validation DataLoader 0:  43%|████▎     | 6/14 [00:00<00:01,  7.02it/s]\u001b[A\n",
      "Validation DataLoader 0:  50%|█████     | 7/14 [00:00<00:00,  7.04it/s]\u001b[A\n",
      "Validation DataLoader 0:  57%|█████▋    | 8/14 [00:01<00:00,  7.14it/s]\u001b[A\n",
      "Validation DataLoader 0:  64%|██████▍   | 9/14 [00:01<00:00,  7.16it/s]\u001b[A\n",
      "Validation DataLoader 0:  71%|███████▏  | 10/14 [00:01<00:00,  7.13it/s]\u001b[A\n",
      "Validation DataLoader 0:  79%|███████▊  | 11/14 [00:01<00:00,  7.14it/s]\u001b[A\n",
      "Validation DataLoader 0:  86%|████████▌ | 12/14 [00:01<00:00,  7.13it/s]\u001b[A\n",
      "Validation DataLoader 0:  93%|█████████▎| 13/14 [00:01<00:00,  7.10it/s]\u001b[A\n",
      "Validation DataLoader 0: 100%|██████████| 14/14 [00:01<00:00,  7.08it/s]\u001b[A\n",
      "Epoch 7: 100%|██████████| 101/101 [00:27<00:00,  3.70it/s, v_num=5w9l, train_loss_step=1.190, val_loss=1.320, val_acc=0.339, val_cohen_kappa=0.140, train_loss_epoch=1.270]"
     ]
    },
    {
     "name": "stderr",
     "output_type": "stream",
     "text": [
      "Monitored metric val_loss did not improve in the last 4 records. Best score: 1.279. Signaling Trainer to stop.\n"
     ]
    },
    {
     "name": "stdout",
     "output_type": "stream",
     "text": [
      "Epoch 7: 100%|██████████| 101/101 [00:27<00:00,  3.70it/s, v_num=5w9l, train_loss_step=1.190, val_loss=1.320, val_acc=0.339, val_cohen_kappa=0.140, train_loss_epoch=1.270]\n"
     ]
    },
    {
     "name": "stderr",
     "output_type": "stream",
     "text": [
      "\u001b[34m\u001b[1mwandb\u001b[0m: \u001b[32m\u001b[41mERROR\u001b[0m The nbformat package was not found. It is required to save notebook history.\n"
     ]
    },
    {
     "data": {
      "text/html": [],
      "text/plain": [
       "<IPython.core.display.HTML object>"
      ]
     },
     "metadata": {},
     "output_type": "display_data"
    },
    {
     "data": {
      "text/html": [
       "<br>    <style><br>        .wandb-row {<br>            display: flex;<br>            flex-direction: row;<br>            flex-wrap: wrap;<br>            justify-content: flex-start;<br>            width: 100%;<br>        }<br>        .wandb-col {<br>            display: flex;<br>            flex-direction: column;<br>            flex-basis: 100%;<br>            flex: 1;<br>            padding: 10px;<br>        }<br>    </style><br><div class=\"wandb-row\"><div class=\"wandb-col\"><h3>Run history:</h3><br/><table class=\"wandb\"><tr><td>epoch</td><td>▁▁▁▁▁▂▂▂▃▃▃▃▃▃▃▄▄▄▄▅▅▅▅▅▆▇▇▇▇▇▇▇████████</td></tr><tr><td>train_loss_epoch</td><td>█▆▄▃▃▃▁▁</td></tr><tr><td>train_loss_step</td><td>▃▄▅▃▄█▃▃▄▃▃▂▄▄▂▂▅▄▃▃▃▁▂▃▃▅▄▃▃▂▂▁▃▂▂▃▄▄▂▃</td></tr><tr><td>trainer/global_step</td><td>▁▁▁▁▁▂▂▂▂▂▃▃▃▃▃▃▄▄▄▄▄▅▅▅▅▆▆▆▆▆▆▇▇▇▇▇████</td></tr><tr><td>val_acc</td><td>█▁▂▂▃▃▂▂</td></tr><tr><td>val_cohen_kappa</td><td>█▁▄▄▅▅▄▅</td></tr><tr><td>val_loss</td><td>▅█▃▁▂▃▇▃</td></tr></table><br/></div><div class=\"wandb-col\"><h3>Run summary:</h3><br/><table class=\"wandb\"><tr><td>epoch</td><td>7</td></tr><tr><td>train_loss_epoch</td><td>1.26515</td></tr><tr><td>train_loss_step</td><td>1.18615</td></tr><tr><td>trainer/global_step</td><td>807</td></tr><tr><td>val_acc</td><td>0.33872</td></tr><tr><td>val_cohen_kappa</td><td>0.13951</td></tr><tr><td>val_loss</td><td>1.31726</td></tr></table><br/></div></div>"
      ],
      "text/plain": [
       "<IPython.core.display.HTML object>"
      ]
     },
     "metadata": {},
     "output_type": "display_data"
    },
    {
     "data": {
      "text/html": [
       " View run <strong style=\"color:#cdcd00\">fragrant-smoke-14</strong> at: <a href='https://wandb.ai/npr264-new-york-university/Baseline_training/runs/5csv5w9l' target=\"_blank\">https://wandb.ai/npr264-new-york-university/Baseline_training/runs/5csv5w9l</a><br> View project at: <a href='https://wandb.ai/npr264-new-york-university/Baseline_training' target=\"_blank\">https://wandb.ai/npr264-new-york-university/Baseline_training</a><br>Synced 5 W&B file(s), 0 media file(s), 0 artifact file(s) and 0 other file(s)"
      ],
      "text/plain": [
       "<IPython.core.display.HTML object>"
      ]
     },
     "metadata": {},
     "output_type": "display_data"
    },
    {
     "data": {
      "text/html": [
       "Find logs at: <code>./wandb/run-20250430_124553-5csv5w9l/logs</code>"
      ],
      "text/plain": [
       "<IPython.core.display.HTML object>"
      ]
     },
     "metadata": {},
     "output_type": "display_data"
    },
    {
     "name": "stdout",
     "output_type": "stream",
     "text": [
      "Best model path: /scratch/npr264/BioDeepL/project/checkpoints/Baseline/loss/best-checkpoint-v13.ckpt\n",
      "Trained model 1 in 218.78433871269226 seconds\n"
     ]
    },
    {
     "data": {
      "image/png": "[encoded data removed]",
      "text/plain": [
       "<Figure size 800x600 with 1 Axes>"
      ]
     },
     "metadata": {},
     "output_type": "display_data"
    },
    {
     "name": "stderr",
     "output_type": "stream",
     "text": [
      "Using 16bit Automatic Mixed Precision (AMP)\n",
      "GPU available: True (cuda), used: True\n",
      "TPU available: False, using: 0 TPU cores\n",
      "HPU available: False, using: 0 HPUs\n"
     ]
    },
    {
     "name": "stdout",
     "output_type": "stream",
     "text": [
      "Figure saved to /home/npr264/DeepLearning/project/cleaned/figures/Baseline/cms/cm_model1.png\n",
      "Done with loop 1\n"
     ]
    },
    {
     "data": {
      "text/html": [
       "Tracking run with wandb version 0.19.9"
      ],
      "text/plain": [
       "<IPython.core.display.HTML object>"
      ]
     },
     "metadata": {},
     "output_type": "display_data"
    },
    {
     "data": {
      "text/html": [
       "Run data is saved locally in <code>./wandb/run-20250430_124938-6gxqmihc</code>"
      ],
      "text/plain": [
       "<IPython.core.display.HTML object>"
      ]
     },
     "metadata": {},
     "output_type": "display_data"
    },
    {
     "data": {
      "text/html": [
       "Syncing run <strong><a href='https://wandb.ai/npr264-new-york-university/Baseline_training/runs/6gxqmihc' target=\"_blank\">upbeat-dew-15</a></strong> to <a href='https://wandb.ai/npr264-new-york-university/Baseline_training' target=\"_blank\">Weights & Biases</a> (<a href='https://wandb.me/developer-guide' target=\"_blank\">docs</a>)<br>"
      ],
      "text/plain": [
       "<IPython.core.display.HTML object>"
      ]
     },
     "metadata": {},
     "output_type": "display_data"
    },
    {
     "data": {
      "text/html": [
       " View project at <a href='https://wandb.ai/npr264-new-york-university/Baseline_training' target=\"_blank\">https://wandb.ai/npr264-new-york-university/Baseline_training</a>"
      ],
      "text/plain": [
       "<IPython.core.display.HTML object>"
      ]
     },
     "metadata": {},
     "output_type": "display_data"
    },
    {
     "data": {
      "text/html": [
       " View run at <a href='https://wandb.ai/npr264-new-york-university/Baseline_training/runs/6gxqmihc' target=\"_blank\">https://wandb.ai/npr264-new-york-university/Baseline_training/runs/6gxqmihc</a>"
      ],
      "text/plain": [
       "<IPython.core.display.HTML object>"
      ]
     },
     "metadata": {},
     "output_type": "display_data"
    },
    {
     "name": "stderr",
     "output_type": "stream",
     "text": [
      "/ext3/miniforge3/lib/python3.12/site-packages/pytorch_lightning/callbacks/model_checkpoint.py:654: Checkpoint directory /scratch/npr264/BioDeepL/project/checkpoints/Baseline/loss exists and is not empty.\n",
      "LOCAL_RANK: 0 - CUDA_VISIBLE_DEVICES: [0]\n",
      "/ext3/miniforge3/lib/python3.12/site-packages/torch/optim/lr_scheduler.py:62: UserWarning: The verbose parameter is deprecated. Please use get_last_lr() to access the learning rate.\n",
      "  warnings.warn(\n",
      "\n",
      "  | Name            | Type                 | Params | Mode \n",
      "-----------------------------------------------------------------\n",
      "0 | embeddingLayer  | Linear               | 48     | train\n",
      "1 | dropout_embed   | Dropout              | 0      | train\n",
      "2 | dropout_hidden2 | Dropout              | 0      | train\n",
      "3 | rnn             | LSTM                 | 8.5 M  | train\n",
      "4 | hidden2         | Linear               | 32.8 K | train\n",
      "5 | classifier      | Linear               | 132    | train\n",
      "6 | train_criterion | CrossEntropyLoss     | 0      | train\n",
      "7 | val_criterion   | CrossEntropyLoss     | 0      | train\n",
      "8 | kappa           | MulticlassCohenKappa | 0      | train\n",
      "-----------------------------------------------------------------\n",
      "8.5 M     Trainable params\n",
      "0         Non-trainable params\n",
      "8.5 M     Total params\n",
      "33.932    Total estimated model params size (MB)\n",
      "9         Modules in train mode\n",
      "0         Modules in eval mode\n",
      "SLURM auto-requeueing enabled. Setting signal handlers.\n"
     ]
    },
    {
     "name": "stdout",
     "output_type": "stream",
     "text": [
      "Epoch 0: 100%|██████████| 101/101 [00:22<00:00,  4.54it/s, v_num=mihc, train_loss_step=1.200]\n",
      "Validation: |          | 0/? [00:00<?, ?it/s]\u001b[A\n",
      "Validation:   0%|          | 0/14 [00:00<?, ?it/s]\u001b[A\n",
      "Validation DataLoader 0:   0%|          | 0/14 [00:00<?, ?it/s]\u001b[A\n",
      "Validation DataLoader 0:   7%|▋         | 1/14 [00:00<00:02,  6.11it/s]\u001b[A\n",
      "Validation DataLoader 0:  14%|█▍        | 2/14 [00:00<00:02,  5.78it/s]\u001b[A\n",
      "Validation DataLoader 0:  21%|██▏       | 3/14 [00:00<00:01,  7.65it/s]\u001b[A\n",
      "Validation DataLoader 0:  29%|██▊       | 4/14 [00:00<00:01,  9.14it/s]\u001b[A\n",
      "Validation DataLoader 0:  36%|███▌      | 5/14 [00:00<00:00,  9.59it/s]\u001b[A\n",
      "Validation DataLoader 0:  43%|████▎     | 6/14 [00:00<00:00,  8.69it/s]\u001b[A\n",
      "Validation DataLoader 0:  50%|█████     | 7/14 [00:01<00:01,  6.58it/s]\u001b[A\n",
      "Validation DataLoader 0:  57%|█████▋    | 8/14 [00:01<00:00,  6.95it/s]\u001b[A\n",
      "Validation DataLoader 0:  64%|██████▍   | 9/14 [00:01<00:00,  7.13it/s]\u001b[A\n",
      "Validation DataLoader 0:  71%|███████▏  | 10/14 [00:01<00:00,  7.31it/s]\u001b[A\n",
      "Validation DataLoader 0:  79%|███████▊  | 11/14 [00:01<00:00,  7.50it/s]\u001b[A\n",
      "Validation DataLoader 0:  86%|████████▌ | 12/14 [00:01<00:00,  7.62it/s]\u001b[A\n",
      "Validation DataLoader 0:  93%|█████████▎| 13/14 [00:01<00:00,  7.89it/s]\u001b[A\n",
      "Validation DataLoader 0: 100%|██████████| 14/14 [00:01<00:00,  7.94it/s]\u001b[A\n",
      "Epoch 0: 100%|██████████| 101/101 [00:25<00:00,  4.00it/s, v_num=mihc, train_loss_step=1.200, val_loss=1.360, val_acc=0.436, val_cohen_kappa=0.127, train_loss_epoch=1.350]"
     ]
    },
    {
     "name": "stderr",
     "output_type": "stream",
     "text": [
      "Metric val_loss improved. New best score: 1.360\n"
     ]
    },
    {
     "name": "stdout",
     "output_type": "stream",
     "text": [
      "Epoch 1: 100%|██████████| 101/101 [00:24<00:00,  4.15it/s, v_num=mihc, train_loss_step=1.250, val_loss=1.360, val_acc=0.436, val_cohen_kappa=0.127, train_loss_epoch=1.350]\n",
      "Validation: |          | 0/? [00:00<?, ?it/s]\u001b[A\n",
      "Validation:   0%|          | 0/14 [00:00<?, ?it/s]\u001b[A\n",
      "Validation DataLoader 0:   0%|          | 0/14 [00:00<?, ?it/s]\u001b[A\n",
      "Validation DataLoader 0:   7%|▋         | 1/14 [00:00<00:01, 10.94it/s]\u001b[A\n",
      "Validation DataLoader 0:  14%|█▍        | 2/14 [00:00<00:01, 11.24it/s]\u001b[A\n",
      "Validation DataLoader 0:  21%|██▏       | 3/14 [00:00<00:00, 12.56it/s]\u001b[A\n",
      "Validation DataLoader 0:  29%|██▊       | 4/14 [00:00<00:00, 14.04it/s]\u001b[A\n",
      "Validation DataLoader 0:  36%|███▌      | 5/14 [00:00<00:00, 14.60it/s]\u001b[A\n",
      "Validation DataLoader 0:  43%|████▎     | 6/14 [00:00<00:00, 11.05it/s]\u001b[A\n",
      "Validation DataLoader 0:  50%|█████     | 7/14 [00:00<00:00,  7.43it/s]\u001b[A\n",
      "Validation DataLoader 0:  57%|█████▋    | 8/14 [00:01<00:00,  7.35it/s]\u001b[A\n",
      "Validation DataLoader 0:  64%|██████▍   | 9/14 [00:01<00:00,  7.69it/s]\u001b[A\n",
      "Validation DataLoader 0:  71%|███████▏  | 10/14 [00:01<00:00,  6.72it/s]\u001b[A\n",
      "Validation DataLoader 0:  79%|███████▊  | 11/14 [00:01<00:00,  6.63it/s]\u001b[A\n",
      "Validation DataLoader 0:  86%|████████▌ | 12/14 [00:01<00:00,  6.55it/s]\u001b[A\n",
      "Validation DataLoader 0:  93%|█████████▎| 13/14 [00:01<00:00,  6.77it/s]\u001b[A\n",
      "Validation DataLoader 0: 100%|██████████| 14/14 [00:02<00:00,  6.80it/s]\u001b[A\n",
      "Epoch 2: 100%|██████████| 101/101 [00:25<00:00,  3.92it/s, v_num=mihc, train_loss_step=1.390, val_loss=1.430, val_acc=0.379, val_cohen_kappa=0.108, train_loss_epoch=1.320]\n",
      "Validation: |          | 0/? [00:00<?, ?it/s]\u001b[A\n",
      "Validation:   0%|          | 0/14 [00:00<?, ?it/s]\u001b[A\n",
      "Validation DataLoader 0:   0%|          | 0/14 [00:00<?, ?it/s]\u001b[A\n",
      "Validation DataLoader 0:   7%|▋         | 1/14 [00:00<00:01, 10.79it/s]\u001b[A\n",
      "Validation DataLoader 0:  14%|█▍        | 2/14 [00:00<00:01, 11.35it/s]\u001b[A\n",
      "Validation DataLoader 0:  21%|██▏       | 3/14 [00:00<00:00, 11.38it/s]\u001b[A\n",
      "Validation DataLoader 0:  29%|██▊       | 4/14 [00:00<00:00, 10.84it/s]\u001b[A\n",
      "Validation DataLoader 0:  36%|███▌      | 5/14 [00:00<00:00, 10.49it/s]\u001b[A\n",
      "Validation DataLoader 0:  43%|████▎     | 6/14 [00:00<00:00, 11.02it/s]\u001b[A\n",
      "Validation DataLoader 0:  50%|█████     | 7/14 [00:00<00:00, 10.81it/s]\u001b[A\n",
      "Validation DataLoader 0:  57%|█████▋    | 8/14 [00:00<00:00, 11.07it/s]\u001b[A\n",
      "Validation DataLoader 0:  64%|██████▍   | 9/14 [00:00<00:00, 10.79it/s]\u001b[A\n",
      "Validation DataLoader 0:  71%|███████▏  | 10/14 [00:00<00:00, 10.74it/s]\u001b[A\n",
      "Validation DataLoader 0:  79%|███████▊  | 11/14 [00:00<00:00, 11.04it/s]\u001b[A\n",
      "Validation DataLoader 0:  86%|████████▌ | 12/14 [00:01<00:00, 11.04it/s]\u001b[A\n",
      "Validation DataLoader 0:  93%|█████████▎| 13/14 [00:01<00:00, 11.35it/s]\u001b[A\n",
      "Validation DataLoader 0: 100%|██████████| 14/14 [00:01<00:00, 10.27it/s]\u001b[A\n",
      "Epoch 2: 100%|██████████| 101/101 [00:28<00:00,  3.60it/s, v_num=mihc, train_loss_step=1.390, val_loss=1.340, val_acc=0.588, val_cohen_kappa=0.210, train_loss_epoch=1.320]"
     ]
    },
    {
     "name": "stderr",
     "output_type": "stream",
     "text": [
      "Metric val_loss improved by 0.015 >= min_delta = 0.0. New best score: 1.344\n"
     ]
    },
    {
     "name": "stdout",
     "output_type": "stream",
     "text": [
      "Epoch 3: 100%|██████████| 101/101 [00:23<00:00,  4.32it/s, v_num=mihc, train_loss_step=1.330, val_loss=1.340, val_acc=0.588, val_cohen_kappa=0.210, train_loss_epoch=1.320]\n",
      "Validation: |          | 0/? [00:00<?, ?it/s]\u001b[A\n",
      "Validation:   0%|          | 0/14 [00:00<?, ?it/s]\u001b[A\n",
      "Validation DataLoader 0:   0%|          | 0/14 [00:00<?, ?it/s]\u001b[A\n",
      "Validation DataLoader 0:   7%|▋         | 1/14 [00:00<00:01,  7.70it/s]\u001b[A\n",
      "Validation DataLoader 0:  14%|█▍        | 2/14 [00:00<00:01,  8.67it/s]\u001b[A\n",
      "Validation DataLoader 0:  21%|██▏       | 3/14 [00:00<00:01, 10.91it/s]\u001b[A\n",
      "Validation DataLoader 0:  29%|██▊       | 4/14 [00:00<00:00, 12.49it/s]\u001b[A\n",
      "Validation DataLoader 0:  36%|███▌      | 5/14 [00:00<00:01,  8.78it/s]\u001b[A\n",
      "Validation DataLoader 0:  43%|████▎     | 6/14 [00:00<00:00,  8.12it/s]\u001b[A\n",
      "Validation DataLoader 0:  50%|█████     | 7/14 [00:00<00:00,  7.17it/s]\u001b[A\n",
      "Validation DataLoader 0:  57%|█████▋    | 8/14 [00:01<00:00,  7.59it/s]\u001b[A\n",
      "Validation DataLoader 0:  64%|██████▍   | 9/14 [00:01<00:00,  7.60it/s]\u001b[A\n",
      "Validation DataLoader 0:  71%|███████▏  | 10/14 [00:01<00:00,  7.53it/s]\u001b[A\n",
      "Validation DataLoader 0:  79%|███████▊  | 11/14 [00:01<00:00,  7.50it/s]\u001b[A\n",
      "Validation DataLoader 0:  86%|████████▌ | 12/14 [00:01<00:00,  7.45it/s]\u001b[A\n",
      "Validation DataLoader 0:  93%|█████████▎| 13/14 [00:01<00:00,  7.47it/s]\u001b[A\n",
      "Validation DataLoader 0: 100%|██████████| 14/14 [00:01<00:00,  7.44it/s]\u001b[A\n",
      "Epoch 4: 100%|██████████| 101/101 [00:24<00:00,  4.19it/s, v_num=mihc, train_loss_step=1.560, val_loss=1.370, val_acc=0.391, val_cohen_kappa=0.139, train_loss_epoch=1.300]\n",
      "Validation: |          | 0/? [00:00<?, ?it/s]\u001b[A\n",
      "Validation:   0%|          | 0/14 [00:00<?, ?it/s]\u001b[A\n",
      "Validation DataLoader 0:   0%|          | 0/14 [00:00<?, ?it/s]\u001b[A\n",
      "Validation DataLoader 0:   7%|▋         | 1/14 [00:00<00:02,  6.48it/s]\u001b[A\n",
      "Validation DataLoader 0:  14%|█▍        | 2/14 [00:00<00:01,  7.24it/s]\u001b[A\n",
      "Validation DataLoader 0:  21%|██▏       | 3/14 [00:00<00:01,  8.43it/s]\u001b[A\n",
      "Validation DataLoader 0:  29%|██▊       | 4/14 [00:00<00:01,  5.01it/s]\u001b[A\n",
      "Validation DataLoader 0:  36%|███▌      | 5/14 [00:00<00:01,  5.20it/s]\u001b[A\n",
      "Validation DataLoader 0:  43%|████▎     | 6/14 [00:01<00:01,  5.36it/s]\u001b[A\n",
      "Validation DataLoader 0:  50%|█████     | 7/14 [00:01<00:01,  5.87it/s]\u001b[A\n",
      "Validation DataLoader 0:  57%|█████▋    | 8/14 [00:01<00:00,  6.05it/s]\u001b[A\n",
      "Validation DataLoader 0:  64%|██████▍   | 9/14 [00:01<00:00,  5.77it/s]\u001b[A\n",
      "Validation DataLoader 0:  71%|███████▏  | 10/14 [00:01<00:00,  5.92it/s]\u001b[A\n",
      "Validation DataLoader 0:  79%|███████▊  | 11/14 [00:01<00:00,  6.31it/s]\u001b[A\n",
      "Validation DataLoader 0:  86%|████████▌ | 12/14 [00:01<00:00,  6.65it/s]\u001b[A\n",
      "Validation DataLoader 0:  93%|█████████▎| 13/14 [00:01<00:00,  6.94it/s]\u001b[A\n",
      "Validation DataLoader 0: 100%|██████████| 14/14 [00:01<00:00,  7.18it/s]\u001b[A\n",
      "Epoch 4: 100%|██████████| 101/101 [00:26<00:00,  3.76it/s, v_num=mihc, train_loss_step=1.560, val_loss=1.330, val_acc=0.300, val_cohen_kappa=0.0738, train_loss_epoch=1.280]"
     ]
    },
    {
     "name": "stderr",
     "output_type": "stream",
     "text": [
      "Metric val_loss improved by 0.016 >= min_delta = 0.0. New best score: 1.329\n"
     ]
    },
    {
     "name": "stdout",
     "output_type": "stream",
     "text": [
      "Epoch 5: 100%|██████████| 101/101 [00:23<00:00,  4.21it/s, v_num=mihc, train_loss_step=1.250, val_loss=1.330, val_acc=0.300, val_cohen_kappa=0.0738, train_loss_epoch=1.280]\n",
      "Validation: |          | 0/? [00:00<?, ?it/s]\u001b[A\n",
      "Validation:   0%|          | 0/14 [00:00<?, ?it/s]\u001b[A\n",
      "Validation DataLoader 0:   0%|          | 0/14 [00:00<?, ?it/s]\u001b[A\n",
      "Validation DataLoader 0:   7%|▋         | 1/14 [00:00<00:01,  6.92it/s]\u001b[A\n",
      "Validation DataLoader 0:  14%|█▍        | 2/14 [00:00<00:01,  7.19it/s]\u001b[A\n",
      "Validation DataLoader 0:  21%|██▏       | 3/14 [00:00<00:01,  7.05it/s]\u001b[A\n",
      "Validation DataLoader 0:  29%|██▊       | 4/14 [00:00<00:01,  7.01it/s]\u001b[A\n",
      "Validation DataLoader 0:  36%|███▌      | 5/14 [00:00<00:01,  6.93it/s]\u001b[A\n",
      "Validation DataLoader 0:  43%|████▎     | 6/14 [00:00<00:01,  6.89it/s]\u001b[A\n",
      "Validation DataLoader 0:  50%|█████     | 7/14 [00:01<00:01,  6.90it/s]\u001b[A\n",
      "Validation DataLoader 0:  57%|█████▋    | 8/14 [00:01<00:00,  6.86it/s]\u001b[A\n",
      "Validation DataLoader 0:  64%|██████▍   | 9/14 [00:01<00:00,  6.89it/s]\u001b[A\n",
      "Validation DataLoader 0:  71%|███████▏  | 10/14 [00:01<00:00,  7.09it/s]\u001b[A\n",
      "Validation DataLoader 0:  79%|███████▊  | 11/14 [00:01<00:00,  7.05it/s]\u001b[A\n",
      "Validation DataLoader 0:  86%|████████▌ | 12/14 [00:01<00:00,  6.75it/s]\u001b[A\n",
      "Validation DataLoader 0:  93%|█████████▎| 13/14 [00:01<00:00,  6.82it/s]\u001b[A\n",
      "Validation DataLoader 0: 100%|██████████| 14/14 [00:02<00:00,  6.39it/s]\u001b[A\n",
      "Epoch 5: 100%|██████████| 101/101 [00:27<00:00,  3.73it/s, v_num=mihc, train_loss_step=1.250, val_loss=1.290, val_acc=0.299, val_cohen_kappa=0.108, train_loss_epoch=1.270] "
     ]
    },
    {
     "name": "stderr",
     "output_type": "stream",
     "text": [
      "Metric val_loss improved by 0.043 >= min_delta = 0.0. New best score: 1.286\n"
     ]
    },
    {
     "name": "stdout",
     "output_type": "stream",
     "text": [
      "Epoch 6: 100%|██████████| 101/101 [00:24<00:00,  4.12it/s, v_num=mihc, train_loss_step=1.650, val_loss=1.290, val_acc=0.299, val_cohen_kappa=0.108, train_loss_epoch=1.270]\n",
      "Validation: |          | 0/? [00:00<?, ?it/s]\u001b[A\n",
      "Validation:   0%|          | 0/14 [00:00<?, ?it/s]\u001b[A\n",
      "Validation DataLoader 0:   0%|          | 0/14 [00:00<?, ?it/s]\u001b[A\n",
      "Validation DataLoader 0:   7%|▋         | 1/14 [00:00<00:03,  3.80it/s]\u001b[A\n",
      "Validation DataLoader 0:  14%|█▍        | 2/14 [00:00<00:03,  3.90it/s]\u001b[A\n",
      "Validation DataLoader 0:  21%|██▏       | 3/14 [00:00<00:02,  4.59it/s]\u001b[A\n",
      "Validation DataLoader 0:  29%|██▊       | 4/14 [00:00<00:01,  5.04it/s]\u001b[A\n",
      "Validation DataLoader 0:  36%|███▌      | 5/14 [00:00<00:01,  5.30it/s]\u001b[A\n",
      "Validation DataLoader 0:  43%|████▎     | 6/14 [00:01<00:01,  5.49it/s]\u001b[A\n",
      "Validation DataLoader 0:  50%|█████     | 7/14 [00:01<00:01,  5.86it/s]\u001b[A\n",
      "Validation DataLoader 0:  57%|█████▋    | 8/14 [00:01<00:01,  5.94it/s]\u001b[A\n",
      "Validation DataLoader 0:  64%|██████▍   | 9/14 [00:01<00:00,  6.03it/s]\u001b[A\n",
      "Validation DataLoader 0:  71%|███████▏  | 10/14 [00:01<00:00,  6.09it/s]\u001b[A\n",
      "Validation DataLoader 0:  79%|███████▊  | 11/14 [00:01<00:00,  6.16it/s]\u001b[A\n",
      "Validation DataLoader 0:  86%|████████▌ | 12/14 [00:01<00:00,  6.22it/s]\u001b[A\n",
      "Validation DataLoader 0:  93%|█████████▎| 13/14 [00:02<00:00,  6.31it/s]\u001b[A\n",
      "Validation DataLoader 0: 100%|██████████| 14/14 [00:02<00:00,  6.35it/s]\u001b[A\n",
      "Epoch 7: 100%|██████████| 101/101 [00:24<00:00,  4.09it/s, v_num=mihc, train_loss_step=1.120, val_loss=1.330, val_acc=0.309, val_cohen_kappa=0.0829, train_loss_epoch=1.290]\n",
      "Validation: |          | 0/? [00:00<?, ?it/s]\u001b[A\n",
      "Validation:   0%|          | 0/14 [00:00<?, ?it/s]\u001b[A\n",
      "Validation DataLoader 0:   0%|          | 0/14 [00:00<?, ?it/s]\u001b[A\n",
      "Validation DataLoader 0:   7%|▋         | 1/14 [00:00<00:01,  8.11it/s]\u001b[A\n",
      "Validation DataLoader 0:  14%|█▍        | 2/14 [00:00<00:01,  7.45it/s]\u001b[A\n",
      "Validation DataLoader 0:  21%|██▏       | 3/14 [00:00<00:01,  7.14it/s]\u001b[A\n",
      "Validation DataLoader 0:  29%|██▊       | 4/14 [00:00<00:01,  7.18it/s]\u001b[A\n",
      "Validation DataLoader 0:  36%|███▌      | 5/14 [00:00<00:01,  7.03it/s]\u001b[A\n",
      "Validation DataLoader 0:  43%|████▎     | 6/14 [00:00<00:01,  7.02it/s]\u001b[A\n",
      "Validation DataLoader 0:  50%|█████     | 7/14 [00:00<00:00,  7.01it/s]\u001b[A\n",
      "Validation DataLoader 0:  57%|█████▋    | 8/14 [00:01<00:00,  6.95it/s]\u001b[A\n",
      "Validation DataLoader 0:  64%|██████▍   | 9/14 [00:01<00:00,  6.95it/s]\u001b[A\n",
      "Validation DataLoader 0:  71%|███████▏  | 10/14 [00:01<00:00,  6.99it/s]\u001b[A\n",
      "Validation DataLoader 0:  79%|███████▊  | 11/14 [00:01<00:00,  6.99it/s]\u001b[A\n",
      "Validation DataLoader 0:  86%|████████▌ | 12/14 [00:01<00:00,  6.96it/s]\u001b[A\n",
      "Validation DataLoader 0:  93%|█████████▎| 13/14 [00:01<00:00,  6.97it/s]\u001b[A\n",
      "Validation DataLoader 0: 100%|██████████| 14/14 [00:01<00:00,  7.04it/s]\u001b[A\n",
      "Epoch 8: 100%|██████████| 101/101 [00:23<00:00,  4.21it/s, v_num=mihc, train_loss_step=1.290, val_loss=1.440, val_acc=0.388, val_cohen_kappa=0.125, train_loss_epoch=1.250] \n",
      "Validation: |          | 0/? [00:00<?, ?it/s]\u001b[A\n",
      "Validation:   0%|          | 0/14 [00:00<?, ?it/s]\u001b[A\n",
      "Validation DataLoader 0:   0%|          | 0/14 [00:00<?, ?it/s]\u001b[A\n",
      "Validation DataLoader 0:   7%|▋         | 1/14 [00:00<00:02,  5.58it/s]\u001b[A\n",
      "Validation DataLoader 0:  14%|█▍        | 2/14 [00:00<00:02,  5.99it/s]\u001b[A\n",
      "Validation DataLoader 0:  21%|██▏       | 3/14 [00:00<00:01,  6.21it/s]\u001b[A\n",
      "Validation DataLoader 0:  29%|██▊       | 4/14 [00:00<00:01,  6.42it/s]\u001b[A\n",
      "Validation DataLoader 0:  36%|███▌      | 5/14 [00:00<00:01,  6.49it/s]\u001b[A\n",
      "Validation DataLoader 0:  43%|████▎     | 6/14 [00:00<00:01,  6.63it/s]\u001b[A\n",
      "Validation DataLoader 0:  50%|█████     | 7/14 [00:01<00:01,  6.68it/s]\u001b[A\n",
      "Validation DataLoader 0:  57%|█████▋    | 8/14 [00:01<00:00,  6.68it/s]\u001b[A\n",
      "Validation DataLoader 0:  64%|██████▍   | 9/14 [00:01<00:00,  6.78it/s]\u001b[A\n",
      "Validation DataLoader 0:  71%|███████▏  | 10/14 [00:01<00:00,  6.82it/s]\u001b[A\n",
      "Validation DataLoader 0:  79%|███████▊  | 11/14 [00:01<00:00,  6.80it/s]\u001b[A\n",
      "Validation DataLoader 0:  86%|████████▌ | 12/14 [00:01<00:00,  6.79it/s]\u001b[A\n",
      "Validation DataLoader 0:  93%|█████████▎| 13/14 [00:01<00:00,  6.81it/s]\u001b[A\n",
      "Validation DataLoader 0: 100%|██████████| 14/14 [00:02<00:00,  6.80it/s]\u001b[A\n",
      "Epoch 8: 100%|██████████| 101/101 [00:26<00:00,  3.79it/s, v_num=mihc, train_loss_step=1.290, val_loss=1.280, val_acc=0.375, val_cohen_kappa=0.146, train_loss_epoch=1.240]"
     ]
    },
    {
     "name": "stderr",
     "output_type": "stream",
     "text": [
      "Metric val_loss improved by 0.009 >= min_delta = 0.0. New best score: 1.277\n"
     ]
    },
    {
     "name": "stdout",
     "output_type": "stream",
     "text": [
      "Epoch 9: 100%|██████████| 101/101 [00:23<00:00,  4.34it/s, v_num=mihc, train_loss_step=1.110, val_loss=1.280, val_acc=0.375, val_cohen_kappa=0.146, train_loss_epoch=1.240]\n",
      "Validation: |          | 0/? [00:00<?, ?it/s]\u001b[A\n",
      "Validation:   0%|          | 0/14 [00:00<?, ?it/s]\u001b[A\n",
      "Validation DataLoader 0:   0%|          | 0/14 [00:00<?, ?it/s]\u001b[A\n",
      "Validation DataLoader 0:   7%|▋         | 1/14 [00:00<00:01,  6.69it/s]\u001b[A\n",
      "Validation DataLoader 0:  14%|█▍        | 2/14 [00:00<00:01,  7.15it/s]\u001b[A\n",
      "Validation DataLoader 0:  21%|██▏       | 3/14 [00:00<00:01,  6.24it/s]\u001b[A\n",
      "Validation DataLoader 0:  29%|██▊       | 4/14 [00:00<00:01,  7.35it/s]\u001b[A\n",
      "Validation DataLoader 0:  36%|███▌      | 5/14 [00:00<00:01,  8.52it/s]\u001b[A\n",
      "Validation DataLoader 0:  43%|████▎     | 6/14 [00:00<00:01,  7.18it/s]\u001b[A\n",
      "Validation DataLoader 0:  50%|█████     | 7/14 [00:00<00:00,  7.36it/s]\u001b[A\n",
      "Validation DataLoader 0:  57%|█████▋    | 8/14 [00:01<00:00,  7.70it/s]\u001b[A\n",
      "Validation DataLoader 0:  64%|██████▍   | 9/14 [00:01<00:00,  7.74it/s]\u001b[A\n",
      "Validation DataLoader 0:  71%|███████▏  | 10/14 [00:01<00:00,  7.84it/s]\u001b[A\n",
      "Validation DataLoader 0:  79%|███████▊  | 11/14 [00:01<00:00,  7.93it/s]\u001b[A\n",
      "Validation DataLoader 0:  86%|████████▌ | 12/14 [00:01<00:00,  7.94it/s]\u001b[A\n",
      "Validation DataLoader 0:  93%|█████████▎| 13/14 [00:01<00:00,  7.96it/s]\u001b[A\n",
      "Validation DataLoader 0: 100%|██████████| 14/14 [00:01<00:00,  8.02it/s]\u001b[A\n",
      "Epoch 10: 100%|██████████| 101/101 [00:24<00:00,  4.19it/s, v_num=mihc, train_loss_step=1.320, val_loss=1.280, val_acc=0.342, val_cohen_kappa=0.133, train_loss_epoch=1.230]\n",
      "Validation: |          | 0/? [00:00<?, ?it/s]\u001b[A\n",
      "Validation:   0%|          | 0/14 [00:00<?, ?it/s]\u001b[A\n",
      "Validation DataLoader 0:   0%|          | 0/14 [00:00<?, ?it/s]\u001b[A\n",
      "Validation DataLoader 0:   7%|▋         | 1/14 [00:00<00:01, 12.76it/s]\u001b[A\n",
      "Validation DataLoader 0:  14%|█▍        | 2/14 [00:00<00:01,  7.78it/s]\u001b[A\n",
      "Validation DataLoader 0:  21%|██▏       | 3/14 [00:00<00:02,  4.75it/s]\u001b[A\n",
      "Validation DataLoader 0:  29%|██▊       | 4/14 [00:00<00:02,  4.99it/s]\u001b[A\n",
      "Validation DataLoader 0:  36%|███▌      | 5/14 [00:00<00:01,  5.41it/s]\u001b[A\n",
      "Validation DataLoader 0:  43%|████▎     | 6/14 [00:01<00:01,  5.75it/s]\u001b[A\n",
      "Validation DataLoader 0:  50%|█████     | 7/14 [00:01<00:01,  6.02it/s]\u001b[A\n",
      "Validation DataLoader 0:  57%|█████▋    | 8/14 [00:01<00:00,  6.17it/s]\u001b[A\n",
      "Validation DataLoader 0:  64%|██████▍   | 9/14 [00:01<00:00,  6.36it/s]\u001b[A\n",
      "Validation DataLoader 0:  71%|███████▏  | 10/14 [00:01<00:00,  6.62it/s]\u001b[A\n",
      "Validation DataLoader 0:  79%|███████▊  | 11/14 [00:01<00:00,  6.73it/s]\u001b[A\n",
      "Validation DataLoader 0:  86%|████████▌ | 12/14 [00:01<00:00,  6.87it/s]\u001b[A\n",
      "Validation DataLoader 0:  93%|█████████▎| 13/14 [00:01<00:00,  6.84it/s]\u001b[A\n",
      "Validation DataLoader 0: 100%|██████████| 14/14 [00:02<00:00,  6.79it/s]\u001b[A\n",
      "Epoch 11: 100%|██████████| 101/101 [00:25<00:00,  4.03it/s, v_num=mihc, train_loss_step=1.130, val_loss=1.350, val_acc=0.265, val_cohen_kappa=0.0819, train_loss_epoch=1.220]\n",
      "Validation: |          | 0/? [00:00<?, ?it/s]\u001b[A\n",
      "Validation:   0%|          | 0/14 [00:00<?, ?it/s]\u001b[A\n",
      "Validation DataLoader 0:   0%|          | 0/14 [00:00<?, ?it/s]\u001b[A\n",
      "Validation DataLoader 0:   7%|▋         | 1/14 [00:00<00:01,  7.96it/s]\u001b[A\n",
      "Validation DataLoader 0:  14%|█▍        | 2/14 [00:00<00:01,  7.16it/s]\u001b[A\n",
      "Validation DataLoader 0:  21%|██▏       | 3/14 [00:00<00:01,  6.91it/s]\u001b[A\n",
      "Validation DataLoader 0:  29%|██▊       | 4/14 [00:00<00:01,  6.87it/s]\u001b[A\n",
      "Validation DataLoader 0:  36%|███▌      | 5/14 [00:00<00:01,  6.94it/s]\u001b[A\n",
      "Validation DataLoader 0:  43%|████▎     | 6/14 [00:00<00:01,  6.91it/s]\u001b[A\n",
      "Validation DataLoader 0:  50%|█████     | 7/14 [00:00<00:00,  7.01it/s]\u001b[A\n",
      "Validation DataLoader 0:  57%|█████▋    | 8/14 [00:01<00:00,  7.01it/s]\u001b[A\n",
      "Validation DataLoader 0:  64%|██████▍   | 9/14 [00:01<00:00,  7.02it/s]\u001b[A\n",
      "Validation DataLoader 0:  71%|███████▏  | 10/14 [00:01<00:00,  7.05it/s]\u001b[A\n",
      "Validation DataLoader 0:  79%|███████▊  | 11/14 [00:01<00:00,  7.06it/s]\u001b[A\n",
      "Validation DataLoader 0:  86%|████████▌ | 12/14 [00:01<00:00,  7.04it/s]\u001b[A\n",
      "Validation DataLoader 0:  93%|█████████▎| 13/14 [00:01<00:00,  7.05it/s]\u001b[A\n",
      "Validation DataLoader 0: 100%|██████████| 14/14 [00:01<00:00,  7.02it/s]\u001b[A\n",
      "Epoch 12: 100%|██████████| 101/101 [00:24<00:00,  4.13it/s, v_num=mihc, train_loss_step=0.981, val_loss=1.420, val_acc=0.357, val_cohen_kappa=0.112, train_loss_epoch=1.220] \n",
      "Validation: |          | 0/? [00:00<?, ?it/s]\u001b[A\n",
      "Validation:   0%|          | 0/14 [00:00<?, ?it/s]\u001b[A\n",
      "Validation DataLoader 0:   0%|          | 0/14 [00:00<?, ?it/s]\u001b[A\n",
      "Validation DataLoader 0:   7%|▋         | 1/14 [00:00<00:01,  6.70it/s]\u001b[A\n",
      "Validation DataLoader 0:  14%|█▍        | 2/14 [00:00<00:01,  6.56it/s]\u001b[A\n",
      "Validation DataLoader 0:  21%|██▏       | 3/14 [00:00<00:01,  6.41it/s]\u001b[A\n",
      "Validation DataLoader 0:  29%|██▊       | 4/14 [00:00<00:01,  6.51it/s]\u001b[A\n",
      "Validation DataLoader 0:  36%|███▌      | 5/14 [00:00<00:01,  6.71it/s]\u001b[A\n",
      "Validation DataLoader 0:  43%|████▎     | 6/14 [00:00<00:01,  7.26it/s]\u001b[A\n",
      "Validation DataLoader 0:  50%|█████     | 7/14 [00:00<00:00,  8.09it/s]\u001b[A\n",
      "Validation DataLoader 0:  57%|█████▋    | 8/14 [00:01<00:00,  6.72it/s]\u001b[A\n",
      "Validation DataLoader 0:  64%|██████▍   | 9/14 [00:01<00:00,  6.91it/s]\u001b[A\n",
      "Validation DataLoader 0:  71%|███████▏  | 10/14 [00:01<00:00,  6.91it/s]\u001b[A\n",
      "Validation DataLoader 0:  79%|███████▊  | 11/14 [00:01<00:00,  6.63it/s]\u001b[A\n",
      "Validation DataLoader 0:  86%|████████▌ | 12/14 [00:01<00:00,  6.79it/s]\u001b[A\n",
      "Validation DataLoader 0:  93%|█████████▎| 13/14 [00:01<00:00,  6.87it/s]\u001b[A\n",
      "Validation DataLoader 0: 100%|██████████| 14/14 [00:02<00:00,  6.95it/s]\u001b[A\n",
      "Epoch 12: 100%|██████████| 101/101 [00:27<00:00,  3.70it/s, v_num=mihc, train_loss_step=0.981, val_loss=1.250, val_acc=0.417, val_cohen_kappa=0.160, train_loss_epoch=1.230]"
     ]
    },
    {
     "name": "stderr",
     "output_type": "stream",
     "text": [
      "Metric val_loss improved by 0.027 >= min_delta = 0.0. New best score: 1.250\n"
     ]
    },
    {
     "name": "stdout",
     "output_type": "stream",
     "text": [
      "Epoch 13: 100%|██████████| 101/101 [00:23<00:00,  4.27it/s, v_num=mihc, train_loss_step=1.190, val_loss=1.250, val_acc=0.417, val_cohen_kappa=0.160, train_loss_epoch=1.230]\n",
      "Validation: |          | 0/? [00:00<?, ?it/s]\u001b[A\n",
      "Validation:   0%|          | 0/14 [00:00<?, ?it/s]\u001b[A\n",
      "Validation DataLoader 0:   0%|          | 0/14 [00:00<?, ?it/s]\u001b[A\n",
      "Validation DataLoader 0:   7%|▋         | 1/14 [00:00<00:02,  4.81it/s]\u001b[A\n",
      "Validation DataLoader 0:  14%|█▍        | 2/14 [00:00<00:02,  5.38it/s]\u001b[A\n",
      "Validation DataLoader 0:  21%|██▏       | 3/14 [00:00<00:01,  6.35it/s]\u001b[A\n",
      "Validation DataLoader 0:  29%|██▊       | 4/14 [00:00<00:02,  4.81it/s]\u001b[A\n",
      "Validation DataLoader 0:  36%|███▌      | 5/14 [00:00<00:01,  5.08it/s]\u001b[A\n",
      "Validation DataLoader 0:  43%|████▎     | 6/14 [00:01<00:01,  5.42it/s]\u001b[A\n",
      "Validation DataLoader 0:  50%|█████     | 7/14 [00:01<00:01,  5.63it/s]\u001b[A\n",
      "Validation DataLoader 0:  57%|█████▋    | 8/14 [00:01<00:01,  5.76it/s]\u001b[A\n",
      "Validation DataLoader 0:  64%|██████▍   | 9/14 [00:01<00:00,  5.91it/s]\u001b[A\n",
      "Validation DataLoader 0:  71%|███████▏  | 10/14 [00:01<00:00,  6.02it/s]\u001b[A\n",
      "Validation DataLoader 0:  79%|███████▊  | 11/14 [00:01<00:00,  6.08it/s]\u001b[A\n",
      "Validation DataLoader 0:  86%|████████▌ | 12/14 [00:01<00:00,  6.22it/s]\u001b[A\n",
      "Validation DataLoader 0:  93%|█████████▎| 13/14 [00:02<00:00,  6.27it/s]\u001b[A\n",
      "Validation DataLoader 0: 100%|██████████| 14/14 [00:02<00:00,  6.31it/s]\u001b[A\n",
      "Epoch 14: 100%|██████████| 101/101 [00:24<00:00,  4.18it/s, v_num=mihc, train_loss_step=1.630, val_loss=1.270, val_acc=0.339, val_cohen_kappa=0.140, train_loss_epoch=1.210]\n",
      "Validation: |          | 0/? [00:00<?, ?it/s]\u001b[A\n",
      "Validation:   0%|          | 0/14 [00:00<?, ?it/s]\u001b[A\n",
      "Validation DataLoader 0:   0%|          | 0/14 [00:00<?, ?it/s]\u001b[A\n",
      "Validation DataLoader 0:   7%|▋         | 1/14 [00:00<00:01,  8.34it/s]\u001b[A\n",
      "Validation DataLoader 0:  14%|█▍        | 2/14 [00:00<00:01,  8.31it/s]\u001b[A\n",
      "Validation DataLoader 0:  21%|██▏       | 3/14 [00:00<00:01,  8.14it/s]\u001b[A\n",
      "Validation DataLoader 0:  29%|██▊       | 4/14 [00:00<00:01,  8.05it/s]\u001b[A\n",
      "Validation DataLoader 0:  36%|███▌      | 5/14 [00:00<00:01,  8.17it/s]\u001b[A\n",
      "Validation DataLoader 0:  43%|████▎     | 6/14 [00:00<00:00,  8.26it/s]\u001b[A\n",
      "Validation DataLoader 0:  50%|█████     | 7/14 [00:00<00:00,  8.39it/s]\u001b[A\n",
      "Validation DataLoader 0:  57%|█████▋    | 8/14 [00:00<00:00,  8.74it/s]\u001b[A\n",
      "Validation DataLoader 0:  64%|██████▍   | 9/14 [00:01<00:00,  8.83it/s]\u001b[A\n",
      "Validation DataLoader 0:  71%|███████▏  | 10/14 [00:01<00:00,  9.11it/s]\u001b[A\n",
      "Validation DataLoader 0:  79%|███████▊  | 11/14 [00:01<00:00,  9.20it/s]\u001b[A\n",
      "Validation DataLoader 0:  86%|████████▌ | 12/14 [00:01<00:00,  9.42it/s]\u001b[A\n",
      "Validation DataLoader 0:  93%|█████████▎| 13/14 [00:01<00:00,  9.80it/s]\u001b[A\n",
      "Validation DataLoader 0: 100%|██████████| 14/14 [00:01<00:00, 10.12it/s]\u001b[A\n",
      "Epoch 15: 100%|██████████| 101/101 [00:24<00:00,  4.20it/s, v_num=mihc, train_loss_step=1.110, val_loss=1.310, val_acc=0.315, val_cohen_kappa=0.143, train_loss_epoch=1.170]\n",
      "Validation: |          | 0/? [00:00<?, ?it/s]\u001b[A\n",
      "Validation:   0%|          | 0/14 [00:00<?, ?it/s]\u001b[A\n",
      "Validation DataLoader 0:   0%|          | 0/14 [00:00<?, ?it/s]\u001b[A\n",
      "Validation DataLoader 0:   7%|▋         | 1/14 [00:00<00:03,  3.32it/s]\u001b[A\n",
      "Validation DataLoader 0:  14%|█▍        | 2/14 [00:00<00:02,  4.75it/s]\u001b[A\n",
      "Validation DataLoader 0:  21%|██▏       | 3/14 [00:00<00:01,  5.68it/s]\u001b[A\n",
      "Validation DataLoader 0:  29%|██▊       | 4/14 [00:00<00:01,  6.13it/s]\u001b[A\n",
      "Validation DataLoader 0:  36%|███▌      | 5/14 [00:00<00:01,  6.35it/s]\u001b[A\n",
      "Validation DataLoader 0:  43%|████▎     | 6/14 [00:00<00:01,  6.65it/s]\u001b[A\n",
      "Validation DataLoader 0:  50%|█████     | 7/14 [00:01<00:01,  6.92it/s]\u001b[A\n",
      "Validation DataLoader 0:  57%|█████▋    | 8/14 [00:01<00:00,  7.21it/s]\u001b[A\n",
      "Validation DataLoader 0:  64%|██████▍   | 9/14 [00:01<00:00,  7.60it/s]\u001b[A\n",
      "Validation DataLoader 0:  71%|███████▏  | 10/14 [00:01<00:00,  7.94it/s]\u001b[A\n",
      "Validation DataLoader 0:  79%|███████▊  | 11/14 [00:01<00:00,  8.08it/s]\u001b[A\n",
      "Validation DataLoader 0:  86%|████████▌ | 12/14 [00:01<00:00,  8.22it/s]\u001b[A\n",
      "Validation DataLoader 0:  93%|█████████▎| 13/14 [00:01<00:00,  8.46it/s]\u001b[A\n",
      "Validation DataLoader 0: 100%|██████████| 14/14 [00:01<00:00,  8.56it/s]\u001b[A\n",
      "Epoch 16: 100%|██████████| 101/101 [00:24<00:00,  4.07it/s, v_num=mihc, train_loss_step=1.020, val_loss=1.290, val_acc=0.401, val_cohen_kappa=0.147, train_loss_epoch=1.170]\n",
      "Validation: |          | 0/? [00:00<?, ?it/s]\u001b[A\n",
      "Validation:   0%|          | 0/14 [00:00<?, ?it/s]\u001b[A\n",
      "Validation DataLoader 0:   0%|          | 0/14 [00:00<?, ?it/s]\u001b[A\n",
      "Validation DataLoader 0:   7%|▋         | 1/14 [00:00<00:02,  5.01it/s]\u001b[A\n",
      "Validation DataLoader 0:  14%|█▍        | 2/14 [00:00<00:01,  6.13it/s]\u001b[A\n",
      "Validation DataLoader 0:  21%|██▏       | 3/14 [00:00<00:01,  6.60it/s]\u001b[A\n",
      "Validation DataLoader 0:  29%|██▊       | 4/14 [00:00<00:01,  6.76it/s]\u001b[A\n",
      "Validation DataLoader 0:  36%|███▌      | 5/14 [00:00<00:01,  6.88it/s]\u001b[A\n",
      "Validation DataLoader 0:  43%|████▎     | 6/14 [00:00<00:01,  7.30it/s]\u001b[A\n",
      "Validation DataLoader 0:  50%|█████     | 7/14 [00:00<00:00,  7.34it/s]\u001b[A\n",
      "Validation DataLoader 0:  57%|█████▋    | 8/14 [00:01<00:00,  7.45it/s]\u001b[A\n",
      "Validation DataLoader 0:  64%|██████▍   | 9/14 [00:01<00:00,  7.60it/s]\u001b[A\n",
      "Validation DataLoader 0:  71%|███████▏  | 10/14 [00:01<00:00,  7.65it/s]\u001b[A\n",
      "Validation DataLoader 0:  79%|███████▊  | 11/14 [00:01<00:00,  7.80it/s]\u001b[A\n",
      "Validation DataLoader 0:  86%|████████▌ | 12/14 [00:01<00:00,  7.51it/s]\u001b[A\n",
      "Validation DataLoader 0:  93%|█████████▎| 13/14 [00:01<00:00,  7.07it/s]\u001b[A\n",
      "Validation DataLoader 0: 100%|██████████| 14/14 [00:01<00:00,  7.46it/s]\u001b[A\n",
      "Epoch 16: 100%|██████████| 101/101 [00:27<00:00,  3.67it/s, v_num=mihc, train_loss_step=1.020, val_loss=1.230, val_acc=0.450, val_cohen_kappa=0.205, train_loss_epoch=1.140]"
     ]
    },
    {
     "name": "stderr",
     "output_type": "stream",
     "text": [
      "Metric val_loss improved by 0.016 >= min_delta = 0.0. New best score: 1.234\n"
     ]
    },
    {
     "name": "stdout",
     "output_type": "stream",
     "text": [
      "Epoch 17: 100%|██████████| 101/101 [00:24<00:00,  4.20it/s, v_num=mihc, train_loss_step=1.630, val_loss=1.230, val_acc=0.450, val_cohen_kappa=0.205, train_loss_epoch=1.140]\n",
      "Validation: |          | 0/? [00:00<?, ?it/s]\u001b[A\n",
      "Validation:   0%|          | 0/14 [00:00<?, ?it/s]\u001b[A\n",
      "Validation DataLoader 0:   0%|          | 0/14 [00:00<?, ?it/s]\u001b[A\n",
      "Validation DataLoader 0:   7%|▋         | 1/14 [00:00<00:01,  7.11it/s]\u001b[A\n",
      "Validation DataLoader 0:  14%|█▍        | 2/14 [00:00<00:01,  6.89it/s]\u001b[A\n",
      "Validation DataLoader 0:  21%|██▏       | 3/14 [00:00<00:01,  6.73it/s]\u001b[A\n",
      "Validation DataLoader 0:  29%|██▊       | 4/14 [00:00<00:01,  6.73it/s]\u001b[A\n",
      "Validation DataLoader 0:  36%|███▌      | 5/14 [00:00<00:01,  6.87it/s]\u001b[A\n",
      "Validation DataLoader 0:  43%|████▎     | 6/14 [00:00<00:01,  7.51it/s]\u001b[A\n",
      "Validation DataLoader 0:  50%|█████     | 7/14 [00:00<00:00,  8.08it/s]\u001b[A\n",
      "Validation DataLoader 0:  57%|█████▋    | 8/14 [00:01<00:00,  7.60it/s]\u001b[A\n",
      "Validation DataLoader 0:  64%|██████▍   | 9/14 [00:01<00:00,  8.03it/s]\u001b[A\n",
      "Validation DataLoader 0:  71%|███████▏  | 10/14 [00:01<00:00,  8.57it/s]\u001b[A\n",
      "Validation DataLoader 0:  79%|███████▊  | 11/14 [00:01<00:00,  8.70it/s]\u001b[A\n",
      "Validation DataLoader 0:  86%|████████▌ | 12/14 [00:01<00:00,  8.97it/s]\u001b[A\n",
      "Validation DataLoader 0:  93%|█████████▎| 13/14 [00:01<00:00,  8.93it/s]\u001b[A\n",
      "Validation DataLoader 0: 100%|██████████| 14/14 [00:01<00:00,  8.77it/s]\u001b[A\n",
      "Epoch 17: 100%|██████████| 101/101 [00:26<00:00,  3.83it/s, v_num=mihc, train_loss_step=1.630, val_loss=1.190, val_acc=0.417, val_cohen_kappa=0.208, train_loss_epoch=1.140]"
     ]
    },
    {
     "name": "stderr",
     "output_type": "stream",
     "text": [
      "Metric val_loss improved by 0.044 >= min_delta = 0.0. New best score: 1.190\n"
     ]
    },
    {
     "name": "stdout",
     "output_type": "stream",
     "text": [
      "Epoch 18: 100%|██████████| 101/101 [00:23<00:00,  4.38it/s, v_num=mihc, train_loss_step=1.230, val_loss=1.190, val_acc=0.417, val_cohen_kappa=0.208, train_loss_epoch=1.140]\n",
      "Validation: |          | 0/? [00:00<?, ?it/s]\u001b[A\n",
      "Validation:   0%|          | 0/14 [00:00<?, ?it/s]\u001b[A\n",
      "Validation DataLoader 0:   0%|          | 0/14 [00:00<?, ?it/s]\u001b[A\n",
      "Validation DataLoader 0:   7%|▋         | 1/14 [00:00<00:01, 10.59it/s]\u001b[A\n",
      "Validation DataLoader 0:  14%|█▍        | 2/14 [00:00<00:01, 10.00it/s]\u001b[A\n",
      "Validation DataLoader 0:  21%|██▏       | 3/14 [00:00<00:01,  9.33it/s]\u001b[A\n",
      "Validation DataLoader 0:  29%|██▊       | 4/14 [00:00<00:01,  9.20it/s]\u001b[A\n",
      "Validation DataLoader 0:  36%|███▌      | 5/14 [00:00<00:00,  9.08it/s]\u001b[A\n",
      "Validation DataLoader 0:  43%|████▎     | 6/14 [00:00<00:00,  8.93it/s]\u001b[A\n",
      "Validation DataLoader 0:  50%|█████     | 7/14 [00:00<00:00,  8.89it/s]\u001b[A\n",
      "Validation DataLoader 0:  57%|█████▋    | 8/14 [00:00<00:00,  8.88it/s]\u001b[A\n",
      "Validation DataLoader 0:  64%|██████▍   | 9/14 [00:01<00:00,  8.84it/s]\u001b[A\n",
      "Validation DataLoader 0:  71%|███████▏  | 10/14 [00:01<00:00,  8.81it/s]\u001b[A\n",
      "Validation DataLoader 0:  79%|███████▊  | 11/14 [00:01<00:00,  8.79it/s]\u001b[A\n",
      "Validation DataLoader 0:  86%|████████▌ | 12/14 [00:01<00:00,  9.06it/s]\u001b[A\n",
      "Validation DataLoader 0:  93%|█████████▎| 13/14 [00:01<00:00,  9.05it/s]\u001b[A\n",
      "Validation DataLoader 0: 100%|██████████| 14/14 [00:01<00:00,  9.03it/s]\u001b[A\n",
      "Epoch 19: 100%|██████████| 101/101 [00:18<00:00,  5.38it/s, v_num=mihc, train_loss_step=1.020, val_loss=1.250, val_acc=0.416, val_cohen_kappa=0.204, train_loss_epoch=1.100]\n",
      "Validation: |          | 0/? [00:00<?, ?it/s]\u001b[A\n",
      "Validation:   0%|          | 0/14 [00:00<?, ?it/s]\u001b[A\n",
      "Validation DataLoader 0:   0%|          | 0/14 [00:00<?, ?it/s]\u001b[A\n",
      "Validation DataLoader 0:   7%|▋         | 1/14 [00:00<00:01, 11.49it/s]\u001b[A\n",
      "Validation DataLoader 0:  14%|█▍        | 2/14 [00:00<00:01,  9.45it/s]\u001b[A\n",
      "Validation DataLoader 0:  21%|██▏       | 3/14 [00:00<00:01,  9.24it/s]\u001b[A\n",
      "Validation DataLoader 0:  29%|██▊       | 4/14 [00:00<00:01,  9.00it/s]\u001b[A\n",
      "Validation DataLoader 0:  36%|███▌      | 5/14 [00:00<00:00,  9.05it/s]\u001b[A\n",
      "Validation DataLoader 0:  43%|████▎     | 6/14 [00:00<00:00,  9.37it/s]\u001b[A\n",
      "Validation DataLoader 0:  50%|█████     | 7/14 [00:00<00:00,  9.44it/s]\u001b[A\n",
      "Validation DataLoader 0:  57%|█████▋    | 8/14 [00:00<00:00,  9.32it/s]\u001b[A\n",
      "Validation DataLoader 0:  64%|██████▍   | 9/14 [00:00<00:00,  9.22it/s]\u001b[A\n",
      "Validation DataLoader 0:  71%|███████▏  | 10/14 [00:01<00:00,  9.42it/s]\u001b[A\n",
      "Validation DataLoader 0:  79%|███████▊  | 11/14 [00:01<00:00,  9.37it/s]\u001b[A\n",
      "Validation DataLoader 0:  86%|████████▌ | 12/14 [00:01<00:00,  9.37it/s]\u001b[A\n",
      "Validation DataLoader 0:  93%|█████████▎| 13/14 [00:01<00:00,  9.40it/s]\u001b[A\n",
      "Validation DataLoader 0: 100%|██████████| 14/14 [00:01<00:00,  9.35it/s]\u001b[A\n",
      "Epoch 20: 100%|██████████| 101/101 [00:19<00:00,  5.14it/s, v_num=mihc, train_loss_step=1.110, val_loss=1.240, val_acc=0.438, val_cohen_kappa=0.201, train_loss_epoch=1.130]\n",
      "Validation: |          | 0/? [00:00<?, ?it/s]\u001b[A\n",
      "Validation:   0%|          | 0/14 [00:00<?, ?it/s]\u001b[A\n",
      "Validation DataLoader 0:   0%|          | 0/14 [00:00<?, ?it/s]\u001b[A\n",
      "Validation DataLoader 0:   7%|▋         | 1/14 [00:00<00:01,  9.18it/s]\u001b[A\n",
      "Validation DataLoader 0:  14%|█▍        | 2/14 [00:00<00:01,  8.98it/s]\u001b[A\n",
      "Validation DataLoader 0:  21%|██▏       | 3/14 [00:00<00:01,  8.71it/s]\u001b[A\n",
      "Validation DataLoader 0:  29%|██▊       | 4/14 [00:00<00:01,  9.20it/s]\u001b[A\n",
      "Validation DataLoader 0:  36%|███▌      | 5/14 [00:00<00:00, 10.21it/s]\u001b[A\n",
      "Validation DataLoader 0:  43%|████▎     | 6/14 [00:00<00:00, 10.61it/s]\u001b[A\n",
      "Validation DataLoader 0:  50%|█████     | 7/14 [00:00<00:00, 10.97it/s]\u001b[A\n",
      "Validation DataLoader 0:  57%|█████▋    | 8/14 [00:00<00:00, 11.59it/s]\u001b[A\n",
      "Validation DataLoader 0:  64%|██████▍   | 9/14 [00:00<00:00,  9.83it/s]\u001b[A\n",
      "Validation DataLoader 0:  71%|███████▏  | 10/14 [00:01<00:00,  9.58it/s]\u001b[A\n",
      "Validation DataLoader 0:  79%|███████▊  | 11/14 [00:01<00:00,  9.70it/s]\u001b[A\n",
      "Validation DataLoader 0:  86%|████████▌ | 12/14 [00:01<00:00,  9.84it/s]\u001b[A\n",
      "Validation DataLoader 0:  93%|█████████▎| 13/14 [00:01<00:00, 10.05it/s]\u001b[A\n",
      "Validation DataLoader 0: 100%|██████████| 14/14 [00:01<00:00, 10.20it/s]\u001b[A\n",
      "Epoch 21: 100%|██████████| 101/101 [00:19<00:00,  5.13it/s, v_num=mihc, train_loss_step=0.904, val_loss=1.260, val_acc=0.432, val_cohen_kappa=0.206, train_loss_epoch=1.090]\n",
      "Validation: |          | 0/? [00:00<?, ?it/s]\u001b[A\n",
      "Validation:   0%|          | 0/14 [00:00<?, ?it/s]\u001b[A\n",
      "Validation DataLoader 0:   0%|          | 0/14 [00:00<?, ?it/s]\u001b[A\n",
      "Validation DataLoader 0:   7%|▋         | 1/14 [00:00<00:01, 11.62it/s]\u001b[A\n",
      "Validation DataLoader 0:  14%|█▍        | 2/14 [00:00<00:01,  9.92it/s]\u001b[A\n",
      "Validation DataLoader 0:  21%|██▏       | 3/14 [00:00<00:01,  9.42it/s]\u001b[A\n",
      "Validation DataLoader 0:  29%|██▊       | 4/14 [00:00<00:01,  9.19it/s]\u001b[A\n",
      "Validation DataLoader 0:  36%|███▌      | 5/14 [00:00<00:00,  9.11it/s]\u001b[A\n",
      "Validation DataLoader 0:  43%|████▎     | 6/14 [00:00<00:00,  9.05it/s]\u001b[A\n",
      "Validation DataLoader 0:  50%|█████     | 7/14 [00:00<00:00,  8.97it/s]\u001b[A\n",
      "Validation DataLoader 0:  57%|█████▋    | 8/14 [00:00<00:00,  8.92it/s]\u001b[A\n",
      "Validation DataLoader 0:  64%|██████▍   | 9/14 [00:00<00:00,  9.29it/s]\u001b[A\n",
      "Validation DataLoader 0:  71%|███████▏  | 10/14 [00:01<00:00,  9.25it/s]\u001b[A\n",
      "Validation DataLoader 0:  79%|███████▊  | 11/14 [00:01<00:00,  9.25it/s]\u001b[A\n",
      "Validation DataLoader 0:  86%|████████▌ | 12/14 [00:01<00:00,  9.20it/s]\u001b[A\n",
      "Validation DataLoader 0:  93%|█████████▎| 13/14 [00:01<00:00,  9.12it/s]\u001b[A\n",
      "Validation DataLoader 0: 100%|██████████| 14/14 [00:01<00:00,  9.06it/s]\u001b[A\n",
      "Epoch 21: 100%|██████████| 101/101 [00:22<00:00,  4.51it/s, v_num=mihc, train_loss_step=0.904, val_loss=1.220, val_acc=0.382, val_cohen_kappa=0.174, train_loss_epoch=1.060]"
     ]
    },
    {
     "name": "stderr",
     "output_type": "stream",
     "text": [
      "Monitored metric val_loss did not improve in the last 4 records. Best score: 1.190. Signaling Trainer to stop.\n"
     ]
    },
    {
     "name": "stdout",
     "output_type": "stream",
     "text": [
      "Epoch 21: 100%|██████████| 101/101 [00:22<00:00,  4.51it/s, v_num=mihc, train_loss_step=0.904, val_loss=1.220, val_acc=0.382, val_cohen_kappa=0.174, train_loss_epoch=1.060]\n"
     ]
    },
    {
     "name": "stderr",
     "output_type": "stream",
     "text": [
      "\u001b[34m\u001b[1mwandb\u001b[0m: \u001b[32m\u001b[41mERROR\u001b[0m The nbformat package was not found. It is required to save notebook history.\n"
     ]
    },
    {
     "data": {
      "text/html": [],
      "text/plain": [
       "<IPython.core.display.HTML object>"
      ]
     },
     "metadata": {},
     "output_type": "display_data"
    },
    {
     "data": {
      "text/html": [
       "<br>    <style><br>        .wandb-row {<br>            display: flex;<br>            flex-direction: row;<br>            flex-wrap: wrap;<br>            justify-content: flex-start;<br>            width: 100%;<br>        }<br>        .wandb-col {<br>            display: flex;<br>            flex-direction: column;<br>            flex-basis: 100%;<br>            flex: 1;<br>            padding: 10px;<br>        }<br>    </style><br><div class=\"wandb-row\"><div class=\"wandb-col\"><h3>Run history:</h3><br/><table class=\"wandb\"><tr><td>epoch</td><td>▁▁▁▁▁▁▂▂▂▂▂▃▃▃▃▃▄▄▄▄▅▅▅▅▅▅▅▅▆▆▆▇▇▇▇▇████</td></tr><tr><td>train_loss_epoch</td><td>█▇▇▇▆▆▇▆▅▅▅▅▅▅▄▄▃▃▂▃▂▁</td></tr><tr><td>train_loss_step</td><td>▆▅▆▅▅▅▃▅▆█▄▅█▇▄▅▅▂▅▄▅▆▄▄▅▆▃▃▃▃▄▄▂▁▃▃▂▅▄▆</td></tr><tr><td>trainer/global_step</td><td>▁▁▁▁▁▂▂▂▂▃▃▃▃▃▃▄▄▄▄▄▅▅▅▅▅▆▆▆▆▆▆▆▇▇▇▇▇▇▇█</td></tr><tr><td>val_acc</td><td>▅▃█▄▂▂▂▄▃▃▁▃▄▃▂▄▅▄▄▅▅▄</td></tr><tr><td>val_cohen_kappa</td><td>▄▃█▄▁▃▁▄▅▄▁▃▅▄▅▅█████▆</td></tr><tr><td>val_loss</td><td>▆█▅▆▅▄▅█▃▄▅▇▃▃▄▄▂▁▃▂▃▂</td></tr></table><br/></div><div class=\"wandb-col\"><h3>Run summary:</h3><br/><table class=\"wandb\"><tr><td>epoch</td><td>21</td></tr><tr><td>train_loss_epoch</td><td>1.05679</td></tr><tr><td>train_loss_step</td><td>0.9036</td></tr><tr><td>trainer/global_step</td><td>2221</td></tr><tr><td>val_acc</td><td>0.38161</td></tr><tr><td>val_cohen_kappa</td><td>0.17389</td></tr><tr><td>val_loss</td><td>1.21518</td></tr></table><br/></div></div>"
      ],
      "text/plain": [
       "<IPython.core.display.HTML object>"
      ]
     },
     "metadata": {},
     "output_type": "display_data"
    },
    {
     "data": {
      "text/html": [
       " View run <strong style=\"color:#cdcd00\">upbeat-dew-15</strong> at: <a href='https://wandb.ai/npr264-new-york-university/Baseline_training/runs/6gxqmihc' target=\"_blank\">https://wandb.ai/npr264-new-york-university/Baseline_training/runs/6gxqmihc</a><br> View project at: <a href='https://wandb.ai/npr264-new-york-university/Baseline_training' target=\"_blank\">https://wandb.ai/npr264-new-york-university/Baseline_training</a><br>Synced 5 W&B file(s), 0 media file(s), 0 artifact file(s) and 0 other file(s)"
      ],
      "text/plain": [
       "<IPython.core.display.HTML object>"
      ]
     },
     "metadata": {},
     "output_type": "display_data"
    },
    {
     "data": {
      "text/html": [
       "Find logs at: <code>./wandb/run-20250430_124938-6gxqmihc/logs</code>"
      ],
      "text/plain": [
       "<IPython.core.display.HTML object>"
      ]
     },
     "metadata": {},
     "output_type": "display_data"
    },
    {
     "name": "stdout",
     "output_type": "stream",
     "text": [
      "Best model path: /scratch/npr264/BioDeepL/project/checkpoints/Baseline/loss/best-checkpoint-v14.ckpt\n",
      "Trained model 2 in 582.4949440956116 seconds\n"
     ]
    },
    {
     "data": {
      "image/png": "[encoded data removed]",
      "text/plain": [
       "<Figure size 800x600 with 1 Axes>"
      ]
     },
     "metadata": {},
     "output_type": "display_data"
    },
    {
     "name": "stderr",
     "output_type": "stream",
     "text": [
      "Using 16bit Automatic Mixed Precision (AMP)\n",
      "GPU available: True (cuda), used: True\n",
      "TPU available: False, using: 0 TPU cores\n",
      "HPU available: False, using: 0 HPUs\n"
     ]
    },
    {
     "name": "stdout",
     "output_type": "stream",
     "text": [
      "Figure saved to /home/npr264/DeepLearning/project/cleaned/figures/Baseline/cms/cm_model2.png\n",
      "Done with loop 2\n"
     ]
    },
    {
     "data": {
      "text/html": [
       "Tracking run with wandb version 0.19.9"
      ],
      "text/plain": [
       "<IPython.core.display.HTML object>"
      ]
     },
     "metadata": {},
     "output_type": "display_data"
    },
    {
     "data": {
      "text/html": [
       "Run data is saved locally in <code>./wandb/run-20250430_125925-ambn7kiv</code>"
      ],
      "text/plain": [
       "<IPython.core.display.HTML object>"
      ]
     },
     "metadata": {},
     "output_type": "display_data"
    },
    {
     "data": {
      "text/html": [
       "Syncing run <strong><a href='https://wandb.ai/npr264-new-york-university/Baseline_training/runs/ambn7kiv' target=\"_blank\">deft-sea-16</a></strong> to <a href='https://wandb.ai/npr264-new-york-university/Baseline_training' target=\"_blank\">Weights & Biases</a> (<a href='https://wandb.me/developer-guide' target=\"_blank\">docs</a>)<br>"
      ],
      "text/plain": [
       "<IPython.core.display.HTML object>"
      ]
     },
     "metadata": {},
     "output_type": "display_data"
    },
    {
     "data": {
      "text/html": [
       " View project at <a href='https://wandb.ai/npr264-new-york-university/Baseline_training' target=\"_blank\">https://wandb.ai/npr264-new-york-university/Baseline_training</a>"
      ],
      "text/plain": [
       "<IPython.core.display.HTML object>"
      ]
     },
     "metadata": {},
     "output_type": "display_data"
    },
    {
     "data": {
      "text/html": [
       " View run at <a href='https://wandb.ai/npr264-new-york-university/Baseline_training/runs/ambn7kiv' target=\"_blank\">https://wandb.ai/npr264-new-york-university/Baseline_training/runs/ambn7kiv</a>"
      ],
      "text/plain": [
       "<IPython.core.display.HTML object>"
      ]
     },
     "metadata": {},
     "output_type": "display_data"
    },
    {
     "name": "stderr",
     "output_type": "stream",
     "text": [
      "/ext3/miniforge3/lib/python3.12/site-packages/pytorch_lightning/callbacks/model_checkpoint.py:654: Checkpoint directory /scratch/npr264/BioDeepL/project/checkpoints/Baseline/loss exists and is not empty.\n",
      "LOCAL_RANK: 0 - CUDA_VISIBLE_DEVICES: [0]\n",
      "/ext3/miniforge3/lib/python3.12/site-packages/torch/optim/lr_scheduler.py:62: UserWarning: The verbose parameter is deprecated. Please use get_last_lr() to access the learning rate.\n",
      "  warnings.warn(\n",
      "\n",
      "  | Name            | Type                 | Params | Mode \n",
      "-----------------------------------------------------------------\n",
      "0 | embeddingLayer  | Linear               | 48     | train\n",
      "1 | dropout_embed   | Dropout              | 0      | train\n",
      "2 | dropout_hidden2 | Dropout              | 0      | train\n",
      "3 | rnn             | LSTM                 | 8.5 M  | train\n",
      "4 | hidden2         | Linear               | 32.8 K | train\n",
      "5 | classifier      | Linear               | 132    | train\n",
      "6 | train_criterion | CrossEntropyLoss     | 0      | train\n",
      "7 | val_criterion   | CrossEntropyLoss     | 0      | train\n",
      "8 | kappa           | MulticlassCohenKappa | 0      | train\n",
      "-----------------------------------------------------------------\n",
      "8.5 M     Trainable params\n",
      "0         Non-trainable params\n",
      "8.5 M     Total params\n",
      "33.932    Total estimated model params size (MB)\n",
      "9         Modules in train mode\n",
      "0         Modules in eval mode\n",
      "SLURM auto-requeueing enabled. Setting signal handlers.\n"
     ]
    },
    {
     "name": "stdout",
     "output_type": "stream",
     "text": [
      "Epoch 0: 100%|██████████| 101/101 [00:17<00:00,  5.66it/s, v_num=7kiv, train_loss_step=1.370]\n",
      "Validation: |          | 0/? [00:00<?, ?it/s]\u001b[A\n",
      "Validation:   0%|          | 0/14 [00:00<?, ?it/s]\u001b[A\n",
      "Validation DataLoader 0:   0%|          | 0/14 [00:00<?, ?it/s]\u001b[A\n",
      "Validation DataLoader 0:   7%|▋         | 1/14 [00:00<00:01, 10.74it/s]\u001b[A\n",
      "Validation DataLoader 0:  14%|█▍        | 2/14 [00:00<00:01,  9.63it/s]\u001b[A\n",
      "Validation DataLoader 0:  21%|██▏       | 3/14 [00:00<00:01,  9.37it/s]\u001b[A\n",
      "Validation DataLoader 0:  29%|██▊       | 4/14 [00:00<00:01,  9.17it/s]\u001b[A\n",
      "Validation DataLoader 0:  36%|███▌      | 5/14 [00:00<00:01,  8.99it/s]\u001b[A\n",
      "Validation DataLoader 0:  43%|████▎     | 6/14 [00:00<00:00,  9.03it/s]\u001b[A\n",
      "Validation DataLoader 0:  50%|█████     | 7/14 [00:00<00:00,  9.43it/s]\u001b[A\n",
      "Validation DataLoader 0:  57%|█████▋    | 8/14 [00:00<00:00,  9.78it/s]\u001b[A\n",
      "Validation DataLoader 0:  64%|██████▍   | 9/14 [00:00<00:00, 10.01it/s]\u001b[A\n",
      "Validation DataLoader 0:  71%|███████▏  | 10/14 [00:01<00:00,  9.31it/s]\u001b[A\n",
      "Validation DataLoader 0:  79%|███████▊  | 11/14 [00:01<00:00,  9.55it/s]\u001b[A\n",
      "Validation DataLoader 0:  86%|████████▌ | 12/14 [00:01<00:00,  8.78it/s]\u001b[A\n",
      "Validation DataLoader 0:  93%|█████████▎| 13/14 [00:01<00:00,  8.86it/s]\u001b[A\n",
      "Validation DataLoader 0: 100%|██████████| 14/14 [00:01<00:00,  9.15it/s]\u001b[A\n",
      "Epoch 0: 100%|██████████| 101/101 [00:20<00:00,  5.04it/s, v_num=7kiv, train_loss_step=1.370, val_loss=1.460, val_acc=0.468, val_cohen_kappa=0.078, train_loss_epoch=1.370]"
     ]
    },
    {
     "name": "stderr",
     "output_type": "stream",
     "text": [
      "Metric val_loss improved. New best score: 1.464\n"
     ]
    },
    {
     "name": "stdout",
     "output_type": "stream",
     "text": [
      "Epoch 1: 100%|██████████| 101/101 [00:18<00:00,  5.36it/s, v_num=7kiv, train_loss_step=1.260, val_loss=1.460, val_acc=0.468, val_cohen_kappa=0.078, train_loss_epoch=1.370]\n",
      "Validation: |          | 0/? [00:00<?, ?it/s]\u001b[A\n",
      "Validation:   0%|          | 0/14 [00:00<?, ?it/s]\u001b[A\n",
      "Validation DataLoader 0:   0%|          | 0/14 [00:00<?, ?it/s]\u001b[A\n",
      "Validation DataLoader 0:   7%|▋         | 1/14 [00:00<00:01,  8.15it/s]\u001b[A\n",
      "Validation DataLoader 0:  14%|█▍        | 2/14 [00:00<00:01,  8.35it/s]\u001b[A\n",
      "Validation DataLoader 0:  21%|██▏       | 3/14 [00:00<00:01,  9.51it/s]\u001b[A\n",
      "Validation DataLoader 0:  29%|██▊       | 4/14 [00:00<00:01,  9.32it/s]\u001b[A\n",
      "Validation DataLoader 0:  36%|███▌      | 5/14 [00:00<00:00,  9.25it/s]\u001b[A\n",
      "Validation DataLoader 0:  43%|████▎     | 6/14 [00:00<00:00,  9.17it/s]\u001b[A\n",
      "Validation DataLoader 0:  50%|█████     | 7/14 [00:00<00:00,  9.09it/s]\u001b[A\n",
      "Validation DataLoader 0:  57%|█████▋    | 8/14 [00:00<00:00,  9.03it/s]\u001b[A\n",
      "Validation DataLoader 0:  64%|██████▍   | 9/14 [00:01<00:00,  8.98it/s]\u001b[A\n",
      "Validation DataLoader 0:  71%|███████▏  | 10/14 [00:01<00:00,  8.94it/s]\u001b[A\n",
      "Validation DataLoader 0:  79%|███████▊  | 11/14 [00:01<00:00,  8.92it/s]\u001b[A\n",
      "Validation DataLoader 0:  86%|████████▌ | 12/14 [00:01<00:00,  8.86it/s]\u001b[A\n",
      "Validation DataLoader 0:  93%|█████████▎| 13/14 [00:01<00:00,  8.88it/s]\u001b[A\n",
      "Validation DataLoader 0: 100%|██████████| 14/14 [00:01<00:00,  8.87it/s]\u001b[A\n",
      "Epoch 2: 100%|██████████| 101/101 [00:19<00:00,  5.23it/s, v_num=7kiv, train_loss_step=1.330, val_loss=1.500, val_acc=0.354, val_cohen_kappa=0.0876, train_loss_epoch=1.340]\n",
      "Validation: |          | 0/? [00:00<?, ?it/s]\u001b[A\n",
      "Validation:   0%|          | 0/14 [00:00<?, ?it/s]\u001b[A\n",
      "Validation DataLoader 0:   0%|          | 0/14 [00:00<?, ?it/s]\u001b[A\n",
      "Validation DataLoader 0:   7%|▋         | 1/14 [00:00<00:01,  9.24it/s]\u001b[A\n",
      "Validation DataLoader 0:  14%|█▍        | 2/14 [00:00<00:01,  9.05it/s]\u001b[A\n",
      "Validation DataLoader 0:  21%|██▏       | 3/14 [00:00<00:01,  8.97it/s]\u001b[A\n",
      "Validation DataLoader 0:  29%|██▊       | 4/14 [00:00<00:01,  8.89it/s]\u001b[A\n",
      "Validation DataLoader 0:  36%|███▌      | 5/14 [00:00<00:00,  9.42it/s]\u001b[A\n",
      "Validation DataLoader 0:  43%|████▎     | 6/14 [00:00<00:00,  9.35it/s]\u001b[A\n",
      "Validation DataLoader 0:  50%|█████     | 7/14 [00:00<00:00,  9.29it/s]\u001b[A\n",
      "Validation DataLoader 0:  57%|█████▋    | 8/14 [00:00<00:00,  9.22it/s]\u001b[A\n",
      "Validation DataLoader 0:  64%|██████▍   | 9/14 [00:00<00:00,  9.13it/s]\u001b[A\n",
      "Validation DataLoader 0:  71%|███████▏  | 10/14 [00:01<00:00,  9.08it/s]\u001b[A\n",
      "Validation DataLoader 0:  79%|███████▊  | 11/14 [00:01<00:00,  9.01it/s]\u001b[A\n",
      "Validation DataLoader 0:  86%|████████▌ | 12/14 [00:01<00:00,  9.05it/s]\u001b[A\n",
      "Validation DataLoader 0:  93%|█████████▎| 13/14 [00:01<00:00,  9.05it/s]\u001b[A\n",
      "Validation DataLoader 0: 100%|██████████| 14/14 [00:01<00:00,  9.10it/s]\u001b[A\n",
      "Epoch 2: 100%|██████████| 101/101 [00:21<00:00,  4.67it/s, v_num=7kiv, train_loss_step=1.330, val_loss=1.340, val_acc=0.466, val_cohen_kappa=0.102, train_loss_epoch=1.320] "
     ]
    },
    {
     "name": "stderr",
     "output_type": "stream",
     "text": [
      "Metric val_loss improved by 0.119 >= min_delta = 0.0. New best score: 1.345\n"
     ]
    },
    {
     "name": "stdout",
     "output_type": "stream",
     "text": [
      "Epoch 3: 100%|██████████| 101/101 [00:18<00:00,  5.44it/s, v_num=7kiv, train_loss_step=1.340, val_loss=1.340, val_acc=0.466, val_cohen_kappa=0.102, train_loss_epoch=1.320]\n",
      "Validation: |          | 0/? [00:00<?, ?it/s]\u001b[A\n",
      "Validation:   0%|          | 0/14 [00:00<?, ?it/s]\u001b[A\n",
      "Validation DataLoader 0:   0%|          | 0/14 [00:00<?, ?it/s]\u001b[A\n",
      "Validation DataLoader 0:   7%|▋         | 1/14 [00:00<00:01, 10.46it/s]\u001b[A\n",
      "Validation DataLoader 0:  14%|█▍        | 2/14 [00:00<00:01,  9.68it/s]\u001b[A\n",
      "Validation DataLoader 0:  21%|██▏       | 3/14 [00:00<00:01,  8.69it/s]\u001b[A\n",
      "Validation DataLoader 0:  29%|██▊       | 4/14 [00:00<00:01,  8.63it/s]\u001b[A\n",
      "Validation DataLoader 0:  36%|███▌      | 5/14 [00:00<00:00,  9.69it/s]\u001b[A\n",
      "Validation DataLoader 0:  43%|████▎     | 6/14 [00:00<00:00, 10.49it/s]\u001b[A\n",
      "Validation DataLoader 0:  50%|█████     | 7/14 [00:00<00:00, 11.47it/s]\u001b[A\n",
      "Validation DataLoader 0:  57%|█████▋    | 8/14 [00:00<00:00, 11.95it/s]\u001b[A\n",
      "Validation DataLoader 0:  64%|██████▍   | 9/14 [00:00<00:00,  9.99it/s]\u001b[A\n",
      "Validation DataLoader 0:  71%|███████▏  | 10/14 [00:00<00:00, 10.26it/s]\u001b[A\n",
      "Validation DataLoader 0:  79%|███████▊  | 11/14 [00:01<00:00, 10.44it/s]\u001b[A\n",
      "Validation DataLoader 0:  86%|████████▌ | 12/14 [00:01<00:00, 10.65it/s]\u001b[A\n",
      "Validation DataLoader 0:  93%|█████████▎| 13/14 [00:01<00:00, 10.78it/s]\u001b[A\n",
      "Validation DataLoader 0: 100%|██████████| 14/14 [00:01<00:00, 10.81it/s]\u001b[A\n",
      "Epoch 3: 100%|██████████| 101/101 [00:20<00:00,  4.85it/s, v_num=7kiv, train_loss_step=1.340, val_loss=1.290, val_acc=0.343, val_cohen_kappa=0.113, train_loss_epoch=1.310]"
     ]
    },
    {
     "name": "stderr",
     "output_type": "stream",
     "text": [
      "Metric val_loss improved by 0.052 >= min_delta = 0.0. New best score: 1.293\n"
     ]
    },
    {
     "name": "stdout",
     "output_type": "stream",
     "text": [
      "Epoch 4: 100%|██████████| 101/101 [00:20<00:00,  5.03it/s, v_num=7kiv, train_loss_step=1.090, val_loss=1.290, val_acc=0.343, val_cohen_kappa=0.113, train_loss_epoch=1.310]\n",
      "Validation: |          | 0/? [00:00<?, ?it/s]\u001b[A\n",
      "Validation:   0%|          | 0/14 [00:00<?, ?it/s]\u001b[A\n",
      "Validation DataLoader 0:   0%|          | 0/14 [00:00<?, ?it/s]\u001b[A\n",
      "Validation DataLoader 0:   7%|▋         | 1/14 [00:00<00:00, 15.03it/s]\u001b[A\n",
      "Validation DataLoader 0:  14%|█▍        | 2/14 [00:00<00:00, 14.53it/s]\u001b[A\n",
      "Validation DataLoader 0:  21%|██▏       | 3/14 [00:00<00:00, 15.18it/s]\u001b[A\n",
      "Validation DataLoader 0:  29%|██▊       | 4/14 [00:00<00:00, 15.64it/s]\u001b[A\n",
      "Validation DataLoader 0:  36%|███▌      | 5/14 [00:00<00:00, 16.15it/s]\u001b[A\n",
      "Validation DataLoader 0:  43%|████▎     | 6/14 [00:00<00:00, 12.95it/s]\u001b[A\n",
      "Validation DataLoader 0:  50%|█████     | 7/14 [00:00<00:00, 12.39it/s]\u001b[A\n",
      "Validation DataLoader 0:  57%|█████▋    | 8/14 [00:00<00:00, 12.56it/s]\u001b[A\n",
      "Validation DataLoader 0:  64%|██████▍   | 9/14 [00:00<00:00, 13.02it/s]\u001b[A\n",
      "Validation DataLoader 0:  71%|███████▏  | 10/14 [00:00<00:00, 13.36it/s]\u001b[A\n",
      "Validation DataLoader 0:  79%|███████▊  | 11/14 [00:00<00:00, 11.97it/s]\u001b[A\n",
      "Validation DataLoader 0:  86%|████████▌ | 12/14 [00:01<00:00, 10.42it/s]\u001b[A\n",
      "Validation DataLoader 0:  93%|█████████▎| 13/14 [00:01<00:00, 10.26it/s]\u001b[A\n",
      "Validation DataLoader 0: 100%|██████████| 14/14 [00:01<00:00, 10.10it/s]\u001b[A\n",
      "Epoch 5: 100%|██████████| 101/101 [00:19<00:00,  5.27it/s, v_num=7kiv, train_loss_step=1.440, val_loss=1.330, val_acc=0.269, val_cohen_kappa=0.0832, train_loss_epoch=1.270]\n",
      "Validation: |          | 0/? [00:00<?, ?it/s]\u001b[A\n",
      "Validation:   0%|          | 0/14 [00:00<?, ?it/s]\u001b[A\n",
      "Validation DataLoader 0:   0%|          | 0/14 [00:00<?, ?it/s]\u001b[A\n",
      "Validation DataLoader 0:   7%|▋         | 1/14 [00:00<00:01, 10.86it/s]\u001b[A\n",
      "Validation DataLoader 0:  14%|█▍        | 2/14 [00:00<00:00, 12.05it/s]\u001b[A\n",
      "Validation DataLoader 0:  21%|██▏       | 3/14 [00:00<00:00, 11.38it/s]\u001b[A\n",
      "Validation DataLoader 0:  29%|██▊       | 4/14 [00:00<00:00, 10.91it/s]\u001b[A\n",
      "Validation DataLoader 0:  36%|███▌      | 5/14 [00:00<00:00, 11.03it/s]\u001b[A\n",
      "Validation DataLoader 0:  43%|████▎     | 6/14 [00:00<00:00, 10.94it/s]\u001b[A\n",
      "Validation DataLoader 0:  50%|█████     | 7/14 [00:00<00:00, 11.09it/s]\u001b[A\n",
      "Validation DataLoader 0:  57%|█████▋    | 8/14 [00:00<00:00, 11.02it/s]\u001b[A\n",
      "Validation DataLoader 0:  64%|██████▍   | 9/14 [00:00<00:00, 11.11it/s]\u001b[A\n",
      "Validation DataLoader 0:  71%|███████▏  | 10/14 [00:00<00:00, 11.06it/s]\u001b[A\n",
      "Validation DataLoader 0:  79%|███████▊  | 11/14 [00:01<00:00, 10.95it/s]\u001b[A\n",
      "Validation DataLoader 0:  86%|████████▌ | 12/14 [00:01<00:00, 11.00it/s]\u001b[A\n",
      "Validation DataLoader 0:  93%|█████████▎| 13/14 [00:01<00:00, 10.97it/s]\u001b[A\n",
      "Validation DataLoader 0: 100%|██████████| 14/14 [00:01<00:00, 11.04it/s]\u001b[A\n",
      "Epoch 6: 100%|██████████| 101/101 [00:19<00:00,  5.11it/s, v_num=7kiv, train_loss_step=1.240, val_loss=1.300, val_acc=0.389, val_cohen_kappa=0.147, train_loss_epoch=1.280] \n",
      "Validation: |          | 0/? [00:00<?, ?it/s]\u001b[A\n",
      "Validation:   0%|          | 0/14 [00:00<?, ?it/s]\u001b[A\n",
      "Validation DataLoader 0:   0%|          | 0/14 [00:00<?, ?it/s]\u001b[A\n",
      "Validation DataLoader 0:   7%|▋         | 1/14 [00:00<00:00, 13.03it/s]\u001b[A\n",
      "Validation DataLoader 0:  14%|█▍        | 2/14 [00:00<00:00, 12.65it/s]\u001b[A\n",
      "Validation DataLoader 0:  21%|██▏       | 3/14 [00:00<00:00, 14.70it/s]\u001b[A\n",
      "Validation DataLoader 0:  29%|██▊       | 4/14 [00:00<00:00, 10.71it/s]\u001b[A\n",
      "Validation DataLoader 0:  36%|███▌      | 5/14 [00:00<00:00,  9.52it/s]\u001b[A\n",
      "Validation DataLoader 0:  43%|████▎     | 6/14 [00:00<00:00,  9.37it/s]\u001b[A\n",
      "Validation DataLoader 0:  50%|█████     | 7/14 [00:00<00:00,  9.66it/s]\u001b[A\n",
      "Validation DataLoader 0:  57%|█████▋    | 8/14 [00:00<00:00,  9.80it/s]\u001b[A\n",
      "Validation DataLoader 0:  64%|██████▍   | 9/14 [00:00<00:00, 10.47it/s]\u001b[A\n",
      "Validation DataLoader 0:  71%|███████▏  | 10/14 [00:01<00:00,  7.83it/s]\u001b[A\n",
      "Validation DataLoader 0:  79%|███████▊  | 11/14 [00:01<00:00,  8.35it/s]\u001b[A\n",
      "Validation DataLoader 0:  86%|████████▌ | 12/14 [00:01<00:00,  8.84it/s]\u001b[A\n",
      "Validation DataLoader 0:  93%|█████████▎| 13/14 [00:01<00:00,  9.30it/s]\u001b[A\n",
      "Validation DataLoader 0: 100%|██████████| 14/14 [00:01<00:00,  9.59it/s]\u001b[A\n",
      "Epoch 7: 100%|██████████| 101/101 [00:19<00:00,  5.17it/s, v_num=7kiv, train_loss_step=1.200, val_loss=1.310, val_acc=0.310, val_cohen_kappa=0.115, train_loss_epoch=1.270]\n",
      "Validation: |          | 0/? [00:00<?, ?it/s]\u001b[A\n",
      "Validation:   0%|          | 0/14 [00:00<?, ?it/s]\u001b[A\n",
      "Validation DataLoader 0:   0%|          | 0/14 [00:00<?, ?it/s]\u001b[A\n",
      "Validation DataLoader 0:   7%|▋         | 1/14 [00:00<00:02,  6.20it/s]\u001b[A\n",
      "Validation DataLoader 0:  14%|█▍        | 2/14 [00:00<00:01,  6.88it/s]\u001b[A\n",
      "Validation DataLoader 0:  21%|██▏       | 3/14 [00:00<00:01,  7.98it/s]\u001b[A\n",
      "Validation DataLoader 0:  29%|██▊       | 4/14 [00:00<00:01,  7.69it/s]\u001b[A\n",
      "Validation DataLoader 0:  36%|███▌      | 5/14 [00:00<00:01,  7.90it/s]\u001b[A\n",
      "Validation DataLoader 0:  43%|████▎     | 6/14 [00:00<00:00,  8.08it/s]\u001b[A\n",
      "Validation DataLoader 0:  50%|█████     | 7/14 [00:00<00:00,  8.34it/s]\u001b[A\n",
      "Validation DataLoader 0:  57%|█████▋    | 8/14 [00:00<00:00,  8.38it/s]\u001b[A\n",
      "Validation DataLoader 0:  64%|██████▍   | 9/14 [00:01<00:00,  8.42it/s]\u001b[A\n",
      "Validation DataLoader 0:  71%|███████▏  | 10/14 [00:01<00:00,  8.43it/s]\u001b[A\n",
      "Validation DataLoader 0:  79%|███████▊  | 11/14 [00:01<00:00,  8.45it/s]\u001b[A\n",
      "Validation DataLoader 0:  86%|████████▌ | 12/14 [00:01<00:00,  8.48it/s]\u001b[A\n",
      "Validation DataLoader 0:  93%|█████████▎| 13/14 [00:01<00:00,  8.08it/s]\u001b[A\n",
      "Validation DataLoader 0: 100%|██████████| 14/14 [00:01<00:00,  8.15it/s]\u001b[A\n",
      "Epoch 7: 100%|██████████| 101/101 [00:22<00:00,  4.57it/s, v_num=7kiv, train_loss_step=1.200, val_loss=1.320, val_acc=0.317, val_cohen_kappa=0.104, train_loss_epoch=1.280]"
     ]
    },
    {
     "name": "stderr",
     "output_type": "stream",
     "text": [
      "Monitored metric val_loss did not improve in the last 4 records. Best score: 1.293. Signaling Trainer to stop.\n"
     ]
    },
    {
     "name": "stdout",
     "output_type": "stream",
     "text": [
      "Epoch 7: 100%|██████████| 101/101 [00:22<00:00,  4.57it/s, v_num=7kiv, train_loss_step=1.200, val_loss=1.320, val_acc=0.317, val_cohen_kappa=0.104, train_loss_epoch=1.280]\n"
     ]
    },
    {
     "name": "stderr",
     "output_type": "stream",
     "text": [
      "\u001b[34m\u001b[1mwandb\u001b[0m: \u001b[32m\u001b[41mERROR\u001b[0m The nbformat package was not found. It is required to save notebook history.\n"
     ]
    },
    {
     "data": {
      "text/html": [],
      "text/plain": [
       "<IPython.core.display.HTML object>"
      ]
     },
     "metadata": {},
     "output_type": "display_data"
    },
    {
     "data": {
      "text/html": [
       "<br>    <style><br>        .wandb-row {<br>            display: flex;<br>            flex-direction: row;<br>            flex-wrap: wrap;<br>            justify-content: flex-start;<br>            width: 100%;<br>        }<br>        .wandb-col {<br>            display: flex;<br>            flex-direction: column;<br>            flex-basis: 100%;<br>            flex: 1;<br>            padding: 10px;<br>        }<br>    </style><br><div class=\"wandb-row\"><div class=\"wandb-col\"><h3>Run history:</h3><br/><table class=\"wandb\"><tr><td>epoch</td><td>▁▁▁▁▂▂▂▂▂▂▃▃▃▄▄▄▄▄▅▅▅▅▅▆▆▆▆▆▆▇▇▇▇███████</td></tr><tr><td>train_loss_epoch</td><td>█▆▅▄▁▂▁▂</td></tr><tr><td>train_loss_step</td><td>█▄▄▄▄▄▃▄▄▅▄▄▃▃▆▄▅▃▄▃▄▅▄▂▄▃▃▄▃▃▄▁▃▆▅▃▃▃▃▃</td></tr><tr><td>trainer/global_step</td><td>▁▁▂▂▂▂▂▂▃▃▃▃▃▄▄▄▄▄▄▄▅▅▅▅▅▆▆▆▆▆▆▆▆▇▇▇▇▇██</td></tr><tr><td>val_acc</td><td>█▄█▄▁▅▂▃</td></tr><tr><td>val_cohen_kappa</td><td>▁▂▃▅▂█▅▄</td></tr><tr><td>val_loss</td><td>▇█▃▁▂▁▂▂</td></tr></table><br/></div><div class=\"wandb-col\"><h3>Run summary:</h3><br/><table class=\"wandb\"><tr><td>epoch</td><td>7</td></tr><tr><td>train_loss_epoch</td><td>1.28331</td></tr><tr><td>train_loss_step</td><td>1.20279</td></tr><tr><td>trainer/global_step</td><td>807</td></tr><tr><td>val_acc</td><td>0.31741</td></tr><tr><td>val_cohen_kappa</td><td>0.10415</td></tr><tr><td>val_loss</td><td>1.3242</td></tr></table><br/></div></div>"
      ],
      "text/plain": [
       "<IPython.core.display.HTML object>"
      ]
     },
     "metadata": {},
     "output_type": "display_data"
    },
    {
     "data": {
      "text/html": [
       " View run <strong style=\"color:#cdcd00\">deft-sea-16</strong> at: <a href='https://wandb.ai/npr264-new-york-university/Baseline_training/runs/ambn7kiv' target=\"_blank\">https://wandb.ai/npr264-new-york-university/Baseline_training/runs/ambn7kiv</a><br> View project at: <a href='https://wandb.ai/npr264-new-york-university/Baseline_training' target=\"_blank\">https://wandb.ai/npr264-new-york-university/Baseline_training</a><br>Synced 5 W&B file(s), 0 media file(s), 0 artifact file(s) and 0 other file(s)"
      ],
      "text/plain": [
       "<IPython.core.display.HTML object>"
      ]
     },
     "metadata": {},
     "output_type": "display_data"
    },
    {
     "data": {
      "text/html": [
       "Find logs at: <code>./wandb/run-20250430_125925-ambn7kiv/logs</code>"
      ],
      "text/plain": [
       "<IPython.core.display.HTML object>"
      ]
     },
     "metadata": {},
     "output_type": "display_data"
    },
    {
     "name": "stdout",
     "output_type": "stream",
     "text": [
      "Best model path: /scratch/npr264/BioDeepL/project/checkpoints/Baseline/loss/best-checkpoint-v15.ckpt\n",
      "Trained model 3 in 175.1637794971466 seconds\n"
     ]
    },
    {
     "data": {
      "image/png": "[encoded data removed]",
      "text/plain": [
       "<Figure size 800x600 with 1 Axes>"
      ]
     },
     "metadata": {},
     "output_type": "display_data"
    },
    {
     "name": "stderr",
     "output_type": "stream",
     "text": [
      "Using 16bit Automatic Mixed Precision (AMP)\n",
      "GPU available: True (cuda), used: True\n",
      "TPU available: False, using: 0 TPU cores\n",
      "HPU available: False, using: 0 HPUs\n"
     ]
    },
    {
     "name": "stdout",
     "output_type": "stream",
     "text": [
      "Figure saved to /home/npr264/DeepLearning/project/cleaned/figures/Baseline/cms/cm_model3.png\n",
      "Done with loop 3\n"
     ]
    },
    {
     "data": {
      "text/html": [
       "Tracking run with wandb version 0.19.9"
      ],
      "text/plain": [
       "<IPython.core.display.HTML object>"
      ]
     },
     "metadata": {},
     "output_type": "display_data"
    },
    {
     "data": {
      "text/html": [
       "Run data is saved locally in <code>./wandb/run-20250430_130226-xmnw0e5u</code>"
      ],
      "text/plain": [
       "<IPython.core.display.HTML object>"
      ]
     },
     "metadata": {},
     "output_type": "display_data"
    },
    {
     "data": {
      "text/html": [
       "Syncing run <strong><a href='https://wandb.ai/npr264-new-york-university/Baseline_training/runs/xmnw0e5u' target=\"_blank\">neat-glitter-17</a></strong> to <a href='https://wandb.ai/npr264-new-york-university/Baseline_training' target=\"_blank\">Weights & Biases</a> (<a href='https://wandb.me/developer-guide' target=\"_blank\">docs</a>)<br>"
      ],
      "text/plain": [
       "<IPython.core.display.HTML object>"
      ]
     },
     "metadata": {},
     "output_type": "display_data"
    },
    {
     "data": {
      "text/html": [
       " View project at <a href='https://wandb.ai/npr264-new-york-university/Baseline_training' target=\"_blank\">https://wandb.ai/npr264-new-york-university/Baseline_training</a>"
      ],
      "text/plain": [
       "<IPython.core.display.HTML object>"
      ]
     },
     "metadata": {},
     "output_type": "display_data"
    },
    {
     "data": {
      "text/html": [
       " View run at <a href='https://wandb.ai/npr264-new-york-university/Baseline_training/runs/xmnw0e5u' target=\"_blank\">https://wandb.ai/npr264-new-york-university/Baseline_training/runs/xmnw0e5u</a>"
      ],
      "text/plain": [
       "<IPython.core.display.HTML object>"
      ]
     },
     "metadata": {},
     "output_type": "display_data"
    },
    {
     "name": "stderr",
     "output_type": "stream",
     "text": [
      "/ext3/miniforge3/lib/python3.12/site-packages/pytorch_lightning/callbacks/model_checkpoint.py:654: Checkpoint directory /scratch/npr264/BioDeepL/project/checkpoints/Baseline/loss exists and is not empty.\n",
      "LOCAL_RANK: 0 - CUDA_VISIBLE_DEVICES: [0]\n",
      "/ext3/miniforge3/lib/python3.12/site-packages/torch/optim/lr_scheduler.py:62: UserWarning: The verbose parameter is deprecated. Please use get_last_lr() to access the learning rate.\n",
      "  warnings.warn(\n",
      "\n",
      "  | Name            | Type                 | Params | Mode \n",
      "-----------------------------------------------------------------\n",
      "0 | embeddingLayer  | Linear               | 48     | train\n",
      "1 | dropout_embed   | Dropout              | 0      | train\n",
      "2 | dropout_hidden2 | Dropout              | 0      | train\n",
      "3 | rnn             | LSTM                 | 8.5 M  | train\n",
      "4 | hidden2         | Linear               | 32.8 K | train\n",
      "5 | classifier      | Linear               | 132    | train\n",
      "6 | train_criterion | CrossEntropyLoss     | 0      | train\n",
      "7 | val_criterion   | CrossEntropyLoss     | 0      | train\n",
      "8 | kappa           | MulticlassCohenKappa | 0      | train\n",
      "-----------------------------------------------------------------\n",
      "8.5 M     Trainable params\n",
      "0         Non-trainable params\n",
      "8.5 M     Total params\n",
      "33.932    Total estimated model params size (MB)\n",
      "9         Modules in train mode\n",
      "0         Modules in eval mode\n",
      "SLURM auto-requeueing enabled. Setting signal handlers.\n"
     ]
    },
    {
     "name": "stdout",
     "output_type": "stream",
     "text": [
      "Epoch 0: 100%|██████████| 101/101 [00:16<00:00,  6.02it/s, v_num=0e5u, train_loss_step=1.100]\n",
      "Validation: |          | 0/? [00:00<?, ?it/s]\u001b[A\n",
      "Validation:   0%|          | 0/14 [00:00<?, ?it/s]\u001b[A\n",
      "Validation DataLoader 0:   0%|          | 0/14 [00:00<?, ?it/s]\u001b[A\n",
      "Validation DataLoader 0:   7%|▋         | 1/14 [00:00<00:01, 12.20it/s]\u001b[A\n",
      "Validation DataLoader 0:  14%|█▍        | 2/14 [00:00<00:00, 16.02it/s]\u001b[A\n",
      "Validation DataLoader 0:  21%|██▏       | 3/14 [00:00<00:00, 12.95it/s]\u001b[A\n",
      "Validation DataLoader 0:  29%|██▊       | 4/14 [00:00<00:00, 11.53it/s]\u001b[A\n",
      "Validation DataLoader 0:  36%|███▌      | 5/14 [00:00<00:00,  9.75it/s]\u001b[A\n",
      "Validation DataLoader 0:  43%|████▎     | 6/14 [00:00<00:00,  9.74it/s]\u001b[A\n",
      "Validation DataLoader 0:  50%|█████     | 7/14 [00:00<00:00,  9.70it/s]\u001b[A\n",
      "Validation DataLoader 0:  57%|█████▋    | 8/14 [00:00<00:00,  9.47it/s]\u001b[A\n",
      "Validation DataLoader 0:  64%|██████▍   | 9/14 [00:00<00:00,  9.84it/s]\u001b[A\n",
      "Validation DataLoader 0:  71%|███████▏  | 10/14 [00:00<00:00, 10.05it/s]\u001b[A\n",
      "Validation DataLoader 0:  79%|███████▊  | 11/14 [00:01<00:00,  9.40it/s]\u001b[A\n",
      "Validation DataLoader 0:  86%|████████▌ | 12/14 [00:01<00:00,  9.64it/s]\u001b[A\n",
      "Validation DataLoader 0:  93%|█████████▎| 13/14 [00:01<00:00,  9.93it/s]\u001b[A\n",
      "Validation DataLoader 0: 100%|██████████| 14/14 [00:01<00:00,  9.27it/s]\u001b[A\n",
      "Epoch 0: 100%|██████████| 101/101 [00:18<00:00,  5.32it/s, v_num=0e5u, train_loss_step=1.100, val_loss=1.330, val_acc=0.295, val_cohen_kappa=0.0497, train_loss_epoch=1.360]"
     ]
    },
    {
     "name": "stderr",
     "output_type": "stream",
     "text": [
      "Metric val_loss improved. New best score: 1.330\n"
     ]
    },
    {
     "name": "stdout",
     "output_type": "stream",
     "text": [
      "Epoch 1: 100%|██████████| 101/101 [00:18<00:00,  5.45it/s, v_num=0e5u, train_loss_step=1.310, val_loss=1.330, val_acc=0.295, val_cohen_kappa=0.0497, train_loss_epoch=1.360]\n",
      "Validation: |          | 0/? [00:00<?, ?it/s]\u001b[A\n",
      "Validation:   0%|          | 0/14 [00:00<?, ?it/s]\u001b[A\n",
      "Validation DataLoader 0:   0%|          | 0/14 [00:00<?, ?it/s]\u001b[A\n",
      "Validation DataLoader 0:   7%|▋         | 1/14 [00:00<00:03,  4.24it/s]\u001b[A\n",
      "Validation DataLoader 0:  14%|█▍        | 2/14 [00:00<00:02,  4.57it/s]\u001b[A\n",
      "Validation DataLoader 0:  21%|██▏       | 3/14 [00:00<00:01,  5.82it/s]\u001b[A\n",
      "Validation DataLoader 0:  29%|██▊       | 4/14 [00:00<00:01,  6.58it/s]\u001b[A\n",
      "Validation DataLoader 0:  36%|███▌      | 5/14 [00:00<00:01,  6.91it/s]\u001b[A\n",
      "Validation DataLoader 0:  43%|████▎     | 6/14 [00:00<00:01,  7.15it/s]\u001b[A\n",
      "Validation DataLoader 0:  50%|█████     | 7/14 [00:00<00:00,  7.39it/s]\u001b[A\n",
      "Validation DataLoader 0:  57%|█████▋    | 8/14 [00:01<00:00,  7.52it/s]\u001b[A\n",
      "Validation DataLoader 0:  64%|██████▍   | 9/14 [00:01<00:00,  7.65it/s]\u001b[A\n",
      "Validation DataLoader 0:  71%|███████▏  | 10/14 [00:01<00:00,  7.74it/s]\u001b[A\n",
      "Validation DataLoader 0:  79%|███████▊  | 11/14 [00:01<00:00,  7.84it/s]\u001b[A\n",
      "Validation DataLoader 0:  86%|████████▌ | 12/14 [00:01<00:00,  7.91it/s]\u001b[A\n",
      "Validation DataLoader 0:  93%|█████████▎| 13/14 [00:01<00:00,  8.09it/s]\u001b[A\n",
      "Validation DataLoader 0: 100%|██████████| 14/14 [00:01<00:00,  8.15it/s]\u001b[A\n",
      "Epoch 1: 100%|██████████| 101/101 [00:20<00:00,  4.83it/s, v_num=0e5u, train_loss_step=1.310, val_loss=1.290, val_acc=0.311, val_cohen_kappa=0.0833, train_loss_epoch=1.320]"
     ]
    },
    {
     "name": "stderr",
     "output_type": "stream",
     "text": [
      "Metric val_loss improved by 0.037 >= min_delta = 0.0. New best score: 1.293\n"
     ]
    },
    {
     "name": "stdout",
     "output_type": "stream",
     "text": [
      "Epoch 2: 100%|██████████| 101/101 [00:18<00:00,  5.33it/s, v_num=0e5u, train_loss_step=1.250, val_loss=1.290, val_acc=0.311, val_cohen_kappa=0.0833, train_loss_epoch=1.320]\n",
      "Validation: |          | 0/? [00:00<?, ?it/s]\u001b[A\n",
      "Validation:   0%|          | 0/14 [00:00<?, ?it/s]\u001b[A\n",
      "Validation DataLoader 0:   0%|          | 0/14 [00:00<?, ?it/s]\u001b[A\n",
      "Validation DataLoader 0:   7%|▋         | 1/14 [00:00<00:01, 10.08it/s]\u001b[A\n",
      "Validation DataLoader 0:  14%|█▍        | 2/14 [00:00<00:01,  9.41it/s]\u001b[A\n",
      "Validation DataLoader 0:  21%|██▏       | 3/14 [00:00<00:01,  9.11it/s]\u001b[A\n",
      "Validation DataLoader 0:  29%|██▊       | 4/14 [00:00<00:01,  9.03it/s]\u001b[A\n",
      "Validation DataLoader 0:  36%|███▌      | 5/14 [00:00<00:00,  9.06it/s]\u001b[A\n",
      "Validation DataLoader 0:  43%|████▎     | 6/14 [00:00<00:00,  9.01it/s]\u001b[A\n",
      "Validation DataLoader 0:  50%|█████     | 7/14 [00:00<00:00,  8.90it/s]\u001b[A\n",
      "Validation DataLoader 0:  57%|█████▋    | 8/14 [00:00<00:00,  8.85it/s]\u001b[A\n",
      "Validation DataLoader 0:  64%|██████▍   | 9/14 [00:01<00:00,  8.93it/s]\u001b[A\n",
      "Validation DataLoader 0:  71%|███████▏  | 10/14 [00:01<00:00,  8.97it/s]\u001b[A\n",
      "Validation DataLoader 0:  79%|███████▊  | 11/14 [00:01<00:00,  8.96it/s]\u001b[A\n",
      "Validation DataLoader 0:  86%|████████▌ | 12/14 [00:01<00:00,  9.00it/s]\u001b[A\n",
      "Validation DataLoader 0:  93%|█████████▎| 13/14 [00:01<00:00,  9.02it/s]\u001b[A\n",
      "Validation DataLoader 0: 100%|██████████| 14/14 [00:01<00:00,  8.95it/s]\u001b[A\n",
      "Epoch 3: 100%|██████████| 101/101 [00:19<00:00,  5.18it/s, v_num=0e5u, train_loss_step=1.420, val_loss=1.310, val_acc=0.493, val_cohen_kappa=0.144, train_loss_epoch=1.300] \n",
      "Validation: |          | 0/? [00:00<?, ?it/s]\u001b[A\n",
      "Validation:   0%|          | 0/14 [00:00<?, ?it/s]\u001b[A\n",
      "Validation DataLoader 0:   0%|          | 0/14 [00:00<?, ?it/s]\u001b[A\n",
      "Validation DataLoader 0:   7%|▋         | 1/14 [00:00<00:01,  8.92it/s]\u001b[A\n",
      "Validation DataLoader 0:  14%|█▍        | 2/14 [00:00<00:01,  8.54it/s]\u001b[A\n",
      "Validation DataLoader 0:  21%|██▏       | 3/14 [00:00<00:01,  8.63it/s]\u001b[A\n",
      "Validation DataLoader 0:  29%|██▊       | 4/14 [00:00<00:01,  8.74it/s]\u001b[A\n",
      "Validation DataLoader 0:  36%|███▌      | 5/14 [00:00<00:01,  8.78it/s]\u001b[A\n",
      "Validation DataLoader 0:  43%|████▎     | 6/14 [00:00<00:00,  8.96it/s]\u001b[A\n",
      "Validation DataLoader 0:  50%|█████     | 7/14 [00:00<00:00,  9.10it/s]\u001b[A\n",
      "Validation DataLoader 0:  57%|█████▋    | 8/14 [00:00<00:00,  9.07it/s]\u001b[A\n",
      "Validation DataLoader 0:  64%|██████▍   | 9/14 [00:00<00:00,  9.09it/s]\u001b[A\n",
      "Validation DataLoader 0:  71%|███████▏  | 10/14 [00:01<00:00,  9.23it/s]\u001b[A\n",
      "Validation DataLoader 0:  79%|███████▊  | 11/14 [00:01<00:00,  9.43it/s]\u001b[A\n",
      "Validation DataLoader 0:  86%|████████▌ | 12/14 [00:01<00:00,  9.40it/s]\u001b[A\n",
      "Validation DataLoader 0:  93%|█████████▎| 13/14 [00:01<00:00,  8.84it/s]\u001b[A\n",
      "Validation DataLoader 0: 100%|██████████| 14/14 [00:01<00:00,  8.90it/s]\u001b[A\n",
      "Epoch 3: 100%|██████████| 101/101 [00:21<00:00,  4.64it/s, v_num=0e5u, train_loss_step=1.420, val_loss=1.270, val_acc=0.332, val_cohen_kappa=0.101, train_loss_epoch=1.290]"
     ]
    },
    {
     "name": "stderr",
     "output_type": "stream",
     "text": [
      "Metric val_loss improved by 0.026 >= min_delta = 0.0. New best score: 1.266\n"
     ]
    },
    {
     "name": "stdout",
     "output_type": "stream",
     "text": [
      "Epoch 4: 100%|██████████| 101/101 [00:18<00:00,  5.35it/s, v_num=0e5u, train_loss_step=1.260, val_loss=1.270, val_acc=0.332, val_cohen_kappa=0.101, train_loss_epoch=1.290]\n",
      "Validation: |          | 0/? [00:00<?, ?it/s]\u001b[A\n",
      "Validation:   0%|          | 0/14 [00:00<?, ?it/s]\u001b[A\n",
      "Validation DataLoader 0:   0%|          | 0/14 [00:00<?, ?it/s]\u001b[A\n",
      "Validation DataLoader 0:   7%|▋         | 1/14 [00:00<00:01,  9.03it/s]\u001b[A\n",
      "Validation DataLoader 0:  14%|█▍        | 2/14 [00:00<00:01,  8.76it/s]\u001b[A\n",
      "Validation DataLoader 0:  21%|██▏       | 3/14 [00:00<00:01,  8.72it/s]\u001b[A\n",
      "Validation DataLoader 0:  29%|██▊       | 4/14 [00:00<00:01,  8.75it/s]\u001b[A\n",
      "Validation DataLoader 0:  36%|███▌      | 5/14 [00:00<00:01,  8.69it/s]\u001b[A\n",
      "Validation DataLoader 0:  43%|████▎     | 6/14 [00:00<00:00,  8.78it/s]\u001b[A\n",
      "Validation DataLoader 0:  50%|█████     | 7/14 [00:00<00:00,  9.20it/s]\u001b[A\n",
      "Validation DataLoader 0:  57%|█████▋    | 8/14 [00:00<00:00,  9.12it/s]\u001b[A\n",
      "Validation DataLoader 0:  64%|██████▍   | 9/14 [00:00<00:00,  9.05it/s]\u001b[A\n",
      "Validation DataLoader 0:  71%|███████▏  | 10/14 [00:01<00:00,  9.18it/s]\u001b[A\n",
      "Validation DataLoader 0:  79%|███████▊  | 11/14 [00:01<00:00,  9.16it/s]\u001b[A\n",
      "Validation DataLoader 0:  86%|████████▌ | 12/14 [00:01<00:00,  9.19it/s]\u001b[A\n",
      "Validation DataLoader 0:  93%|█████████▎| 13/14 [00:01<00:00,  9.23it/s]\u001b[A\n",
      "Validation DataLoader 0: 100%|██████████| 14/14 [00:01<00:00,  9.21it/s]\u001b[A\n",
      "Epoch 5: 100%|██████████| 101/101 [00:18<00:00,  5.40it/s, v_num=0e5u, train_loss_step=1.420, val_loss=1.340, val_acc=0.463, val_cohen_kappa=0.115, train_loss_epoch=1.280]\n",
      "Validation: |          | 0/? [00:00<?, ?it/s]\u001b[A\n",
      "Validation:   0%|          | 0/14 [00:00<?, ?it/s]\u001b[A\n",
      "Validation DataLoader 0:   0%|          | 0/14 [00:00<?, ?it/s]\u001b[A\n",
      "Validation DataLoader 0:   7%|▋         | 1/14 [00:00<00:01,  9.38it/s]\u001b[A\n",
      "Validation DataLoader 0:  14%|█▍        | 2/14 [00:00<00:01,  9.99it/s]\u001b[A\n",
      "Validation DataLoader 0:  21%|██▏       | 3/14 [00:00<00:01,  9.44it/s]\u001b[A\n",
      "Validation DataLoader 0:  29%|██▊       | 4/14 [00:00<00:01,  9.22it/s]\u001b[A\n",
      "Validation DataLoader 0:  36%|███▌      | 5/14 [00:00<00:00,  9.68it/s]\u001b[A\n",
      "Validation DataLoader 0:  43%|████▎     | 6/14 [00:00<00:00,  9.27it/s]\u001b[A\n",
      "Validation DataLoader 0:  50%|█████     | 7/14 [00:00<00:00,  8.12it/s]\u001b[A\n",
      "Validation DataLoader 0:  57%|█████▋    | 8/14 [00:00<00:00,  8.34it/s]\u001b[A\n",
      "Validation DataLoader 0:  64%|██████▍   | 9/14 [00:01<00:00,  8.02it/s]\u001b[A\n",
      "Validation DataLoader 0:  71%|███████▏  | 10/14 [00:01<00:00,  8.51it/s]\u001b[A\n",
      "Validation DataLoader 0:  79%|███████▊  | 11/14 [00:01<00:00,  8.75it/s]\u001b[A\n",
      "Validation DataLoader 0:  86%|████████▌ | 12/14 [00:01<00:00,  9.01it/s]\u001b[A\n",
      "Validation DataLoader 0:  93%|█████████▎| 13/14 [00:01<00:00,  9.14it/s]\u001b[A\n",
      "Validation DataLoader 0: 100%|██████████| 14/14 [00:01<00:00,  9.28it/s]\u001b[A\n",
      "Epoch 6:  83%|████████▎ | 84/101 [00:16<00:03,  5.16it/s, v_num=0e5u, train_loss_step=1.200, val_loss=1.270, val_acc=0.293, val_cohen_kappa=0.0925, train_loss_epoch=1.290] "
     ]
    }
   ],
   "source": [
    "accs = []\n",
    "kappas = []\n",
    "aurocs = []\n",
    "cms = []\n",
    "train_times = []\n",
    "test_times = []\n",
    "for i in range(10):\n",
    "    model, train_time = train_model(\n",
    "        batch_size = batch_size,\n",
    "        dropout_embed = dropout_embed,\n",
    "        acc_preprocess = acc_preprocess,\n",
    "        RNN_type = RNN_type,\n",
    "        lr = lr,\n",
    "        rnn_hidden_size = rnn_hidden_size,\n",
    "        pre_rnn_size = pre_rnn_size,\n",
    "        hidden_size2 = hidden_size2,\n",
    "        dropout_rnn = dropout_rnn,\n",
    "        dropout_hidden2 = dropout_hidden2,\n",
    "        modelType = modelType,\n",
    "        nameAppend = f\"model{i}\")\n",
    "    print(f\"Trained model {i} in {train_time} seconds\")\n",
    "    acc, kappa, auroc, cm, inference_time_seconds = evaluate_model(model, test_loader, modelType, i)\n",
    "    accs.append(acc)\n",
    "    kappas.append(kappa)\n",
    "    aurocs.append(auroc)\n",
    "    cms.append(cms)\n",
    "    train_times.append(train_time)\n",
    "    test_times.append(inference_time_seconds)\n",
    "    print(f\"Done with loop {i}\")"
   ]
  },
  {
   "cell_type": "code",
   "execution_count": 19,
   "id": "a50b3512-19ad-4737-bca6-b8224bc801d9",
   "metadata": {},
   "outputs": [
    {
     "name": "stdout",
     "output_type": "stream",
     "text": [
      "Accuracy: Mean = 0.319, StdDev = 0.045\n",
      "Kappa: Mean = 0.085, StdDev = 0.026\n",
      "AUROC: Mean = 0.544, StdDev = 0.031\n",
      "Best Kappa Index: 2\n",
      "Best Accuracy Index: 5\n",
      "Best AUROC Index: 6\n"
     ]
    }
   ],
   "source": [
    "acc_mean, acc_std = np.mean(accs), np.std(accs)\n",
    "kappa_mean, kappa_std = np.mean(kappas), np.std(kappas)\n",
    "auroc_mean, auroc_std = np.mean(aurocs), np.std(aurocs)\n",
    "train_time_mean, train_time_std = np.mean(train_times), np.std(train_times)\n",
    "test_time_mean, test_time_std = np.mean(test_times), np.std(test_times)\n",
    "\n",
    "# Print the statistics\n",
    "print(f\"Accuracy: Mean = {acc_mean:.3f}, StdDev = {acc_std:.3f}\")\n",
    "print(f\"Kappa: Mean = {kappa_mean:.3f}, StdDev = {kappa_std:.3f}\")\n",
    "print(f\"AUROC: Mean = {auroc_mean:.3f}, StdDev = {auroc_std:.3f}\")\n",
    "\n",
    "# Find the index of the best kappa\n",
    "best_kappa_index = np.argmax(kappas)\n",
    "print(f\"Best Kappa Index: {best_kappa_index}\")\n",
    "\n",
    "# Find the index of the best acc\n",
    "best_acc_index = np.argmax(accs)\n",
    "print(f\"Best Accuracy Index: {best_acc_index}\")\n",
    "\n",
    "# Find the index of the best AUROC\n",
    "best_auroc_index = np.argmax(aurocs)\n",
    "print(f\"Best AUROC Index: {best_auroc_index}\")"
   ]
  },
  {
   "cell_type": "code",
   "execution_count": null,
   "id": "554c690b-61f3-4cf6-a705-241ee708cc56",
   "metadata": {},
   "outputs": [],
   "source": []
  }
 ],
 "metadata": {
  "kernelspec": {
   "display_name": "env2",
   "language": "python",
   "name": "env2"
  },
  "language_info": {
   "codemirror_mode": {
    "name": "ipython",
    "version": 3
   },
   "file_extension": ".py",
   "mimetype": "text/x-python",
   "name": "python",
   "nbconvert_exporter": "python",
   "pygments_lexer": "ipython3",
   "version": "3.12.9"
  }
 },
 "nbformat": 4,
 "nbformat_minor": 5
}
